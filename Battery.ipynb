{
  "nbformat": 4,
  "nbformat_minor": 0,
  "metadata": {
    "colab": {
      "name": "Battery.ipynb",
      "provenance": [],
      "collapsed_sections": [],
      "toc_visible": true,
      "include_colab_link": true
    },
    "kernelspec": {
      "name": "python3",
      "display_name": "Python 3"
    },
    "accelerator": "GPU"
  },
  "cells": [
    {
      "cell_type": "markdown",
      "metadata": {
        "id": "view-in-github",
        "colab_type": "text"
      },
      "source": [
        "<a href=\"https://colab.research.google.com/github/psanabriaUC/BatteryDatasetImplementation/blob/master/Battery.ipynb\" target=\"_parent\"><img src=\"https://colab.research.google.com/assets/colab-badge.svg\" alt=\"Open In Colab\"/></a>"
      ]
    },
    {
      "cell_type": "markdown",
      "metadata": {
        "id": "KA-ud0ZCYkSt",
        "colab_type": "text"
      },
      "source": [
        "# Manual de preparación y uso del modelo de *Deep Learning* para prediccion del SoH de la batería\n",
        "En este Python Notebook se muestra y se analiza como debe ser tratado el dataset de carga/descarga de baterias obtenido de la NASA. Igualmente se muestra\n",
        "como se prepara el modelo propuesto por [1] y su encoding realizado\n",
        "\n",
        "## Requisitos\n",
        "Para la fase de entrenamiento de este modelo es necesario tener instalado Python 3.x junto a las siguientes librerías:\n",
        "\n",
        "* Tensorflow 2.0\n",
        "* Numpy\n",
        "* Pandas\n",
        "* Scipy\n",
        "* Sci-kit learn\n",
        "* Matplot\n",
        "* Seaborn\n",
        "\n",
        "Para la fase de predicción de este modelo es necesario tener las mismas librerías con la excepción a Matplot y Seaborn\n",
        "\n",
        "\n",
        "## Preparación del dataset\n",
        "Debido a que este manual se trabajó desde Google Colab (esto puede no ser necesario hacerlo en un entorno offline), es necesario descargar el dataset y después descomprimirlo en un directorio especifico."
      ]
    },
    {
      "cell_type": "code",
      "metadata": {
        "id": "RR0daHVBsGHU",
        "colab_type": "code",
        "outputId": "c694fc08-c7d4-4169-8b0e-3a345c0dcc4f",
        "colab": {
          "base_uri": "https://localhost:8080/",
          "height": 235
        }
      },
      "source": [
        "%tensorflow_version 2.x\n",
        "%matplotlib inline\n",
        "!pip show tensorflow\n",
        "!wget -cq https://ti.arc.nasa.gov/c/5 -O naza.zip\n",
        "!unzip -qqo naza.zip -d battery_data"
      ],
      "execution_count": 1,
      "outputs": [
        {
          "output_type": "stream",
          "text": [
            "TensorFlow 2.x selected.\n",
            "Name: tensorflow\n",
            "Version: 2.0.0\n",
            "Summary: TensorFlow is an open source machine learning framework for everyone.\n",
            "Home-page: https://www.tensorflow.org/\n",
            "Author: Google Inc.\n",
            "Author-email: packages@tensorflow.org\n",
            "License: Apache 2.0\n",
            "Location: /tensorflow-2.0.0/python3.6\n",
            "Requires: grpcio, numpy, absl-py, tensorflow-estimator, protobuf, gast, wrapt, google-pasta, six, tensorboard, astor, keras-applications, termcolor, wheel, keras-preprocessing, opt-einsum\n",
            "Required-by: stable-baselines, magenta, fancyimpute\n"
          ],
          "name": "stdout"
        }
      ]
    },
    {
      "cell_type": "markdown",
      "metadata": {
        "id": "jFaLFIu1BDzT",
        "colab_type": "text"
      },
      "source": [
        "## Importación de librerías\n",
        "En esta parte se important todas las librerías necesarias para el tratamiento del dataset"
      ]
    },
    {
      "cell_type": "code",
      "metadata": {
        "id": "L8OwoPz1th2h",
        "colab_type": "code",
        "colab": {}
      },
      "source": [
        "import datetime\n",
        "import numpy as np\n",
        "import pandas as pd\n",
        "from scipy.io import loadmat\n",
        "from sklearn.preprocessing import MinMaxScaler\n",
        "from sklearn.metrics import mean_squared_error\n",
        "import matplotlib.pyplot as plt\n",
        "import seaborn as sns"
      ],
      "execution_count": 0,
      "outputs": []
    },
    {
      "cell_type": "markdown",
      "metadata": {
        "id": "Lhg6ixxGBQfi",
        "colab_type": "text"
      },
      "source": [
        "## Carga del dataset en memoria\n",
        "Segun el README del dataset, los datos estan almacenados en varios archivos \".mat\", cada archivo corresponde a una batería en concreto y la estructura de los datos de cada archivo es la siguiente (copiado desde el README del dataset):\n",
        "\n",
        "```\n",
        "Data Structure:\n",
        "cycle:\ttop level structure array containing the charge, discharge and impedance operations\n",
        "\ttype: \toperation  type, can be charge, discharge or impedance\n",
        "\tambient_temperature:\tambient temperature (degree C)\n",
        "\ttime: \tthe date and time of the start of the cycle, in MATLAB  date vector format\n",
        "\tdata:\tdata structure containing the measurements\n",
        "\t   for charge the fields are:\n",
        "\t\tVoltage_measured: \tBattery terminal voltage (Volts)\n",
        "\t\tCurrent_measured:\tBattery output current (Amps)\n",
        "\t\tTemperature_measured: \tBattery temperature (degree C)\n",
        "\t\tCurrent_charge:\t\tCurrent measured at charger (Amps)\n",
        "\t\tVoltage_charge:\t\tVoltage measured at charger (Volts)\n",
        "\t\tTime:\t\t\tTime vector for the cycle (secs)\n",
        "\t   for discharge the fields are:\n",
        "\t\tVoltage_measured: \tBattery terminal voltage (Volts)\n",
        "\t\tCurrent_measured:\tBattery output current (Amps)\n",
        "\t\tTemperature_measured: \tBattery temperature (degree C)\n",
        "\t\tCurrent_charge:\t\tCurrent measured at load (Amps)\n",
        "\t\tVoltage_charge:\t\tVoltage measured at load (Volts)\n",
        "\t\tTime:\t\t\tTime vector for the cycle (secs)\n",
        "\t\tCapacity:\t\tBattery capacity (Ahr) for discharge till 2.7V \n",
        "\t   for impedance the fields are:\n",
        "\t\tSense_current:\t\tCurrent in sense branch (Amps)\n",
        "\t\tBattery_current:\tCurrent in battery branch (Amps)\n",
        "\t\tCurrent_ratio:\t\tRatio of the above currents \n",
        "\t\tBattery_impedance:\tBattery impedance (Ohms) computed from raw data\n",
        "\t\tRectified_impedance:\tCalibrated and smoothed battery impedance (Ohms) \n",
        "\t\tRe:\t\t\tEstimated electrolyte resistance (Ohms)\n",
        "\t\tRct:\t\t\tEstimated charge transfer resistance (Ohms)\n",
        "\n",
        "```\n",
        "\n",
        "Para el modelo de Deep Learning propuesto en [1] solo es necesario recabar los datos relacionados a la descarga de la bateria, para esto se crea una función en Python que se encarga de leer estos datos del archivo \".mat\" y almacenarlo en memoria en dos DataFrame de pandas para su posterior acceso.\n",
        "Después de la carga del dataset se hace una descripción de los datos usando funciones de panda para verificar si la carga de datos fue correcta."
      ]
    },
    {
      "cell_type": "code",
      "metadata": {
        "id": "HXC7-1FhY1_k",
        "colab_type": "code",
        "outputId": "b3604015-12bf-49bf-8166-698d853d75e0",
        "colab": {
          "base_uri": "https://localhost:8080/",
          "height": 587
        }
      },
      "source": [
        "def load_data(battery):\n",
        "  mat = loadmat('battery_data/' + battery + '.mat')\n",
        "  print('Total data in dataset: ', len(mat[battery][0, 0]['cycle'][0]))\n",
        "  counter = 0\n",
        "  dataset = []\n",
        "  capacity_data = []\n",
        "  \n",
        "  for i in range(len(mat[battery][0, 0]['cycle'][0])):\n",
        "    row = mat[battery][0, 0]['cycle'][0, i]\n",
        "    if row['type'][0] == 'discharge':\n",
        "      ambient_temperature = row['ambient_temperature'][0][0]\n",
        "      date_time = datetime.datetime(int(row['time'][0][0]),\n",
        "                               int(row['time'][0][1]),\n",
        "                               int(row['time'][0][2]),\n",
        "                               int(row['time'][0][3]),\n",
        "                               int(row['time'][0][4])) + datetime.timedelta(seconds=int(row['time'][0][5]))\n",
        "      data = row['data']\n",
        "      capacity = data[0][0]['Capacity'][0][0]\n",
        "      for j in range(len(data[0][0]['Voltage_measured'][0])):\n",
        "        voltage_measured = data[0][0]['Voltage_measured'][0][j]\n",
        "        current_measured = data[0][0]['Current_measured'][0][j]\n",
        "        temperature_measured = data[0][0]['Temperature_measured'][0][j]\n",
        "        current_load = data[0][0]['Current_load'][0][j]\n",
        "        voltage_load = data[0][0]['Voltage_load'][0][j]\n",
        "        time = data[0][0]['Time'][0][j]\n",
        "        dataset.append([counter + 1, ambient_temperature, date_time, capacity,\n",
        "                        voltage_measured, current_measured,\n",
        "                        temperature_measured, current_load,\n",
        "                        voltage_load, time])\n",
        "      capacity_data.append([counter + 1, ambient_temperature, date_time, capacity])\n",
        "      counter = counter + 1\n",
        "  print(dataset[0])\n",
        "  return [pd.DataFrame(data=dataset,\n",
        "                       columns=['cycle', 'ambient_temperature', 'datetime',\n",
        "                                'capacity', 'voltage_measured',\n",
        "                                'current_measured', 'temperature_measured',\n",
        "                                'current_load', 'voltage_load', 'time']),\n",
        "          pd.DataFrame(data=capacity_data,\n",
        "                       columns=['cycle', 'ambient_temperature', 'datetime',\n",
        "                                'capacity'])]\n",
        "dataset, capacity = load_data('B0005')\n",
        "pd.set_option('display.max_columns', 10)\n",
        "print(dataset.head())\n",
        "dataset.describe()"
      ],
      "execution_count": 3,
      "outputs": [
        {
          "output_type": "stream",
          "text": [
            "Total data in dataset:  616\n",
            "[1, 24, datetime.datetime(2008, 4, 2, 15, 25, 41), 1.8564874208181574, 4.191491807505295, -0.004901589207462691, 24.330033885570543, -0.0006, 0.0, 0.0]\n",
            "   cycle  ambient_temperature            datetime  capacity  voltage_measured  \\\n",
            "0      1                   24 2008-04-02 15:25:41  1.856487          4.191492   \n",
            "1      1                   24 2008-04-02 15:25:41  1.856487          4.190749   \n",
            "2      1                   24 2008-04-02 15:25:41  1.856487          3.974871   \n",
            "3      1                   24 2008-04-02 15:25:41  1.856487          3.951717   \n",
            "4      1                   24 2008-04-02 15:25:41  1.856487          3.934352   \n",
            "\n",
            "   current_measured  temperature_measured  current_load  voltage_load    time  \n",
            "0         -0.004902             24.330034       -0.0006         0.000   0.000  \n",
            "1         -0.001478             24.325993       -0.0006         4.206  16.781  \n",
            "2         -2.012528             24.389085       -1.9982         3.062  35.703  \n",
            "3         -2.013979             24.544752       -1.9982         3.030  53.781  \n",
            "4         -2.011144             24.731385       -1.9982         3.011  71.922  \n"
          ],
          "name": "stdout"
        },
        {
          "output_type": "execute_result",
          "data": {
            "text/html": [
              "<div>\n",
              "<style scoped>\n",
              "    .dataframe tbody tr th:only-of-type {\n",
              "        vertical-align: middle;\n",
              "    }\n",
              "\n",
              "    .dataframe tbody tr th {\n",
              "        vertical-align: top;\n",
              "    }\n",
              "\n",
              "    .dataframe thead th {\n",
              "        text-align: right;\n",
              "    }\n",
              "</style>\n",
              "<table border=\"1\" class=\"dataframe\">\n",
              "  <thead>\n",
              "    <tr style=\"text-align: right;\">\n",
              "      <th></th>\n",
              "      <th>cycle</th>\n",
              "      <th>ambient_temperature</th>\n",
              "      <th>capacity</th>\n",
              "      <th>voltage_measured</th>\n",
              "      <th>current_measured</th>\n",
              "      <th>temperature_measured</th>\n",
              "      <th>current_load</th>\n",
              "      <th>voltage_load</th>\n",
              "      <th>time</th>\n",
              "    </tr>\n",
              "  </thead>\n",
              "  <tbody>\n",
              "    <tr>\n",
              "      <th>count</th>\n",
              "      <td>50285.000000</td>\n",
              "      <td>50285.0</td>\n",
              "      <td>50285.000000</td>\n",
              "      <td>50285.000000</td>\n",
              "      <td>50285.000000</td>\n",
              "      <td>50285.000000</td>\n",
              "      <td>50285.000000</td>\n",
              "      <td>50285.000000</td>\n",
              "      <td>50285.000000</td>\n",
              "    </tr>\n",
              "    <tr>\n",
              "      <th>mean</th>\n",
              "      <td>88.125942</td>\n",
              "      <td>24.0</td>\n",
              "      <td>1.560345</td>\n",
              "      <td>3.515268</td>\n",
              "      <td>-1.806032</td>\n",
              "      <td>32.816991</td>\n",
              "      <td>1.362700</td>\n",
              "      <td>2.308406</td>\n",
              "      <td>1546.208924</td>\n",
              "    </tr>\n",
              "    <tr>\n",
              "      <th>std</th>\n",
              "      <td>45.699687</td>\n",
              "      <td>0.0</td>\n",
              "      <td>0.182380</td>\n",
              "      <td>0.231778</td>\n",
              "      <td>0.610502</td>\n",
              "      <td>3.987515</td>\n",
              "      <td>1.313698</td>\n",
              "      <td>0.800300</td>\n",
              "      <td>906.640295</td>\n",
              "    </tr>\n",
              "    <tr>\n",
              "      <th>min</th>\n",
              "      <td>1.000000</td>\n",
              "      <td>24.0</td>\n",
              "      <td>1.287453</td>\n",
              "      <td>2.455679</td>\n",
              "      <td>-2.029098</td>\n",
              "      <td>23.214802</td>\n",
              "      <td>-1.998400</td>\n",
              "      <td>0.000000</td>\n",
              "      <td>0.000000</td>\n",
              "    </tr>\n",
              "    <tr>\n",
              "      <th>25%</th>\n",
              "      <td>50.000000</td>\n",
              "      <td>24.0</td>\n",
              "      <td>1.386229</td>\n",
              "      <td>3.399384</td>\n",
              "      <td>-2.013415</td>\n",
              "      <td>30.019392</td>\n",
              "      <td>1.998000</td>\n",
              "      <td>2.388000</td>\n",
              "      <td>768.563000</td>\n",
              "    </tr>\n",
              "    <tr>\n",
              "      <th>50%</th>\n",
              "      <td>88.000000</td>\n",
              "      <td>24.0</td>\n",
              "      <td>1.538237</td>\n",
              "      <td>3.511664</td>\n",
              "      <td>-2.012312</td>\n",
              "      <td>32.828944</td>\n",
              "      <td>1.998200</td>\n",
              "      <td>2.533000</td>\n",
              "      <td>1537.031000</td>\n",
              "    </tr>\n",
              "    <tr>\n",
              "      <th>75%</th>\n",
              "      <td>127.000000</td>\n",
              "      <td>24.0</td>\n",
              "      <td>1.746871</td>\n",
              "      <td>3.660903</td>\n",
              "      <td>-2.011052</td>\n",
              "      <td>35.920887</td>\n",
              "      <td>1.998200</td>\n",
              "      <td>2.690000</td>\n",
              "      <td>2305.984000</td>\n",
              "    </tr>\n",
              "    <tr>\n",
              "      <th>max</th>\n",
              "      <td>168.000000</td>\n",
              "      <td>24.0</td>\n",
              "      <td>1.856487</td>\n",
              "      <td>4.222920</td>\n",
              "      <td>0.007496</td>\n",
              "      <td>41.450232</td>\n",
              "      <td>1.998400</td>\n",
              "      <td>4.238000</td>\n",
              "      <td>3690.234000</td>\n",
              "    </tr>\n",
              "  </tbody>\n",
              "</table>\n",
              "</div>"
            ],
            "text/plain": [
              "              cycle  ambient_temperature      capacity  voltage_measured  \\\n",
              "count  50285.000000              50285.0  50285.000000      50285.000000   \n",
              "mean      88.125942                 24.0      1.560345          3.515268   \n",
              "std       45.699687                  0.0      0.182380          0.231778   \n",
              "min        1.000000                 24.0      1.287453          2.455679   \n",
              "25%       50.000000                 24.0      1.386229          3.399384   \n",
              "50%       88.000000                 24.0      1.538237          3.511664   \n",
              "75%      127.000000                 24.0      1.746871          3.660903   \n",
              "max      168.000000                 24.0      1.856487          4.222920   \n",
              "\n",
              "       current_measured  temperature_measured  current_load  voltage_load  \\\n",
              "count      50285.000000          50285.000000  50285.000000  50285.000000   \n",
              "mean          -1.806032             32.816991      1.362700      2.308406   \n",
              "std            0.610502              3.987515      1.313698      0.800300   \n",
              "min           -2.029098             23.214802     -1.998400      0.000000   \n",
              "25%           -2.013415             30.019392      1.998000      2.388000   \n",
              "50%           -2.012312             32.828944      1.998200      2.533000   \n",
              "75%           -2.011052             35.920887      1.998200      2.690000   \n",
              "max            0.007496             41.450232      1.998400      4.238000   \n",
              "\n",
              "               time  \n",
              "count  50285.000000  \n",
              "mean    1546.208924  \n",
              "std      906.640295  \n",
              "min        0.000000  \n",
              "25%      768.563000  \n",
              "50%     1537.031000  \n",
              "75%     2305.984000  \n",
              "max     3690.234000  "
            ]
          },
          "metadata": {
            "tags": []
          },
          "execution_count": 3
        }
      ]
    },
    {
      "cell_type": "markdown",
      "metadata": {
        "id": "JGw5YahwIAuF",
        "colab_type": "text"
      },
      "source": [
        "El siguiente gráfico muestra el proceso de envejecimiento de la bateria a medida que avanzan los ciclos de carga. La linea horizontal representa el threshold relacionado a lo que se puede considerar el fin de ciclo de vida de la batería."
      ]
    },
    {
      "cell_type": "code",
      "metadata": {
        "id": "hJBAcVdFzOYn",
        "colab_type": "code",
        "outputId": "1d1ddfc2-d8c3-44a9-e9ed-0fa59705053c",
        "colab": {
          "base_uri": "https://localhost:8080/",
          "height": 531
        }
      },
      "source": [
        "plot_df = capacity.loc[(capacity['cycle']>=1),['cycle','capacity']]\n",
        "sns.set_style(\"darkgrid\")\n",
        "plt.figure(figsize=(12, 8))\n",
        "plt.plot(plot_df['cycle'], plot_df['capacity'])\n",
        "#Draw threshold\n",
        "plt.plot([0.,len(capacity)], [1.4, 1.4])\n",
        "plt.ylabel('Capacity')\n",
        "# make x-axis ticks legible\n",
        "adf = plt.gca().get_xaxis().get_major_formatter()\n",
        "plt.xlabel('cycle')\n",
        "plt.title('Discharge B0005')"
      ],
      "execution_count": 4,
      "outputs": [
        {
          "output_type": "execute_result",
          "data": {
            "text/plain": [
              "Text(0.5, 1.0, 'Discharge B0005')"
            ]
          },
          "metadata": {
            "tags": []
          },
          "execution_count": 4
        },
        {
          "output_type": "display_data",
          "data": {
            "image/png": "[encoded data removed]",
            "text/plain": [
              "<Figure size 864x576 with 1 Axes>"
            ]
          },
          "metadata": {
            "tags": []
          }
        }
      ]
    },
    {
      "cell_type": "markdown",
      "metadata": {
        "id": "rzBMF-DHNVht",
        "colab_type": "text"
      },
      "source": [
        "Es necesario igualmente calcular el SoH de la bateria, ya que este es el dato que se va a predecir haciendo uso del modelo de *deep learning*"
      ]
    },
    {
      "cell_type": "code",
      "metadata": {
        "id": "PXBCY4Gw1MW-",
        "colab_type": "code",
        "outputId": "665db131-287c-4e98-f6cc-7f64ddc60859",
        "colab": {
          "base_uri": "https://localhost:8080/",
          "height": 125
        }
      },
      "source": [
        "attrib=['cycle', 'datetime', 'capacity']\n",
        "dis_ele = capacity[attrib]\n",
        "C = dis_ele['capacity'][0]\n",
        "for i in range(len(dis_ele)):\n",
        "    dis_ele['SoH']=(dis_ele['capacity'])/C\n",
        "print(dis_ele.head(5))"
      ],
      "execution_count": 5,
      "outputs": [
        {
          "output_type": "stream",
          "text": [
            "   cycle            datetime  capacity       SoH\n",
            "0      1 2008-04-02 15:25:41  1.856487  1.000000\n",
            "1      2 2008-04-02 19:43:48  1.846327  0.994527\n",
            "2      3 2008-04-03 00:01:06  1.835349  0.988614\n",
            "3      4 2008-04-03 04:16:37  1.835263  0.988567\n",
            "4      5 2008-04-03 08:33:25  1.834646  0.988235\n"
          ],
          "name": "stdout"
        }
      ]
    },
    {
      "cell_type": "markdown",
      "metadata": {
        "id": "qDwFTfA3NlBy",
        "colab_type": "text"
      },
      "source": [
        "Igualmente a lo hecho anteriormente, se realiza una gráfica del SoH por cada ciclo, la línea horizontal representa el threshold del 70% en el cual la bateria ya cumple su ciclo de vida y ya es recomendable hacer el cambio."
      ]
    },
    {
      "cell_type": "code",
      "metadata": {
        "id": "2-x82h7g-6nO",
        "colab_type": "code",
        "outputId": "30a9fc4e-9dfa-4b99-c46c-35ba586a37a8",
        "colab": {
          "base_uri": "https://localhost:8080/",
          "height": 368
        }
      },
      "source": [
        "plot_df = dis_ele.loc[(dis_ele['cycle']>=1),['cycle','SoH']]\n",
        "sns.set_style(\"white\")\n",
        "plt.figure(figsize=(8, 5))\n",
        "plt.plot(plot_df['cycle'], plot_df['SoH'])\n",
        "#Draw threshold\n",
        "plt.plot([0.,len(capacity)], [0.70, 0.70])\n",
        "plt.ylabel('SOH')\n",
        "# make x-axis ticks legible\n",
        "adf = plt.gca().get_xaxis().get_major_formatter()\n",
        "plt.xlabel('cycle')\n",
        "plt.title('Discharge B0005')"
      ],
      "execution_count": 6,
      "outputs": [
        {
          "output_type": "execute_result",
          "data": {
            "text/plain": [
              "Text(0.5, 1.0, 'Discharge B0005')"
            ]
          },
          "metadata": {
            "tags": []
          },
          "execution_count": 6
        },
        {
          "output_type": "display_data",
          "data": {
            "image/png": "[encoded data removed]",
            "text/plain": [
              "<Figure size 576x360 with 1 Axes>"
            ]
          },
          "metadata": {
            "tags": []
          }
        }
      ]
    },
    {
      "cell_type": "markdown",
      "metadata": {
        "id": "-FLBE8qrR8vS",
        "colab_type": "text"
      },
      "source": [
        "## Fase de entrenamiento\n",
        "Se prepara el dataset de tal manera que pueda ser usado por Tensorflow en la fase de entrenamiento, para esto se crean dos estructuras correspondientes a la entrada y salida que se espera obtener. Para los datos de entrada se filtran y las caracteristicas relevantes del dataset los cuales son:\n",
        "* Capacidad de la batería\n",
        "* Voltaje\n",
        "* Corriente\n",
        "* Temperatura\n",
        "* Voltaje de carga\n",
        "* Corriente de carga\n",
        "* Instante de tiempo (desde el inicio de la descarga)\n",
        "\n",
        "Para los datos de la salida se calcula el SoH de la bateria y en ambos casos de entrada y salida, los valores se normalizan a un rango de valores entre [0-1]."
      ]
    },
    {
      "cell_type": "code",
      "metadata": {
        "id": "XhgFVnqx7zO3",
        "colab_type": "code",
        "outputId": "a6e992c2-bbf2-4c93-d84e-c8189b63bde0",
        "colab": {
          "base_uri": "https://localhost:8080/",
          "height": 53
        }
      },
      "source": [
        "C = dataset['capacity'][0]\n",
        "soh = []\n",
        "for i in range(len(dataset)):\n",
        "  soh.append([dataset['capacity'][i] / C])\n",
        "soh = pd.DataFrame(data=soh, columns=['SoH'])\n",
        "\n",
        "attribs=['capacity', 'voltage_measured', 'current_measured',\n",
        "         'temperature_measured', 'current_load', 'voltage_load', 'time']\n",
        "train_dataset = dataset[attribs]\n",
        "sc = MinMaxScaler(feature_range=(0,1))\n",
        "train_dataset = sc.fit_transform(train_dataset)\n",
        "print(train_dataset.shape)\n",
        "print(soh.shape)"
      ],
      "execution_count": 7,
      "outputs": [
        {
          "output_type": "stream",
          "text": [
            "(50285, 7)\n",
            "(50285, 1)\n"
          ],
          "name": "stdout"
        }
      ]
    },
    {
      "cell_type": "markdown",
      "metadata": {
        "id": "U_fBEAXV2qZz",
        "colab_type": "text"
      },
      "source": [
        "Preparacion del modelo, se usa 3 capas densas, y se usan los parametros tal cual se encuentran en el paper: 3 capas densas y una de dropout, y como optimizador se usa uno de tipo ADAM"
      ]
    },
    {
      "cell_type": "code",
      "metadata": {
        "id": "915_UyaoSucG",
        "colab_type": "code",
        "colab": {}
      },
      "source": [
        "import tensorflow as tf\n",
        "from tensorflow.keras.models import Sequential\n",
        "from tensorflow.keras.layers import Dense\n",
        "from tensorflow.keras.layers import Dropout\n",
        "from tensorflow.keras.optimizers import Adam"
      ],
      "execution_count": 0,
      "outputs": []
    },
    {
      "cell_type": "code",
      "metadata": {
        "id": "wksYStH1TYzC",
        "colab_type": "code",
        "outputId": "2e708afe-63a1-40b0-ce02-110574a12d3e",
        "colab": {
          "base_uri": "https://localhost:8080/",
          "height": 341
        }
      },
      "source": [
        "model = Sequential()\n",
        "model.add(Dense(8, activation='relu', input_dim=train_dataset.shape[1]))\n",
        "model.add(Dense(8, activation='relu'))\n",
        "model.add(Dense(8, activation='relu'))\n",
        "model.add(Dropout(rate=0.25))\n",
        "model.add(Dense(1))\n",
        "model.summary()\n",
        "model.compile(optimizer=Adam(beta_1=0.9, beta_2=0.999, epsilon=1e-08), loss='mean_absolute_error')"
      ],
      "execution_count": 9,
      "outputs": [
        {
          "output_type": "stream",
          "text": [
            "Model: \"sequential\"\n",
            "_________________________________________________________________\n",
            "Layer (type)                 Output Shape              Param #   \n",
            "=================================================================\n",
            "dense (Dense)                (None, 8)                 64        \n",
            "_________________________________________________________________\n",
            "dense_1 (Dense)              (None, 8)                 72        \n",
            "_________________________________________________________________\n",
            "dense_2 (Dense)              (None, 8)                 72        \n",
            "_________________________________________________________________\n",
            "dropout (Dropout)            (None, 8)                 0         \n",
            "_________________________________________________________________\n",
            "dense_3 (Dense)              (None, 1)                 9         \n",
            "=================================================================\n",
            "Total params: 217\n",
            "Trainable params: 217\n",
            "Non-trainable params: 0\n",
            "_________________________________________________________________\n"
          ],
          "name": "stdout"
        }
      ]
    },
    {
      "cell_type": "markdown",
      "metadata": {
        "id": "BbmGgJJr0X4q",
        "colab_type": "text"
      },
      "source": [
        "Se procede a entrenar el modelo, se usan 20 epochs para el entrenamiento"
      ]
    },
    {
      "cell_type": "code",
      "metadata": {
        "id": "ADzFmLmhHGrh",
        "colab_type": "code",
        "outputId": "0a79ac65-3d9e-42a5-f5e3-490451dec541",
        "colab": {
          "base_uri": "https://localhost:8080/",
          "height": 773
        }
      },
      "source": [
        "model.fit(x=train_dataset, y=soh.to_numpy(), batch_size=25, epochs=20)"
      ],
      "execution_count": 10,
      "outputs": [
        {
          "output_type": "stream",
          "text": [
            "Train on 50285 samples\n",
            "Epoch 1/20\n",
            "50285/50285 [==============================] - 7s 137us/sample - loss: 0.1021\n",
            "Epoch 2/20\n",
            "50285/50285 [==============================] - 5s 106us/sample - loss: 0.0260\n",
            "Epoch 3/20\n",
            "50285/50285 [==============================] - 5s 103us/sample - loss: 0.0252\n",
            "Epoch 4/20\n",
            "50285/50285 [==============================] - 5s 107us/sample - loss: 0.0251\n",
            "Epoch 5/20\n",
            "50285/50285 [==============================] - 6s 112us/sample - loss: 0.0248\n",
            "Epoch 6/20\n",
            "50285/50285 [==============================] - 5s 107us/sample - loss: 0.0247\n",
            "Epoch 7/20\n",
            "50285/50285 [==============================] - 5s 107us/sample - loss: 0.0205\n",
            "Epoch 8/20\n",
            "50285/50285 [==============================] - 5s 104us/sample - loss: 0.0187\n",
            "Epoch 9/20\n",
            "50285/50285 [==============================] - 5s 103us/sample - loss: 0.0187\n",
            "Epoch 10/20\n",
            "50285/50285 [==============================] - 5s 104us/sample - loss: 0.0184\n",
            "Epoch 11/20\n",
            "50285/50285 [==============================] - 5s 104us/sample - loss: 0.0185\n",
            "Epoch 12/20\n",
            "50285/50285 [==============================] - 5s 104us/sample - loss: 0.0186\n",
            "Epoch 13/20\n",
            "50285/50285 [==============================] - 5s 103us/sample - loss: 0.0185\n",
            "Epoch 14/20\n",
            "50285/50285 [==============================] - 5s 103us/sample - loss: 0.0185\n",
            "Epoch 15/20\n",
            "50285/50285 [==============================] - 5s 102us/sample - loss: 0.0185\n",
            "Epoch 16/20\n",
            "50285/50285 [==============================] - 5s 103us/sample - loss: 0.0184\n",
            "Epoch 17/20\n",
            "50285/50285 [==============================] - 5s 103us/sample - loss: 0.0186\n",
            "Epoch 18/20\n",
            "50285/50285 [==============================] - 5s 104us/sample - loss: 0.0185\n",
            "Epoch 19/20\n",
            "50285/50285 [==============================] - 5s 105us/sample - loss: 0.0185\n",
            "Epoch 20/20\n",
            "50285/50285 [==============================] - 5s 105us/sample - loss: 0.0185\n"
          ],
          "name": "stdout"
        },
        {
          "output_type": "execute_result",
          "data": {
            "text/plain": [
              "<tensorflow.python.keras.callbacks.History at 0x7fc6801193c8>"
            ]
          },
          "metadata": {
            "tags": []
          },
          "execution_count": 10
        }
      ]
    },
    {
      "cell_type": "markdown",
      "metadata": {
        "id": "QT_A23ve0gZa",
        "colab_type": "text"
      },
      "source": [
        "## Testing\n",
        "Para probar la correctitud del modelo se carga la información de otra bateria (B0006)"
      ]
    },
    {
      "cell_type": "code",
      "metadata": {
        "id": "fnEI3HwkKEHr",
        "colab_type": "code",
        "outputId": "d43ed0ce-98e0-467a-e25d-ef2d9385e8c0",
        "colab": {
          "base_uri": "https://localhost:8080/",
          "height": 415
        }
      },
      "source": [
        "dataset_val, capacity_val = load_data('B0006')\n",
        "attrib=['cycle', 'datetime', 'capacity']\n",
        "dis_ele = capacity_val[attrib]\n",
        "C = dis_ele['capacity'][0]\n",
        "for i in range(len(dis_ele)):\n",
        "    dis_ele['SoH']=(dis_ele['capacity']) / C\n",
        "print(dataset_val.head(5))\n",
        "print(dis_ele.head(5))"
      ],
      "execution_count": 11,
      "outputs": [
        {
          "output_type": "stream",
          "text": [
            "Total data in dataset:  616\n",
            "[1, 24, datetime.datetime(2008, 4, 2, 15, 25, 41), 2.035337591005598, 4.179799607333447, -0.0023663271409738672, 24.277567510331888, -0.0006, 0.0, 0.0]\n",
            "   cycle  ambient_temperature            datetime  capacity  voltage_measured  \\\n",
            "0      1                   24 2008-04-02 15:25:41  2.035338          4.179800   \n",
            "1      1                   24 2008-04-02 15:25:41  2.035338          4.179823   \n",
            "2      1                   24 2008-04-02 15:25:41  2.035338          3.966528   \n",
            "3      1                   24 2008-04-02 15:25:41  2.035338          3.945886   \n",
            "4      1                   24 2008-04-02 15:25:41  2.035338          3.930354   \n",
            "\n",
            "   current_measured  temperature_measured  current_load  voltage_load    time  \n",
            "0         -0.002366             24.277568       -0.0006         0.000   0.000  \n",
            "1          0.000434             24.277073       -0.0006         4.195  16.781  \n",
            "2         -2.014242             24.366226       -1.9990         3.070  35.703  \n",
            "3         -2.008730             24.515123       -1.9990         3.045  53.781  \n",
            "4         -2.013381             24.676053       -1.9990         3.026  71.922  \n",
            "   cycle            datetime  capacity       SoH\n",
            "0      1 2008-04-02 15:25:41  2.035338  1.000000\n",
            "1      2 2008-04-02 19:43:48  2.025140  0.994990\n",
            "2      3 2008-04-03 00:01:06  2.013326  0.989185\n",
            "3      4 2008-04-03 04:16:37  2.013285  0.989165\n",
            "4      5 2008-04-03 08:33:25  2.000528  0.982898\n"
          ],
          "name": "stdout"
        }
      ]
    },
    {
      "cell_type": "markdown",
      "metadata": {
        "id": "wo8U-E5_0pvO",
        "colab_type": "text"
      },
      "source": [
        "Se crea una tabla que contiene el SoH real y el SoH que la red predijo y se calcula la raiz del error cuadratico medio"
      ]
    },
    {
      "cell_type": "code",
      "metadata": {
        "id": "3gnWnehzKumj",
        "colab_type": "code",
        "outputId": "e5be8fb6-50dd-41a9-d722-4d1c98c4ccfe",
        "colab": {
          "base_uri": "https://localhost:8080/",
          "height": 251
        }
      },
      "source": [
        "attrib=['capacity', 'voltage_measured', 'current_measured',\n",
        "        'temperature_measured', 'current_load', 'voltage_load', 'time']\n",
        "soh_pred = model.predict(sc.fit_transform(dataset_val[attrib]))\n",
        "print(soh_pred.shape)\n",
        "\n",
        "C = dataset_val['capacity'][0]\n",
        "soh = []\n",
        "for i in range(len(dataset_val)):\n",
        "  soh.append(dataset_val['capacity'][i] / C)\n",
        "new_soh = dataset_val.loc[(dataset_val['cycle'] >= 1), ['cycle']]\n",
        "new_soh['SoH'] =  soh\n",
        "new_soh['NewSoH'] = soh_pred\n",
        "new_soh = new_soh.groupby(['cycle']).mean().reset_index()\n",
        "print(new_soh.head(10))\n",
        "rms = np.sqrt(mean_squared_error(new_soh['SoH'], new_soh['NewSoH']))\n",
        "print('Root Mean Square Error: ', rms)"
      ],
      "execution_count": 12,
      "outputs": [
        {
          "output_type": "stream",
          "text": [
            "(50285, 1)\n",
            "   cycle       SoH    NewSoH\n",
            "0      1  1.000000  0.986947\n",
            "1      2  0.994990  0.983674\n",
            "2      3  0.989185  0.979894\n",
            "3      4  0.989165  0.979888\n",
            "4      5  0.982898  0.975798\n",
            "5      6  0.989467  0.980089\n",
            "6      7  0.989075  0.979829\n",
            "7      8  0.967304  0.965619\n",
            "8      9  0.966997  0.965422\n",
            "9     10  0.961625  0.961919\n",
            "Root Mean Square Error:  0.08727897144082825\n"
          ],
          "name": "stdout"
        }
      ]
    },
    {
      "cell_type": "markdown",
      "metadata": {
        "id": "SQ-Z9-h_09a9",
        "colab_type": "text"
      },
      "source": [
        "Finalmente se gráfican ambos SoH para observar sus diferencias"
      ]
    },
    {
      "cell_type": "code",
      "metadata": {
        "id": "Obmj4beTqbQB",
        "colab_type": "code",
        "colab": {
          "base_uri": "https://localhost:8080/",
          "height": 368
        },
        "outputId": "4701a512-ad52-40f0-e2c4-1f42762382bb"
      },
      "source": [
        "plot_df = new_soh.loc[(new_soh['cycle']>=1),['cycle','SoH', 'NewSoH']]\n",
        "sns.set_style(\"white\")\n",
        "plt.figure(figsize=(8, 5))\n",
        "plt.plot(plot_df['cycle'], plot_df['SoH'], label='SoH')\n",
        "plt.plot(plot_df['cycle'], plot_df['NewSoH'], label='Predicted SoH')\n",
        "#Draw threshold\n",
        "plt.plot([0.,len(capacity)], [0.70, 0.70], label='Threshold')\n",
        "plt.ylabel('SOH')\n",
        "# make x-axis ticks legible\n",
        "adf = plt.gca().get_xaxis().get_major_formatter()\n",
        "plt.xlabel('cycle')\n",
        "plt.legend()\n",
        "plt.title('Discharge B0006')"
      ],
      "execution_count": 13,
      "outputs": [
        {
          "output_type": "execute_result",
          "data": {
            "text/plain": [
              "Text(0.5, 1.0, 'Discharge B0006')"
            ]
          },
          "metadata": {
            "tags": []
          },
          "execution_count": 13
        },
        {
          "output_type": "display_data",
          "data": {
            "image/png": "[encoded data removed]",
            "text/plain": [
              "<Figure size 576x360 with 1 Axes>"
            ]
          },
          "metadata": {
            "tags": []
          }
        }
      ]
    }
  ]
}