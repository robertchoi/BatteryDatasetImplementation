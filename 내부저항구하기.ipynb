{
  "nbformat": 4,
  "nbformat_minor": 0,
  "metadata": {
    "colab": {
      "name": "Untitled7.ipynb",
      "provenance": [],
      "authorship_tag": "ABX9TyPDa6/KCpy1Rx8GegD6Y3vb",
      "include_colab_link": true
    },
    "kernelspec": {
      "name": "python3",
      "display_name": "Python 3"
    }
  },
  "cells": [
    {
      "cell_type": "markdown",
      "metadata": {
        "id": "view-in-github",
        "colab_type": "text"
      },
      "source": [
        "<a href=\"https://colab.research.google.com/github/robertchoi/BatteryDatasetImplementation/blob/master/%EB%82%B4%EB%B6%80%EC%A0%80%ED%95%AD%EA%B5%AC%ED%95%98%EA%B8%B0.ipynb\" target=\"_parent\"><img src=\"https://colab.research.google.com/assets/colab-badge.svg\" alt=\"Open In Colab\"/></a>"
      ]
    },
    {
      "cell_type": "code",
      "metadata": {
        "id": "E06-P_awGVd8"
      },
      "source": [
        "from keras.models import Sequential\r\n",
        "from keras.layers import Dense\r\n",
        "from keras.callbacks import EarlyStopping, ModelCheckpoint\r\n",
        "from keras.layers import LSTM\r\n",
        "import numpy as np\r\n",
        "import os\r\n",
        "from sklearn.model_selection import train_test_split\r\n",
        "import matplotlib.pyplot as plt\r\n",
        "import pandas as pd"
      ],
      "execution_count": 2,
      "outputs": []
    },
    {
      "cell_type": "code",
      "metadata": {
        "colab": {
          "base_uri": "https://localhost:8080/"
        },
        "id": "ikA-a9I6GqZA",
        "outputId": "d725051e-5bd6-475a-bc2f-56659424e00f"
      },
      "source": [
        "from google.colab import drive\r\n",
        "drive.mount('/content/drive')"
      ],
      "execution_count": 3,
      "outputs": [
        {
          "output_type": "stream",
          "text": [
            "Mounted at /content/drive\n"
          ],
          "name": "stdout"
        }
      ]
    },
    {
      "cell_type": "code",
      "metadata": {
        "colab": {
          "base_uri": "https://localhost:8080/",
          "height": 402
        },
        "id": "THIZItJqG0xz",
        "outputId": "68963094-893e-4413-bca7-d8aeab55b0ef"
      },
      "source": [
        "df = pd.read_csv('/content/drive/MyDrive/M0000_0009_0019_20170109075822_cell50.csv', encoding='utf8')\r\n",
        "df"
      ],
      "execution_count": 7,
      "outputs": [
        {
          "output_type": "execute_result",
          "data": {
            "text/html": [
              "<div>\n",
              "<style scoped>\n",
              "    .dataframe tbody tr th:only-of-type {\n",
              "        vertical-align: middle;\n",
              "    }\n",
              "\n",
              "    .dataframe tbody tr th {\n",
              "        vertical-align: top;\n",
              "    }\n",
              "\n",
              "    .dataframe thead th {\n",
              "        text-align: right;\n",
              "    }\n",
              "</style>\n",
              "<table border=\"1\" class=\"dataframe\">\n",
              "  <thead>\n",
              "    <tr style=\"text-align: right;\">\n",
              "      <th></th>\n",
              "      <th>Volt</th>\n",
              "      <th>Temp</th>\n",
              "      <th>Resistance</th>\n",
              "    </tr>\n",
              "  </thead>\n",
              "  <tbody>\n",
              "    <tr>\n",
              "      <th>0</th>\n",
              "      <td>4.49</td>\n",
              "      <td>-20</td>\n",
              "      <td>0.466</td>\n",
              "    </tr>\n",
              "    <tr>\n",
              "      <th>1</th>\n",
              "      <td>4.49</td>\n",
              "      <td>-20</td>\n",
              "      <td>0.453</td>\n",
              "    </tr>\n",
              "    <tr>\n",
              "      <th>2</th>\n",
              "      <td>4.48</td>\n",
              "      <td>-20</td>\n",
              "      <td>0.458</td>\n",
              "    </tr>\n",
              "    <tr>\n",
              "      <th>3</th>\n",
              "      <td>4.48</td>\n",
              "      <td>-20</td>\n",
              "      <td>0.458</td>\n",
              "    </tr>\n",
              "    <tr>\n",
              "      <th>4</th>\n",
              "      <td>4.47</td>\n",
              "      <td>-20</td>\n",
              "      <td>0.465</td>\n",
              "    </tr>\n",
              "    <tr>\n",
              "      <th>...</th>\n",
              "      <td>...</td>\n",
              "      <td>...</td>\n",
              "      <td>...</td>\n",
              "    </tr>\n",
              "    <tr>\n",
              "      <th>8967</th>\n",
              "      <td>4.47</td>\n",
              "      <td>-20</td>\n",
              "      <td>0.777</td>\n",
              "    </tr>\n",
              "    <tr>\n",
              "      <th>8968</th>\n",
              "      <td>4.45</td>\n",
              "      <td>-20</td>\n",
              "      <td>0.776</td>\n",
              "    </tr>\n",
              "    <tr>\n",
              "      <th>8969</th>\n",
              "      <td>4.46</td>\n",
              "      <td>-20</td>\n",
              "      <td>0.777</td>\n",
              "    </tr>\n",
              "    <tr>\n",
              "      <th>8970</th>\n",
              "      <td>4.46</td>\n",
              "      <td>-20</td>\n",
              "      <td>0.777</td>\n",
              "    </tr>\n",
              "    <tr>\n",
              "      <th>8971</th>\n",
              "      <td>4.46</td>\n",
              "      <td>-20</td>\n",
              "      <td>0.780</td>\n",
              "    </tr>\n",
              "  </tbody>\n",
              "</table>\n",
              "<p>8972 rows × 3 columns</p>\n",
              "</div>"
            ],
            "text/plain": [
              "      Volt  Temp  Resistance\n",
              "0     4.49   -20       0.466\n",
              "1     4.49   -20       0.453\n",
              "2     4.48   -20       0.458\n",
              "3     4.48   -20       0.458\n",
              "4     4.47   -20       0.465\n",
              "...    ...   ...         ...\n",
              "8967  4.47   -20       0.777\n",
              "8968  4.45   -20       0.776\n",
              "8969  4.46   -20       0.777\n",
              "8970  4.46   -20       0.777\n",
              "8971  4.46   -20       0.780\n",
              "\n",
              "[8972 rows x 3 columns]"
            ]
          },
          "metadata": {
            "tags": []
          },
          "execution_count": 7
        }
      ]
    },
    {
      "cell_type": "code",
      "metadata": {
        "colab": {
          "base_uri": "https://localhost:8080/",
          "height": 282
        },
        "id": "aSkLSPC1HJON",
        "outputId": "e4aded7b-2458-4c2a-ef63-61e6a1723cb6"
      },
      "source": [
        "df['Resistance'].plot()"
      ],
      "execution_count": 44,
      "outputs": [
        {
          "output_type": "execute_result",
          "data": {
            "text/plain": [
              "<matplotlib.axes._subplots.AxesSubplot at 0x7fcfc94e1210>"
            ]
          },
          "metadata": {
            "tags": []
          },
          "execution_count": 44
        },
        {
          "output_type": "display_data",
          "data": {
            "image/png": "[encoded data removed]",
            "text/plain": [
              "<Figure size 432x288 with 1 Axes>"
            ]
          },
          "metadata": {
            "tags": [],
            "needs_background": "light"
          }
        }
      ]
    },
    {
      "cell_type": "code",
      "metadata": {
        "colab": {
          "base_uri": "https://localhost:8080/"
        },
        "id": "ccB7gr-xHxqh",
        "outputId": "3b00e02a-eeb7-4ef8-fbeb-539bfe32c751"
      },
      "source": [
        "# from sklearn.preprocessing import MinMaxScaler\r\n",
        "\r\n",
        "# scaler = MinMaxScaler()\r\n",
        "# scale_cols = ['Volt', 'Temp', 'Resistance']\r\n",
        "# df_scaled = scaler.fit_transform(df[scale_cols])\r\n",
        "\r\n",
        "# df_scaled = pd.DataFrame(df_scaled)\r\n",
        "# df_scaled.columns = scale_cols\r\n",
        "\r\n",
        "# print(df_scaled)"
      ],
      "execution_count": 12,
      "outputs": [
        {
          "output_type": "stream",
          "text": [
            "          Volt  Temp  Resistance\n",
            "0     0.937500   0.0    0.136483\n",
            "1     0.937500   0.0    0.102362\n",
            "2     0.916667   0.0    0.115486\n",
            "3     0.916667   0.0    0.115486\n",
            "4     0.895833   0.0    0.133858\n",
            "...        ...   ...         ...\n",
            "8967  0.895833   0.0    0.952756\n",
            "8968  0.854167   0.0    0.950131\n",
            "8969  0.875000   0.0    0.952756\n",
            "8970  0.875000   0.0    0.952756\n",
            "8971  0.875000   0.0    0.960630\n",
            "\n",
            "[8972 rows x 3 columns]\n"
          ],
          "name": "stdout"
        }
      ]
    },
    {
      "cell_type": "code",
      "metadata": {
        "id": "djYoxWjKIB90"
      },
      "source": [
        "TEST_SIZE = 1794"
      ],
      "execution_count": 17,
      "outputs": []
    },
    {
      "cell_type": "code",
      "metadata": {
        "id": "OWn8glI2G-SE"
      },
      "source": [
        "train = df[:-TEST_SIZE]\r\n",
        "test = df[-TEST_SIZE:]"
      ],
      "execution_count": 18,
      "outputs": []
    },
    {
      "cell_type": "code",
      "metadata": {
        "colab": {
          "base_uri": "https://localhost:8080/",
          "height": 402
        },
        "id": "RYz9QX9Mc5ev",
        "outputId": "d36c00f9-ec0a-4d59-d7c1-fb5aedc82972"
      },
      "source": [
        "test"
      ],
      "execution_count": 58,
      "outputs": [
        {
          "output_type": "execute_result",
          "data": {
            "text/html": [
              "<div>\n",
              "<style scoped>\n",
              "    .dataframe tbody tr th:only-of-type {\n",
              "        vertical-align: middle;\n",
              "    }\n",
              "\n",
              "    .dataframe tbody tr th {\n",
              "        vertical-align: top;\n",
              "    }\n",
              "\n",
              "    .dataframe thead th {\n",
              "        text-align: right;\n",
              "    }\n",
              "</style>\n",
              "<table border=\"1\" class=\"dataframe\">\n",
              "  <thead>\n",
              "    <tr style=\"text-align: right;\">\n",
              "      <th></th>\n",
              "      <th>Resistance</th>\n",
              "    </tr>\n",
              "  </thead>\n",
              "  <tbody>\n",
              "    <tr>\n",
              "      <th>7178</th>\n",
              "      <td>0.760</td>\n",
              "    </tr>\n",
              "    <tr>\n",
              "      <th>7179</th>\n",
              "      <td>0.758</td>\n",
              "    </tr>\n",
              "    <tr>\n",
              "      <th>7180</th>\n",
              "      <td>0.754</td>\n",
              "    </tr>\n",
              "    <tr>\n",
              "      <th>7181</th>\n",
              "      <td>0.754</td>\n",
              "    </tr>\n",
              "    <tr>\n",
              "      <th>7182</th>\n",
              "      <td>0.759</td>\n",
              "    </tr>\n",
              "    <tr>\n",
              "      <th>...</th>\n",
              "      <td>...</td>\n",
              "    </tr>\n",
              "    <tr>\n",
              "      <th>8967</th>\n",
              "      <td>0.777</td>\n",
              "    </tr>\n",
              "    <tr>\n",
              "      <th>8968</th>\n",
              "      <td>0.776</td>\n",
              "    </tr>\n",
              "    <tr>\n",
              "      <th>8969</th>\n",
              "      <td>0.777</td>\n",
              "    </tr>\n",
              "    <tr>\n",
              "      <th>8970</th>\n",
              "      <td>0.777</td>\n",
              "    </tr>\n",
              "    <tr>\n",
              "      <th>8971</th>\n",
              "      <td>0.780</td>\n",
              "    </tr>\n",
              "  </tbody>\n",
              "</table>\n",
              "<p>1794 rows × 1 columns</p>\n",
              "</div>"
            ],
            "text/plain": [
              "      Resistance\n",
              "7178       0.760\n",
              "7179       0.758\n",
              "7180       0.754\n",
              "7181       0.754\n",
              "7182       0.759\n",
              "...          ...\n",
              "8967       0.777\n",
              "8968       0.776\n",
              "8969       0.777\n",
              "8970       0.777\n",
              "8971       0.780\n",
              "\n",
              "[1794 rows x 1 columns]"
            ]
          },
          "metadata": {
            "tags": []
          },
          "execution_count": 58
        }
      ]
    },
    {
      "cell_type": "code",
      "metadata": {
        "colab": {
          "base_uri": "https://localhost:8080/"
        },
        "id": "uWeJOVFHdFYN",
        "outputId": "905f1c8d-6f58-4166-ddfd-f84f2c291b1c"
      },
      "source": [
        "from sklearn.preprocessing import MinMaxScaler\r\n",
        "\r\n",
        "scaler = MinMaxScaler()\r\n",
        "scale_cols = ['Volt', 'Temp']\r\n",
        "train_scaled = scaler.fit_transform(train)\r\n",
        "\r\n",
        "train_scaled"
      ],
      "execution_count": 60,
      "outputs": [
        {
          "output_type": "execute_result",
          "data": {
            "text/plain": [
              "array([[0.14246575],\n",
              "       [0.10684932],\n",
              "       [0.12054795],\n",
              "       ...,\n",
              "       [0.93972603],\n",
              "       [0.94520548],\n",
              "       [0.94794521]])"
            ]
          },
          "metadata": {
            "tags": []
          },
          "execution_count": 60
        }
      ]
    },
    {
      "cell_type": "code",
      "metadata": {
        "colab": {
          "base_uri": "https://localhost:8080/"
        },
        "id": "HESJjVzBdcEE",
        "outputId": "b5484100-21e0-4e97-e604-196765aba034"
      },
      "source": [
        "test_scaled = scaler.fit_transform(test)\r\n",
        "test_scaled\r\n"
      ],
      "execution_count": 61,
      "outputs": [
        {
          "output_type": "execute_result",
          "data": {
            "text/plain": [
              "array([[0.36363636],\n",
              "       [0.32727273],\n",
              "       [0.25454545],\n",
              "       ...,\n",
              "       [0.67272727],\n",
              "       [0.67272727],\n",
              "       [0.72727273]])"
            ]
          },
          "metadata": {
            "tags": []
          },
          "execution_count": 61
        }
      ]
    },
    {
      "cell_type": "code",
      "metadata": {
        "colab": {
          "base_uri": "https://localhost:8080/"
        },
        "id": "ixNGrMpeII5v",
        "outputId": "4565227b-b687-42ba-e657-9998c0ac53dd"
      },
      "source": [
        "test_scaled.shape"
      ],
      "execution_count": 64,
      "outputs": [
        {
          "output_type": "execute_result",
          "data": {
            "text/plain": [
              "(1794, 1)"
            ]
          },
          "metadata": {
            "tags": []
          },
          "execution_count": 64
        }
      ]
    },
    {
      "cell_type": "code",
      "metadata": {
        "id": "vS_s7Y2EIUWt"
      },
      "source": [
        "def make_dataset(data, label, window_size=20):\r\n",
        "    feature_list = []\r\n",
        "    label_list = []\r\n",
        "    for i in range(len(data) - window_size):\r\n",
        "        feature_list.append(np.array(data.iloc[i:i+window_size]))\r\n",
        "        label_list.append(np.array(label.iloc[i+window_size]))\r\n",
        "    return np.array(feature_list), np.array(label_list)"
      ],
      "execution_count": 65,
      "outputs": []
    },
    {
      "cell_type": "code",
      "metadata": {
        "colab": {
          "base_uri": "https://localhost:8080/"
        },
        "id": "SQ1W91emIXp4",
        "outputId": "33709614-52b6-4404-d622-1d55e6e47c3b"
      },
      "source": [
        "feature_cols = ['Volt', 'Temp']\r\n",
        "label_cols = ['Resistance']\r\n",
        "\r\n",
        "train_feature = train\r\n",
        "train_label = train[label_cols]\r\n",
        "test_feature = test\r\n",
        "test_label = test[label_cols]\r\n",
        "\r\n",
        "train_feature, train_label = make_dataset(train_feature, train_label, 20)\r\n",
        "from sklearn.model_selection import train_test_split\r\n",
        "x_train, x_valid, y_train, y_valid = train_test_split(train_feature, train_label, test_size=0.2)\r\n",
        "\r\n",
        "\r\n",
        "test_feature, test_label = make_dataset(test_feature, test_label, 20)\r\n",
        "test_feature.shape, test_label.shape"
      ],
      "execution_count": 69,
      "outputs": [
        {
          "output_type": "execute_result",
          "data": {
            "text/plain": [
              "((1774, 20, 1), (1774, 1))"
            ]
          },
          "metadata": {
            "tags": []
          },
          "execution_count": 69
        }
      ]
    },
    {
      "cell_type": "code",
      "metadata": {
        "id": "PazCEYxNIwfW"
      },
      "source": [
        "from keras.models import Sequential\r\n",
        "from keras.layers import Dense\r\n",
        "from keras.callbacks import EarlyStopping, ModelCheckpoint\r\n",
        "from keras.layers import LSTM\r\n",
        "\r\n",
        "model = Sequential()\r\n",
        "model.add(LSTM(16, \r\n",
        "               input_shape=(train_feature.shape[1], train_feature.shape[2]), \r\n",
        "               activation='relu', \r\n",
        "               return_sequences=False)\r\n",
        "          )\r\n",
        "model.add(Dense(1))"
      ],
      "execution_count": 70,
      "outputs": []
    },
    {
      "cell_type": "code",
      "metadata": {
        "colab": {
          "base_uri": "https://localhost:8080/"
        },
        "id": "_unJSBooKYdq",
        "outputId": "a6f36a3e-e878-46fa-c0d9-960f96872cea"
      },
      "source": [
        "model.compile(loss='mean_squared_error', optimizer='adam')\r\n",
        "early_stop = EarlyStopping(monitor='val_loss', patience=5)\r\n",
        "filename = os.path.join('C:/Users/wlsrm/data', 'tmp_checkpoint.h5')\r\n",
        "checkpoint = ModelCheckpoint(filename, monitor='val_loss', verbose=1, save_best_only=True, mode='auto')\r\n",
        "\r\n",
        "history = model.fit(x_train, y_train, \r\n",
        "                    epochs=200, \r\n",
        "                    batch_size=16,\r\n",
        "                    validation_data=(x_valid, y_valid), \r\n",
        "                    callbacks=[early_stop, checkpoint])"
      ],
      "execution_count": 71,
      "outputs": [
        {
          "output_type": "stream",
          "text": [
            "Epoch 1/200\n",
            "358/358 [==============================] - 4s 8ms/step - loss: 0.1685 - val_loss: 4.7632e-05\n",
            "\n",
            "Epoch 00001: val_loss improved from inf to 0.00005, saving model to C:/Users/wlsrm/data/tmp_checkpoint.h5\n",
            "Epoch 2/200\n",
            "358/358 [==============================] - 3s 8ms/step - loss: 7.9229e-05 - val_loss: 4.6004e-05\n",
            "\n",
            "Epoch 00002: val_loss improved from 0.00005 to 0.00005, saving model to C:/Users/wlsrm/data/tmp_checkpoint.h5\n",
            "Epoch 3/200\n",
            "358/358 [==============================] - 3s 8ms/step - loss: 6.0717e-05 - val_loss: 4.5307e-05\n",
            "\n",
            "Epoch 00003: val_loss improved from 0.00005 to 0.00005, saving model to C:/Users/wlsrm/data/tmp_checkpoint.h5\n",
            "Epoch 4/200\n",
            "358/358 [==============================] - 3s 8ms/step - loss: 9.1588e-05 - val_loss: 4.4852e-05\n",
            "\n",
            "Epoch 00004: val_loss improved from 0.00005 to 0.00004, saving model to C:/Users/wlsrm/data/tmp_checkpoint.h5\n",
            "Epoch 5/200\n",
            "358/358 [==============================] - 3s 8ms/step - loss: 6.4757e-05 - val_loss: 4.2719e-05\n",
            "\n",
            "Epoch 00005: val_loss improved from 0.00004 to 0.00004, saving model to C:/Users/wlsrm/data/tmp_checkpoint.h5\n",
            "Epoch 6/200\n",
            "358/358 [==============================] - 3s 8ms/step - loss: 7.6072e-05 - val_loss: 3.6075e-05\n",
            "\n",
            "Epoch 00006: val_loss improved from 0.00004 to 0.00004, saving model to C:/Users/wlsrm/data/tmp_checkpoint.h5\n",
            "Epoch 7/200\n",
            "358/358 [==============================] - 3s 8ms/step - loss: 1.1868e-04 - val_loss: 3.2321e-05\n",
            "\n",
            "Epoch 00007: val_loss improved from 0.00004 to 0.00003, saving model to C:/Users/wlsrm/data/tmp_checkpoint.h5\n",
            "Epoch 8/200\n",
            "358/358 [==============================] - 3s 8ms/step - loss: 7.2189e-05 - val_loss: 3.0176e-05\n",
            "\n",
            "Epoch 00008: val_loss improved from 0.00003 to 0.00003, saving model to C:/Users/wlsrm/data/tmp_checkpoint.h5\n",
            "Epoch 9/200\n",
            "358/358 [==============================] - 3s 8ms/step - loss: 7.9455e-05 - val_loss: 3.0794e-05\n",
            "\n",
            "Epoch 00009: val_loss did not improve from 0.00003\n",
            "Epoch 10/200\n",
            "358/358 [==============================] - 3s 8ms/step - loss: 6.9465e-05 - val_loss: 2.9094e-05\n",
            "\n",
            "Epoch 00010: val_loss improved from 0.00003 to 0.00003, saving model to C:/Users/wlsrm/data/tmp_checkpoint.h5\n",
            "Epoch 11/200\n",
            "358/358 [==============================] - 3s 8ms/step - loss: 6.5813e-05 - val_loss: 8.8645e-05\n",
            "\n",
            "Epoch 00011: val_loss did not improve from 0.00003\n",
            "Epoch 12/200\n",
            "358/358 [==============================] - 3s 8ms/step - loss: 4.3069e-05 - val_loss: 3.2120e-05\n",
            "\n",
            "Epoch 00012: val_loss did not improve from 0.00003\n",
            "Epoch 13/200\n",
            "358/358 [==============================] - 3s 8ms/step - loss: 6.5393e-05 - val_loss: 5.6845e-05\n",
            "\n",
            "Epoch 00013: val_loss did not improve from 0.00003\n",
            "Epoch 14/200\n",
            "358/358 [==============================] - 3s 8ms/step - loss: 5.8823e-05 - val_loss: 2.3302e-05\n",
            "\n",
            "Epoch 00014: val_loss improved from 0.00003 to 0.00002, saving model to C:/Users/wlsrm/data/tmp_checkpoint.h5\n",
            "Epoch 15/200\n",
            "358/358 [==============================] - 3s 7ms/step - loss: 4.8820e-05 - val_loss: 9.8727e-05\n",
            "\n",
            "Epoch 00015: val_loss did not improve from 0.00002\n",
            "Epoch 16/200\n",
            "358/358 [==============================] - 3s 8ms/step - loss: 5.5000e-05 - val_loss: 7.6433e-05\n",
            "\n",
            "Epoch 00016: val_loss did not improve from 0.00002\n",
            "Epoch 17/200\n",
            "358/358 [==============================] - 3s 8ms/step - loss: 5.2196e-05 - val_loss: 1.6625e-05\n",
            "\n",
            "Epoch 00017: val_loss improved from 0.00002 to 0.00002, saving model to C:/Users/wlsrm/data/tmp_checkpoint.h5\n",
            "Epoch 18/200\n",
            "358/358 [==============================] - 3s 8ms/step - loss: 4.0450e-05 - val_loss: 1.5249e-05\n",
            "\n",
            "Epoch 00018: val_loss improved from 0.00002 to 0.00002, saving model to C:/Users/wlsrm/data/tmp_checkpoint.h5\n",
            "Epoch 19/200\n",
            "358/358 [==============================] - 3s 8ms/step - loss: 6.2884e-05 - val_loss: 1.5531e-05\n",
            "\n",
            "Epoch 00019: val_loss did not improve from 0.00002\n",
            "Epoch 20/200\n",
            "358/358 [==============================] - 3s 8ms/step - loss: 7.8760e-05 - val_loss: 1.4036e-05\n",
            "\n",
            "Epoch 00020: val_loss improved from 0.00002 to 0.00001, saving model to C:/Users/wlsrm/data/tmp_checkpoint.h5\n",
            "Epoch 21/200\n",
            "358/358 [==============================] - 3s 9ms/step - loss: 7.0448e-05 - val_loss: 1.4747e-05\n",
            "\n",
            "Epoch 00021: val_loss did not improve from 0.00001\n",
            "Epoch 22/200\n",
            "358/358 [==============================] - 3s 8ms/step - loss: 4.3626e-05 - val_loss: 1.3822e-05\n",
            "\n",
            "Epoch 00022: val_loss improved from 0.00001 to 0.00001, saving model to C:/Users/wlsrm/data/tmp_checkpoint.h5\n",
            "Epoch 23/200\n",
            "358/358 [==============================] - 3s 8ms/step - loss: 3.9589e-05 - val_loss: 3.8007e-05\n",
            "\n",
            "Epoch 00023: val_loss did not improve from 0.00001\n",
            "Epoch 24/200\n",
            "358/358 [==============================] - 3s 8ms/step - loss: 5.5312e-05 - val_loss: 1.5016e-05\n",
            "\n",
            "Epoch 00024: val_loss did not improve from 0.00001\n",
            "Epoch 25/200\n",
            "358/358 [==============================] - 3s 8ms/step - loss: 6.6113e-05 - val_loss: 3.4209e-05\n",
            "\n",
            "Epoch 00025: val_loss did not improve from 0.00001\n",
            "Epoch 26/200\n",
            "358/358 [==============================] - 3s 8ms/step - loss: 5.0599e-05 - val_loss: 1.1920e-05\n",
            "\n",
            "Epoch 00026: val_loss improved from 0.00001 to 0.00001, saving model to C:/Users/wlsrm/data/tmp_checkpoint.h5\n",
            "Epoch 27/200\n",
            "358/358 [==============================] - 3s 8ms/step - loss: 3.6510e-05 - val_loss: 5.2606e-05\n",
            "\n",
            "Epoch 00027: val_loss did not improve from 0.00001\n",
            "Epoch 28/200\n",
            "358/358 [==============================] - 3s 8ms/step - loss: 3.8957e-05 - val_loss: 1.2333e-05\n",
            "\n",
            "Epoch 00028: val_loss did not improve from 0.00001\n",
            "Epoch 29/200\n",
            "358/358 [==============================] - 3s 8ms/step - loss: 5.4080e-05 - val_loss: 4.7646e-05\n",
            "\n",
            "Epoch 00029: val_loss did not improve from 0.00001\n",
            "Epoch 30/200\n",
            "358/358 [==============================] - 3s 8ms/step - loss: 8.7669e-05 - val_loss: 1.0811e-05\n",
            "\n",
            "Epoch 00030: val_loss improved from 0.00001 to 0.00001, saving model to C:/Users/wlsrm/data/tmp_checkpoint.h5\n",
            "Epoch 31/200\n",
            "358/358 [==============================] - 3s 8ms/step - loss: 1.8447e-05 - val_loss: 2.2175e-05\n",
            "\n",
            "Epoch 00031: val_loss did not improve from 0.00001\n",
            "Epoch 32/200\n",
            "358/358 [==============================] - 3s 8ms/step - loss: 5.9527e-05 - val_loss: 1.1939e-05\n",
            "\n",
            "Epoch 00032: val_loss did not improve from 0.00001\n",
            "Epoch 33/200\n",
            "358/358 [==============================] - 3s 8ms/step - loss: 4.5830e-05 - val_loss: 2.0214e-05\n",
            "\n",
            "Epoch 00033: val_loss did not improve from 0.00001\n",
            "Epoch 34/200\n",
            "358/358 [==============================] - 3s 8ms/step - loss: 3.8150e-05 - val_loss: 1.4829e-05\n",
            "\n",
            "Epoch 00034: val_loss did not improve from 0.00001\n",
            "Epoch 35/200\n",
            "358/358 [==============================] - 3s 8ms/step - loss: 2.3359e-05 - val_loss: 1.0959e-05\n",
            "\n",
            "Epoch 00035: val_loss did not improve from 0.00001\n"
          ],
          "name": "stdout"
        }
      ]
    },
    {
      "cell_type": "code",
      "metadata": {
        "id": "WvZL-Zu6KeCU"
      },
      "source": [
        "model.load_weights(filename)\r\n",
        "\r\n",
        "pred = model.predict(test_feature)"
      ],
      "execution_count": 72,
      "outputs": []
    },
    {
      "cell_type": "code",
      "metadata": {
        "colab": {
          "base_uri": "https://localhost:8080/"
        },
        "id": "cEww9xmcLMYQ",
        "outputId": "9512b346-1086-4220-80f8-00b7ce6185cd"
      },
      "source": [
        "pred"
      ],
      "execution_count": 73,
      "outputs": [
        {
          "output_type": "execute_result",
          "data": {
            "text/plain": [
              "array([[0.7610782 ],\n",
              "       [0.76143   ],\n",
              "       [0.76128125],\n",
              "       ...,\n",
              "       [0.7771856 ],\n",
              "       [0.77724105],\n",
              "       [0.7772973 ]], dtype=float32)"
            ]
          },
          "metadata": {
            "tags": []
          },
          "execution_count": 73
        }
      ]
    },
    {
      "cell_type": "code",
      "metadata": {
        "colab": {
          "base_uri": "https://localhost:8080/",
          "height": 488
        },
        "id": "-_xmHEd1Y2VT",
        "outputId": "7c67a350-d8a5-4b11-d31b-5377c68ace2e"
      },
      "source": [
        "# train = df.loc[:7178, ['Resistance']]\r\n",
        "# test = df.loc[7178:, ['Resistance']]\r\n",
        "# pred2 = \r\n",
        "plt.figure(figsize=(12, 9))\r\n",
        "plt.plot(train)\r\n",
        "plt.plot(test, label='original')\r\n",
        "# plt.plot(pred, label='prediction')\r\n",
        "plt.legend()\r\n",
        "plt.show()"
      ],
      "execution_count": 74,
      "outputs": [
        {
          "output_type": "display_data",
          "data": {
            "image/png": "[encoded data removed]",
            "text/plain": [
              "<Figure size 864x648 with 1 Axes>"
            ]
          },
          "metadata": {
            "tags": [],
            "needs_background": "light"
          }
        }
      ]
    },
    {
      "cell_type": "code",
      "metadata": {
        "colab": {
          "base_uri": "https://localhost:8080/",
          "height": 402
        },
        "id": "Dl5_b2jsbbfM",
        "outputId": "9cb6d322-293d-4fb7-c3be-647f60487872"
      },
      "source": [
        "test"
      ],
      "execution_count": 52,
      "outputs": [
        {
          "output_type": "execute_result",
          "data": {
            "text/html": [
              "<div>\n",
              "<style scoped>\n",
              "    .dataframe tbody tr th:only-of-type {\n",
              "        vertical-align: middle;\n",
              "    }\n",
              "\n",
              "    .dataframe tbody tr th {\n",
              "        vertical-align: top;\n",
              "    }\n",
              "\n",
              "    .dataframe thead th {\n",
              "        text-align: right;\n",
              "    }\n",
              "</style>\n",
              "<table border=\"1\" class=\"dataframe\">\n",
              "  <thead>\n",
              "    <tr style=\"text-align: right;\">\n",
              "      <th></th>\n",
              "      <th>Resistance</th>\n",
              "    </tr>\n",
              "  </thead>\n",
              "  <tbody>\n",
              "    <tr>\n",
              "      <th>7178</th>\n",
              "      <td>0.760</td>\n",
              "    </tr>\n",
              "    <tr>\n",
              "      <th>7179</th>\n",
              "      <td>0.758</td>\n",
              "    </tr>\n",
              "    <tr>\n",
              "      <th>7180</th>\n",
              "      <td>0.754</td>\n",
              "    </tr>\n",
              "    <tr>\n",
              "      <th>7181</th>\n",
              "      <td>0.754</td>\n",
              "    </tr>\n",
              "    <tr>\n",
              "      <th>7182</th>\n",
              "      <td>0.759</td>\n",
              "    </tr>\n",
              "    <tr>\n",
              "      <th>...</th>\n",
              "      <td>...</td>\n",
              "    </tr>\n",
              "    <tr>\n",
              "      <th>8967</th>\n",
              "      <td>0.777</td>\n",
              "    </tr>\n",
              "    <tr>\n",
              "      <th>8968</th>\n",
              "      <td>0.776</td>\n",
              "    </tr>\n",
              "    <tr>\n",
              "      <th>8969</th>\n",
              "      <td>0.777</td>\n",
              "    </tr>\n",
              "    <tr>\n",
              "      <th>8970</th>\n",
              "      <td>0.777</td>\n",
              "    </tr>\n",
              "    <tr>\n",
              "      <th>8971</th>\n",
              "      <td>0.780</td>\n",
              "    </tr>\n",
              "  </tbody>\n",
              "</table>\n",
              "<p>1794 rows × 1 columns</p>\n",
              "</div>"
            ],
            "text/plain": [
              "      Resistance\n",
              "7178       0.760\n",
              "7179       0.758\n",
              "7180       0.754\n",
              "7181       0.754\n",
              "7182       0.759\n",
              "...          ...\n",
              "8967       0.777\n",
              "8968       0.776\n",
              "8969       0.777\n",
              "8970       0.777\n",
              "8971       0.780\n",
              "\n",
              "[1794 rows x 1 columns]"
            ]
          },
          "metadata": {
            "tags": []
          },
          "execution_count": 52
        }
      ]
    },
    {
      "cell_type": "code",
      "metadata": {
        "colab": {
          "base_uri": "https://localhost:8080/"
        },
        "id": "5RNFr4X8bgBN",
        "outputId": "54752c2d-6829-4d58-82ce-3331737c9043"
      },
      "source": [
        "test_label"
      ],
      "execution_count": 76,
      "outputs": [
        {
          "output_type": "execute_result",
          "data": {
            "text/plain": [
              "array([[0.762],\n",
              "       [0.76 ],\n",
              "       [0.759],\n",
              "       ...,\n",
              "       [0.777],\n",
              "       [0.777],\n",
              "       [0.78 ]])"
            ]
          },
          "metadata": {
            "tags": []
          },
          "execution_count": 76
        }
      ]
    },
    {
      "cell_type": "code",
      "metadata": {
        "colab": {
          "base_uri": "https://localhost:8080/"
        },
        "id": "xCZsvpdrcBpA",
        "outputId": "f5219838-577e-4ff4-d0ea-d597ae9e7ddb"
      },
      "source": [
        "pred.shape"
      ],
      "execution_count": 75,
      "outputs": [
        {
          "output_type": "execute_result",
          "data": {
            "text/plain": [
              "(1774, 1)"
            ]
          },
          "metadata": {
            "tags": []
          },
          "execution_count": 75
        }
      ]
    },
    {
      "cell_type": "code",
      "metadata": {
        "colab": {
          "base_uri": "https://localhost:8080/"
        },
        "id": "fzlqveXNbiKZ",
        "outputId": "c688c20e-f6a3-4579-aa13-d50d4b62b094"
      },
      "source": [
        "pred2 = scaler.inverse_transform(pred)\r\n",
        "pred2"
      ],
      "execution_count": 77,
      "outputs": [
        {
          "output_type": "execute_result",
          "data": {
            "text/plain": [
              "array([[0.78185934],\n",
              "       [0.78187865],\n",
              "       [0.7818705 ],\n",
              "       ...,\n",
              "       [0.78274524],\n",
              "       [0.7827483 ],\n",
              "       [0.7827514 ]], dtype=float32)"
            ]
          },
          "metadata": {
            "tags": []
          },
          "execution_count": 77
        }
      ]
    },
    {
      "cell_type": "code",
      "metadata": {
        "colab": {
          "base_uri": "https://localhost:8080/",
          "height": 537
        },
        "id": "2zuB8DbbLNw1",
        "outputId": "074ad27a-17db-4e6c-f868-9cb3b68011c6"
      },
      "source": [
        "\r\n",
        "\r\n",
        "plt.figure(figsize=(12, 9))\r\n",
        "plt.plot(test_label, label='actual')\r\n",
        "plt.plot(pred2, label='prediction')\r\n",
        "plt.legend()\r\n",
        "plt.show()"
      ],
      "execution_count": 79,
      "outputs": [
        {
          "output_type": "display_data",
          "data": {
            "image/png": "[encoded data removed]",
            "text/plain": [
              "<Figure size 864x648 with 1 Axes>"
            ]
          },
          "metadata": {
            "tags": [],
            "needs_background": "light"
          }
        }
      ]
    },
    {
      "cell_type": "code",
      "metadata": {
        "id": "nGqOGUIUWGSm"
      },
      "source": [
        "plt.figure(figsize=(12, 9))\r\n",
        "plt.plot"
      ],
      "execution_count": null,
      "outputs": []
    },
    {
      "cell_type": "code",
      "metadata": {
        "id": "--6ZHF4sLSkE"
      },
      "source": [
        ""
      ],
      "execution_count": null,
      "outputs": []
    }
  ]
}