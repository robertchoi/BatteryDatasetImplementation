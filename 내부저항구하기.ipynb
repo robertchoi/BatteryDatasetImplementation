{
  "nbformat": 4,
  "nbformat_minor": 0,
  "metadata": {
    "colab": {
      "name": "내부저항구하기.ipynb",
      "provenance": [],
      "collapsed_sections": [],
      "authorship_tag": "ABX9TyPpGTZRo20Vxd5yaLhM14BO",
      "include_colab_link": true
    },
    "kernelspec": {
      "name": "python3",
      "display_name": "Python 3"
    }
  },
  "cells": [
    {
      "cell_type": "markdown",
      "metadata": {
        "id": "view-in-github",
        "colab_type": "text"
      },
      "source": [
        "<a href=\"https://colab.research.google.com/github/robertchoi/BatteryDatasetImplementation/blob/master/%EB%82%B4%EB%B6%80%EC%A0%80%ED%95%AD%EA%B5%AC%ED%95%98%EA%B8%B0.ipynb\" target=\"_parent\"><img src=\"https://colab.research.google.com/assets/colab-badge.svg\" alt=\"Open In Colab\"/></a>"
      ]
    },
    {
      "cell_type": "code",
      "metadata": {
        "id": "E06-P_awGVd8"
      },
      "source": [
        "from keras.models import Sequential\r\n",
        "from keras.layers import Dense\r\n",
        "from keras.callbacks import EarlyStopping, ModelCheckpoint\r\n",
        "from keras.layers import LSTM\r\n",
        "import numpy as np\r\n",
        "import os\r\n",
        "from sklearn.model_selection import train_test_split\r\n",
        "import matplotlib.pyplot as plt\r\n",
        "import pandas as pd"
      ],
      "execution_count": 1,
      "outputs": []
    },
    {
      "cell_type": "code",
      "metadata": {
        "colab": {
          "base_uri": "https://localhost:8080/"
        },
        "id": "ikA-a9I6GqZA",
        "outputId": "a897907b-2292-487b-f8b4-5913f8cbab2a"
      },
      "source": [
        "from google.colab import drive\r\n",
        "drive.mount('/content/drive')"
      ],
      "execution_count": 2,
      "outputs": [
        {
          "output_type": "stream",
          "text": [
            "Mounted at /content/drive\n"
          ],
          "name": "stdout"
        }
      ]
    },
    {
      "cell_type": "code",
      "metadata": {
        "colab": {
          "base_uri": "https://localhost:8080/",
          "height": 399
        },
        "id": "THIZItJqG0xz",
        "outputId": "5844c9c5-4290-4a10-b735-3a8d4972653a"
      },
      "source": [
        "df = pd.read_csv('/content/drive/MyDrive/M0000_0009_0019_20170109075822_cell50.csv', encoding='utf8')\r\n",
        "df"
      ],
      "execution_count": 71,
      "outputs": [
        {
          "output_type": "execute_result",
          "data": {
            "text/html": [
              "<div>\n",
              "<style scoped>\n",
              "    .dataframe tbody tr th:only-of-type {\n",
              "        vertical-align: middle;\n",
              "    }\n",
              "\n",
              "    .dataframe tbody tr th {\n",
              "        vertical-align: top;\n",
              "    }\n",
              "\n",
              "    .dataframe thead th {\n",
              "        text-align: right;\n",
              "    }\n",
              "</style>\n",
              "<table border=\"1\" class=\"dataframe\">\n",
              "  <thead>\n",
              "    <tr style=\"text-align: right;\">\n",
              "      <th></th>\n",
              "      <th>Volt</th>\n",
              "      <th>Temp</th>\n",
              "      <th>Resistance</th>\n",
              "    </tr>\n",
              "  </thead>\n",
              "  <tbody>\n",
              "    <tr>\n",
              "      <th>0</th>\n",
              "      <td>4.49</td>\n",
              "      <td>-20</td>\n",
              "      <td>0.466</td>\n",
              "    </tr>\n",
              "    <tr>\n",
              "      <th>1</th>\n",
              "      <td>4.49</td>\n",
              "      <td>-20</td>\n",
              "      <td>0.453</td>\n",
              "    </tr>\n",
              "    <tr>\n",
              "      <th>2</th>\n",
              "      <td>4.48</td>\n",
              "      <td>-20</td>\n",
              "      <td>0.458</td>\n",
              "    </tr>\n",
              "    <tr>\n",
              "      <th>3</th>\n",
              "      <td>4.48</td>\n",
              "      <td>-20</td>\n",
              "      <td>0.458</td>\n",
              "    </tr>\n",
              "    <tr>\n",
              "      <th>4</th>\n",
              "      <td>4.47</td>\n",
              "      <td>-20</td>\n",
              "      <td>0.465</td>\n",
              "    </tr>\n",
              "    <tr>\n",
              "      <th>...</th>\n",
              "      <td>...</td>\n",
              "      <td>...</td>\n",
              "      <td>...</td>\n",
              "    </tr>\n",
              "    <tr>\n",
              "      <th>8967</th>\n",
              "      <td>4.47</td>\n",
              "      <td>-20</td>\n",
              "      <td>0.777</td>\n",
              "    </tr>\n",
              "    <tr>\n",
              "      <th>8968</th>\n",
              "      <td>4.45</td>\n",
              "      <td>-20</td>\n",
              "      <td>0.776</td>\n",
              "    </tr>\n",
              "    <tr>\n",
              "      <th>8969</th>\n",
              "      <td>4.46</td>\n",
              "      <td>-20</td>\n",
              "      <td>0.777</td>\n",
              "    </tr>\n",
              "    <tr>\n",
              "      <th>8970</th>\n",
              "      <td>4.46</td>\n",
              "      <td>-20</td>\n",
              "      <td>0.777</td>\n",
              "    </tr>\n",
              "    <tr>\n",
              "      <th>8971</th>\n",
              "      <td>4.46</td>\n",
              "      <td>-20</td>\n",
              "      <td>0.780</td>\n",
              "    </tr>\n",
              "  </tbody>\n",
              "</table>\n",
              "<p>8972 rows × 3 columns</p>\n",
              "</div>"
            ],
            "text/plain": [
              "      Volt  Temp  Resistance\n",
              "0     4.49   -20       0.466\n",
              "1     4.49   -20       0.453\n",
              "2     4.48   -20       0.458\n",
              "3     4.48   -20       0.458\n",
              "4     4.47   -20       0.465\n",
              "...    ...   ...         ...\n",
              "8967  4.47   -20       0.777\n",
              "8968  4.45   -20       0.776\n",
              "8969  4.46   -20       0.777\n",
              "8970  4.46   -20       0.777\n",
              "8971  4.46   -20       0.780\n",
              "\n",
              "[8972 rows x 3 columns]"
            ]
          },
          "metadata": {
            "tags": []
          },
          "execution_count": 71
        }
      ]
    },
    {
      "cell_type": "code",
      "metadata": {
        "colab": {
          "base_uri": "https://localhost:8080/",
          "height": 283
        },
        "id": "aSkLSPC1HJON",
        "outputId": "410d1c8e-2da5-450d-b515-61e86a7e96f7"
      },
      "source": [
        "df['Resistance'].plot()"
      ],
      "execution_count": 39,
      "outputs": [
        {
          "output_type": "execute_result",
          "data": {
            "text/plain": [
              "<matplotlib.axes._subplots.AxesSubplot at 0x7f921feb95d0>"
            ]
          },
          "metadata": {
            "tags": []
          },
          "execution_count": 39
        },
        {
          "output_type": "display_data",
          "data": {
            "image/png": "[encoded data removed]",
            "text/plain": [
              "<Figure size 432x288 with 1 Axes>"
            ]
          },
          "metadata": {
            "tags": [],
            "needs_background": "light"
          }
        }
      ]
    },
    {
      "cell_type": "code",
      "metadata": {
        "colab": {
          "base_uri": "https://localhost:8080/"
        },
        "id": "uWeJOVFHdFYN",
        "outputId": "d5d40646-8006-4cfe-f72f-c1655909182d"
      },
      "source": [
        "from sklearn.preprocessing import MinMaxScaler\r\n",
        "\r\n",
        "scaler = MinMaxScaler()\r\n",
        "scale_cols = ['Volt', 'Temp', 'Resistance']\r\n",
        "df_scaled = scaler.fit_transform(df[scale_cols])\r\n",
        "\r\n",
        "df_scaled = pd.DataFrame(df_scaled)\r\n",
        "df_scaled.columns = scale_cols\r\n",
        "\r\n",
        "print(df_scaled)"
      ],
      "execution_count": 72,
      "outputs": [
        {
          "output_type": "stream",
          "text": [
            "          Volt  Temp  Resistance\n",
            "0     0.937500   0.0    0.136483\n",
            "1     0.937500   0.0    0.102362\n",
            "2     0.916667   0.0    0.115486\n",
            "3     0.916667   0.0    0.115486\n",
            "4     0.895833   0.0    0.133858\n",
            "...        ...   ...         ...\n",
            "8967  0.895833   0.0    0.952756\n",
            "8968  0.854167   0.0    0.950131\n",
            "8969  0.875000   0.0    0.952756\n",
            "8970  0.875000   0.0    0.952756\n",
            "8971  0.875000   0.0    0.960630\n",
            "\n",
            "[8972 rows x 3 columns]\n"
          ],
          "name": "stdout"
        }
      ]
    },
    {
      "cell_type": "code",
      "metadata": {
        "id": "gEkKtUQKkljE"
      },
      "source": [
        "TEST_SIZE= 1794"
      ],
      "execution_count": 73,
      "outputs": []
    },
    {
      "cell_type": "code",
      "metadata": {
        "id": "HESJjVzBdcEE"
      },
      "source": [
        "train = df_scaled[:-TEST_SIZE]\r\n",
        "test = df_scaled[-TEST_SIZE:]"
      ],
      "execution_count": 74,
      "outputs": []
    },
    {
      "cell_type": "code",
      "metadata": {
        "colab": {
          "base_uri": "https://localhost:8080/",
          "height": 399
        },
        "id": "ixNGrMpeII5v",
        "outputId": "7dd77162-5c4d-45d8-bcbb-50d63584f079"
      },
      "source": [
        "train"
      ],
      "execution_count": 75,
      "outputs": [
        {
          "output_type": "execute_result",
          "data": {
            "text/html": [
              "<div>\n",
              "<style scoped>\n",
              "    .dataframe tbody tr th:only-of-type {\n",
              "        vertical-align: middle;\n",
              "    }\n",
              "\n",
              "    .dataframe tbody tr th {\n",
              "        vertical-align: top;\n",
              "    }\n",
              "\n",
              "    .dataframe thead th {\n",
              "        text-align: right;\n",
              "    }\n",
              "</style>\n",
              "<table border=\"1\" class=\"dataframe\">\n",
              "  <thead>\n",
              "    <tr style=\"text-align: right;\">\n",
              "      <th></th>\n",
              "      <th>Volt</th>\n",
              "      <th>Temp</th>\n",
              "      <th>Resistance</th>\n",
              "    </tr>\n",
              "  </thead>\n",
              "  <tbody>\n",
              "    <tr>\n",
              "      <th>0</th>\n",
              "      <td>0.937500</td>\n",
              "      <td>0.0</td>\n",
              "      <td>0.136483</td>\n",
              "    </tr>\n",
              "    <tr>\n",
              "      <th>1</th>\n",
              "      <td>0.937500</td>\n",
              "      <td>0.0</td>\n",
              "      <td>0.102362</td>\n",
              "    </tr>\n",
              "    <tr>\n",
              "      <th>2</th>\n",
              "      <td>0.916667</td>\n",
              "      <td>0.0</td>\n",
              "      <td>0.115486</td>\n",
              "    </tr>\n",
              "    <tr>\n",
              "      <th>3</th>\n",
              "      <td>0.916667</td>\n",
              "      <td>0.0</td>\n",
              "      <td>0.115486</td>\n",
              "    </tr>\n",
              "    <tr>\n",
              "      <th>4</th>\n",
              "      <td>0.895833</td>\n",
              "      <td>0.0</td>\n",
              "      <td>0.133858</td>\n",
              "    </tr>\n",
              "    <tr>\n",
              "      <th>...</th>\n",
              "      <td>...</td>\n",
              "      <td>...</td>\n",
              "      <td>...</td>\n",
              "    </tr>\n",
              "    <tr>\n",
              "      <th>7173</th>\n",
              "      <td>0.854167</td>\n",
              "      <td>0.0</td>\n",
              "      <td>0.900262</td>\n",
              "    </tr>\n",
              "    <tr>\n",
              "      <th>7174</th>\n",
              "      <td>0.854167</td>\n",
              "      <td>0.0</td>\n",
              "      <td>0.905512</td>\n",
              "    </tr>\n",
              "    <tr>\n",
              "      <th>7175</th>\n",
              "      <td>0.854167</td>\n",
              "      <td>0.0</td>\n",
              "      <td>0.900262</td>\n",
              "    </tr>\n",
              "    <tr>\n",
              "      <th>7176</th>\n",
              "      <td>0.854167</td>\n",
              "      <td>0.0</td>\n",
              "      <td>0.900262</td>\n",
              "    </tr>\n",
              "    <tr>\n",
              "      <th>7177</th>\n",
              "      <td>0.854167</td>\n",
              "      <td>0.0</td>\n",
              "      <td>0.905512</td>\n",
              "    </tr>\n",
              "  </tbody>\n",
              "</table>\n",
              "<p>7178 rows × 3 columns</p>\n",
              "</div>"
            ],
            "text/plain": [
              "          Volt  Temp  Resistance\n",
              "0     0.937500   0.0    0.136483\n",
              "1     0.937500   0.0    0.102362\n",
              "2     0.916667   0.0    0.115486\n",
              "3     0.916667   0.0    0.115486\n",
              "4     0.895833   0.0    0.133858\n",
              "...        ...   ...         ...\n",
              "7173  0.854167   0.0    0.900262\n",
              "7174  0.854167   0.0    0.905512\n",
              "7175  0.854167   0.0    0.900262\n",
              "7176  0.854167   0.0    0.900262\n",
              "7177  0.854167   0.0    0.905512\n",
              "\n",
              "[7178 rows x 3 columns]"
            ]
          },
          "metadata": {
            "tags": []
          },
          "execution_count": 75
        }
      ]
    },
    {
      "cell_type": "code",
      "metadata": {
        "id": "vS_s7Y2EIUWt"
      },
      "source": [
        "def make_dataset(data, label, window_size=20):\r\n",
        "    feature_list = []\r\n",
        "    label_list = []\r\n",
        "    for i in range(len(data) - window_size):\r\n",
        "        feature_list.append(np.array(data.iloc[i:i+window_size]))\r\n",
        "        label_list.append(np.array(label.iloc[i+window_size]))\r\n",
        "    return np.array(feature_list), np.array(label_list)"
      ],
      "execution_count": 76,
      "outputs": []
    },
    {
      "cell_type": "code",
      "metadata": {
        "colab": {
          "base_uri": "https://localhost:8080/"
        },
        "id": "SQ1W91emIXp4",
        "outputId": "809224b9-94d0-4ab0-9e0c-6011ec2c7b5b"
      },
      "source": [
        "feature_cols = ['Volt', 'Temp']\r\n",
        "label_cols = ['Resistance']\r\n",
        "\r\n",
        "train_feature = train\r\n",
        "train_label = train[label_cols]\r\n",
        "test_feature = test\r\n",
        "test_label = test[label_cols]\r\n",
        "\r\n",
        "train_feature, train_label = make_dataset(train_feature, train_label, 20)\r\n",
        "from sklearn.model_selection import train_test_split\r\n",
        "x_train, x_valid, y_train, y_valid = train_test_split(train_feature, train_label, test_size=0.2)\r\n",
        "\r\n",
        "\r\n",
        "test_feature, test_label = make_dataset(test_feature, test_label, 20)\r\n",
        "test_feature.shape, test_label.shape"
      ],
      "execution_count": 77,
      "outputs": [
        {
          "output_type": "execute_result",
          "data": {
            "text/plain": [
              "((1774, 20, 3), (1774, 1))"
            ]
          },
          "metadata": {
            "tags": []
          },
          "execution_count": 77
        }
      ]
    },
    {
      "cell_type": "code",
      "metadata": {
        "colab": {
          "base_uri": "https://localhost:8080/"
        },
        "id": "53n9EQjLyNOS",
        "outputId": "1cfb71a5-833e-4485-c426-724f503c615d"
      },
      "source": [
        "train_feature"
      ],
      "execution_count": 78,
      "outputs": [
        {
          "output_type": "execute_result",
          "data": {
            "text/plain": [
              "array([[[0.9375    , 0.        , 0.13648294],\n",
              "        [0.9375    , 0.        , 0.1023622 ],\n",
              "        [0.91666667, 0.        , 0.11548556],\n",
              "        ...,\n",
              "        [0.91666667, 0.        , 0.14698163],\n",
              "        [0.89583333, 0.        , 0.14435696],\n",
              "        [0.91666667, 0.        , 0.13648294]],\n",
              "\n",
              "       [[0.9375    , 0.        , 0.1023622 ],\n",
              "        [0.91666667, 0.        , 0.11548556],\n",
              "        [0.91666667, 0.        , 0.11548556],\n",
              "        ...,\n",
              "        [0.89583333, 0.        , 0.14435696],\n",
              "        [0.91666667, 0.        , 0.13648294],\n",
              "        [0.89583333, 0.        , 0.12860892]],\n",
              "\n",
              "       [[0.91666667, 0.        , 0.11548556],\n",
              "        [0.91666667, 0.        , 0.11548556],\n",
              "        [0.89583333, 0.        , 0.13385827],\n",
              "        ...,\n",
              "        [0.91666667, 0.        , 0.13648294],\n",
              "        [0.89583333, 0.        , 0.12860892],\n",
              "        [0.9375    , 0.        , 0.12860892]],\n",
              "\n",
              "       ...,\n",
              "\n",
              "       [[0.875     , 0.        , 0.91338583],\n",
              "        [0.875     , 0.        , 0.91076115],\n",
              "        [0.85416667, 0.        , 0.90551181],\n",
              "        ...,\n",
              "        [0.875     , 0.        , 0.8976378 ],\n",
              "        [0.85416667, 0.        , 0.90026247],\n",
              "        [0.85416667, 0.        , 0.90551181]],\n",
              "\n",
              "       [[0.875     , 0.        , 0.91076115],\n",
              "        [0.85416667, 0.        , 0.90551181],\n",
              "        [0.875     , 0.        , 0.90288714],\n",
              "        ...,\n",
              "        [0.85416667, 0.        , 0.90026247],\n",
              "        [0.85416667, 0.        , 0.90551181],\n",
              "        [0.85416667, 0.        , 0.90026247]],\n",
              "\n",
              "       [[0.85416667, 0.        , 0.90551181],\n",
              "        [0.875     , 0.        , 0.90288714],\n",
              "        [0.875     , 0.        , 0.90026247],\n",
              "        ...,\n",
              "        [0.85416667, 0.        , 0.90551181],\n",
              "        [0.85416667, 0.        , 0.90026247],\n",
              "        [0.85416667, 0.        , 0.90026247]]])"
            ]
          },
          "metadata": {
            "tags": []
          },
          "execution_count": 78
        }
      ]
    },
    {
      "cell_type": "code",
      "metadata": {
        "id": "PazCEYxNIwfW"
      },
      "source": [
        "from keras.models import Sequential\r\n",
        "from keras.layers import Dense\r\n",
        "from keras.callbacks import EarlyStopping, ModelCheckpoint\r\n",
        "from keras.layers import LSTM\r\n",
        "\r\n",
        "model = Sequential()\r\n",
        "model.add(LSTM(16, \r\n",
        "               input_shape=(train_feature.shape[1], train_feature.shape[2]), \r\n",
        "               activation='relu', \r\n",
        "               return_sequences=False)\r\n",
        "          )\r\n",
        "model.add(Dense(1))"
      ],
      "execution_count": 80,
      "outputs": []
    },
    {
      "cell_type": "code",
      "metadata": {
        "colab": {
          "base_uri": "https://localhost:8080/"
        },
        "id": "_unJSBooKYdq",
        "outputId": "af69de3b-7f76-400f-f12e-38af56d8a628"
      },
      "source": [
        "model.compile(loss='mean_squared_error', optimizer='adam')\r\n",
        "early_stop = EarlyStopping(monitor='val_loss', patience=5)\r\n",
        "filename = os.path.join('C:/Users/wlsrm/data', 'tmp_checkpoint.h5')\r\n",
        "checkpoint = ModelCheckpoint(filename, monitor='val_loss', verbose=1, save_best_only=True, mode='auto')\r\n",
        "\r\n",
        "history = model.fit(x_train, y_train, \r\n",
        "                    epochs=200, \r\n",
        "                    batch_size=16,\r\n",
        "                    validation_data=(x_valid, y_valid), \r\n",
        "                    callbacks=[early_stop, checkpoint])"
      ],
      "execution_count": 82,
      "outputs": [
        {
          "output_type": "stream",
          "text": [
            "Epoch 1/200\n",
            "358/358 [==============================] - 4s 8ms/step - loss: 0.1057 - val_loss: 2.6268e-04\n",
            "\n",
            "Epoch 00001: val_loss improved from inf to 0.00026, saving model to C:/Users/wlsrm/data/tmp_checkpoint.h5\n",
            "Epoch 2/200\n",
            "358/358 [==============================] - 3s 8ms/step - loss: 3.2081e-04 - val_loss: 1.6631e-04\n",
            "\n",
            "Epoch 00002: val_loss improved from 0.00026 to 0.00017, saving model to C:/Users/wlsrm/data/tmp_checkpoint.h5\n",
            "Epoch 3/200\n",
            "358/358 [==============================] - 3s 8ms/step - loss: 5.2463e-04 - val_loss: 1.1387e-04\n",
            "\n",
            "Epoch 00003: val_loss improved from 0.00017 to 0.00011, saving model to C:/Users/wlsrm/data/tmp_checkpoint.h5\n",
            "Epoch 4/200\n",
            "358/358 [==============================] - 3s 8ms/step - loss: 3.8010e-04 - val_loss: 8.9071e-05\n",
            "\n",
            "Epoch 00004: val_loss improved from 0.00011 to 0.00009, saving model to C:/Users/wlsrm/data/tmp_checkpoint.h5\n",
            "Epoch 5/200\n",
            "358/358 [==============================] - 3s 8ms/step - loss: 2.2369e-04 - val_loss: 8.9491e-05\n",
            "\n",
            "Epoch 00005: val_loss did not improve from 0.00009\n",
            "Epoch 6/200\n",
            "358/358 [==============================] - 3s 8ms/step - loss: 1.8007e-04 - val_loss: 1.0541e-04\n",
            "\n",
            "Epoch 00006: val_loss did not improve from 0.00009\n",
            "Epoch 7/200\n",
            "358/358 [==============================] - 3s 8ms/step - loss: 3.1297e-04 - val_loss: 6.0567e-05\n",
            "\n",
            "Epoch 00007: val_loss improved from 0.00009 to 0.00006, saving model to C:/Users/wlsrm/data/tmp_checkpoint.h5\n",
            "Epoch 8/200\n",
            "358/358 [==============================] - 3s 8ms/step - loss: 3.1103e-04 - val_loss: 5.1206e-05\n",
            "\n",
            "Epoch 00008: val_loss improved from 0.00006 to 0.00005, saving model to C:/Users/wlsrm/data/tmp_checkpoint.h5\n",
            "Epoch 9/200\n",
            "358/358 [==============================] - 3s 8ms/step - loss: 2.0420e-04 - val_loss: 8.0536e-05\n",
            "\n",
            "Epoch 00009: val_loss did not improve from 0.00005\n",
            "Epoch 10/200\n",
            "358/358 [==============================] - 3s 8ms/step - loss: 3.1827e-04 - val_loss: 3.7799e-05\n",
            "\n",
            "Epoch 00010: val_loss improved from 0.00005 to 0.00004, saving model to C:/Users/wlsrm/data/tmp_checkpoint.h5\n",
            "Epoch 11/200\n",
            "358/358 [==============================] - 3s 8ms/step - loss: 8.7414e-05 - val_loss: 1.7170e-04\n",
            "\n",
            "Epoch 00011: val_loss did not improve from 0.00004\n",
            "Epoch 12/200\n",
            "358/358 [==============================] - 3s 8ms/step - loss: 1.4351e-04 - val_loss: 1.3078e-04\n",
            "\n",
            "Epoch 00012: val_loss did not improve from 0.00004\n",
            "Epoch 13/200\n",
            "358/358 [==============================] - 3s 8ms/step - loss: 1.6004e-04 - val_loss: 1.2232e-04\n",
            "\n",
            "Epoch 00013: val_loss did not improve from 0.00004\n",
            "Epoch 14/200\n",
            "358/358 [==============================] - 3s 8ms/step - loss: 4.2728e-04 - val_loss: 4.0151e-05\n",
            "\n",
            "Epoch 00014: val_loss did not improve from 0.00004\n",
            "Epoch 15/200\n",
            "358/358 [==============================] - 3s 8ms/step - loss: 8.7264e-05 - val_loss: 1.6934e-04\n",
            "\n",
            "Epoch 00015: val_loss did not improve from 0.00004\n"
          ],
          "name": "stdout"
        }
      ]
    },
    {
      "cell_type": "code",
      "metadata": {
        "id": "WvZL-Zu6KeCU"
      },
      "source": [
        "# model.load_weights(filename)\r\n",
        "\r\n",
        "pred = model.predict(test_feature)"
      ],
      "execution_count": 83,
      "outputs": []
    },
    {
      "cell_type": "code",
      "metadata": {
        "colab": {
          "base_uri": "https://localhost:8080/"
        },
        "id": "pdFu8qqm-HRO",
        "outputId": "64dc8e69-49ec-4a52-ae9f-27b1bdc93030"
      },
      "source": [
        "test_feature.shape"
      ],
      "execution_count": 87,
      "outputs": [
        {
          "output_type": "execute_result",
          "data": {
            "text/plain": [
              "(1774, 20, 3)"
            ]
          },
          "metadata": {
            "tags": []
          },
          "execution_count": 87
        }
      ]
    },
    {
      "cell_type": "code",
      "metadata": {
        "colab": {
          "base_uri": "https://localhost:8080/"
        },
        "id": "cEww9xmcLMYQ",
        "outputId": "e4a1fac6-69c2-4a09-dee5-62f23ffe34a3"
      },
      "source": [
        "pred"
      ],
      "execution_count": 84,
      "outputs": [
        {
          "output_type": "execute_result",
          "data": {
            "text/plain": [
              "array([[0.89988655],\n",
              "       [0.90057576],\n",
              "       [0.89905113],\n",
              "       ...,\n",
              "       [0.9319826 ],\n",
              "       [0.93309855],\n",
              "       [0.933354  ]], dtype=float32)"
            ]
          },
          "metadata": {
            "tags": []
          },
          "execution_count": 84
        }
      ]
    },
    {
      "cell_type": "code",
      "metadata": {
        "colab": {
          "base_uri": "https://localhost:8080/",
          "height": 537
        },
        "id": "2zuB8DbbLNw1",
        "outputId": "25a42ef2-0363-4dbf-be6d-e1fc3445913e"
      },
      "source": [
        "plt.figure(figsize=(12, 9))\r\n",
        "plt.plot(test_label, label='actual')\r\n",
        "plt.plot(pred, label='prediction')\r\n",
        "plt.legend()\r\n",
        "plt.show()"
      ],
      "execution_count": 85,
      "outputs": [
        {
          "output_type": "display_data",
          "data": {
            "image/png": "[encoded data removed]",
            "text/plain": [
              "<Figure size 864x648 with 1 Axes>"
            ]
          },
          "metadata": {
            "tags": [],
            "needs_background": "light"
          }
        }
      ]
    },
    {
      "cell_type": "code",
      "metadata": {
        "colab": {
          "base_uri": "https://localhost:8080/",
          "height": 399
        },
        "id": "yhAqNz8a_Ftl",
        "outputId": "c6266a9a-f5d6-4b12-9d2f-673fd9ff43d3"
      },
      "source": [
        "df2 = pd.read_csv('/content/drive/MyDrive/6-4cell6.csv', encoding='utf8')\r\n",
        "df2"
      ],
      "execution_count": 88,
      "outputs": [
        {
          "output_type": "execute_result",
          "data": {
            "text/html": [
              "<div>\n",
              "<style scoped>\n",
              "    .dataframe tbody tr th:only-of-type {\n",
              "        vertical-align: middle;\n",
              "    }\n",
              "\n",
              "    .dataframe tbody tr th {\n",
              "        vertical-align: top;\n",
              "    }\n",
              "\n",
              "    .dataframe thead th {\n",
              "        text-align: right;\n",
              "    }\n",
              "</style>\n",
              "<table border=\"1\" class=\"dataframe\">\n",
              "  <thead>\n",
              "    <tr style=\"text-align: right;\">\n",
              "      <th></th>\n",
              "      <th>Volt</th>\n",
              "      <th>Temp</th>\n",
              "      <th>Resistance</th>\n",
              "    </tr>\n",
              "  </thead>\n",
              "  <tbody>\n",
              "    <tr>\n",
              "      <th>0</th>\n",
              "      <td>2.24</td>\n",
              "      <td>-20</td>\n",
              "      <td>0.355</td>\n",
              "    </tr>\n",
              "    <tr>\n",
              "      <th>1</th>\n",
              "      <td>2.24</td>\n",
              "      <td>-20</td>\n",
              "      <td>0.352</td>\n",
              "    </tr>\n",
              "    <tr>\n",
              "      <th>2</th>\n",
              "      <td>2.24</td>\n",
              "      <td>-20</td>\n",
              "      <td>0.351</td>\n",
              "    </tr>\n",
              "    <tr>\n",
              "      <th>3</th>\n",
              "      <td>2.24</td>\n",
              "      <td>-20</td>\n",
              "      <td>0.353</td>\n",
              "    </tr>\n",
              "    <tr>\n",
              "      <th>4</th>\n",
              "      <td>2.24</td>\n",
              "      <td>-20</td>\n",
              "      <td>0.352</td>\n",
              "    </tr>\n",
              "    <tr>\n",
              "      <th>...</th>\n",
              "      <td>...</td>\n",
              "      <td>...</td>\n",
              "      <td>...</td>\n",
              "    </tr>\n",
              "    <tr>\n",
              "      <th>412</th>\n",
              "      <td>2.29</td>\n",
              "      <td>-20</td>\n",
              "      <td>0.796</td>\n",
              "    </tr>\n",
              "    <tr>\n",
              "      <th>413</th>\n",
              "      <td>2.29</td>\n",
              "      <td>-20</td>\n",
              "      <td>0.793</td>\n",
              "    </tr>\n",
              "    <tr>\n",
              "      <th>414</th>\n",
              "      <td>2.29</td>\n",
              "      <td>-20</td>\n",
              "      <td>0.795</td>\n",
              "    </tr>\n",
              "    <tr>\n",
              "      <th>415</th>\n",
              "      <td>2.29</td>\n",
              "      <td>-20</td>\n",
              "      <td>0.796</td>\n",
              "    </tr>\n",
              "    <tr>\n",
              "      <th>416</th>\n",
              "      <td>2.29</td>\n",
              "      <td>-20</td>\n",
              "      <td>0.797</td>\n",
              "    </tr>\n",
              "  </tbody>\n",
              "</table>\n",
              "<p>417 rows × 3 columns</p>\n",
              "</div>"
            ],
            "text/plain": [
              "     Volt  Temp  Resistance\n",
              "0    2.24   -20       0.355\n",
              "1    2.24   -20       0.352\n",
              "2    2.24   -20       0.351\n",
              "3    2.24   -20       0.353\n",
              "4    2.24   -20       0.352\n",
              "..    ...   ...         ...\n",
              "412  2.29   -20       0.796\n",
              "413  2.29   -20       0.793\n",
              "414  2.29   -20       0.795\n",
              "415  2.29   -20       0.796\n",
              "416  2.29   -20       0.797\n",
              "\n",
              "[417 rows x 3 columns]"
            ]
          },
          "metadata": {
            "tags": []
          },
          "execution_count": 88
        }
      ]
    },
    {
      "cell_type": "code",
      "metadata": {
        "colab": {
          "base_uri": "https://localhost:8080/",
          "height": 283
        },
        "id": "0WuXqnYc_L5B",
        "outputId": "1d73a5d4-9e61-4e98-c5c9-313a47fa6add"
      },
      "source": [
        "df2['Resistance'].plot()"
      ],
      "execution_count": 89,
      "outputs": [
        {
          "output_type": "execute_result",
          "data": {
            "text/plain": [
              "<matplotlib.axes._subplots.AxesSubplot at 0x7f921bb640d0>"
            ]
          },
          "metadata": {
            "tags": []
          },
          "execution_count": 89
        },
        {
          "output_type": "display_data",
          "data": {
            "image/png": "[encoded data removed]",
            "text/plain": [
              "<Figure size 432x288 with 1 Axes>"
            ]
          },
          "metadata": {
            "tags": [],
            "needs_background": "light"
          }
        }
      ]
    },
    {
      "cell_type": "code",
      "metadata": {
        "colab": {
          "base_uri": "https://localhost:8080/"
        },
        "id": "59RKf_T1_P-o",
        "outputId": "2f4860ec-e8bb-4227-b463-abb610bd1326"
      },
      "source": [
        "df_scaled2 = scaler.fit_transform(df2[scale_cols])\r\n",
        "\r\n",
        "df_scaled2 = pd.DataFrame(df_scaled2)\r\n",
        "df_scaled2.columns = scale_cols\r\n",
        "\r\n",
        "print(df_scaled2)"
      ],
      "execution_count": 90,
      "outputs": [
        {
          "output_type": "stream",
          "text": [
            "         Volt  Temp  Resistance\n",
            "0    0.166667   0.0    0.008909\n",
            "1    0.166667   0.0    0.002227\n",
            "2    0.166667   0.0    0.000000\n",
            "3    0.166667   0.0    0.004454\n",
            "4    0.166667   0.0    0.002227\n",
            "..        ...   ...         ...\n",
            "412  1.000000   0.0    0.991091\n",
            "413  1.000000   0.0    0.984410\n",
            "414  1.000000   0.0    0.988864\n",
            "415  1.000000   0.0    0.991091\n",
            "416  1.000000   0.0    0.993318\n",
            "\n",
            "[417 rows x 3 columns]\n"
          ],
          "name": "stdout"
        }
      ]
    },
    {
      "cell_type": "code",
      "metadata": {
        "id": "0hU76qhR_Xp_"
      },
      "source": [
        "test = df_scaled2"
      ],
      "execution_count": 94,
      "outputs": []
    },
    {
      "cell_type": "code",
      "metadata": {
        "colab": {
          "base_uri": "https://localhost:8080/",
          "height": 399
        },
        "id": "ZayGqz9q_bnZ",
        "outputId": "82addf42-08df-453f-e215-a2925f5deaf9"
      },
      "source": [
        "test"
      ],
      "execution_count": 96,
      "outputs": [
        {
          "output_type": "execute_result",
          "data": {
            "text/html": [
              "<div>\n",
              "<style scoped>\n",
              "    .dataframe tbody tr th:only-of-type {\n",
              "        vertical-align: middle;\n",
              "    }\n",
              "\n",
              "    .dataframe tbody tr th {\n",
              "        vertical-align: top;\n",
              "    }\n",
              "\n",
              "    .dataframe thead th {\n",
              "        text-align: right;\n",
              "    }\n",
              "</style>\n",
              "<table border=\"1\" class=\"dataframe\">\n",
              "  <thead>\n",
              "    <tr style=\"text-align: right;\">\n",
              "      <th></th>\n",
              "      <th>Volt</th>\n",
              "      <th>Temp</th>\n",
              "      <th>Resistance</th>\n",
              "    </tr>\n",
              "  </thead>\n",
              "  <tbody>\n",
              "    <tr>\n",
              "      <th>0</th>\n",
              "      <td>0.166667</td>\n",
              "      <td>0.0</td>\n",
              "      <td>0.008909</td>\n",
              "    </tr>\n",
              "    <tr>\n",
              "      <th>1</th>\n",
              "      <td>0.166667</td>\n",
              "      <td>0.0</td>\n",
              "      <td>0.002227</td>\n",
              "    </tr>\n",
              "    <tr>\n",
              "      <th>2</th>\n",
              "      <td>0.166667</td>\n",
              "      <td>0.0</td>\n",
              "      <td>0.000000</td>\n",
              "    </tr>\n",
              "    <tr>\n",
              "      <th>3</th>\n",
              "      <td>0.166667</td>\n",
              "      <td>0.0</td>\n",
              "      <td>0.004454</td>\n",
              "    </tr>\n",
              "    <tr>\n",
              "      <th>4</th>\n",
              "      <td>0.166667</td>\n",
              "      <td>0.0</td>\n",
              "      <td>0.002227</td>\n",
              "    </tr>\n",
              "    <tr>\n",
              "      <th>...</th>\n",
              "      <td>...</td>\n",
              "      <td>...</td>\n",
              "      <td>...</td>\n",
              "    </tr>\n",
              "    <tr>\n",
              "      <th>412</th>\n",
              "      <td>1.000000</td>\n",
              "      <td>0.0</td>\n",
              "      <td>0.991091</td>\n",
              "    </tr>\n",
              "    <tr>\n",
              "      <th>413</th>\n",
              "      <td>1.000000</td>\n",
              "      <td>0.0</td>\n",
              "      <td>0.984410</td>\n",
              "    </tr>\n",
              "    <tr>\n",
              "      <th>414</th>\n",
              "      <td>1.000000</td>\n",
              "      <td>0.0</td>\n",
              "      <td>0.988864</td>\n",
              "    </tr>\n",
              "    <tr>\n",
              "      <th>415</th>\n",
              "      <td>1.000000</td>\n",
              "      <td>0.0</td>\n",
              "      <td>0.991091</td>\n",
              "    </tr>\n",
              "    <tr>\n",
              "      <th>416</th>\n",
              "      <td>1.000000</td>\n",
              "      <td>0.0</td>\n",
              "      <td>0.993318</td>\n",
              "    </tr>\n",
              "  </tbody>\n",
              "</table>\n",
              "<p>417 rows × 3 columns</p>\n",
              "</div>"
            ],
            "text/plain": [
              "         Volt  Temp  Resistance\n",
              "0    0.166667   0.0    0.008909\n",
              "1    0.166667   0.0    0.002227\n",
              "2    0.166667   0.0    0.000000\n",
              "3    0.166667   0.0    0.004454\n",
              "4    0.166667   0.0    0.002227\n",
              "..        ...   ...         ...\n",
              "412  1.000000   0.0    0.991091\n",
              "413  1.000000   0.0    0.984410\n",
              "414  1.000000   0.0    0.988864\n",
              "415  1.000000   0.0    0.991091\n",
              "416  1.000000   0.0    0.993318\n",
              "\n",
              "[417 rows x 3 columns]"
            ]
          },
          "metadata": {
            "tags": []
          },
          "execution_count": 96
        }
      ]
    },
    {
      "cell_type": "code",
      "metadata": {
        "id": "m7zM5pmx_eoB"
      },
      "source": [
        "test_feature = test\r\n",
        "test_label = test[label_cols]"
      ],
      "execution_count": 97,
      "outputs": []
    },
    {
      "cell_type": "code",
      "metadata": {
        "colab": {
          "base_uri": "https://localhost:8080/"
        },
        "id": "CgdVeUBM_tKa",
        "outputId": "1dd01dba-87aa-40bd-8716-709d57830d68"
      },
      "source": [
        "test_feature, test_label = make_dataset(test_feature, test_label, 20)\r\n",
        "test_feature.shape, test_label.shape"
      ],
      "execution_count": 98,
      "outputs": [
        {
          "output_type": "execute_result",
          "data": {
            "text/plain": [
              "((397, 20, 3), (397, 1))"
            ]
          },
          "metadata": {
            "tags": []
          },
          "execution_count": 98
        }
      ]
    },
    {
      "cell_type": "code",
      "metadata": {
        "id": "74Glh3rm_xBR"
      },
      "source": [
        "pred = model.predict(test_feature)"
      ],
      "execution_count": 99,
      "outputs": []
    },
    {
      "cell_type": "code",
      "metadata": {
        "colab": {
          "base_uri": "https://localhost:8080/"
        },
        "id": "oTp9PfC-_znF",
        "outputId": "470aa356-81dc-481a-887d-ba776a1a90fe"
      },
      "source": [
        "pred"
      ],
      "execution_count": 100,
      "outputs": [
        {
          "output_type": "execute_result",
          "data": {
            "text/plain": [
              "array([[0.13247663],\n",
              "       [0.13215828],\n",
              "       [0.13280743],\n",
              "       [0.13323396],\n",
              "       [0.13518584],\n",
              "       [0.13643372],\n",
              "       [0.13790557],\n",
              "       [0.13821754],\n",
              "       [0.13907814],\n",
              "       [0.1389811 ],\n",
              "       [0.13839802],\n",
              "       [0.1380067 ],\n",
              "       [0.13829145],\n",
              "       [0.1397519 ],\n",
              "       [0.14004302],\n",
              "       [0.14024618],\n",
              "       [0.13927472],\n",
              "       [0.13911295],\n",
              "       [0.13848631],\n",
              "       [0.13806358],\n",
              "       [0.13960037],\n",
              "       [0.14056742],\n",
              "       [0.1424945 ],\n",
              "       [0.14373313],\n",
              "       [0.14454374],\n",
              "       [0.14506549],\n",
              "       [0.14539695],\n",
              "       [0.1527029 ],\n",
              "       [0.15670606],\n",
              "       [0.1593146 ],\n",
              "       [0.16790146],\n",
              "       [0.16681266],\n",
              "       [0.16492265],\n",
              "       [0.1630862 ],\n",
              "       [0.16260937],\n",
              "       [0.16170937],\n",
              "       [0.17022467],\n",
              "       [0.1749222 ],\n",
              "       [0.17930639],\n",
              "       [0.18278602],\n",
              "       [0.1856868 ],\n",
              "       [0.18820173],\n",
              "       [0.18852064],\n",
              "       [0.19005203],\n",
              "       [0.19229725],\n",
              "       [0.19434962],\n",
              "       [0.1956434 ],\n",
              "       [0.19647422],\n",
              "       [0.19571269],\n",
              "       [0.19653943],\n",
              "       [0.19584948],\n",
              "       [0.19661567],\n",
              "       [0.19706425],\n",
              "       [0.19798511],\n",
              "       [0.19984427],\n",
              "       [0.20164296],\n",
              "       [0.20407781],\n",
              "       [0.20560029],\n",
              "       [0.20592111],\n",
              "       [0.20613253],\n",
              "       [0.20625857],\n",
              "       [0.20762113],\n",
              "       [0.2097488 ],\n",
              "       [0.21107447],\n",
              "       [0.21256158],\n",
              "       [0.21348947],\n",
              "       [0.21407235],\n",
              "       [0.2137863 ],\n",
              "       [0.21489939],\n",
              "       [0.21492556],\n",
              "       [0.21623942],\n",
              "       [0.21704325],\n",
              "       [0.21884245],\n",
              "       [0.21931115],\n",
              "       [0.21961728],\n",
              "       [0.2198061 ],\n",
              "       [0.22056577],\n",
              "       [0.22102898],\n",
              "       [0.2226102 ],\n",
              "       [0.22423264],\n",
              "       [0.22180387],\n",
              "       [0.22038087],\n",
              "       [0.22153848],\n",
              "       [0.22298631],\n",
              "       [0.2246212 ],\n",
              "       [0.22698972],\n",
              "       [0.22905704],\n",
              "       [0.23292664],\n",
              "       [0.23647237],\n",
              "       [0.23907515],\n",
              "       [0.24170864],\n",
              "       [0.24359778],\n",
              "       [0.24567217],\n",
              "       [0.24851021],\n",
              "       [0.2511029 ],\n",
              "       [0.25283292],\n",
              "       [0.25400135],\n",
              "       [0.256168  ],\n",
              "       [0.2589214 ],\n",
              "       [0.26063228],\n",
              "       [0.26228002],\n",
              "       [0.2639899 ],\n",
              "       [0.26433825],\n",
              "       [0.26665828],\n",
              "       [0.26804584],\n",
              "       [0.2731011 ],\n",
              "       [0.27685425],\n",
              "       [0.2784911 ],\n",
              "       [0.28022775],\n",
              "       [0.28268042],\n",
              "       [0.2834661 ],\n",
              "       [0.28605494],\n",
              "       [0.28690574],\n",
              "       [0.28953743],\n",
              "       [0.29181394],\n",
              "       [0.29320577],\n",
              "       [0.29475912],\n",
              "       [0.29639614],\n",
              "       [0.29668882],\n",
              "       [0.2982679 ],\n",
              "       [0.29990134],\n",
              "       [0.3015894 ],\n",
              "       [0.30960807],\n",
              "       [0.31514272],\n",
              "       [0.31928566],\n",
              "       [0.32325098],\n",
              "       [0.32707325],\n",
              "       [0.3321999 ],\n",
              "       [0.3353018 ],\n",
              "       [0.337906  ],\n",
              "       [0.34087276],\n",
              "       [0.34335157],\n",
              "       [0.34553656],\n",
              "       [0.34754324],\n",
              "       [0.34803888],\n",
              "       [0.34454712],\n",
              "       [0.34216133],\n",
              "       [0.34845296],\n",
              "       [0.34951457],\n",
              "       [0.34985477],\n",
              "       [0.35235092],\n",
              "       [0.35685807],\n",
              "       [0.36033052],\n",
              "       [0.36534467],\n",
              "       [0.3696803 ],\n",
              "       [0.3743043 ],\n",
              "       [0.37825838],\n",
              "       [0.38175923],\n",
              "       [0.3834159 ],\n",
              "       [0.38692304],\n",
              "       [0.38994345],\n",
              "       [0.39267412],\n",
              "       [0.39444262],\n",
              "       [0.3978534 ],\n",
              "       [0.40068075],\n",
              "       [0.4037654 ],\n",
              "       [0.40486518],\n",
              "       [0.4072346 ],\n",
              "       [0.40922162],\n",
              "       [0.41189665],\n",
              "       [0.41497594],\n",
              "       [0.41906005],\n",
              "       [0.42223015],\n",
              "       [0.4256377 ],\n",
              "       [0.42916313],\n",
              "       [0.43200678],\n",
              "       [0.43595558],\n",
              "       [0.43977877],\n",
              "       [0.44760752],\n",
              "       [0.4539304 ],\n",
              "       [0.45334628],\n",
              "       [0.45143548],\n",
              "       [0.45928124],\n",
              "       [0.46632776],\n",
              "       [0.47231564],\n",
              "       [0.4824259 ],\n",
              "       [0.49333933],\n",
              "       [0.5046501 ],\n",
              "       [0.51223344],\n",
              "       [0.5114103 ],\n",
              "       [0.5112615 ],\n",
              "       [0.5146585 ],\n",
              "       [0.5201608 ],\n",
              "       [0.5237098 ],\n",
              "       [0.5284185 ],\n",
              "       [0.5336316 ],\n",
              "       [0.5390211 ],\n",
              "       [0.5472202 ],\n",
              "       [0.5513617 ],\n",
              "       [0.5522465 ],\n",
              "       [0.553775  ],\n",
              "       [0.55664223],\n",
              "       [0.55947   ],\n",
              "       [0.5630401 ],\n",
              "       [0.56543773],\n",
              "       [0.5677    ],\n",
              "       [0.57179946],\n",
              "       [0.5751279 ],\n",
              "       [0.5780239 ],\n",
              "       [0.5795706 ],\n",
              "       [0.58131987],\n",
              "       [0.5839544 ],\n",
              "       [0.5878976 ],\n",
              "       [0.5925895 ],\n",
              "       [0.5969512 ],\n",
              "       [0.60111594],\n",
              "       [0.604321  ],\n",
              "       [0.6072217 ],\n",
              "       [0.6086839 ],\n",
              "       [0.6102922 ],\n",
              "       [0.611963  ],\n",
              "       [0.6144797 ],\n",
              "       [0.616677  ],\n",
              "       [0.61950827],\n",
              "       [0.622699  ],\n",
              "       [0.62530303],\n",
              "       [0.62918496],\n",
              "       [0.63298005],\n",
              "       [0.6367397 ],\n",
              "       [0.6388702 ],\n",
              "       [0.6408679 ],\n",
              "       [0.6435674 ],\n",
              "       [0.6466663 ],\n",
              "       [0.64920616],\n",
              "       [0.6514306 ],\n",
              "       [0.65107065],\n",
              "       [0.653219  ],\n",
              "       [0.65596735],\n",
              "       [0.6582957 ],\n",
              "       [0.66039574],\n",
              "       [0.66315913],\n",
              "       [0.6655043 ],\n",
              "       [0.6652202 ],\n",
              "       [0.6674196 ],\n",
              "       [0.6694112 ],\n",
              "       [0.6745073 ],\n",
              "       [0.67898816],\n",
              "       [0.70771486],\n",
              "       [0.73048526],\n",
              "       [0.7431904 ],\n",
              "       [0.7497383 ],\n",
              "       [0.7519233 ],\n",
              "       [0.752774  ],\n",
              "       [0.75160223],\n",
              "       [0.75117576],\n",
              "       [0.75252914],\n",
              "       [0.75183207],\n",
              "       [0.7518291 ],\n",
              "       [0.7485959 ],\n",
              "       [0.74712855],\n",
              "       [0.743053  ],\n",
              "       [0.74414593],\n",
              "       [0.73955643],\n",
              "       [0.7428643 ],\n",
              "       [0.7433799 ],\n",
              "       [0.7419221 ],\n",
              "       [0.74196994],\n",
              "       [0.73976547],\n",
              "       [0.73713064],\n",
              "       [0.738121  ],\n",
              "       [0.7343101 ],\n",
              "       [0.73917866],\n",
              "       [0.74043065],\n",
              "       [0.74462074],\n",
              "       [0.7496341 ],\n",
              "       [0.75054675],\n",
              "       [0.75243026],\n",
              "       [0.75685626],\n",
              "       [0.75377524],\n",
              "       [0.7543928 ],\n",
              "       [0.7545499 ],\n",
              "       [0.7538013 ],\n",
              "       [0.75857395],\n",
              "       [0.7560248 ],\n",
              "       [0.7567794 ],\n",
              "       [0.756502  ],\n",
              "       [0.75553113],\n",
              "       [0.7602853 ],\n",
              "       [0.75808567],\n",
              "       [0.75766385],\n",
              "       [0.75730956],\n",
              "       [0.75668436],\n",
              "       [0.76109886],\n",
              "       [0.7587232 ],\n",
              "       [0.7591418 ],\n",
              "       [0.75938255],\n",
              "       [0.75952876],\n",
              "       [0.7601194 ],\n",
              "       [0.7590527 ],\n",
              "       [0.76421726],\n",
              "       [0.7604846 ],\n",
              "       [0.7603063 ],\n",
              "       [0.7580922 ],\n",
              "       [0.75703007],\n",
              "       [0.7578363 ],\n",
              "       [0.75668424],\n",
              "       [0.7654788 ],\n",
              "       [0.7699424 ],\n",
              "       [0.7713755 ],\n",
              "       [0.77325445],\n",
              "       [0.77469   ],\n",
              "       [0.7753772 ],\n",
              "       [0.7759953 ],\n",
              "       [0.78161615],\n",
              "       [0.7805492 ],\n",
              "       [0.78268844],\n",
              "       [0.7821545 ],\n",
              "       [0.7870763 ],\n",
              "       [0.7885719 ],\n",
              "       [0.79333234],\n",
              "       [0.7994825 ],\n",
              "       [0.80526835],\n",
              "       [0.8098675 ],\n",
              "       [0.8141626 ],\n",
              "       [0.8161492 ],\n",
              "       [0.8178759 ],\n",
              "       [0.81940335],\n",
              "       [0.820696  ],\n",
              "       [0.8224605 ],\n",
              "       [0.82510555],\n",
              "       [0.82821435],\n",
              "       [0.8301679 ],\n",
              "       [0.83148456],\n",
              "       [0.83279943],\n",
              "       [0.8346122 ],\n",
              "       [0.83705515],\n",
              "       [0.8385397 ],\n",
              "       [0.83850807],\n",
              "       [0.8377736 ],\n",
              "       [0.8385739 ],\n",
              "       [0.8390262 ],\n",
              "       [0.83862025],\n",
              "       [0.83962554],\n",
              "       [0.8414939 ],\n",
              "       [0.8425762 ],\n",
              "       [0.8444615 ],\n",
              "       [0.84554386],\n",
              "       [0.8461313 ],\n",
              "       [0.84771305],\n",
              "       [0.8486114 ],\n",
              "       [0.8448915 ],\n",
              "       [0.84926635],\n",
              "       [0.84735304],\n",
              "       [0.84792095],\n",
              "       [0.8426231 ],\n",
              "       [0.84034556],\n",
              "       [0.8419473 ],\n",
              "       [0.8410388 ],\n",
              "       [0.8361345 ],\n",
              "       [0.84064484],\n",
              "       [0.83674335],\n",
              "       [0.8342206 ],\n",
              "       [0.83336633],\n",
              "       [0.83205754],\n",
              "       [0.8320147 ],\n",
              "       [0.829987  ],\n",
              "       [0.835239  ],\n",
              "       [0.83250874],\n",
              "       [0.839492  ],\n",
              "       [0.8435279 ],\n",
              "       [0.8479088 ],\n",
              "       [0.85101086],\n",
              "       [0.8532857 ],\n",
              "       [0.8594248 ],\n",
              "       [0.8620798 ],\n",
              "       [0.8641723 ],\n",
              "       [0.87137955],\n",
              "       [0.8815411 ],\n",
              "       [0.8724801 ],\n",
              "       [0.88379407],\n",
              "       [0.89299303],\n",
              "       [0.8979591 ],\n",
              "       [0.9055132 ],\n",
              "       [0.9118798 ],\n",
              "       [0.919871  ],\n",
              "       [0.9258451 ],\n",
              "       [0.932839  ],\n",
              "       [0.9387761 ],\n",
              "       [0.94607854],\n",
              "       [0.95236236],\n",
              "       [0.9579281 ],\n",
              "       [0.96116656],\n",
              "       [0.9629538 ],\n",
              "       [0.96819633],\n",
              "       [0.9734045 ],\n",
              "       [0.977614  ],\n",
              "       [0.9872128 ],\n",
              "       [0.98972124],\n",
              "       [0.99045694],\n",
              "       [0.98954684],\n",
              "       [0.99043083],\n",
              "       [0.99078983],\n",
              "       [0.987344  ],\n",
              "       [0.98890513],\n",
              "       [0.98700076],\n",
              "       [0.98767436],\n",
              "       [0.98887044]], dtype=float32)"
            ]
          },
          "metadata": {
            "tags": []
          },
          "execution_count": 100
        }
      ]
    },
    {
      "cell_type": "code",
      "metadata": {
        "colab": {
          "base_uri": "https://localhost:8080/",
          "height": 537
        },
        "id": "Wv_GdlZo_1UN",
        "outputId": "d9bb16c4-b367-447a-f1a3-02e51d466184"
      },
      "source": [
        "plt.figure(figsize=(12, 9))\r\n",
        "plt.plot(test_label, label='actual')\r\n",
        "plt.plot(pred, label='prediction')\r\n",
        "plt.legend()\r\n",
        "plt.show()"
      ],
      "execution_count": 101,
      "outputs": [
        {
          "output_type": "display_data",
          "data": {
            "image/png": "[encoded data removed]",
            "text/plain": [
              "<Figure size 864x648 with 1 Axes>"
            ]
          },
          "metadata": {
            "tags": [],
            "needs_background": "light"
          }
        }
      ]
    }
  ]
}