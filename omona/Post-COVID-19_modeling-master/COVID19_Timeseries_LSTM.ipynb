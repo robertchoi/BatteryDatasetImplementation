{
 "cells": [
  {
   "cell_type": "markdown",
   "metadata": {},
   "source": [
    "# COVID-19 대한민국 해외 유입 확진자 예측 모델 : LSTM"
   ]
  },
  {
   "cell_type": "code",
   "execution_count": 1,
   "metadata": {
    "colab": {
     "base_uri": "https://localhost:8080/",
     "height": 35
    },
    "colab_type": "code",
    "id": "UCsQrKfDxdsL",
    "outputId": "e705daae-a726-48a2-bbb3-539bcd92c75e"
   },
   "outputs": [],
   "source": [
    "import torch\n",
    "\n",
    "import os\n",
    "import numpy as np\n",
    "import pandas as pd\n",
    "from tqdm import tqdm\n",
    "import seaborn as sns\n",
    "from pylab import rcParams\n",
    "import matplotlib.pyplot as plt\n",
    "from matplotlib import rc\n",
    "from sklearn.preprocessing import MinMaxScaler, StandardScaler\n",
    "from sklearn.metrics import mean_squared_error\n",
    "from pandas.plotting import register_matplotlib_converters\n",
    "from torch import nn, optim\n",
    "\n",
    "%matplotlib inline\n",
    "%config InlineBackend.figure_format='retina'\n",
    "\n",
    "sns.set(style='whitegrid', palette='muted', font_scale=1.2)\n",
    "\n",
    "HAPPY_COLORS_PALETTE = [\"#01BEFE\", \"#FFDD00\", \"#FF7D00\", \"#FF006D\", \"#93D30C\", \"#8F00FF\"]\n",
    "\n",
    "sns.set_palette(sns.color_palette(HAPPY_COLORS_PALETTE))\n",
    "\n",
    "rcParams['figure.figsize'] = 14, 10\n",
    "register_matplotlib_converters()\n",
    "\n",
    "RANDOM_SEED = 42\n",
    "np.random.seed(RANDOM_SEED)\n",
    "torch.manual_seed(RANDOM_SEED)\n",
    "\n",
    "import warnings\n",
    "warnings.filterwarnings('ignore')\n",
    "\n",
    "from matplotlib import font_manager, rc\n",
    "font_name = font_manager.FontProperties(fname=\"c:/Windows/Fonts/malgun.ttf\").get_name()\n",
    "rc('font', family=font_name)\n"
   ]
  },
  {
   "cell_type": "markdown",
   "metadata": {
    "colab_type": "text",
    "id": "HVemqBmdxsAF"
   },
   "source": [
    "# 1. Load Dataset"
   ]
  },
  {
   "cell_type": "code",
   "execution_count": 2,
   "metadata": {
    "colab": {},
    "colab_type": "code",
    "id": "O5uBqe3VFeO2"
   },
   "outputs": [],
   "source": [
    "df = pd.read_csv('./data/final_0507.csv')\n",
    "# 한국 일일확진자 변수 제거\n",
    "df.drop(['Unnamed: 0'], axis=1, inplace=True)"
   ]
  },
  {
   "cell_type": "markdown",
   "metadata": {},
   "source": [
    "## lag 변수 생성"
   ]
  },
  {
   "cell_type": "code",
   "execution_count": 3,
   "metadata": {},
   "outputs": [],
   "source": [
    "df.Date = pd.to_datetime(df.Date)\n",
    "#df['dayofweek'] = df['Date'].dt.dayofweek\n",
    "df.set_index('Date', inplace=True)"
   ]
  },
  {
   "cell_type": "code",
   "execution_count": 4,
   "metadata": {},
   "outputs": [],
   "source": [
    "lag_col= list(df.columns)"
   ]
  },
  {
   "cell_type": "code",
   "execution_count": 5,
   "metadata": {},
   "outputs": [],
   "source": [
    "lag_amount = 3\n",
    "\n",
    "for col in lag_col:\n",
    "    for i in range(lag_amount):\n",
    "        df['{0}_lag{1}'.format(col,i+1)] = df['{}'.format(col)].shift(i+1)\n",
    "    \n",
    "df.dropna(inplace=True)"
   ]
  },
  {
   "cell_type": "code",
   "execution_count": 6,
   "metadata": {},
   "outputs": [
    {
     "data": {
      "text/html": [
       "<div>\n",
       "<style scoped>\n",
       "    .dataframe tbody tr th:only-of-type {\n",
       "        vertical-align: middle;\n",
       "    }\n",
       "\n",
       "    .dataframe tbody tr th {\n",
       "        vertical-align: top;\n",
       "    }\n",
       "\n",
       "    .dataframe thead th {\n",
       "        text-align: right;\n",
       "    }\n",
       "</style>\n",
       "<table border=\"1\" class=\"dataframe\">\n",
       "  <thead>\n",
       "    <tr style=\"text-align: right;\">\n",
       "      <th></th>\n",
       "      <th>MM_conf</th>\n",
       "      <th>LA_conf</th>\n",
       "      <th>NL_conf</th>\n",
       "      <th>PH_conf</th>\n",
       "      <th>RU_conf</th>\n",
       "      <th>KR</th>\n",
       "      <th>TW_conf</th>\n",
       "      <th>US_conf</th>\n",
       "      <th>AE_conf</th>\n",
       "      <th>GB_conf</th>\n",
       "      <th>...</th>\n",
       "      <th>news_lag3</th>\n",
       "      <th>covid_tr_lag1</th>\n",
       "      <th>covid_tr_lag2</th>\n",
       "      <th>covid_tr_lag3</th>\n",
       "      <th>coro_tr_lag1</th>\n",
       "      <th>coro_tr_lag2</th>\n",
       "      <th>coro_tr_lag3</th>\n",
       "      <th>target_lag1</th>\n",
       "      <th>target_lag2</th>\n",
       "      <th>target_lag3</th>\n",
       "    </tr>\n",
       "    <tr>\n",
       "      <th>Date</th>\n",
       "      <th></th>\n",
       "      <th></th>\n",
       "      <th></th>\n",
       "      <th></th>\n",
       "      <th></th>\n",
       "      <th></th>\n",
       "      <th></th>\n",
       "      <th></th>\n",
       "      <th></th>\n",
       "      <th></th>\n",
       "      <th></th>\n",
       "      <th></th>\n",
       "      <th></th>\n",
       "      <th></th>\n",
       "      <th></th>\n",
       "      <th></th>\n",
       "      <th></th>\n",
       "      <th></th>\n",
       "      <th></th>\n",
       "      <th></th>\n",
       "      <th></th>\n",
       "    </tr>\n",
       "  </thead>\n",
       "  <tbody>\n",
       "    <tr>\n",
       "      <th>2020-05-01</th>\n",
       "      <td>0</td>\n",
       "      <td>0</td>\n",
       "      <td>476</td>\n",
       "      <td>284</td>\n",
       "      <td>7933</td>\n",
       "      <td>6</td>\n",
       "      <td>0</td>\n",
       "      <td>34037</td>\n",
       "      <td>557</td>\n",
       "      <td>6204</td>\n",
       "      <td>...</td>\n",
       "      <td>1763.0</td>\n",
       "      <td>43.0</td>\n",
       "      <td>63.0</td>\n",
       "      <td>59.0</td>\n",
       "      <td>18.0</td>\n",
       "      <td>18.0</td>\n",
       "      <td>18.0</td>\n",
       "      <td>4.0</td>\n",
       "      <td>5.0</td>\n",
       "      <td>12.0</td>\n",
       "    </tr>\n",
       "    <tr>\n",
       "      <th>2020-05-02</th>\n",
       "      <td>0</td>\n",
       "      <td>0</td>\n",
       "      <td>445</td>\n",
       "      <td>156</td>\n",
       "      <td>9623</td>\n",
       "      <td>13</td>\n",
       "      <td>3</td>\n",
       "      <td>29078</td>\n",
       "      <td>561</td>\n",
       "      <td>4815</td>\n",
       "      <td>...</td>\n",
       "      <td>1117.0</td>\n",
       "      <td>48.0</td>\n",
       "      <td>43.0</td>\n",
       "      <td>63.0</td>\n",
       "      <td>18.0</td>\n",
       "      <td>18.0</td>\n",
       "      <td>18.0</td>\n",
       "      <td>8.0</td>\n",
       "      <td>4.0</td>\n",
       "      <td>5.0</td>\n",
       "    </tr>\n",
       "    <tr>\n",
       "      <th>2020-05-03</th>\n",
       "      <td>4</td>\n",
       "      <td>0</td>\n",
       "      <td>335</td>\n",
       "      <td>295</td>\n",
       "      <td>10633</td>\n",
       "      <td>8</td>\n",
       "      <td>4</td>\n",
       "      <td>25501</td>\n",
       "      <td>564</td>\n",
       "      <td>4342</td>\n",
       "      <td>...</td>\n",
       "      <td>1266.0</td>\n",
       "      <td>43.0</td>\n",
       "      <td>48.0</td>\n",
       "      <td>43.0</td>\n",
       "      <td>18.0</td>\n",
       "      <td>18.0</td>\n",
       "      <td>18.0</td>\n",
       "      <td>8.0</td>\n",
       "      <td>8.0</td>\n",
       "      <td>4.0</td>\n",
       "    </tr>\n",
       "    <tr>\n",
       "      <th>2020-05-04</th>\n",
       "      <td>6</td>\n",
       "      <td>0</td>\n",
       "      <td>199</td>\n",
       "      <td>262</td>\n",
       "      <td>10581</td>\n",
       "      <td>3</td>\n",
       "      <td>2</td>\n",
       "      <td>22335</td>\n",
       "      <td>567</td>\n",
       "      <td>3990</td>\n",
       "      <td>...</td>\n",
       "      <td>1104.0</td>\n",
       "      <td>55.0</td>\n",
       "      <td>43.0</td>\n",
       "      <td>48.0</td>\n",
       "      <td>18.0</td>\n",
       "      <td>18.0</td>\n",
       "      <td>18.0</td>\n",
       "      <td>10.0</td>\n",
       "      <td>8.0</td>\n",
       "      <td>8.0</td>\n",
       "    </tr>\n",
       "    <tr>\n",
       "      <th>2020-05-05</th>\n",
       "      <td>0</td>\n",
       "      <td>0</td>\n",
       "      <td>318</td>\n",
       "      <td>199</td>\n",
       "      <td>10102</td>\n",
       "      <td>2</td>\n",
       "      <td>0</td>\n",
       "      <td>23976</td>\n",
       "      <td>462</td>\n",
       "      <td>4411</td>\n",
       "      <td>...</td>\n",
       "      <td>732.0</td>\n",
       "      <td>30.0</td>\n",
       "      <td>55.0</td>\n",
       "      <td>43.0</td>\n",
       "      <td>17.0</td>\n",
       "      <td>18.0</td>\n",
       "      <td>18.0</td>\n",
       "      <td>8.0</td>\n",
       "      <td>10.0</td>\n",
       "      <td>8.0</td>\n",
       "    </tr>\n",
       "  </tbody>\n",
       "</table>\n",
       "<p>5 rows × 332 columns</p>\n",
       "</div>"
      ],
      "text/plain": [
       "            MM_conf  LA_conf  NL_conf  PH_conf  RU_conf  KR  TW_conf  US_conf  \\\n",
       "Date                                                                            \n",
       "2020-05-01        0        0      476      284     7933   6        0    34037   \n",
       "2020-05-02        0        0      445      156     9623  13        3    29078   \n",
       "2020-05-03        4        0      335      295    10633   8        4    25501   \n",
       "2020-05-04        6        0      199      262    10581   3        2    22335   \n",
       "2020-05-05        0        0      318      199    10102   2        0    23976   \n",
       "\n",
       "            AE_conf  GB_conf  ...  news_lag3  covid_tr_lag1  covid_tr_lag2  \\\n",
       "Date                          ...                                            \n",
       "2020-05-01      557     6204  ...     1763.0           43.0           63.0   \n",
       "2020-05-02      561     4815  ...     1117.0           48.0           43.0   \n",
       "2020-05-03      564     4342  ...     1266.0           43.0           48.0   \n",
       "2020-05-04      567     3990  ...     1104.0           55.0           43.0   \n",
       "2020-05-05      462     4411  ...      732.0           30.0           55.0   \n",
       "\n",
       "            covid_tr_lag3  coro_tr_lag1  coro_tr_lag2  coro_tr_lag3  \\\n",
       "Date                                                                  \n",
       "2020-05-01           59.0          18.0          18.0          18.0   \n",
       "2020-05-02           63.0          18.0          18.0          18.0   \n",
       "2020-05-03           43.0          18.0          18.0          18.0   \n",
       "2020-05-04           48.0          18.0          18.0          18.0   \n",
       "2020-05-05           43.0          17.0          18.0          18.0   \n",
       "\n",
       "            target_lag1  target_lag2  target_lag3  \n",
       "Date                                               \n",
       "2020-05-01          4.0          5.0         12.0  \n",
       "2020-05-02          8.0          4.0          5.0  \n",
       "2020-05-03          8.0          8.0          4.0  \n",
       "2020-05-04         10.0          8.0          8.0  \n",
       "2020-05-05          8.0         10.0          8.0  \n",
       "\n",
       "[5 rows x 332 columns]"
      ]
     },
     "execution_count": 6,
     "metadata": {},
     "output_type": "execute_result"
    }
   ],
   "source": [
    "df.tail()"
   ]
  },
  {
   "cell_type": "markdown",
   "metadata": {
    "colab_type": "text",
    "id": "BuOyxbF4x9lN"
   },
   "source": [
    "# Data Exploration"
   ]
  },
  {
   "cell_type": "code",
   "execution_count": 7,
   "metadata": {
    "colab": {
     "base_uri": "https://localhost:8080/",
     "height": 305
    },
    "colab_type": "code",
    "id": "uwmrhvJvy9hM",
    "outputId": "1afb84b0-98ee-49ca-f068-82226680a724"
   },
   "outputs": [
    {
     "data": {
      "text/plain": [
       "0"
      ]
     },
     "execution_count": 7,
     "metadata": {},
     "output_type": "execute_result"
    }
   ],
   "source": [
    "# 결측치 확인\n",
    "df.isnull().sum().sum()"
   ]
  },
  {
   "cell_type": "code",
   "execution_count": 8,
   "metadata": {},
   "outputs": [
    {
     "name": "stdout",
     "output_type": "stream",
     "text": [
      "전체 데이터 shape: (102, 332)\n",
      "target feature shape: (102,)\n"
     ]
    }
   ],
   "source": [
    "# 데이터 프레임 형태 확인\n",
    "print(\"전체 데이터 shape: {}\".format(df.shape))\n",
    "print(\"target feature shape: {}\".format(df['target'].shape))"
   ]
  },
  {
   "cell_type": "code",
   "execution_count": 9,
   "metadata": {
    "colab": {
     "base_uri": "https://localhost:8080/",
     "height": 406
    },
    "colab_type": "code",
    "id": "3m5ixBmvzKiH",
    "outputId": "6da353a9-1fb2-4aef-b54b-e97b94a7ab17",
    "scrolled": true
   },
   "outputs": [
    {
     "data": {
      "image/png": "[encoded data removed]",
      "text/plain": [
       "<Figure size 1800x360 with 1 Axes>"
      ]
     },
     "metadata": {
      "image/png": {
       "height": 381,
       "width": 1433
      }
     },
     "output_type": "display_data"
    }
   ],
   "source": [
    "plt.figure(figsize=(25,5))\n",
    "plt.plot(df['target'])\n",
    "plt.xticks(rotation=90)\n",
    "plt.title(\"Oversea Inflow Cofirmed\")\n",
    "plt.grid(axis='x')"
   ]
  },
  {
   "cell_type": "markdown",
   "metadata": {},
   "source": [
    "# LSTM Model"
   ]
  },
  {
   "cell_type": "code",
   "execution_count": 10,
   "metadata": {},
   "outputs": [],
   "source": [
    "X_cols = list(df.columns)\n",
    "X_cols.remove('target')"
   ]
  },
  {
   "cell_type": "code",
   "execution_count": 11,
   "metadata": {},
   "outputs": [
    {
     "name": "stdout",
     "output_type": "stream",
     "text": [
      "(102, 331)\n"
     ]
    }
   ],
   "source": [
    "# 테스트 데이터 수\n",
    "test_data_size = 20\n",
    "# X변수들과 y변수 구분\n",
    "X = df[X_cols]\n",
    "y = df['target']\n",
    "print(X.shape)"
   ]
  },
  {
   "cell_type": "code",
   "execution_count": 12,
   "metadata": {},
   "outputs": [
    {
     "ename": "ValueError",
     "evalue": "X has 331 features, but MinMaxScaler is expecting 1 features as input.",
     "output_type": "error",
     "traceback": [
      "\u001b[1;31m---------------------------------------------------------------------------\u001b[0m",
      "\u001b[1;31mValueError\u001b[0m                                Traceback (most recent call last)",
      "\u001b[1;32m<ipython-input-12-b48fe90fc2c7>\u001b[0m in \u001b[0;36m<module>\u001b[1;34m\u001b[0m\n\u001b[0;32m      7\u001b[0m \u001b[1;33m\u001b[0m\u001b[0m\n\u001b[0;32m      8\u001b[0m \u001b[1;31m# 스케일링 적용\u001b[0m\u001b[1;33m\u001b[0m\u001b[1;33m\u001b[0m\u001b[1;33m\u001b[0m\u001b[0m\n\u001b[1;32m----> 9\u001b[1;33m \u001b[0mX\u001b[0m \u001b[1;33m=\u001b[0m \u001b[0mXscaler\u001b[0m\u001b[1;33m.\u001b[0m\u001b[0mtransform\u001b[0m\u001b[1;33m(\u001b[0m\u001b[0mX\u001b[0m\u001b[1;33m)\u001b[0m\u001b[1;33m\u001b[0m\u001b[1;33m\u001b[0m\u001b[0m\n\u001b[0m\u001b[0;32m     10\u001b[0m \u001b[0my\u001b[0m \u001b[1;33m=\u001b[0m \u001b[0myscaler\u001b[0m\u001b[1;33m.\u001b[0m\u001b[0mtransform\u001b[0m\u001b[1;33m(\u001b[0m\u001b[0my\u001b[0m\u001b[1;33m.\u001b[0m\u001b[0mvalues\u001b[0m\u001b[1;33m.\u001b[0m\u001b[0mreshape\u001b[0m\u001b[1;33m(\u001b[0m\u001b[1;33m-\u001b[0m\u001b[1;36m1\u001b[0m\u001b[1;33m,\u001b[0m\u001b[1;36m1\u001b[0m\u001b[1;33m)\u001b[0m\u001b[1;33m)\u001b[0m\u001b[1;33m\u001b[0m\u001b[1;33m\u001b[0m\u001b[0m\n\u001b[0;32m     11\u001b[0m \u001b[1;33m\u001b[0m\u001b[0m\n",
      "\u001b[1;32mF:\\program\\anaconda\\envs\\tensorflow\\lib\\site-packages\\sklearn\\preprocessing\\_data.py\u001b[0m in \u001b[0;36mtransform\u001b[1;34m(self, X)\u001b[0m\n\u001b[0;32m    432\u001b[0m         \u001b[0mcheck_is_fitted\u001b[0m\u001b[1;33m(\u001b[0m\u001b[0mself\u001b[0m\u001b[1;33m)\u001b[0m\u001b[1;33m\u001b[0m\u001b[1;33m\u001b[0m\u001b[0m\n\u001b[0;32m    433\u001b[0m \u001b[1;33m\u001b[0m\u001b[0m\n\u001b[1;32m--> 434\u001b[1;33m         X = self._validate_data(X, copy=self.copy, dtype=FLOAT_DTYPES,\n\u001b[0m\u001b[0;32m    435\u001b[0m                                 force_all_finite=\"allow-nan\", reset=False)\n\u001b[0;32m    436\u001b[0m \u001b[1;33m\u001b[0m\u001b[0m\n",
      "\u001b[1;32mF:\\program\\anaconda\\envs\\tensorflow\\lib\\site-packages\\sklearn\\base.py\u001b[0m in \u001b[0;36m_validate_data\u001b[1;34m(self, X, y, reset, validate_separately, **check_params)\u001b[0m\n\u001b[0;32m    435\u001b[0m \u001b[1;33m\u001b[0m\u001b[0m\n\u001b[0;32m    436\u001b[0m         \u001b[1;32mif\u001b[0m \u001b[0mcheck_params\u001b[0m\u001b[1;33m.\u001b[0m\u001b[0mget\u001b[0m\u001b[1;33m(\u001b[0m\u001b[1;34m'ensure_2d'\u001b[0m\u001b[1;33m,\u001b[0m \u001b[1;32mTrue\u001b[0m\u001b[1;33m)\u001b[0m\u001b[1;33m:\u001b[0m\u001b[1;33m\u001b[0m\u001b[1;33m\u001b[0m\u001b[0m\n\u001b[1;32m--> 437\u001b[1;33m             \u001b[0mself\u001b[0m\u001b[1;33m.\u001b[0m\u001b[0m_check_n_features\u001b[0m\u001b[1;33m(\u001b[0m\u001b[0mX\u001b[0m\u001b[1;33m,\u001b[0m \u001b[0mreset\u001b[0m\u001b[1;33m=\u001b[0m\u001b[0mreset\u001b[0m\u001b[1;33m)\u001b[0m\u001b[1;33m\u001b[0m\u001b[1;33m\u001b[0m\u001b[0m\n\u001b[0m\u001b[0;32m    438\u001b[0m \u001b[1;33m\u001b[0m\u001b[0m\n\u001b[0;32m    439\u001b[0m         \u001b[1;32mreturn\u001b[0m \u001b[0mout\u001b[0m\u001b[1;33m\u001b[0m\u001b[1;33m\u001b[0m\u001b[0m\n",
      "\u001b[1;32mF:\\program\\anaconda\\envs\\tensorflow\\lib\\site-packages\\sklearn\\base.py\u001b[0m in \u001b[0;36m_check_n_features\u001b[1;34m(self, X, reset)\u001b[0m\n\u001b[0;32m    363\u001b[0m \u001b[1;33m\u001b[0m\u001b[0m\n\u001b[0;32m    364\u001b[0m         \u001b[1;32mif\u001b[0m \u001b[0mn_features\u001b[0m \u001b[1;33m!=\u001b[0m \u001b[0mself\u001b[0m\u001b[1;33m.\u001b[0m\u001b[0mn_features_in_\u001b[0m\u001b[1;33m:\u001b[0m\u001b[1;33m\u001b[0m\u001b[1;33m\u001b[0m\u001b[0m\n\u001b[1;32m--> 365\u001b[1;33m             raise ValueError(\n\u001b[0m\u001b[0;32m    366\u001b[0m                 \u001b[1;34mf\"X has {n_features} features, but {self.__class__.__name__} \"\u001b[0m\u001b[1;33m\u001b[0m\u001b[1;33m\u001b[0m\u001b[0m\n\u001b[0;32m    367\u001b[0m                 f\"is expecting {self.n_features_in_} features as input.\")\n",
      "\u001b[1;31mValueError\u001b[0m: X has 331 features, but MinMaxScaler is expecting 1 features as input."
     ]
    }
   ],
   "source": [
    "# MinMaxScaler을 통한 스케일링\n",
    "scaler = MinMaxScaler()\n",
    "# X scaler 생성\n",
    "Xscaler = scaler.fit(X)\n",
    "# Y scaler 생성\n",
    "yscaler = scaler.fit(y.values.reshape(-1,1))\n",
    "\n",
    "# 스케일링 적용\n",
    "X = Xscaler.transform(X)\n",
    "y = yscaler.transform(y.values.reshape(-1,1))\n",
    "\n",
    "# Train, Test set split\n",
    "X_train, X_test = X[:-test_data_size], X[-test_data_size:]\n",
    "y_train, y_test = y[:-test_data_size].flatten(), y[-test_data_size:].flatten()"
   ]
  },
  {
   "cell_type": "code",
   "execution_count": 30,
   "metadata": {},
   "outputs": [
    {
     "ename": "NameError",
     "evalue": "name 'X_train' is not defined",
     "output_type": "error",
     "traceback": [
      "\u001b[1;31m---------------------------------------------------------------------------\u001b[0m",
      "\u001b[1;31mNameError\u001b[0m                                 Traceback (most recent call last)",
      "\u001b[1;32m<ipython-input-30-ff0beca7e616>\u001b[0m in \u001b[0;36m<module>\u001b[1;34m\u001b[0m\n\u001b[1;32m----> 1\u001b[1;33m \u001b[0mprint\u001b[0m\u001b[1;33m(\u001b[0m\u001b[1;34m\"train set : \"\u001b[0m\u001b[1;33m,\u001b[0m \u001b[0mX_train\u001b[0m\u001b[1;33m.\u001b[0m\u001b[0mshape\u001b[0m\u001b[1;33m)\u001b[0m\u001b[1;33m\u001b[0m\u001b[1;33m\u001b[0m\u001b[0m\n\u001b[0m\u001b[0;32m      2\u001b[0m \u001b[0mprint\u001b[0m\u001b[1;33m(\u001b[0m\u001b[1;34m\"test set : \"\u001b[0m\u001b[1;33m,\u001b[0m \u001b[0mX_test\u001b[0m\u001b[1;33m.\u001b[0m\u001b[0mshape\u001b[0m\u001b[1;33m)\u001b[0m\u001b[1;33m\u001b[0m\u001b[1;33m\u001b[0m\u001b[0m\n",
      "\u001b[1;31mNameError\u001b[0m: name 'X_train' is not defined"
     ]
    }
   ],
   "source": [
    "print(\"train set : \", X_train.shape)\n",
    "print(\"test set : \", X_test.shape)"
   ]
  },
  {
   "cell_type": "code",
   "execution_count": 31,
   "metadata": {},
   "outputs": [],
   "source": [
    "# LSTM 사용을 위한 시퀀스 데이터 형성 함수\n",
    "\n",
    "def create_sequences1(array, seq_length):\n",
    "    res = []\n",
    "    if seq_length == 1:\n",
    "        for i in range(len(array)):\n",
    "            tmp=array[i:(i+seq_length)]\n",
    "            res.append(tmp)\n",
    "    else:\n",
    "        for i in range(len(array)-seq_length-1):\n",
    "            tmp = array[i:(i+seq_length)]\n",
    "            res.append(tmp)\n",
    "        \n",
    "    return res"
   ]
  },
  {
   "cell_type": "code",
   "execution_count": null,
   "metadata": {
    "colab": {},
    "colab_type": "code",
    "id": "5TEKufKA0c_Z"
   },
   "outputs": [],
   "source": [
    "# 시퀀스 길이\n",
    "seq_length = 1\n",
    "\n",
    "X_train = create_sequences1(X_train, seq_length)\n",
    "y_train = create_sequences1(y_train, seq_length)\n",
    "X_test = create_sequences1(X_test, seq_length)\n",
    "y_test = create_sequences1(y_test, seq_length)\n",
    "print(X_train.shape)"
   ]
  },
  {
   "cell_type": "code",
   "execution_count": null,
   "metadata": {},
   "outputs": [],
   "source": [
    "# numpy -> tensor 변환\n",
    "X_train = torch.tensor(X_train).float()\n",
    "y_train = torch.tensor(y_train).float()\n",
    "X_test = torch.tensor(X_test).float()\n",
    "y_test = torch.tensor(y_test).float()"
   ]
  },
  {
   "cell_type": "code",
   "execution_count": null,
   "metadata": {
    "colab": {
     "base_uri": "https://localhost:8080/",
     "height": 35
    },
    "colab_type": "code",
    "id": "kemyzEgk0eqT",
    "outputId": "fef29dbf-513d-4685-af23-aae387649839"
   },
   "outputs": [],
   "source": [
    "print(\"X_train :\",(X_train.shape))\n",
    "print(\"X_test :\",(X_test.shape))\n",
    "print(\"y_train :\",(y_train.shape))\n",
    "print(\"y_test :\",(y_test.shape))"
   ]
  },
  {
   "cell_type": "markdown",
   "metadata": {
    "colab_type": "text",
    "id": "AnA9qqth1XtG"
   },
   "source": [
    "# Building a Model"
   ]
  },
  {
   "cell_type": "code",
   "execution_count": null,
   "metadata": {},
   "outputs": [],
   "source": [
    "# Model Class 생성\n",
    "\n",
    "class CoronaVirusPredictor(nn.Module):\n",
    "    \n",
    "    def __init__(self, n_features, n_hidden, seq_len, n_layers=2):\n",
    "        super(CoronaVirusPredictor, self).__init__()\n",
    "        self.n_hidden = n_hidden\n",
    "        self.seq_len = seq_len\n",
    "        self.n_layers = n_layers\n",
    "\n",
    "        self.lstm = nn.LSTM(\n",
    "        input_size = n_features,\n",
    "        hidden_size = n_hidden,\n",
    "        num_layers = n_layers,\n",
    "        #dropout=0.1\n",
    "        )\n",
    "        \n",
    "        self.linear = nn.Linear(in_features=n_hidden, out_features=1)\n",
    "        \n",
    "    def reset_hidden_state(self):\n",
    "            self.hidden = (\n",
    "                torch.zeros(self.n_layers, self.seq_len, self.n_hidden),\n",
    "                torch.zeros(self.n_layers, self.seq_len, self.n_hidden))\n",
    "            \n",
    "    def forward(self, sequences):\n",
    "        lstm_out, self.hidden = self.lstm(sequences.view(len(sequences), self.seq_len, -1), self.hidden)\n",
    "        last_time_step = lstm_out.view(self.seq_len, len(sequences), self.n_hidden)[-1]\n",
    "        y_pred = self.linear(last_time_step)\n",
    "    \n",
    "        return y_pred"
   ]
  },
  {
   "cell_type": "markdown",
   "metadata": {
    "colab_type": "text",
    "id": "m5IGRO_bcJVA"
   },
   "source": [
    "## __Training__"
   ]
  },
  {
   "cell_type": "code",
   "execution_count": null,
   "metadata": {},
   "outputs": [],
   "source": [
    "def train_model(model, train_data, train_labels, test_data=None, test_labels=None, num_epochs=250, lr=1e-3):\n",
    "    loss_fn = torch.nn.MSELoss()\n",
    "    \n",
    "    optimiser = torch.optim.Adam(model.parameters(), lr=lr, weight_decay=1e-4)\n",
    "    num_epochs = num_epochs\n",
    "    \n",
    "    train_hist = np.zeros(num_epochs)\n",
    "    test_hist = np.zeros(num_epochs)\n",
    "    \n",
    "    for t in range(num_epochs):\n",
    "        model.reset_hidden_state()\n",
    "        y_pred = model(X_train)\n",
    "        loss = loss_fn(y_pred.float(), y_train)\n",
    "        \n",
    "        if test_data is not None:\n",
    "            with torch.no_grad():\n",
    "                y_test_pred = model(X_test)\n",
    "                test_loss = loss_fn(y_test_pred.float(), y_test)\n",
    "            test_hist[t] = test_loss.item()\n",
    "            \n",
    "            if t % 10 == 0:\n",
    "                print(f'Epoch {t} train loss: {round(loss.item(),4)} test loss: {round(test_loss.item(),4)}')\n",
    "        elif t % 10 == 0:\n",
    "            print(f'Epoch {t} train loss: {loss.item()}')\n",
    "            \n",
    "        train_hist[t] = loss.item()\n",
    "        optimiser.zero_grad()\n",
    "        loss.backward()\n",
    "        optimiser.step()\n",
    "        \n",
    "    return model.eval(), train_hist, test_hist"
   ]
  },
  {
   "cell_type": "code",
   "execution_count": null,
   "metadata": {},
   "outputs": [],
   "source": [
    "# Hyper-parameter 설정\n",
    "n_features=X_train.shape[-1]\n",
    "n_hidden=64\n",
    "n_layers=4\n",
    "lr=1e-4\n",
    "num_epochs=200"
   ]
  },
  {
   "cell_type": "code",
   "execution_count": null,
   "metadata": {
    "colab": {
     "base_uri": "https://localhost:8080/",
     "height": 125
    },
    "colab_type": "code",
    "id": "6TjwDYRCdpjT",
    "outputId": "5b9e6ced-0e77-4ef3-df6e-709e4e3d4960"
   },
   "outputs": [],
   "source": [
    "# Training Model\n",
    "model = CoronaVirusPredictor(n_features=n_features, n_hidden=n_hidden, seq_len=seq_length, n_layers=n_layers)\n",
    "model, train_hist, test_hist = train_model(model, X_train, y_train, X_test, y_test, num_epochs=num_epochs, lr=lr)"
   ]
  },
  {
   "cell_type": "code",
   "execution_count": null,
   "metadata": {
    "scrolled": true
   },
   "outputs": [],
   "source": [
    "# plotting Loss\n",
    "plt.plot(train_hist, label=\"Training loss\")\n",
    "plt.plot(test_hist, label=\"Test loss\")\n",
    "plt.title('n_features:{0}, n_hidden:{1}, n_layers:{2}, lr:{3}, seq_length:{4}, num_epochs:{5}'.format(n_features,n_hidden,n_layers,lr,seq_length,num_epochs))\n",
    "plt.legend()"
   ]
  },
  {
   "cell_type": "markdown",
   "metadata": {
    "colab_type": "text",
    "id": "wvooIV0Sd_zc"
   },
   "source": [
    "# Predicting daily cases"
   ]
  },
  {
   "cell_type": "code",
   "execution_count": null,
   "metadata": {
    "colab": {},
    "colab_type": "code",
    "id": "ui_DygrTd9YL"
   },
   "outputs": [],
   "source": [
    "with torch.no_grad():\n",
    "    \n",
    "    preds = []\n",
    "    for i in range(len(X_test)):\n",
    "        test_seq = X_test[i:i+1]\n",
    "        y_test_pred = model(test_seq)\n",
    "        pred = torch.flatten(y_test_pred).item()\n",
    "        preds.append(pred)\n",
    "        new_seq = test_seq.numpy().flatten()\n",
    "        new_seq = np.append(new_seq, pred)\n",
    "        new_seq = new_seq[1:]\n",
    "        test_seq = torch.as_tensor(new_seq).view(n_features, seq_length, 1).float()"
   ]
  },
  {
   "cell_type": "code",
   "execution_count": null,
   "metadata": {},
   "outputs": [],
   "source": [
    "preds"
   ]
  },
  {
   "cell_type": "code",
   "execution_count": null,
   "metadata": {},
   "outputs": [],
   "source": [
    "# Prediction value 스케일링 역변환\n",
    "pred_values = yscaler.inverse_transform(np.array(preds).reshape(-1,1))"
   ]
  },
  {
   "cell_type": "code",
   "execution_count": null,
   "metadata": {},
   "outputs": [],
   "source": [
    "pred_values"
   ]
  },
  {
   "cell_type": "code",
   "execution_count": null,
   "metadata": {},
   "outputs": [],
   "source": [
    "pred_values_ceiled  = list(pred_values.flatten())"
   ]
  },
  {
   "cell_type": "code",
   "execution_count": null,
   "metadata": {},
   "outputs": [],
   "source": [
    "# True value 스케일링 역변환\n",
    "true_values = yscaler.inverse_transform(y_test)[:, [-1]]"
   ]
  },
  {
   "cell_type": "code",
   "execution_count": null,
   "metadata": {},
   "outputs": [],
   "source": [
    "# 실제값 예측값 데이터 프레임 생성\n",
    "score_table = pd.DataFrame({'True':true_values.flatten(),\n",
    "                            'Pred':pred_values_ceiled})"
   ]
  },
  {
   "cell_type": "code",
   "execution_count": null,
   "metadata": {},
   "outputs": [],
   "source": [
    "score_table"
   ]
  },
  {
   "cell_type": "code",
   "execution_count": null,
   "metadata": {},
   "outputs": [],
   "source": [
    "# validation score\n",
    "MSE = mean_squared_error(score_table['True'], score_table['Pred'])\n",
    "RMSE = np.sqrt(MSE)\n",
    "score = 100*(1-(((score_table['Pred'] -score_table['True'])**2).sum())/((score_table['True']**2).sum()))"
   ]
  },
  {
   "cell_type": "code",
   "execution_count": null,
   "metadata": {},
   "outputs": [],
   "source": [
    "print(\"MSE : {0}, RMSE : {1}, SCORE : {2}\".format(MSE, RMSE, score))"
   ]
  },
  {
   "cell_type": "code",
   "execution_count": null,
   "metadata": {
    "scrolled": false
   },
   "outputs": [],
   "source": [
    "plt.figure(figsize=(10,5))\n",
    "plt.plot(range(y_train.__len__()),yscaler.inverse_transform(y_train)[:, [-1]])\n",
    "plt.plot(range(y_train.__len__(), y_train.__len__()+y_test.__len__()),true_values, label='Real')\n",
    "plt.plot(range(y_train.__len__(), y_train.__len__()+y_test.__len__()),pred_values_ceiled, label='Pred')\n",
    "#plt.xlim(70)\n",
    "plt.legend()"
   ]
  },
  {
   "cell_type": "code",
   "execution_count": null,
   "metadata": {},
   "outputs": [],
   "source": [
    "# 모델 저장\n",
    "#PATH = './models/LSTM_seq1_n_features_{0}_n_hidden_{1}_n_layers_{2}_lr_{3}_seq_length_{4}_num_epochs_{5}.pth'.format(n_features,n_hidden,n_layers,lr,seq_length,num_epochs)\n",
    "PATH = './models/{6}_n_features_{0}_n_hidden_{1}_n_layers_{2}_lr_{3}_seq_length_{4}_num_epochs_{5}.pth'.format(n_features,n_hidden,n_layers,lr,seq_length,num_epochs, score.round(2))\n",
    "\n",
    "torch.save(model, PATH)"
   ]
  },
  {
   "cell_type": "code",
   "execution_count": null,
   "metadata": {},
   "outputs": [],
   "source": [
    "# 모델 불러오기\n",
    "#PATH = './models/score84_n_features_10_n_hidden_64_n_layers_4_lr_0.0001_seq_length_1_num_epochs_250.pth'\n",
    "model = torch.load(PATH)\n",
    "#model.eval()"
   ]
  },
  {
   "cell_type": "markdown",
   "metadata": {
    "colab_type": "text",
    "id": "BRrFV77HeURz"
   },
   "source": [
    "# Use all data for training"
   ]
  },
  {
   "cell_type": "code",
   "execution_count": null,
   "metadata": {},
   "outputs": [],
   "source": [
    "# X변수들과 y변수 구분\n",
    "X_all = df[X_cols]\n",
    "y_all = df['target']"
   ]
  },
  {
   "cell_type": "code",
   "execution_count": null,
   "metadata": {},
   "outputs": [],
   "source": [
    "# MinMaxScaler을 통한 스케일링\n",
    "scaler = MinMaxScaler()\n",
    "# X scaler 생성\n",
    "Xscaler = scaler.fit(X_all)\n",
    "# Y scaler 생성\n",
    "yscaler = scaler.fit(y_all.values.reshape(-1,1))\n",
    "\n",
    "# 스케일링 적용\n",
    "X_all = Xscaler.transform(X_all)\n",
    "y_all = yscaler.transform(y_all.values.reshape(-1,1))\n",
    "y_all = y_all.flatten()"
   ]
  },
  {
   "cell_type": "code",
   "execution_count": null,
   "metadata": {},
   "outputs": [],
   "source": [
    "y_all"
   ]
  },
  {
   "cell_type": "code",
   "execution_count": null,
   "metadata": {},
   "outputs": [],
   "source": [
    "print(\"X_all : \", X_all.shape)\n",
    "print(\"y_all : \", y_all.shape)"
   ]
  },
  {
   "cell_type": "code",
   "execution_count": null,
   "metadata": {
    "colab": {},
    "colab_type": "code",
    "id": "5TEKufKA0c_Z"
   },
   "outputs": [],
   "source": [
    "X_all = create_sequences1(X_all, seq_length)\n",
    "y_all = create_sequences1(y_all, seq_length)\n",
    "X_all = torch.from_numpy(np.array(X_all)).float()\n",
    "y_all = torch.from_numpy(np.array(y_all)).float()"
   ]
  },
  {
   "cell_type": "code",
   "execution_count": null,
   "metadata": {
    "colab": {
     "base_uri": "https://localhost:8080/",
     "height": 125
    },
    "colab_type": "code",
    "id": "5UpCLNUQeYfJ",
    "outputId": "61cf07ab-d749-48b8-b76b-e6bfc8e2a09d"
   },
   "outputs": [],
   "source": [
    "# model = CoronaVirusPredictor(\n",
    "#   n_features=n_features,\n",
    "#   n_hidden=n_hidden,\n",
    "#   seq_len=seq_length,\n",
    "#   n_layers=n_layers\n",
    "# )\n",
    "# model, train_hist, _ = train_model(model, X_all, y_all, num_epochs=200, lr=lr)"
   ]
  },
  {
   "cell_type": "markdown",
   "metadata": {
    "colab_type": "text",
    "id": "MSsGbvZAecw3"
   },
   "source": [
    "# Predicting future cases"
   ]
  },
  {
   "cell_type": "code",
   "execution_count": null,
   "metadata": {},
   "outputs": [],
   "source": [
    "DAYS_TO_PREDICT = 14\n",
    "with torch.no_grad():\n",
    "    test_seq = X_all[:1]\n",
    "    preds = []\n",
    "    for _ in range(DAYS_TO_PREDICT):\n",
    "        y_test_pred = model(test_seq)\n",
    "        pred = torch.flatten(y_test_pred).item()\n",
    "        preds.append(pred)\n",
    "        new_seq = test_seq.numpy().flatten()\n",
    "        new_seq = np.append(new_seq, [pred])\n",
    "        new_seq = new_seq[1:]\n",
    "        #test_seq = torch.as_tensor(new_seq).view(1, seq_length, 1).float()"
   ]
  },
  {
   "cell_type": "code",
   "execution_count": null,
   "metadata": {},
   "outputs": [],
   "source": [
    "# Prediction value 스케일링 역변환\n",
    "pred_values = yscaler.inverse_transform(np.array(preds).reshape(-1,1))"
   ]
  },
  {
   "cell_type": "code",
   "execution_count": null,
   "metadata": {},
   "outputs": [],
   "source": [
    "# 예측값 반올림\n",
    "import math\n",
    "\n",
    "pred_values_ceiled = list(pred_values.flatten())\n",
    "predicted_cases=pred_values_ceiled\n",
    "predicted_cases"
   ]
  },
  {
   "cell_type": "code",
   "execution_count": null,
   "metadata": {
    "colab": {
     "base_uri": "https://localhost:8080/",
     "height": 597
    },
    "colab_type": "code",
    "id": "6kkEHP_weoOc",
    "outputId": "6a596ff3-dea0-4f18-8329-f7e718e767d5"
   },
   "outputs": [],
   "source": [
    "predicted_index = pd.date_range(\n",
    "  start=df.index[-1],\n",
    "  periods=DAYS_TO_PREDICT + 1,\n",
    "  closed='right'\n",
    ")\n",
    "predicted_index = pd.to_datetime(predicted_index, format='%Y%m%d')\n",
    "\n",
    "predicted_cases = pd.Series(\n",
    "  data=predicted_cases,\n",
    "  index=predicted_index\n",
    ")\n",
    "\n",
    "plt.plot(predicted_cases, label='Predicted Daily Cases')\n",
    "plt.legend();"
   ]
  },
  {
   "cell_type": "code",
   "execution_count": null,
   "metadata": {},
   "outputs": [],
   "source": [
    "preds_ = pd.DataFrame(predicted_cases)\n",
    "df.index = pd.to_datetime(df.index)"
   ]
  },
  {
   "cell_type": "code",
   "execution_count": null,
   "metadata": {},
   "outputs": [],
   "source": [
    "preds_"
   ]
  },
  {
   "cell_type": "code",
   "execution_count": null,
   "metadata": {
    "colab": {
     "base_uri": "https://localhost:8080/",
     "height": 597
    },
    "colab_type": "code",
    "id": "JosxYymUep4z",
    "outputId": "99cece78-cee5-45fc-e426-0cb81f1e78fa"
   },
   "outputs": [],
   "source": [
    "plt.figure(figsize=(25,5))\n",
    "plt.plot(df['target'].astype(int), label='Historical Daily Cases')\n",
    "plt.plot(preds_, label='Predicted Daily Cases')\n",
    "plt.xticks(rotation=90)\n",
    "plt.title(\"Oversea Inflow Cofirmed\")\n",
    "plt.grid(axis='x')\n",
    "plt.legend();"
   ]
  },
  {
   "cell_type": "code",
   "execution_count": null,
   "metadata": {},
   "outputs": [],
   "source": []
  },
  {
   "cell_type": "code",
   "execution_count": null,
   "metadata": {},
   "outputs": [],
   "source": []
  },
  {
   "cell_type": "code",
   "execution_count": null,
   "metadata": {},
   "outputs": [],
   "source": []
  },
  {
   "cell_type": "code",
   "execution_count": null,
   "metadata": {},
   "outputs": [],
   "source": []
  }
 ],
 "metadata": {
  "accelerator": "GPU",
  "colab": {
   "collapsed_sections": [],
   "name": "Timeseries_LSTM_prac.ipynb의 사본",
   "provenance": []
  },
  "kernelspec": {
   "display_name": "Python 3",
   "language": "python",
   "name": "python3"
  },
  "language_info": {
   "codemirror_mode": {
    "name": "ipython",
    "version": 3
   },
   "file_extension": ".py",
   "mimetype": "text/x-python",
   "name": "python",
   "nbconvert_exporter": "python",
   "pygments_lexer": "ipython3",
   "version": "3.8.5"
  }
 },
 "nbformat": 4,
 "nbformat_minor": 4
}
