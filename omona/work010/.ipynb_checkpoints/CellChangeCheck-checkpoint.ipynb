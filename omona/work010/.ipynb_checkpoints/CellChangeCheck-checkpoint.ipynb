{
 "cells": [
  {
   "cell_type": "code",
   "execution_count": 1,
   "metadata": {},
   "outputs": [],
   "source": [
    "import os\n",
    "import pandas as pd\n",
    "import numpy as np"
   ]
  },
  {
   "cell_type": "code",
   "execution_count": 2,
   "metadata": {},
   "outputs": [],
   "source": [
    "def createFolder(directory):\n",
    "    #저장 폴더 생성\n",
    "    try:\n",
    "        if not os.path.exists(directory):\n",
    "            os.makedirs(directory)\n",
    "    except OSError:\n",
    "        print('Error: Creating directory' + directory)"
   ]
  },
  {
   "cell_type": "code",
   "execution_count": 3,
   "metadata": {},
   "outputs": [],
   "source": [
    "def changePath(directory):\n",
    "    #데이터 폴더 선택\n",
    "    current_path = os.getcwd()\n",
    "    change_path = current_path+directory\n",
    "    try:\n",
    "        if os.path.exists(directory[1:]):\n",
    "            os.chdir(change_path)\n",
    "    except OSError:\n",
    "        print('Error: Changing Path ' + directory)"
   ]
  },
  {
   "cell_type": "code",
   "execution_count": 4,
   "metadata": {},
   "outputs": [],
   "source": [
    "def cell_separate(df, cell_cnt):\n",
    "    cell_index = df.index[df['CellNo']==(cell_cnt+1)].tolist()\n",
    "    df_cell = df.iloc[cell_index, :]\n",
    "    newf_cell = df_cell[column_list]\n",
    "    \n",
    "    return newf_cell"
   ]
  },
  {
   "cell_type": "code",
   "execution_count": 5,
   "metadata": {},
   "outputs": [],
   "source": [
    "def _filter(z_meas, x_esti, P):\n",
    "    \"\"\"Kalman Filter Algorithm for One Variable.\"\"\"\n",
    "    # (1) Prediction.\n",
    "    x_pred = A * x_esti\n",
    "    P_pred = A * P * A + Q\n",
    "\n",
    "    # (2) Kalman Gain.\n",
    "    K = P_pred * H / (H * P_pred * H + R)\n",
    "\n",
    "    # (3) Estimation.\n",
    "    x_esti = x_pred + K * (z_meas - H * x_pred)\n",
    "\n",
    "    # (4) Error Covariance.\n",
    "    P = P_pred - K * H * P_pred\n",
    "\n",
    "    return x_esti, P\n",
    "\n",
    "def kalman_filter(df, noise_column, _filter):\n",
    "    x_0 = df.loc[0, noise_column]\n",
    "    r_meas_save = np.zeros(df_len)\n",
    "    r_esti_save = np.zeros(df_len)\n",
    "    \n",
    "    x_esti, P = None, None\n",
    "    for j in range(df_len):\n",
    "        r_meas = df.loc[j, noise_column]\n",
    "        if j == 0 :\n",
    "            x_esti, P = x_0, P_0\n",
    "        else:\n",
    "            x_esti, P = _filter(r_meas, x_esti, P)\n",
    "        r_meas_save[j] = r_meas\n",
    "        r_esti_save[j] = x_esti\n",
    "        \n",
    "    df.loc[:, noise_column] = r_esti_save\n",
    "    \n",
    "    return df"
   ]
  },
  {
   "cell_type": "code",
   "execution_count": 6,
   "metadata": {},
   "outputs": [],
   "source": [
    "def UpperLowerLimit(df):\n",
    "    df_len = len(df)\n",
    "    \n",
    "    for i in range(df_len):\n",
    "        if not i==(df_len-1):\n",
    "            if not df.loc[i+1, noise_column]==None:\n",
    "                error = ((df.loc[i+1, noise_column]-df.loc[i, noise_column])/df.loc[i, noise_column])\n",
    "                \n",
    "                if i==0:\n",
    "                    fix_rate = 0\n",
    "                if i>=1:\n",
    "                    fix_rate = abs((df.loc[i, noise_column]-df.loc[i-1, noise_column])/df.loc[i-1, noise_column])\n",
    "\n",
    "            if abs(error)>=0.2:\n",
    "                if error < 0:\n",
    "                    df.loc[i+1, noise_column] = df.loc[i, noise_column]*(1-fix_rate)\n",
    "                if error > 0:\n",
    "                    df.loc[i+1, noise_column] = df.loc[i, noise_column]*(1+fix_rate)\n",
    "                    \n",
    "    return df"
   ]
  },
  {
   "cell_type": "code",
   "execution_count": 7,
   "metadata": {},
   "outputs": [
    {
     "name": "stdout",
     "output_type": "stream",
     "text": [
      "생성 폴더 이름 : \n",
      "test1\n",
      "F:\\Personal\\BatteryDatasetImplementation-master\\omona\\work010\n",
      "셀분리 데이터 폴더 입력(\\ 포함)\n",
      "\\testdata\n",
      "F:\\Personal\\BatteryDatasetImplementation-master\\omona\\work010\\testdata\n"
     ]
    }
   ],
   "source": [
    "if __name__ =='__main__':\n",
    "    print('생성 폴더 이름 : ')\n",
    "    folder_name = input()\n",
    "    createFolder(folder_name)\n",
    "    current_path = os.getcwd()\n",
    "    print(current_path)\n",
    "    print('셀분리 데이터 폴더 입력(\\ 포함)')\n",
    "    data_folder_path = input()\n",
    "    changePath(data_folder_path) #상하제한 수정할 데이터 폴더로 이동\n",
    "    print(os.getcwd())"
   ]
  },
  {
   "cell_type": "code",
   "execution_count": 8,
   "metadata": {},
   "outputs": [
    {
     "name": "stdout",
     "output_type": "stream",
     "text": [
      "셀 교체 diff offset(20):\n",
      "20\n",
      "셀 교체 y_offset(25):\n",
      "25\n",
      "셀 교체 x_offset(15):\n",
      "15\n",
      "셀 교체 total_error_offset(12):\n",
      "12\n",
      "데이터 파일 선택 경로 전체:1 선택:0 :\n",
      "1\n",
      "칼만필터 적용 여부 yes:1 no:0 :\n",
      "1\n",
      "상하제한 적용 여부 yes:1 no:0 :\n",
      "0\n"
     ]
    }
   ],
   "source": [
    "    print('셀 교체 diff offset(20):')\n",
    "    diff_offset = int(input())\n",
    "    print('셀 교체 y_offset(25):')\n",
    "    y_offset = int(input())\n",
    "    print('셀 교체 x_offset(15):')\n",
    "    x_offset = int(input())\n",
    "    print('셀 교체 total_error_offset(12):')\n",
    "    total_error_offset = int(input())\n",
    "    print('데이터 파일 선택 경로 전체:1 선택:0 :')\n",
    "    data_select = input()\n",
    "    print('칼만필터 적용 여부 yes:1 no:0 :')\n",
    "    KF = int(input())\n",
    "    print('상하제한 적용 여부 yes:1 no:0 :')\n",
    "    ULL = int(input())"
   ]
  },
  {
   "cell_type": "code",
   "execution_count": 9,
   "metadata": {},
   "outputs": [
    {
     "name": "stdout",
     "output_type": "stream",
     "text": [
      "['m2_s2_bank_01c70366fc4e1a439e0b4516698baadf__site_40ab7c891c559b478e96f8bb5c682ca0.csv']\n"
     ]
    }
   ],
   "source": [
    "    if data_select == '1':\n",
    "        file_list = os.listdir(os.getcwd())\n",
    "        print(file_list)\n",
    "    if data_select == '0':\n",
    "        print(*os.listdir(os.getcwd()), sep='\\n')\n",
    "        print('SELECT DATA FILE : ')\n",
    "        file_list = []\n",
    "        select_file = input()\n",
    "        file_list.append(select_file)\n",
    "        print(file_list)"
   ]
  },
  {
   "cell_type": "code",
   "execution_count": 10,
   "metadata": {},
   "outputs": [
    {
     "name": "stdout",
     "output_type": "stream",
     "text": [
      "1\n",
      "F:\\Personal\\BatteryDatasetImplementation-master\\omona\\work010\\test1\n",
      "F:\\Personal\\BatteryDatasetImplementation-master\\omona\\work010\\testdata\n"
     ]
    }
   ],
   "source": [
    "    file_count = len(file_list)\n",
    "    print(file_count)\n",
    "    save_path = current_path + '\\\\' + folder_name\n",
    "    print(save_path)\n",
    "    current_path = os.getcwd()\n",
    "    print(current_path)"
   ]
  },
  {
   "cell_type": "code",
   "execution_count": 11,
   "metadata": {},
   "outputs": [],
   "source": [
    "    noise_column = 'ResistValue'\n",
    "    column_list = ['KeyTime', 'ResistValue', 'VoltValue', 'TempValue']"
   ]
  },
  {
   "cell_type": "code",
   "execution_count": 13,
   "metadata": {},
   "outputs": [
    {
     "name": "stdout",
     "output_type": "stream",
     "text": [
      "m2_s2_bank_01c70366fc4e1a439e0b4516698baadf__site_40ab7c891c559b478e96f8bb5c682ca0\n"
     ]
    },
    {
     "ename": "KeyError",
     "evalue": "17",
     "output_type": "error",
     "traceback": [
      "\u001b[1;31m---------------------------------------------------------------------------\u001b[0m",
      "\u001b[1;31mKeyError\u001b[0m                                  Traceback (most recent call last)",
      "\u001b[1;32mF:\\program\\anaconda\\lib\\site-packages\\pandas\\core\\indexes\\base.py\u001b[0m in \u001b[0;36mget_loc\u001b[1;34m(self, key, method, tolerance)\u001b[0m\n\u001b[0;32m   2894\u001b[0m             \u001b[1;32mtry\u001b[0m\u001b[1;33m:\u001b[0m\u001b[1;33m\u001b[0m\u001b[1;33m\u001b[0m\u001b[0m\n\u001b[1;32m-> 2895\u001b[1;33m                 \u001b[1;32mreturn\u001b[0m \u001b[0mself\u001b[0m\u001b[1;33m.\u001b[0m\u001b[0m_engine\u001b[0m\u001b[1;33m.\u001b[0m\u001b[0mget_loc\u001b[0m\u001b[1;33m(\u001b[0m\u001b[0mcasted_key\u001b[0m\u001b[1;33m)\u001b[0m\u001b[1;33m\u001b[0m\u001b[1;33m\u001b[0m\u001b[0m\n\u001b[0m\u001b[0;32m   2896\u001b[0m             \u001b[1;32mexcept\u001b[0m \u001b[0mKeyError\u001b[0m \u001b[1;32mas\u001b[0m \u001b[0merr\u001b[0m\u001b[1;33m:\u001b[0m\u001b[1;33m\u001b[0m\u001b[1;33m\u001b[0m\u001b[0m\n",
      "\u001b[1;32mpandas\\_libs\\index.pyx\u001b[0m in \u001b[0;36mpandas._libs.index.IndexEngine.get_loc\u001b[1;34m()\u001b[0m\n",
      "\u001b[1;32mpandas\\_libs\\index.pyx\u001b[0m in \u001b[0;36mpandas._libs.index.IndexEngine.get_loc\u001b[1;34m()\u001b[0m\n",
      "\u001b[1;32mpandas\\_libs\\hashtable_class_helper.pxi\u001b[0m in \u001b[0;36mpandas._libs.hashtable.Int64HashTable.get_item\u001b[1;34m()\u001b[0m\n",
      "\u001b[1;32mpandas\\_libs\\hashtable_class_helper.pxi\u001b[0m in \u001b[0;36mpandas._libs.hashtable.Int64HashTable.get_item\u001b[1;34m()\u001b[0m\n",
      "\u001b[1;31mKeyError\u001b[0m: 17",
      "\nThe above exception was the direct cause of the following exception:\n",
      "\u001b[1;31mKeyError\u001b[0m                                  Traceback (most recent call last)",
      "\u001b[1;32m<ipython-input-13-3426afc3a1ec>\u001b[0m in \u001b[0;36m<module>\u001b[1;34m\u001b[0m\n\u001b[0;32m     32\u001b[0m                 \u001b[0mtotal_error_next\u001b[0m \u001b[1;33m=\u001b[0m \u001b[1;36m0\u001b[0m\u001b[1;33m\u001b[0m\u001b[1;33m\u001b[0m\u001b[0m\n\u001b[0;32m     33\u001b[0m                 \u001b[0mtotal_error\u001b[0m \u001b[1;33m=\u001b[0m \u001b[1;36m0\u001b[0m\u001b[1;33m\u001b[0m\u001b[1;33m\u001b[0m\u001b[0m\n\u001b[1;32m---> 34\u001b[1;33m                 \u001b[0mtest_error\u001b[0m \u001b[1;33m=\u001b[0m \u001b[0mabs\u001b[0m\u001b[1;33m(\u001b[0m\u001b[1;33m(\u001b[0m\u001b[0mnewf_cell\u001b[0m\u001b[1;33m.\u001b[0m\u001b[0mloc\u001b[0m\u001b[1;33m[\u001b[0m\u001b[0mdf_len_cnt\u001b[0m\u001b[1;33m+\u001b[0m\u001b[1;36m1\u001b[0m\u001b[1;33m,\u001b[0m \u001b[0mnoise_column\u001b[0m\u001b[1;33m]\u001b[0m\u001b[1;33m-\u001b[0m\u001b[0mnewf_cell\u001b[0m\u001b[1;33m.\u001b[0m\u001b[0mloc\u001b[0m\u001b[1;33m[\u001b[0m\u001b[0mdf_len_cnt\u001b[0m\u001b[1;33m,\u001b[0m \u001b[0mnoise_column\u001b[0m\u001b[1;33m]\u001b[0m\u001b[1;33m)\u001b[0m\u001b[1;33m/\u001b[0m\u001b[0mnewf_cell\u001b[0m\u001b[1;33m.\u001b[0m\u001b[0mloc\u001b[0m\u001b[1;33m[\u001b[0m\u001b[0mdf_len_cnt\u001b[0m\u001b[1;33m,\u001b[0m \u001b[0mnoise_column\u001b[0m\u001b[1;33m]\u001b[0m\u001b[1;33m*\u001b[0m\u001b[1;36m100\u001b[0m\u001b[1;33m)\u001b[0m\u001b[1;33m\u001b[0m\u001b[1;33m\u001b[0m\u001b[0m\n\u001b[0m\u001b[0;32m     35\u001b[0m \u001b[1;33m\u001b[0m\u001b[0m\n\u001b[0;32m     36\u001b[0m                 \u001b[1;32mif\u001b[0m \u001b[0mtest_error\u001b[0m \u001b[1;33m>=\u001b[0m \u001b[0my_offset\u001b[0m\u001b[1;33m:\u001b[0m\u001b[1;33m\u001b[0m\u001b[1;33m\u001b[0m\u001b[0m\n",
      "\u001b[1;32mF:\\program\\anaconda\\lib\\site-packages\\pandas\\core\\indexing.py\u001b[0m in \u001b[0;36m__getitem__\u001b[1;34m(self, key)\u001b[0m\n\u001b[0;32m    871\u001b[0m                     \u001b[1;31m# AttributeError for IntervalTree get_value\u001b[0m\u001b[1;33m\u001b[0m\u001b[1;33m\u001b[0m\u001b[1;33m\u001b[0m\u001b[0m\n\u001b[0;32m    872\u001b[0m                     \u001b[1;32mpass\u001b[0m\u001b[1;33m\u001b[0m\u001b[1;33m\u001b[0m\u001b[0m\n\u001b[1;32m--> 873\u001b[1;33m             \u001b[1;32mreturn\u001b[0m \u001b[0mself\u001b[0m\u001b[1;33m.\u001b[0m\u001b[0m_getitem_tuple\u001b[0m\u001b[1;33m(\u001b[0m\u001b[0mkey\u001b[0m\u001b[1;33m)\u001b[0m\u001b[1;33m\u001b[0m\u001b[1;33m\u001b[0m\u001b[0m\n\u001b[0m\u001b[0;32m    874\u001b[0m         \u001b[1;32melse\u001b[0m\u001b[1;33m:\u001b[0m\u001b[1;33m\u001b[0m\u001b[1;33m\u001b[0m\u001b[0m\n\u001b[0;32m    875\u001b[0m             \u001b[1;31m# we by definition only have the 0th axis\u001b[0m\u001b[1;33m\u001b[0m\u001b[1;33m\u001b[0m\u001b[1;33m\u001b[0m\u001b[0m\n",
      "\u001b[1;32mF:\\program\\anaconda\\lib\\site-packages\\pandas\\core\\indexing.py\u001b[0m in \u001b[0;36m_getitem_tuple\u001b[1;34m(self, tup)\u001b[0m\n\u001b[0;32m   1042\u001b[0m     \u001b[1;32mdef\u001b[0m \u001b[0m_getitem_tuple\u001b[0m\u001b[1;33m(\u001b[0m\u001b[0mself\u001b[0m\u001b[1;33m,\u001b[0m \u001b[0mtup\u001b[0m\u001b[1;33m:\u001b[0m \u001b[0mTuple\u001b[0m\u001b[1;33m)\u001b[0m\u001b[1;33m:\u001b[0m\u001b[1;33m\u001b[0m\u001b[1;33m\u001b[0m\u001b[0m\n\u001b[0;32m   1043\u001b[0m         \u001b[1;32mtry\u001b[0m\u001b[1;33m:\u001b[0m\u001b[1;33m\u001b[0m\u001b[1;33m\u001b[0m\u001b[0m\n\u001b[1;32m-> 1044\u001b[1;33m             \u001b[1;32mreturn\u001b[0m \u001b[0mself\u001b[0m\u001b[1;33m.\u001b[0m\u001b[0m_getitem_lowerdim\u001b[0m\u001b[1;33m(\u001b[0m\u001b[0mtup\u001b[0m\u001b[1;33m)\u001b[0m\u001b[1;33m\u001b[0m\u001b[1;33m\u001b[0m\u001b[0m\n\u001b[0m\u001b[0;32m   1045\u001b[0m         \u001b[1;32mexcept\u001b[0m \u001b[0mIndexingError\u001b[0m\u001b[1;33m:\u001b[0m\u001b[1;33m\u001b[0m\u001b[1;33m\u001b[0m\u001b[0m\n\u001b[0;32m   1046\u001b[0m             \u001b[1;32mpass\u001b[0m\u001b[1;33m\u001b[0m\u001b[1;33m\u001b[0m\u001b[0m\n",
      "\u001b[1;32mF:\\program\\anaconda\\lib\\site-packages\\pandas\\core\\indexing.py\u001b[0m in \u001b[0;36m_getitem_lowerdim\u001b[1;34m(self, tup)\u001b[0m\n\u001b[0;32m    784\u001b[0m                 \u001b[1;31m# We don't need to check for tuples here because those are\u001b[0m\u001b[1;33m\u001b[0m\u001b[1;33m\u001b[0m\u001b[1;33m\u001b[0m\u001b[0m\n\u001b[0;32m    785\u001b[0m                 \u001b[1;31m#  caught by the _is_nested_tuple_indexer check above.\u001b[0m\u001b[1;33m\u001b[0m\u001b[1;33m\u001b[0m\u001b[1;33m\u001b[0m\u001b[0m\n\u001b[1;32m--> 786\u001b[1;33m                 \u001b[0msection\u001b[0m \u001b[1;33m=\u001b[0m \u001b[0mself\u001b[0m\u001b[1;33m.\u001b[0m\u001b[0m_getitem_axis\u001b[0m\u001b[1;33m(\u001b[0m\u001b[0mkey\u001b[0m\u001b[1;33m,\u001b[0m \u001b[0maxis\u001b[0m\u001b[1;33m=\u001b[0m\u001b[0mi\u001b[0m\u001b[1;33m)\u001b[0m\u001b[1;33m\u001b[0m\u001b[1;33m\u001b[0m\u001b[0m\n\u001b[0m\u001b[0;32m    787\u001b[0m \u001b[1;33m\u001b[0m\u001b[0m\n\u001b[0;32m    788\u001b[0m                 \u001b[1;31m# We should never have a scalar section here, because\u001b[0m\u001b[1;33m\u001b[0m\u001b[1;33m\u001b[0m\u001b[1;33m\u001b[0m\u001b[0m\n",
      "\u001b[1;32mF:\\program\\anaconda\\lib\\site-packages\\pandas\\core\\indexing.py\u001b[0m in \u001b[0;36m_getitem_axis\u001b[1;34m(self, key, axis)\u001b[0m\n\u001b[0;32m   1108\u001b[0m         \u001b[1;31m# fall thru to straight lookup\u001b[0m\u001b[1;33m\u001b[0m\u001b[1;33m\u001b[0m\u001b[1;33m\u001b[0m\u001b[0m\n\u001b[0;32m   1109\u001b[0m         \u001b[0mself\u001b[0m\u001b[1;33m.\u001b[0m\u001b[0m_validate_key\u001b[0m\u001b[1;33m(\u001b[0m\u001b[0mkey\u001b[0m\u001b[1;33m,\u001b[0m \u001b[0maxis\u001b[0m\u001b[1;33m)\u001b[0m\u001b[1;33m\u001b[0m\u001b[1;33m\u001b[0m\u001b[0m\n\u001b[1;32m-> 1110\u001b[1;33m         \u001b[1;32mreturn\u001b[0m \u001b[0mself\u001b[0m\u001b[1;33m.\u001b[0m\u001b[0m_get_label\u001b[0m\u001b[1;33m(\u001b[0m\u001b[0mkey\u001b[0m\u001b[1;33m,\u001b[0m \u001b[0maxis\u001b[0m\u001b[1;33m=\u001b[0m\u001b[0maxis\u001b[0m\u001b[1;33m)\u001b[0m\u001b[1;33m\u001b[0m\u001b[1;33m\u001b[0m\u001b[0m\n\u001b[0m\u001b[0;32m   1111\u001b[0m \u001b[1;33m\u001b[0m\u001b[0m\n\u001b[0;32m   1112\u001b[0m     \u001b[1;32mdef\u001b[0m \u001b[0m_get_slice_axis\u001b[0m\u001b[1;33m(\u001b[0m\u001b[0mself\u001b[0m\u001b[1;33m,\u001b[0m \u001b[0mslice_obj\u001b[0m\u001b[1;33m:\u001b[0m \u001b[0mslice\u001b[0m\u001b[1;33m,\u001b[0m \u001b[0maxis\u001b[0m\u001b[1;33m:\u001b[0m \u001b[0mint\u001b[0m\u001b[1;33m)\u001b[0m\u001b[1;33m:\u001b[0m\u001b[1;33m\u001b[0m\u001b[1;33m\u001b[0m\u001b[0m\n",
      "\u001b[1;32mF:\\program\\anaconda\\lib\\site-packages\\pandas\\core\\indexing.py\u001b[0m in \u001b[0;36m_get_label\u001b[1;34m(self, label, axis)\u001b[0m\n\u001b[0;32m   1057\u001b[0m     \u001b[1;32mdef\u001b[0m \u001b[0m_get_label\u001b[0m\u001b[1;33m(\u001b[0m\u001b[0mself\u001b[0m\u001b[1;33m,\u001b[0m \u001b[0mlabel\u001b[0m\u001b[1;33m,\u001b[0m \u001b[0maxis\u001b[0m\u001b[1;33m:\u001b[0m \u001b[0mint\u001b[0m\u001b[1;33m)\u001b[0m\u001b[1;33m:\u001b[0m\u001b[1;33m\u001b[0m\u001b[1;33m\u001b[0m\u001b[0m\n\u001b[0;32m   1058\u001b[0m         \u001b[1;31m# GH#5667 this will fail if the label is not present in the axis.\u001b[0m\u001b[1;33m\u001b[0m\u001b[1;33m\u001b[0m\u001b[1;33m\u001b[0m\u001b[0m\n\u001b[1;32m-> 1059\u001b[1;33m         \u001b[1;32mreturn\u001b[0m \u001b[0mself\u001b[0m\u001b[1;33m.\u001b[0m\u001b[0mobj\u001b[0m\u001b[1;33m.\u001b[0m\u001b[0mxs\u001b[0m\u001b[1;33m(\u001b[0m\u001b[0mlabel\u001b[0m\u001b[1;33m,\u001b[0m \u001b[0maxis\u001b[0m\u001b[1;33m=\u001b[0m\u001b[0maxis\u001b[0m\u001b[1;33m)\u001b[0m\u001b[1;33m\u001b[0m\u001b[1;33m\u001b[0m\u001b[0m\n\u001b[0m\u001b[0;32m   1060\u001b[0m \u001b[1;33m\u001b[0m\u001b[0m\n\u001b[0;32m   1061\u001b[0m     \u001b[1;32mdef\u001b[0m \u001b[0m_handle_lowerdim_multi_index_axis0\u001b[0m\u001b[1;33m(\u001b[0m\u001b[0mself\u001b[0m\u001b[1;33m,\u001b[0m \u001b[0mtup\u001b[0m\u001b[1;33m:\u001b[0m \u001b[0mTuple\u001b[0m\u001b[1;33m)\u001b[0m\u001b[1;33m:\u001b[0m\u001b[1;33m\u001b[0m\u001b[1;33m\u001b[0m\u001b[0m\n",
      "\u001b[1;32mF:\\program\\anaconda\\lib\\site-packages\\pandas\\core\\generic.py\u001b[0m in \u001b[0;36mxs\u001b[1;34m(self, key, axis, level, drop_level)\u001b[0m\n\u001b[0;32m   3489\u001b[0m             \u001b[0mloc\u001b[0m\u001b[1;33m,\u001b[0m \u001b[0mnew_index\u001b[0m \u001b[1;33m=\u001b[0m \u001b[0mself\u001b[0m\u001b[1;33m.\u001b[0m\u001b[0mindex\u001b[0m\u001b[1;33m.\u001b[0m\u001b[0mget_loc_level\u001b[0m\u001b[1;33m(\u001b[0m\u001b[0mkey\u001b[0m\u001b[1;33m,\u001b[0m \u001b[0mdrop_level\u001b[0m\u001b[1;33m=\u001b[0m\u001b[0mdrop_level\u001b[0m\u001b[1;33m)\u001b[0m\u001b[1;33m\u001b[0m\u001b[1;33m\u001b[0m\u001b[0m\n\u001b[0;32m   3490\u001b[0m         \u001b[1;32melse\u001b[0m\u001b[1;33m:\u001b[0m\u001b[1;33m\u001b[0m\u001b[1;33m\u001b[0m\u001b[0m\n\u001b[1;32m-> 3491\u001b[1;33m             \u001b[0mloc\u001b[0m \u001b[1;33m=\u001b[0m \u001b[0mself\u001b[0m\u001b[1;33m.\u001b[0m\u001b[0mindex\u001b[0m\u001b[1;33m.\u001b[0m\u001b[0mget_loc\u001b[0m\u001b[1;33m(\u001b[0m\u001b[0mkey\u001b[0m\u001b[1;33m)\u001b[0m\u001b[1;33m\u001b[0m\u001b[1;33m\u001b[0m\u001b[0m\n\u001b[0m\u001b[0;32m   3492\u001b[0m \u001b[1;33m\u001b[0m\u001b[0m\n\u001b[0;32m   3493\u001b[0m             \u001b[1;32mif\u001b[0m \u001b[0misinstance\u001b[0m\u001b[1;33m(\u001b[0m\u001b[0mloc\u001b[0m\u001b[1;33m,\u001b[0m \u001b[0mnp\u001b[0m\u001b[1;33m.\u001b[0m\u001b[0mndarray\u001b[0m\u001b[1;33m)\u001b[0m\u001b[1;33m:\u001b[0m\u001b[1;33m\u001b[0m\u001b[1;33m\u001b[0m\u001b[0m\n",
      "\u001b[1;32mF:\\program\\anaconda\\lib\\site-packages\\pandas\\core\\indexes\\base.py\u001b[0m in \u001b[0;36mget_loc\u001b[1;34m(self, key, method, tolerance)\u001b[0m\n\u001b[0;32m   2895\u001b[0m                 \u001b[1;32mreturn\u001b[0m \u001b[0mself\u001b[0m\u001b[1;33m.\u001b[0m\u001b[0m_engine\u001b[0m\u001b[1;33m.\u001b[0m\u001b[0mget_loc\u001b[0m\u001b[1;33m(\u001b[0m\u001b[0mcasted_key\u001b[0m\u001b[1;33m)\u001b[0m\u001b[1;33m\u001b[0m\u001b[1;33m\u001b[0m\u001b[0m\n\u001b[0;32m   2896\u001b[0m             \u001b[1;32mexcept\u001b[0m \u001b[0mKeyError\u001b[0m \u001b[1;32mas\u001b[0m \u001b[0merr\u001b[0m\u001b[1;33m:\u001b[0m\u001b[1;33m\u001b[0m\u001b[1;33m\u001b[0m\u001b[0m\n\u001b[1;32m-> 2897\u001b[1;33m                 \u001b[1;32mraise\u001b[0m \u001b[0mKeyError\u001b[0m\u001b[1;33m(\u001b[0m\u001b[0mkey\u001b[0m\u001b[1;33m)\u001b[0m \u001b[1;32mfrom\u001b[0m \u001b[0merr\u001b[0m\u001b[1;33m\u001b[0m\u001b[1;33m\u001b[0m\u001b[0m\n\u001b[0m\u001b[0;32m   2898\u001b[0m \u001b[1;33m\u001b[0m\u001b[0m\n\u001b[0;32m   2899\u001b[0m         \u001b[1;32mif\u001b[0m \u001b[0mtolerance\u001b[0m \u001b[1;32mis\u001b[0m \u001b[1;32mnot\u001b[0m \u001b[1;32mNone\u001b[0m\u001b[1;33m:\u001b[0m\u001b[1;33m\u001b[0m\u001b[1;33m\u001b[0m\u001b[0m\n",
      "\u001b[1;31mKeyError\u001b[0m: 17"
     ]
    }
   ],
   "source": [
    "    for i in range(file_count):\n",
    "        \n",
    "        file_name = file_list[i]\n",
    "        delete_csv_name = file_name[:-4]\n",
    "        print(delete_csv_name)\n",
    "        \n",
    "        df = pd.read_csv(file_name, encoding = 'utf8')\n",
    "        \n",
    "        max_cell = max(df['CellNo'])\n",
    "        df_full_len = len(df)\n",
    "        change_num = 0\n",
    "        ch_times = []\n",
    "        \n",
    "        #df = df.interpolate(method='linear', limit_direction='forward')\n",
    "        \n",
    "        for cell_cnt in range(max_cell):\n",
    "            \n",
    "            #1. 셀 분리\n",
    "            newf_cell = cell_separate(df, cell_cnt)\n",
    "            \n",
    "            #2. 결측치 처리\n",
    "            newf_cell = newf_cell.interpolate(method='linear', limit_direction='forward')\n",
    "            \n",
    "            df_len = len(newf_cell)\n",
    "            \n",
    "            #3. 셀 교체 확인\n",
    "            for df_len_cnt in range(df_len):\n",
    "                \n",
    "                if (df_len_cnt >= (x_offset + 1)) & (df_len_cnt <= (df_len-x_offset)) :\n",
    "                    \n",
    "                    total_error_bef = 0\n",
    "                    total_error_next = 0\n",
    "                    total_error = 0\n",
    "                    test_error = abs((newf_cell.loc[df_len_cnt+1, noise_column]-newf_cell.loc[df_len_cnt, noise_column])/newf_cell.loc[df_len_cnt, noise_column]*100)\n",
    "                    \n",
    "                    if test_error >= y_offset:\n",
    "                        for h in range(x_offset): \n",
    "                            error_bef = abs((newf_cell.loc[df_len_cnt+(h+1), noise_column]-newf_cell.loc[df_len_cnt, noise_column])/newf_cell.loc[df_len_cnt, noise_column]*100)\n",
    "                            error_next = abs((newf_cell.loc[df_len_cnt-(h+1), noise_column]-newf_cell.loc[df_len_cnt, noise_column])/newf_cell.loc[df_len_cnt, noise_column]*100)\n",
    "                            \n",
    "                            total_error_bef += error_bef\n",
    "                            total_error_next += error_next\n",
    "                            \n",
    "                            if error_bef>=y_offset:\n",
    "                                total_error += 1\n",
    "                            if error_next>=y_offset:\n",
    "                                total_error += 1\n",
    "                            if h==9:\n",
    "                                change_check_rate = abs((total_error_bef-total_error_next)/total_error_next*100)\n",
    "                                if change_check_rate >=diff_offset :\n",
    "                                    change_check = True\n",
    "                                else:\n",
    "                                    change_check = False\n",
    "                                print('df_len_cnt:', df_len_cnt, ' H:', h+1, ' Total error:', total_error,\n",
    "                                      'Error check: ', change_check_rate, change_check)\n",
    "                            \n",
    "                        #위치 확인\n",
    "                        if (total_error > total_error_offset)& (change_check==True):\n",
    "                            print('******CHANGE TIMES')\n",
    "                            if change_num == 0:\n",
    "                                change_num += 1\n",
    "                                ch_times.append(df_len_cnt+1)\n",
    "                                print('ch_times : ', ch_times, 'ch_num : ', change_num,\n",
    "                                      'Resist : ', df.loc[df_len_cnt, noise_column])\n",
    "                            if (change_num >=1) & (ch_times[change_num-1]+10<=df_len_cnt):\n",
    "                                change_num += 1\n",
    "                                ch_times.append(df_len_cnt+1)\n",
    "                                print('ch_times : ', ch_times, 'ch_num : ', change_num,\n",
    "                                      'Resist : ', df.loc[df_len_cnt, noise_column])\n",
    "                                \n",
    "            ch_times.insert(0, None)\n",
    "            ch_times.append(None)\n",
    "            print('CHECK TIMES')\n",
    "            print(ch_times)\n",
    "            \n",
    "            for cell_ch_cnt in range(change_num+1):\n",
    "                \n",
    "                KFOX = 'X'\n",
    "                ULLOX = 'X'\n",
    "                newf_ch_cell = newf_cell.iloc[ch_times[cell_ch_cnt]:ch_times[cell_ch_cnt + 1], :]\n",
    "                \n",
    "                if KF == 1:\n",
    "                    newf_ch_cell = kalman_filter(newf_ch_cell, noise_column, _filter)\n",
    "                    KFOX = 'O'\n",
    "                \n",
    "                if ULL == 1:\n",
    "                    newf_ch_cell = UpperLowerLimit(newf_ch_cell)\n",
    "                    ULLOX = 'X'\n",
    "                    \n",
    "                os.chdir(save_path)\n",
    "                save_file = delete_csv_name + '_' + str(cell_cnt+1).zfill(2) + '_replace_' + str(cell_ch_cnt+1).zfill(2) + '_KF_' + KFOX + '_ULL_' + ULLOX + '.csv'\n",
    "                newf_ch_cell.to_csv(save_file, index=False, encoding='utf8')\n",
    "                os.chdir(current_path)"
   ]
  },
  {
   "cell_type": "code",
   "execution_count": null,
   "metadata": {},
   "outputs": [],
   "source": []
  }
 ],
 "metadata": {
  "kernelspec": {
   "display_name": "Python 3",
   "language": "python",
   "name": "python3"
  },
  "language_info": {
   "codemirror_mode": {
    "name": "ipython",
    "version": 3
   },
   "file_extension": ".py",
   "mimetype": "text/x-python",
   "name": "python",
   "nbconvert_exporter": "python",
   "pygments_lexer": "ipython3",
   "version": "3.8.5"
  }
 },
 "nbformat": 4,
 "nbformat_minor": 5
}
