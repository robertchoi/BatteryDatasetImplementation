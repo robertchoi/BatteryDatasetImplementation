{
 "cells": [
  {
   "cell_type": "code",
   "execution_count": 1,
   "metadata": {},
   "outputs": [],
   "source": [
    "import os\n",
    "import pandas as pd\n",
    "import numpy as np"
   ]
  },
  {
   "cell_type": "code",
   "execution_count": 2,
   "metadata": {},
   "outputs": [],
   "source": [
    "def createFolder(directory):\n",
    "    #저장 폴더 생성\n",
    "    try:\n",
    "        if not os.path.exists(directory):\n",
    "            os.makedirs(directory)\n",
    "    except OSError:\n",
    "        print('Error: Creating directory' + directory)"
   ]
  },
  {
   "cell_type": "code",
   "execution_count": 3,
   "metadata": {},
   "outputs": [],
   "source": [
    "def changePath(directory):\n",
    "    #데이터 폴더 선택\n",
    "    current_path = os.getcwd()\n",
    "    change_path = current_path+directory\n",
    "    try:\n",
    "        if os.path.exists(directory[1:]):\n",
    "            os.chdir(change_path)\n",
    "    except OSError:\n",
    "        print('Error: Changing Path ' + directory)"
   ]
  },
  {
   "cell_type": "code",
   "execution_count": 4,
   "metadata": {},
   "outputs": [],
   "source": [
    "def cell_separate(df, cell_cnt):\n",
    "    cell_index = df.index[df['CellNo']==(cell_cnt+1)].tolist()\n",
    "    df_cell = df.iloc[cell_index, :]\n",
    "    newf_cell = df_cell[column_list]\n",
    "    \n",
    "    return newf_cell"
   ]
  },
  {
   "cell_type": "code",
   "execution_count": 5,
   "metadata": {},
   "outputs": [],
   "source": [
    "# Initialization for system model.\n",
    "A = 1\n",
    "H = 1\n",
    "Q = 0.1\n",
    "R = 7\n",
    "# Initialization for estimation.\n",
    "x_0 = 10  # 14 for book.\n",
    "P_0 = 6\n",
    "\n",
    "def _filter(z_meas, x_esti, P):\n",
    "    \"\"\"Kalman Filter Algorithm for One Variable.\"\"\"\n",
    "    # (1) Prediction.\n",
    "    x_pred = A * x_esti\n",
    "    P_pred = A * P * A + Q\n",
    "\n",
    "    # (2) Kalman Gain.\n",
    "    K = P_pred * H / (H * P_pred * H + R)\n",
    "\n",
    "    # (3) Estimation.\n",
    "    x_esti = x_pred + K * (z_meas - H * x_pred)\n",
    "\n",
    "    # (4) Error Covariance.\n",
    "    P = P_pred - K * H * P_pred\n",
    "\n",
    "    return x_esti, P\n",
    "\n",
    "def kalman_filter(df, noise_column, _filter):\n",
    "    df_len = len(df)\n",
    "    x_0 = df.loc[0, noise_column]\n",
    "    r_meas_save = np.zeros(df_len)\n",
    "    r_esti_save = np.zeros(df_len)\n",
    "    \n",
    "    x_esti, P = None, None\n",
    "    for j in range(df_len):\n",
    "        r_meas = df.loc[j, noise_column]\n",
    "        if j == 0 :\n",
    "            x_esti, P = x_0, P_0\n",
    "        else:\n",
    "            x_esti, P = _filter(r_meas, x_esti, P)\n",
    "        r_meas_save[j] = r_meas\n",
    "        r_esti_save[j] = x_esti\n",
    "        \n",
    "    df.loc[:, noise_column] = r_esti_save\n",
    "    \n",
    "    return df"
   ]
  },
  {
   "cell_type": "code",
   "execution_count": 6,
   "metadata": {},
   "outputs": [],
   "source": [
    "def UpperLowerLimit(df):\n",
    "    df_len = len(df)\n",
    "    \n",
    "    for i in range(df_len):\n",
    "        if not i==(df_len-1):\n",
    "            if not df.loc[i+1, noise_column]==None:\n",
    "                error = ((df.loc[i+1, noise_column]-df.loc[i, noise_column])/df.loc[i, noise_column])\n",
    "                \n",
    "                if i==0:\n",
    "                    fix_rate = 0\n",
    "                if i>=1:\n",
    "                    fix_rate = abs((df.loc[i, noise_column]-df.loc[i-1, noise_column])/df.loc[i-1, noise_column])\n",
    "\n",
    "            if abs(error)>=0.2:\n",
    "                if error < 0:\n",
    "                    df.loc[i+1, noise_column] = df.loc[i, noise_column]*(1-fix_rate)\n",
    "                if error > 0:\n",
    "                    df.loc[i+1, noise_column] = df.loc[i, noise_column]*(1+fix_rate)\n",
    "                    \n",
    "    return df"
   ]
  },
  {
   "cell_type": "code",
   "execution_count": 7,
   "metadata": {},
   "outputs": [
    {
     "name": "stdout",
     "output_type": "stream",
     "text": [
      "생성 폴더 이름 : \n",
      "test2\n",
      "F:\\Personal\\BatteryDatasetImplementation-master\\omona\\work010\n",
      "셀분리 데이터 폴더 입력(\\ 포함)\n",
      "\\testdata\n",
      "F:\\Personal\\BatteryDatasetImplementation-master\\omona\\work010\\testdata\n"
     ]
    }
   ],
   "source": [
    "if __name__ =='__main__':\n",
    "    print('생성 폴더 이름 : ')\n",
    "    folder_name = input()\n",
    "    createFolder(folder_name)\n",
    "    current_path = os.getcwd()\n",
    "    print(current_path)\n",
    "    print('셀분리 데이터 폴더 입력(\\ 포함)')\n",
    "    data_folder_path = input()\n",
    "    changePath(data_folder_path) #상하제한 수정할 데이터 폴더로 이동\n",
    "    print(os.getcwd())"
   ]
  },
  {
   "cell_type": "code",
   "execution_count": 8,
   "metadata": {},
   "outputs": [
    {
     "name": "stdout",
     "output_type": "stream",
     "text": [
      "셀 교체 diff offset(20):\n",
      "20\n",
      "셀 교체 y_offset(25):\n",
      "20\n",
      "셀 교체 x_offset(15):\n",
      "15\n",
      "셀 교체 total_error_offset(12):\n",
      "12\n",
      "데이터 파일 선택 경로 전체:1 선택:0 :\n",
      "1\n",
      "칼만필터 적용 여부 yes:1 no:0 :\n",
      "1\n",
      "상하제한 적용 여부 yes:1 no:0 :\n",
      "0\n"
     ]
    }
   ],
   "source": [
    "    print('셀 교체 diff offset(20):')\n",
    "    diff_offset = int(input())\n",
    "    print('셀 교체 y_offset(25):')\n",
    "    y_offset = int(input())\n",
    "    print('셀 교체 x_offset(15):')\n",
    "    x_offset = int(input())\n",
    "    print('셀 교체 total_error_offset(12):')\n",
    "    total_error_offset = int(input())\n",
    "    print('데이터 파일 선택 경로 전체:1 선택:0 :')\n",
    "    data_select = input()\n",
    "    print('칼만필터 적용 여부 yes:1 no:0 :')\n",
    "    KF = int(input())\n",
    "    print('상하제한 적용 여부 yes:1 no:0 :')\n",
    "    ULL = int(input())"
   ]
  },
  {
   "cell_type": "code",
   "execution_count": 9,
   "metadata": {},
   "outputs": [
    {
     "name": "stdout",
     "output_type": "stream",
     "text": [
      "['m2_s2_bank_01c70366fc4e1a439e0b4516698baadf__site_40ab7c891c559b478e96f8bb5c682ca0.csv']\n"
     ]
    }
   ],
   "source": [
    "    if data_select == '1':\n",
    "        file_list = os.listdir(os.getcwd())\n",
    "        print(file_list)\n",
    "    if data_select == '0':\n",
    "        print(*os.listdir(os.getcwd()), sep='\\n')\n",
    "        print('SELECT DATA FILE : ')\n",
    "        file_list = []\n",
    "        select_file = input()\n",
    "        file_list.append(select_file)\n",
    "        print(file_list)"
   ]
  },
  {
   "cell_type": "code",
   "execution_count": 10,
   "metadata": {},
   "outputs": [
    {
     "name": "stdout",
     "output_type": "stream",
     "text": [
      "1\n",
      "F:\\Personal\\BatteryDatasetImplementation-master\\omona\\work010\\test2\n",
      "F:\\Personal\\BatteryDatasetImplementation-master\\omona\\work010\\testdata\n"
     ]
    }
   ],
   "source": [
    "    file_count = len(file_list)\n",
    "    print(file_count)\n",
    "    save_path = current_path + '\\\\' + folder_name\n",
    "    print(save_path)\n",
    "    current_path = os.getcwd()\n",
    "    print(current_path)"
   ]
  },
  {
   "cell_type": "code",
   "execution_count": 11,
   "metadata": {},
   "outputs": [],
   "source": [
    "    noise_column = 'ResistValue'\n",
    "    column_list = ['KeyTime', 'ResistValue', 'VoltValue', 'TempValue']"
   ]
  },
  {
   "cell_type": "code",
   "execution_count": 12,
   "metadata": {},
   "outputs": [
    {
     "name": "stdout",
     "output_type": "stream",
     "text": [
      "m2_s2_bank_01c70366fc4e1a439e0b4516698baadf__site_40ab7c891c559b478e96f8bb5c682ca0\n",
      "df_len_cnt: 184  H: 10  Total error: 10 Error check:  186.9757174392941 True\n",
      "******CHANGE TIMES\n",
      "ch_times :  [185] ch_num :  1 Resist :  0.545\n",
      "CHECK TIMES\n",
      "[None, 185, None]\n",
      "adf\n",
      "185\n",
      "              KeyTime  ResistValue  VoltValue  TempValue\n",
      "0     2020-02-15 2:02        0.181       4.47       17.3\n",
      "1    2020-02-15 14:02        0.180       4.47       17.7\n",
      "2     2020-02-16 2:01        0.184       4.47       17.2\n",
      "3    2020-02-16 14:00        0.184       4.47       18.1\n",
      "4     2020-02-17 2:00        0.175       4.47       18.0\n",
      "..                ...          ...        ...        ...\n",
      "180   2020-07-02 4:58        0.586       4.47       17.8\n",
      "181  2020-07-02 16:57        0.585       4.47       18.1\n",
      "182   2020-07-03 4:57        0.586       4.47       17.8\n",
      "183  2020-07-03 13:10        0.601       4.46       18.6\n",
      "184  2020-07-03 13:17        0.545       4.46       18.6\n",
      "\n",
      "[185 rows x 4 columns]\n",
      "adf\n",
      "None\n",
      "              KeyTime  ResistValue  VoltValue  TempValue\n",
      "0    2020-07-03 13:25        0.418       4.46       18.6\n",
      "1    2020-07-03 13:31        0.422       4.47       18.6\n",
      "2     2020-07-04 1:31        0.418       4.47       18.0\n",
      "3    2020-07-04 13:30        0.417       4.46       18.2\n",
      "4     2020-07-05 1:30        0.417       4.46       17.9\n",
      "..                ...          ...        ...        ...\n",
      "359   2021-02-01 8:50        0.420       4.47       22.5\n",
      "360  2021-02-01 20:49        0.418       4.46       22.4\n",
      "361   2021-02-02 8:49        0.416       4.46       22.6\n",
      "362  2021-02-02 20:48        0.415       4.47       22.5\n",
      "363   2021-02-03 8:48        0.410       4.46       22.5\n",
      "\n",
      "[364 rows x 4 columns]\n",
      "df_len_cnt: 182  H: 10  Total error: 9 Error check:  10507.692307692301 True\n",
      "******CHANGE TIMES\n"
     ]
    },
    {
     "ename": "IndexError",
     "evalue": "list index out of range",
     "output_type": "error",
     "traceback": [
      "\u001b[1;31m---------------------------------------------------------------------------\u001b[0m",
      "\u001b[1;31mIndexError\u001b[0m                                Traceback (most recent call last)",
      "\u001b[1;32m<ipython-input-12-a4fdf09e19d3>\u001b[0m in \u001b[0;36m<module>\u001b[1;34m\u001b[0m\n\u001b[0;32m     66\u001b[0m                             print('ch_times : ', ch_times, 'ch_num : ', change_num,\n\u001b[0;32m     67\u001b[0m                                   'Resist : ', newf_cell.loc[df_len_cnt, noise_column])\n\u001b[1;32m---> 68\u001b[1;33m                         \u001b[1;32mif\u001b[0m \u001b[1;33m(\u001b[0m\u001b[0mchange_num\u001b[0m \u001b[1;33m>=\u001b[0m\u001b[1;36m1\u001b[0m\u001b[1;33m)\u001b[0m \u001b[1;33m&\u001b[0m \u001b[1;33m(\u001b[0m\u001b[0mch_times\u001b[0m\u001b[1;33m[\u001b[0m\u001b[0mchange_num\u001b[0m\u001b[1;33m-\u001b[0m\u001b[1;36m1\u001b[0m\u001b[1;33m]\u001b[0m\u001b[1;33m+\u001b[0m\u001b[1;36m10\u001b[0m\u001b[1;33m<=\u001b[0m\u001b[0mdf_len_cnt\u001b[0m\u001b[1;33m)\u001b[0m\u001b[1;33m:\u001b[0m\u001b[1;33m\u001b[0m\u001b[1;33m\u001b[0m\u001b[0m\n\u001b[0m\u001b[0;32m     69\u001b[0m                             \u001b[0mchange_num\u001b[0m \u001b[1;33m+=\u001b[0m \u001b[1;36m1\u001b[0m\u001b[1;33m\u001b[0m\u001b[1;33m\u001b[0m\u001b[0m\n\u001b[0;32m     70\u001b[0m                             \u001b[0mch_times\u001b[0m\u001b[1;33m.\u001b[0m\u001b[0mappend\u001b[0m\u001b[1;33m(\u001b[0m\u001b[0mdf_len_cnt\u001b[0m\u001b[1;33m+\u001b[0m\u001b[1;36m1\u001b[0m\u001b[1;33m)\u001b[0m\u001b[1;33m\u001b[0m\u001b[1;33m\u001b[0m\u001b[0m\n",
      "\u001b[1;31mIndexError\u001b[0m: list index out of range"
     ]
    }
   ],
   "source": [
    "    for i in range(file_count):\n",
    "        \n",
    "        file_name = file_list[i]\n",
    "        delete_csv_name = file_name[:-4]\n",
    "        print(delete_csv_name)\n",
    "        \n",
    "        df = pd.read_csv(file_name, encoding = 'utf8')\n",
    "        \n",
    "        max_cell = max(df['CellNo'])\n",
    "        df_full_len = len(df)\n",
    "        \n",
    "        #df = df.interpolate(method='linear', limit_direction='forward')\n",
    "        \n",
    "        for cell_cnt in range(max_cell):\n",
    "            \n",
    "            ch_times = []\n",
    "            change_num = 0\n",
    "            \n",
    "            #1. 셀 분리\n",
    "            newf_cell = cell_separate(df, cell_cnt)\n",
    "            \n",
    "            #2. 결측치 처리\n",
    "            newf_cell = newf_cell.interpolate(method='linear', limit_direction='forward')\n",
    "            \n",
    "            newf_cell = newf_cell.reset_index(drop=True)\n",
    "            \n",
    "            df_len = len(newf_cell)\n",
    "            \n",
    "            #3. 셀 교체 확인\n",
    "            for df_len_cnt in range(df_len):\n",
    "                \n",
    "                if (df_len_cnt >= (x_offset + 1)) & (df_len_cnt <= (df_len-x_offset)) :\n",
    "                    \n",
    "                    total_error_bef = 0\n",
    "                    total_error_next = 0\n",
    "                    total_error = 0\n",
    "                    test_error = abs((newf_cell.loc[df_len_cnt+1, noise_column]-newf_cell.loc[df_len_cnt, noise_column])/newf_cell.loc[df_len_cnt, noise_column]*100)\n",
    "                    \n",
    "                    if test_error >= y_offset:\n",
    "                        for h in range(x_offset): \n",
    "                            error_bef = abs((newf_cell.loc[df_len_cnt+(h+1), noise_column]-newf_cell.loc[df_len_cnt, noise_column])/newf_cell.loc[df_len_cnt, noise_column]*100)\n",
    "                            error_next = abs((newf_cell.loc[df_len_cnt-(h+1), noise_column]-newf_cell.loc[df_len_cnt, noise_column])/newf_cell.loc[df_len_cnt, noise_column]*100)\n",
    "                            \n",
    "                            total_error_bef += error_bef\n",
    "                            total_error_next += error_next\n",
    "                            \n",
    "                            if error_bef>=y_offset:\n",
    "                                total_error += 1\n",
    "                            if error_next>=y_offset:\n",
    "                                total_error += 1\n",
    "                            if h==9:\n",
    "                                change_check_rate = abs((total_error_bef-total_error_next)/total_error_next*100)\n",
    "                                if change_check_rate >=diff_offset :\n",
    "                                    change_check = True\n",
    "                                else:\n",
    "                                    change_check = False\n",
    "                                print('df_len_cnt:', df_len_cnt, ' H:', h+1, ' Total error:', total_error,\n",
    "                                      'Error check: ', change_check_rate, change_check)\n",
    "                            \n",
    "                        #위치 확인\n",
    "                        if (total_error > total_error_offset)& (change_check==True):\n",
    "                            print('******CHANGE TIMES')\n",
    "                            if change_num == 0:\n",
    "                                change_num += 1\n",
    "                                ch_times.append(df_len_cnt+1)\n",
    "                                print('ch_times : ', ch_times, 'ch_num : ', change_num,\n",
    "                                      'Resist : ', newf_cell.loc[df_len_cnt, noise_column])\n",
    "                            if (change_num >=1) & (ch_times[change_num-1]+10<=df_len_cnt):\n",
    "                                change_num += 1\n",
    "                                ch_times.append(df_len_cnt+1)\n",
    "                                print('ch_times : ', ch_times, 'ch_num : ', change_num,\n",
    "                                      'Resist : ', newf_cell.loc[df_len_cnt, noise_column])\n",
    "                                \n",
    "            ch_times.insert(0, None)\n",
    "            ch_times.append(None)\n",
    "            print('CHECK TIMES')\n",
    "            print(ch_times)\n",
    "            \n",
    "            for cell_ch_cnt in range(change_num+1):\n",
    "                \n",
    "                KFOX = 'X'\n",
    "                ULLOX = 'X'\n",
    "                print('adf')\n",
    "                print(ch_times[cell_ch_cnt+1])\n",
    "                \n",
    "                newf_ch_cell = newf_cell.iloc[ch_times[cell_ch_cnt]:ch_times[cell_ch_cnt + 1], :]\n",
    "                \n",
    "                newf_ch_cell = newf_ch_cell.reset_index(drop=True)\n",
    "                    \n",
    "                print(newf_ch_cell)\n",
    "\n",
    "                \n",
    "                if KF == 1:\n",
    "                    newf_ch_cell = kalman_filter(newf_ch_cell, noise_column, _filter)\n",
    "                    KFOX = 'O'\n",
    "                \n",
    "                if ULL == 1:\n",
    "                    newf_ch_cell = UpperLowerLimit(newf_ch_cell)\n",
    "                    ULLOX = 'X'\n",
    "                    \n",
    "                os.chdir(save_path)\n",
    "                save_file = delete_csv_name + '_' + str(cell_cnt+1).zfill(2) + '_replace_' + str(cell_ch_cnt+1).zfill(2) + '_KF_' + KFOX + '_ULL_' + ULLOX + '.csv'\n",
    "                newf_ch_cell.to_csv(save_file, index=False, encoding='utf8')\n",
    "                os.chdir(current_path)"
   ]
  },
  {
   "cell_type": "code",
   "execution_count": null,
   "metadata": {},
   "outputs": [],
   "source": []
  }
 ],
 "metadata": {
  "kernelspec": {
   "display_name": "Python 3",
   "language": "python",
   "name": "python3"
  },
  "language_info": {
   "codemirror_mode": {
    "name": "ipython",
    "version": 3
   },
   "file_extension": ".py",
   "mimetype": "text/x-python",
   "name": "python",
   "nbconvert_exporter": "python",
   "pygments_lexer": "ipython3",
   "version": "3.8.5"
  }
 },
 "nbformat": 4,
 "nbformat_minor": 5
}
