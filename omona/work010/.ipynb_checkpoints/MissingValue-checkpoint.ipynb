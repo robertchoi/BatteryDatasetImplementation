{
 "cells": [
  {
   "cell_type": "code",
   "execution_count": 1,
   "metadata": {},
   "outputs": [],
   "source": [
    "import os\n",
    "import pandas as pd\n",
    "import numpy as np"
   ]
  },
  {
   "cell_type": "code",
   "execution_count": 2,
   "metadata": {},
   "outputs": [],
   "source": [
    "def createFolder(directory):\n",
    "    #저장 폴더 생성\n",
    "    try:\n",
    "        if not os.path.exists(directory):\n",
    "            os.makedirs(directory)\n",
    "    except OSError:\n",
    "        print('Error: Creating directory' + directory)"
   ]
  },
  {
   "cell_type": "code",
   "execution_count": 3,
   "metadata": {},
   "outputs": [],
   "source": [
    "def changePath(directory):\n",
    "    #데이터 폴더 선택\n",
    "    currentPath = os.getcwd()\n",
    "    change_path = currentPath+directory\n",
    "    try:\n",
    "        if os.path.exists(directory[1:]):\n",
    "            os.chdir(change_path)\n",
    "    except OSError:\n",
    "        print('Error: Changing Path ' + directory)"
   ]
  },
  {
   "cell_type": "code",
   "execution_count": 4,
   "metadata": {},
   "outputs": [
    {
     "name": "stdout",
     "output_type": "stream",
     "text": [
      "F:\\Personal\\BatteryDatasetImplementation-master\\omona\\work010\n",
      "결측치 제거 데이터 폴더 입력(\\ 포함)\n",
      "\\data\n",
      "F:\\Personal\\BatteryDatasetImplementation-master\\omona\\work010\\data\n"
     ]
    }
   ],
   "source": [
    "if __name__ =='__main__':\n",
    "    createFolder('결측치 제거')\n",
    "    currentPath = os.getcwd()\n",
    "    print(currentPath)\n",
    "    print('결측치 제거 데이터 폴더 입력(\\ 포함)')\n",
    "    data_folder_path = input()\n",
    "    changePath(data_folder_path) #결측치 수정할 데이터 폴더로 이동\n",
    "    print(os.getcwd())"
   ]
  },
  {
   "cell_type": "code",
   "execution_count": 5,
   "metadata": {},
   "outputs": [
    {
     "name": "stdout",
     "output_type": "stream",
     "text": [
      "F:\\Personal\\BatteryDatasetImplementation-master\\omona\\work010\\결측치 제거\n",
      "F:\\Personal\\BatteryDatasetImplementation-master\\omona\\work010\\data\n"
     ]
    }
   ],
   "source": [
    "    file_list = os.listdir(os.getcwd())\n",
    "    file_count = len(file_list)\n",
    "    save_path = currentPath + '\\결측치 제거'\n",
    "    print(save_path)\n",
    "    currentPath = os.getcwd()\n",
    "    print(currentPath)"
   ]
  },
  {
   "cell_type": "code",
   "execution_count": 6,
   "metadata": {},
   "outputs": [],
   "source": [
    "    for i in range(file_count):\n",
    "        \n",
    "        file_path = file_list[i]\n",
    "        delete_csv_path = file_path[:-4]\n",
    "        df = pd.read_csv(file_path, encoding='utf8')\n",
    "        df = df.interpolate(method='linear', limit_direction='forward')\n",
    "        \n",
    "        os.chdir(save_path)\n",
    "        df.to_csv(file_path, index=False, encoding='utf8')\n",
    "        os.chdir(currentPath)"
   ]
  }
 ],
 "metadata": {
  "kernelspec": {
   "display_name": "Python 3",
   "language": "python",
   "name": "python3"
  },
  "language_info": {
   "codemirror_mode": {
    "name": "ipython",
    "version": 3
   },
   "file_extension": ".py",
   "mimetype": "text/x-python",
   "name": "python",
   "nbconvert_exporter": "python",
   "pygments_lexer": "ipython3",
   "version": "3.8.5"
  }
 },
 "nbformat": 4,
 "nbformat_minor": 5
}
