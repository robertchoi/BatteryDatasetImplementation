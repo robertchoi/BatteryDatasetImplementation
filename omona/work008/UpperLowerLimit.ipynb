{
 "cells": [
  {
   "cell_type": "code",
   "execution_count": 3,
   "id": "parliamentary-reducing",
   "metadata": {},
   "outputs": [],
   "source": [
    "import os\n",
    "import pandas as pd\n",
    "import numpy as np"
   ]
  },
  {
   "cell_type": "code",
   "execution_count": 4,
   "id": "revolutionary-omaha",
   "metadata": {},
   "outputs": [],
   "source": [
    "def createFolder(directory):\n",
    "    #저장 폴더 생성\n",
    "    try:\n",
    "        if not os.path.exists(directory):\n",
    "            os.makedirs(directory)\n",
    "    except OSError:\n",
    "        print('Error: Creating directory' + directory)"
   ]
  },
  {
   "cell_type": "code",
   "execution_count": 5,
   "id": "medium-briefs",
   "metadata": {},
   "outputs": [],
   "source": [
    "def changePath(directory):\n",
    "    #데이터 폴더 선택\n",
    "    currentPath = os.getcwd()\n",
    "    change_path = currentPath+directory\n",
    "    try:\n",
    "        if os.path.exists(directory[1:]):\n",
    "            os.chdir(change_path)\n",
    "    except OSError:\n",
    "        print('Error: Changing Path ' + directory)"
   ]
  },
  {
   "cell_type": "code",
   "execution_count": 6,
   "id": "stylish-psychology",
   "metadata": {},
   "outputs": [
    {
     "name": "stdout",
     "output_type": "stream",
     "text": [
      "F:\\Personal\\BatteryDatasetImplementation-master\\omona\\work008\\DATA\n",
      "상하제한 데이터 폴더 입력(\\ 포함)\n",
      "\\결측치 제거\n",
      "F:\\Personal\\BatteryDatasetImplementation-master\\omona\\work008\\DATA\\결측치 제거\n"
     ]
    }
   ],
   "source": [
    "if __name__ =='__main__':\n",
    "    createFolder('상하제한')\n",
    "    currentPath = os.getcwd()\n",
    "    print(currentPath)\n",
    "    print('상하제한 데이터 폴더 입력(\\ 포함)')\n",
    "    data_folder_path = input()\n",
    "    changePath(data_folder_path) #상하제한 수정할 데이터 폴더로 이동\n",
    "    print(os.getcwd())"
   ]
  },
  {
   "cell_type": "code",
   "execution_count": 7,
   "id": "sealed-hostel",
   "metadata": {},
   "outputs": [
    {
     "name": "stdout",
     "output_type": "stream",
     "text": [
      "F:\\Personal\\BatteryDatasetImplementation-master\\omona\\work008\\DATA\\상하제한\n",
      "F:\\Personal\\BatteryDatasetImplementation-master\\omona\\work008\\DATA\\결측치 제거\n"
     ]
    }
   ],
   "source": [
    "    file_list = os.listdir(os.getcwd())\n",
    "    file_count = len(file_list)\n",
    "    save_path = currentPath + '\\상하제한'\n",
    "    print(save_path)\n",
    "    currentPath = os.getcwd()\n",
    "    print(currentPath)"
   ]
  },
  {
   "cell_type": "code",
   "execution_count": 8,
   "id": "excessive-citizen",
   "metadata": {},
   "outputs": [],
   "source": [
    "    noise_column = 'Resistance'"
   ]
  },
  {
   "cell_type": "code",
   "execution_count": 9,
   "id": "future-jimmy",
   "metadata": {},
   "outputs": [
    {
     "name": "stderr",
     "output_type": "stream",
     "text": [
      "<ipython-input-9-ebd4b59af7df>:11: RuntimeWarning: invalid value encountered in double_scalars\n",
      "  error = ((df.loc[i+1, noise_column]-df.loc[i, noise_column])/df.loc[i, noise_column])\n",
      "<ipython-input-9-ebd4b59af7df>:11: RuntimeWarning: divide by zero encountered in double_scalars\n",
      "  error = ((df.loc[i+1, noise_column]-df.loc[i, noise_column])/df.loc[i, noise_column])\n",
      "<ipython-input-9-ebd4b59af7df>:16: RuntimeWarning: invalid value encountered in double_scalars\n",
      "  fix_rate = abs((df.loc[i, noise_column]-df.loc[i-1, noise_column])/df.loc[i-1, noise_column])\n"
     ]
    }
   ],
   "source": [
    "    for i in range(file_count):\n",
    "        \n",
    "        file_path = file_list[i]\n",
    "        \n",
    "        df = pd.read_csv(file_path, encoding = 'utf8')\n",
    "        df_len = len(df)\n",
    "        \n",
    "        for i in range(df_len):\n",
    "            if not i==(df_len-1):\n",
    "                if not df.loc[i+1, noise_column]==None:\n",
    "                    error = ((df.loc[i+1, noise_column]-df.loc[i, noise_column])/df.loc[i, noise_column])\n",
    "                \n",
    "                    if i==0:\n",
    "                        fix_rate = 0\n",
    "                    if i>=1:\n",
    "                        fix_rate = abs((df.loc[i, noise_column]-df.loc[i-1, noise_column])/df.loc[i-1, noise_column])\n",
    "\n",
    "            if abs(error)>=0.2:\n",
    "                if error < 0:\n",
    "                    df.loc[i+1, noise_column] = df.loc[i, noise_column]*(1-fix_rate)\n",
    "                if error > 0:\n",
    "                    df.loc[i+1, noise_column] = df.loc[i, noise_column]*(1+fix_rate)\n",
    "                    \n",
    "        os.chdir(save_path)\n",
    "        df.to_csv(file_path, index=False, encoding='utf8')\n",
    "        os.chdir(currentPath)"
   ]
  }
 ],
 "metadata": {
  "kernelspec": {
   "display_name": "Python 3",
   "language": "python",
   "name": "python3"
  },
  "language_info": {
   "codemirror_mode": {
    "name": "ipython",
    "version": 3
   },
   "file_extension": ".py",
   "mimetype": "text/x-python",
   "name": "python",
   "nbconvert_exporter": "python",
   "pygments_lexer": "ipython3",
   "version": "3.8.5"
  }
 },
 "nbformat": 4,
 "nbformat_minor": 5
}
