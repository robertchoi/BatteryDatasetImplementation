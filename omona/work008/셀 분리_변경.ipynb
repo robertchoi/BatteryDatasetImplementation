{
 "cells": [
  {
   "cell_type": "code",
   "execution_count": 1,
   "id": "taken-marking",
   "metadata": {},
   "outputs": [],
   "source": [
    "import os\n",
    "import pandas as pd\n",
    "import numpy as np"
   ]
  },
  {
   "cell_type": "code",
   "execution_count": 2,
   "id": "negative-report",
   "metadata": {},
   "outputs": [],
   "source": [
    "def createFolder(directory):\n",
    "    #저장 폴더 생성\n",
    "    try:\n",
    "        if not os.path.exists(directory):\n",
    "            os.makedirs(directory)\n",
    "    except OSError:\n",
    "        print('Error: Creating directory' + directory)"
   ]
  },
  {
   "cell_type": "code",
   "execution_count": 3,
   "id": "acting-interstate",
   "metadata": {},
   "outputs": [],
   "source": [
    "def changePath(directory):\n",
    "    #데이터 폴더 선택\n",
    "    currentPath = os.getcwd()\n",
    "    change_path = currentPath+directory\n",
    "    try:\n",
    "        if os.path.exists(directory[1:]):\n",
    "            os.chdir(change_path)\n",
    "    except OSError:\n",
    "        print('Error: Changing Path ' + directory)"
   ]
  },
  {
   "cell_type": "code",
   "execution_count": 4,
   "id": "important-dallas",
   "metadata": {},
   "outputs": [],
   "source": [
    "def CreateCellCSVfile(column_list):\n",
    "    file_list = os.listdir(os.getcwd())\n",
    "    #file_list.remove('cell')\n",
    "    file_count = len(file_list)\n",
    "    createFolder('cell')\n",
    "    current_path = os.getcwd()\n",
    "    \n",
    "    for i in range(file_count):\n",
    "        \n",
    "        file_path = file_list[i]\n",
    "        delete_csv_path = file_path[:-4]\n",
    "        df = pd.read_csv(file_path, encoding = 'utf8')\n",
    "        maxcell = max(df['CellNo'])\n",
    "        \n",
    "        for j in range(maxcell):\n",
    "            \n",
    "            cell_index = df.index[df['CellNo']==(j+1)].tolist()\n",
    "            df_cell = df.iloc[cell_index, :]\n",
    "            new_cell_file = df_cell[column_list]\n",
    "            \n",
    "            os.chdir(current_path + '\\cell')\n",
    "            save_path = delete_csv_path + '_' + str(j+1).zfill(2) + '.csv'\n",
    "            new_cell_file.to_csv(save_path, index=False, encoding='utf8')\n",
    "            os.chdir(current_path)"
   ]
  },
  {
   "cell_type": "code",
   "execution_count": 5,
   "id": "secret-subscriber",
   "metadata": {},
   "outputs": [
    {
     "name": "stdout",
     "output_type": "stream",
     "text": [
      "데이터 폴더 입력(\\ 포함)\n",
      "\\RAWDATA\n"
     ]
    }
   ],
   "source": [
    "if __name__ =='__main__':\n",
    "    print('데이터 폴더 입력(\\ 포함)')\n",
    "    data_folder_path = input()"
   ]
  },
  {
   "cell_type": "code",
   "execution_count": 6,
   "id": "portuguese-evening",
   "metadata": {},
   "outputs": [],
   "source": [
    "    #데이터 폴더 입력\n",
    "    changePath(data_folder_path)"
   ]
  },
  {
   "cell_type": "code",
   "execution_count": 7,
   "id": "another-thunder",
   "metadata": {},
   "outputs": [
    {
     "data": {
      "text/plain": [
       "'F:\\\\Personal\\\\BatteryDatasetImplementation-master\\\\omona\\\\work008\\\\RAWDATA'"
      ]
     },
     "execution_count": 7,
     "metadata": {},
     "output_type": "execute_result"
    }
   ],
   "source": [
    "    os.getcwd()"
   ]
  },
  {
   "cell_type": "code",
   "execution_count": 8,
   "id": "quick-weekend",
   "metadata": {},
   "outputs": [],
   "source": [
    "    column_list = ['KeyTime', 'ResistValue', 'VoltValue', 'TempValue']"
   ]
  },
  {
   "cell_type": "code",
   "execution_count": 9,
   "id": "thorough-modification",
   "metadata": {},
   "outputs": [],
   "source": [
    "    CreateCellCSVfile(column_list)"
   ]
  },
  {
   "cell_type": "code",
   "execution_count": null,
   "id": "wrapped-cattle",
   "metadata": {},
   "outputs": [],
   "source": []
  }
 ],
 "metadata": {
  "kernelspec": {
   "display_name": "Python 3",
   "language": "python",
   "name": "python3"
  },
  "language_info": {
   "codemirror_mode": {
    "name": "ipython",
    "version": 3
   },
   "file_extension": ".py",
   "mimetype": "text/x-python",
   "name": "python",
   "nbconvert_exporter": "python",
   "pygments_lexer": "ipython3",
   "version": "3.8.5"
  }
 },
 "nbformat": 4,
 "nbformat_minor": 5
}
