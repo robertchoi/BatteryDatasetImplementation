{
 "cells": [
  {
   "cell_type": "code",
   "execution_count": 1,
   "id": "parliamentary-reducing",
   "metadata": {},
   "outputs": [],
   "source": [
    "import os\n",
    "import pandas as pd\n",
    "import numpy as np"
   ]
  },
  {
   "cell_type": "code",
   "execution_count": 2,
   "id": "revolutionary-omaha",
   "metadata": {},
   "outputs": [],
   "source": [
    "def createFolder(directory):\n",
    "    #저장 폴더 생성\n",
    "    try:\n",
    "        if not os.path.exists(directory):\n",
    "            os.makedirs(directory)\n",
    "    except OSError:\n",
    "        print('Error: Creating directory' + directory)"
   ]
  },
  {
   "cell_type": "code",
   "execution_count": 3,
   "id": "medium-briefs",
   "metadata": {},
   "outputs": [],
   "source": [
    "def changePath(directory):\n",
    "    #데이터 폴더 선택\n",
    "    currentPath = os.getcwd()\n",
    "    change_path = currentPath+directory\n",
    "    try:\n",
    "        if os.path.exists(directory[1:]):\n",
    "            os.chdir(change_path)\n",
    "    except OSError:\n",
    "        print('Error: Changing Path ' + directory)"
   ]
  },
  {
   "cell_type": "code",
   "execution_count": 4,
   "id": "stylish-psychology",
   "metadata": {},
   "outputs": [
    {
     "name": "stdout",
     "output_type": "stream",
     "text": [
      "F:\\Personal\\BatteryDatasetImplementation-master\\omona\\work009\n",
      "셀분리 데이터 폴더 입력(\\ 포함)\n",
      "\\data\n",
      "F:\\Personal\\BatteryDatasetImplementation-master\\omona\\work009\\data\n"
     ]
    }
   ],
   "source": [
    "if __name__ =='__main__':\n",
    "    createFolder('셀 분리')\n",
    "    currentPath = os.getcwd()\n",
    "    print(currentPath)\n",
    "    print('셀분리 데이터 폴더 입력(\\ 포함)')\n",
    "    data_folder_path = input()\n",
    "    changePath(data_folder_path) #상하제한 수정할 데이터 폴더로 이동\n",
    "    print(os.getcwd())"
   ]
  },
  {
   "cell_type": "code",
   "execution_count": 5,
   "id": "sealed-hostel",
   "metadata": {},
   "outputs": [
    {
     "name": "stdout",
     "output_type": "stream",
     "text": [
      "F:\\Personal\\BatteryDatasetImplementation-master\\omona\\work009\\셀 분리\n",
      "F:\\Personal\\BatteryDatasetImplementation-master\\omona\\work009\\data\n"
     ]
    }
   ],
   "source": [
    "    file_list = os.listdir(os.getcwd())\n",
    "    file_count = len(file_list)\n",
    "    save_path = currentPath + '\\셀 분리'\n",
    "    print(save_path)\n",
    "    currentPath = os.getcwd()\n",
    "    print(currentPath)"
   ]
  },
  {
   "cell_type": "code",
   "execution_count": 6,
   "id": "excessive-citizen",
   "metadata": {},
   "outputs": [],
   "source": [
    "    noise_column = 'ResistValue'"
   ]
  },
  {
   "cell_type": "code",
   "execution_count": 11,
   "id": "future-jimmy",
   "metadata": {},
   "outputs": [
    {
     "name": "stdout",
     "output_type": "stream",
     "text": [
      "m2_s2_bank_0ae0271bfed5aa419d00a76e91530bdd__site_3471ad4b4665ee47a6a824c7bbc7911b_11\n",
      "J: 216  H: 10  Total error: 10 Error check:  794.6902654867246 True\n",
      "******CHANGE TIMES\n",
      "ch_times :  [217] ch_num :  1\n",
      "Resist :  0.323\n",
      "checkk\n",
      "[None, 217, None]\n",
      "m2_s2_bank_0ae0271bfed5aa419d00a76e91530bdd__site_3471ad4b4665ee47a6a824c7bbc7911b_12\n",
      "J: 215  H: 10  Total error: 1 Error check:  983.1578947368414 True\n",
      "J: 216  H: 10  Total error: 20 Error check:  21.03490508266994 True\n",
      "******CHANGE TIMES\n",
      "ch_times :  [217] ch_num :  1\n",
      "Resist :  0.7\n",
      "checkk\n",
      "[None, 217, None]\n",
      "m2_s2_bank_0ae0271bfed5aa419d00a76e91530bdd__site_3471ad4b4665ee47a6a824c7bbc7911b_17\n",
      "checkk\n",
      "[None, None]\n"
     ]
    }
   ],
   "source": [
    "    for i in range(file_count):\n",
    "        \n",
    "        file_name = file_list[i]\n",
    "        delete_csv_name = file_name[:-4]\n",
    "        print(delete_csv_name)\n",
    "        \n",
    "        df = pd.read_csv(file_name, encoding = 'utf8')\n",
    "        df_len = len(df)\n",
    "        change_num = 0\n",
    "        ch_times = []\n",
    "        j_cnt = 10\n",
    "        for j in range(df_len):\n",
    "            if (j>=10) & (j<=(df_len-11)):\n",
    "                if not df.loc[j, noise_column]==None:\n",
    "                    total_error_bef = 0\n",
    "                    total_error_next = 0\n",
    "                    total_error = 0\n",
    "                    test_error = abs((df.loc[j+1, noise_column]-df.loc[j, noise_column])/df.loc[j, noise_column]*100)\n",
    "                    \n",
    "                    if test_error >= 25:\n",
    "                        for h in range(15):\n",
    "                            error_bef = abs((df.loc[j+(h+1), noise_column]-df.loc[j, noise_column])/df.loc[j, noise_column]*100)\n",
    "                            error_next = abs((df.loc[j-(h+1), noise_column]-df.loc[j, noise_column])/df.loc[j, noise_column]*100)\n",
    "                            \n",
    "                            total_error_bef += error_bef\n",
    "                            total_error_next += error_next\n",
    "                            \n",
    "                            if error_bef>=25:\n",
    "                                total_error += 1\n",
    "                            if error_next>=25:\n",
    "                                total_error += 1\n",
    "                            if h==9:\n",
    "                                change_check_rate = abs((total_error_bef-total_error_next)/total_error_next*100)\n",
    "                                if change_check_rate >=20 :\n",
    "                                    change_check = True\n",
    "                                else:\n",
    "                                    change_check = False\n",
    "                                print('J:', j, ' H:', h+1, ' Total error:', total_error, 'Error check: ', change_check_rate, change_check)\n",
    "                            \n",
    "                    \n",
    "                        if (total_error > 12)& (change_check==True):\n",
    "                            print('******CHANGE TIMES')\n",
    "                            if change_num == 0:\n",
    "                                change_num += 1\n",
    "                                ch_times.append(j+1)\n",
    "                                print('ch_times : ', ch_times, 'ch_num : ', change_num)\n",
    "                                print('Resist : ', df.loc[j, noise_column])\n",
    "                            if (change_num >=1) & (ch_times[change_num-1]+10<=j):\n",
    "                                change_num += 1\n",
    "                                ch_times.append(j+1)\n",
    "                                print('ch_times : ', ch_times, 'ch_num : ', change_num)\n",
    "                                print('Resist : ', df.loc[j, noise_column])\n",
    "                                \n",
    "        ch_times.insert(0, None)\n",
    "        ch_times.append(None)\n",
    "        print('checkk')\n",
    "        print(ch_times)\n",
    "            \n",
    "        for k in range(change_num+1):\n",
    "            os.chdir(save_path)\n",
    "            save_file = delete_csv_name + '_changecell_' + str(k+1).zfill(2) + '.csv'\n",
    "            new_file = df.iloc[ch_times[k]:ch_times[k+1], :]\n",
    "            new_file.to_csv(save_file, index=False, encoding='utf8')\n",
    "            os.chdir(currentPath)\n",
    "\n",
    "        #os.chdir(save_path)\n",
    "        #df.to_csv(file_path, index=False, encoding='utf8')\n",
    "        #os.chdir(currentPath)"
   ]
  },
  {
   "cell_type": "code",
   "execution_count": null,
   "id": "devoted-restriction",
   "metadata": {},
   "outputs": [],
   "source": []
  }
 ],
 "metadata": {
  "kernelspec": {
   "display_name": "Python 3",
   "language": "python",
   "name": "python3"
  },
  "language_info": {
   "codemirror_mode": {
    "name": "ipython",
    "version": 3
   },
   "file_extension": ".py",
   "mimetype": "text/x-python",
   "name": "python",
   "nbconvert_exporter": "python",
   "pygments_lexer": "ipython3",
   "version": "3.8.5"
  }
 },
 "nbformat": 4,
 "nbformat_minor": 5
}
