{
  "nbformat": 4,
  "nbformat_minor": 0,
  "metadata": {
    "colab": {
      "name": "칼만필터 전처리 해보기.ipynb",
      "provenance": [],
      "authorship_tag": "ABX9TyMCsS2fDRAT8DTXUr3gnSNc",
      "include_colab_link": true
    },
    "kernelspec": {
      "name": "python3",
      "display_name": "Python 3"
    },
    "language_info": {
      "name": "python"
    }
  },
  "cells": [
    {
      "cell_type": "markdown",
      "metadata": {
        "id": "view-in-github",
        "colab_type": "text"
      },
      "source": [
        "<a href=\"https://colab.research.google.com/github/robertchoi/BatteryDatasetImplementation/blob/master/%EC%B9%BC%EB%A7%8C%ED%95%84%ED%84%B0_%EC%A0%84%EC%B2%98%EB%A6%AC_%ED%95%B4%EB%B3%B4%EA%B8%B0.ipynb\" target=\"_parent\"><img src=\"https://colab.research.google.com/assets/colab-badge.svg\" alt=\"Open In Colab\"/></a>"
      ]
    },
    {
      "cell_type": "code",
      "metadata": {
        "id": "DsnEJJGN6wez"
      },
      "source": [
        ""
      ],
      "execution_count": null,
      "outputs": []
    },
    {
      "cell_type": "code",
      "metadata": {
        "id": "E06-P_awGVd8"
      },
      "source": [
        "import os\n",
        "import datetime\n",
        "from keras.callbacks import EarlyStopping, ModelCheckpoint\n",
        "import IPython\n",
        "import IPython.display\n",
        "import matplotlib as mpl\n",
        "import matplotlib.pyplot as plt\n",
        "import numpy as np\n",
        "import pandas as pd\n",
        "import seaborn as sns\n",
        "import tensorflow as tf\n",
        "from tensorflow.keras import optimizers, Sequential\n",
        "from keras.layers import RNN\n",
        "from sklearn.model_selection import train_test_split\n",
        "from keras.models import Sequential\n",
        "from keras.layers import Dense, LSTM\n",
        "from keras import layers, models\n",
        "from sklearn import preprocessing\n",
        "from keras import datasets\n",
        "from keras.models import load_model\n",
        "from sklearn.metrics import mean_squared_error\n",
        "from IPython.display import SVG\n",
        "from keras.utils.vis_utils import model_to_dot\n",
        "from sklearn import model_selection"
      ],
      "execution_count": null,
      "outputs": []
    },
    {
      "cell_type": "code",
      "metadata": {
        "colab": {
          "base_uri": "https://localhost:8080/"
        },
        "id": "ikA-a9I6GqZA",
        "outputId": "b9e9d3af-cf01-4c2b-8d1d-9489b923e28e"
      },
      "source": [
        "from google.colab import drive\n",
        "drive.mount('/content/drive')"
      ],
      "execution_count": null,
      "outputs": [
        {
          "output_type": "stream",
          "text": [
            "Drive already mounted at /content/drive; to attempt to forcibly remount, call drive.mount(\"/content/drive\", force_remount=True).\n"
          ],
          "name": "stdout"
        }
      ]
    },
    {
      "cell_type": "code",
      "metadata": {
        "colab": {
          "base_uri": "https://localhost:8080/",
          "height": 399
        },
        "id": "WWF-FjgbayKO",
        "outputId": "7a9e298f-cc10-4572-c9d9-32805d9e5162"
      },
      "source": [
        "# df = pd.read_csv('/content/drive/MyDrive/J0003_0024_0222_20110307012737_cell_1.csv', encoding='utf8')\n",
        "df = pd.read_excel('/content/drive/MyDrive/J0003_0017_0193_20110218041739_cell_16.xlsx')\n",
        "df"
      ],
      "execution_count": null,
      "outputs": [
        {
          "output_type": "execute_result",
          "data": {
            "text/html": [
              "<div>\n",
              "<style scoped>\n",
              "    .dataframe tbody tr th:only-of-type {\n",
              "        vertical-align: middle;\n",
              "    }\n",
              "\n",
              "    .dataframe tbody tr th {\n",
              "        vertical-align: top;\n",
              "    }\n",
              "\n",
              "    .dataframe thead th {\n",
              "        text-align: right;\n",
              "    }\n",
              "</style>\n",
              "<table border=\"1\" class=\"dataframe\">\n",
              "  <thead>\n",
              "    <tr style=\"text-align: right;\">\n",
              "      <th></th>\n",
              "      <th>2011-02-18 16:17:10</th>\n",
              "      <th>0.234</th>\n",
              "    </tr>\n",
              "  </thead>\n",
              "  <tbody>\n",
              "    <tr>\n",
              "      <th>0</th>\n",
              "      <td>2011-02-18 18:17:10</td>\n",
              "      <td>0.234</td>\n",
              "    </tr>\n",
              "    <tr>\n",
              "      <th>1</th>\n",
              "      <td>2011-02-18 19:17:10</td>\n",
              "      <td>0.234</td>\n",
              "    </tr>\n",
              "    <tr>\n",
              "      <th>2</th>\n",
              "      <td>2011-02-18 20:17:10</td>\n",
              "      <td>0.235</td>\n",
              "    </tr>\n",
              "    <tr>\n",
              "      <th>3</th>\n",
              "      <td>2011-02-18 21:17:10</td>\n",
              "      <td>0.236</td>\n",
              "    </tr>\n",
              "    <tr>\n",
              "      <th>4</th>\n",
              "      <td>2011-02-18 22:17:10</td>\n",
              "      <td>0.234</td>\n",
              "    </tr>\n",
              "    <tr>\n",
              "      <th>...</th>\n",
              "      <td>...</td>\n",
              "      <td>...</td>\n",
              "    </tr>\n",
              "    <tr>\n",
              "      <th>456</th>\n",
              "      <td>2011-09-17 04:20:54</td>\n",
              "      <td>0.476</td>\n",
              "    </tr>\n",
              "    <tr>\n",
              "      <th>457</th>\n",
              "      <td>2011-09-17 16:20:54</td>\n",
              "      <td>0.477</td>\n",
              "    </tr>\n",
              "    <tr>\n",
              "      <th>458</th>\n",
              "      <td>2011-09-18 04:20:54</td>\n",
              "      <td>0.478</td>\n",
              "    </tr>\n",
              "    <tr>\n",
              "      <th>459</th>\n",
              "      <td>2011-09-18 16:20:54</td>\n",
              "      <td>0.477</td>\n",
              "    </tr>\n",
              "    <tr>\n",
              "      <th>460</th>\n",
              "      <td>2011-09-19 04:20:54</td>\n",
              "      <td>0.478</td>\n",
              "    </tr>\n",
              "  </tbody>\n",
              "</table>\n",
              "<p>461 rows × 2 columns</p>\n",
              "</div>"
            ],
            "text/plain": [
              "    2011-02-18 16:17:10  0.234\n",
              "0   2011-02-18 18:17:10  0.234\n",
              "1   2011-02-18 19:17:10  0.234\n",
              "2   2011-02-18 20:17:10  0.235\n",
              "3   2011-02-18 21:17:10  0.236\n",
              "4   2011-02-18 22:17:10  0.234\n",
              "..                  ...    ...\n",
              "456 2011-09-17 04:20:54  0.476\n",
              "457 2011-09-17 16:20:54  0.477\n",
              "458 2011-09-18 04:20:54  0.478\n",
              "459 2011-09-18 16:20:54  0.477\n",
              "460 2011-09-19 04:20:54  0.478\n",
              "\n",
              "[461 rows x 2 columns]"
            ]
          },
          "metadata": {
            "tags": []
          },
          "execution_count": 188
        }
      ]
    },
    {
      "cell_type": "code",
      "metadata": {
        "id": "e7d3ywBS2xvF"
      },
      "source": [
        "Resistance = df.iloc[:, 1] #xlsx파일일 시"
      ],
      "execution_count": null,
      "outputs": []
    },
    {
      "cell_type": "code",
      "metadata": {
        "id": "CwI0xg967dLd"
      },
      "source": [
        "# Resistance = df['Resistance'] # csv파일일 시\n",
        "\n",
        "# Resistance.plot()"
      ],
      "execution_count": null,
      "outputs": []
    },
    {
      "cell_type": "code",
      "metadata": {
        "id": "M_w_W5Mt1Py-"
      },
      "source": [
        "def kalman_filter(z_meas, x_esti, P):\n",
        "    \"\"\"Kalman Filter Algorithm for One Variable.\"\"\"\n",
        "    # (1) Prediction.\n",
        "    x_pred = A * x_esti\n",
        "    P_pred = A * P * A + Q\n",
        "\n",
        "    # (2) Kalman Gain.\n",
        "    K = P_pred * H / (H * P_pred * H + R)\n",
        "\n",
        "    # (3) Estimation.\n",
        "    x_esti = x_pred + K * (z_meas - H * x_pred)\n",
        "\n",
        "    # (4) Error Covariance.\n",
        "    P = P_pred - K * H * P_pred\n",
        "\n",
        "    return x_esti, P"
      ],
      "execution_count": null,
      "outputs": []
    },
    {
      "cell_type": "code",
      "metadata": {
        "id": "e8vJ5cS31llO"
      },
      "source": [
        "\n",
        "A = 1\n",
        "H = 1\n",
        "Q = 0.00001\n",
        "R = 0.001\n",
        "\n",
        "x_0 = Resistance[0]\n",
        "P_0 = 2"
      ],
      "execution_count": null,
      "outputs": []
    },
    {
      "cell_type": "code",
      "metadata": {
        "id": "vCpsCaus4uKA"
      },
      "source": [
        "n_samples = len(df)"
      ],
      "execution_count": null,
      "outputs": []
    },
    {
      "cell_type": "code",
      "metadata": {
        "id": "8p5IZwKH82H4"
      },
      "source": [
        "x_esti, P = None, None\n",
        "esti_save = np.zeros(n_samples)"
      ],
      "execution_count": null,
      "outputs": []
    },
    {
      "cell_type": "code",
      "metadata": {
        "id": "DclHCtF11nH3"
      },
      "source": [
        "for i in range(n_samples):\n",
        "    if i == 0:\n",
        "        x_esti, P = x_0, P_0\n",
        "    else:\n",
        "        x_esti, P = kalman_filter(Resistance[i], x_esti, P)\n",
        "        \n",
        "    esti_save[i] = x_esti"
      ],
      "execution_count": null,
      "outputs": []
    },
    {
      "cell_type": "code",
      "metadata": {
        "colab": {
          "base_uri": "https://localhost:8080/",
          "height": 313
        },
        "id": "xmFzT8DJ-LA2",
        "outputId": "19d6d99b-44ef-4a0e-e339-4ea458ed1280"
      },
      "source": [
        "plt.plot(Resistance, label='actual')\n",
        "plt.plot(esti_save, label='Kalman Filter')\n",
        "plt.legend(loc='upper left')\n",
        "plt.title('actual v.s. Estimation (Kalman Filter)')\n",
        "plt.xlabel('Time [sec]')\n",
        "plt.ylabel('Voltage [V]')"
      ],
      "execution_count": null,
      "outputs": [
        {
          "output_type": "execute_result",
          "data": {
            "text/plain": [
              "Text(0, 0.5, 'Voltage [V]')"
            ]
          },
          "metadata": {
            "tags": []
          },
          "execution_count": 196
        },
        {
          "output_type": "display_data",
          "data": {
            "image/png": "[encoded data removed]",
            "text/plain": [
              "<Figure size 432x288 with 1 Axes>"
            ]
          },
          "metadata": {
            "tags": [],
            "needs_background": "light"
          }
        }
      ]
    },
    {
      "cell_type": "code",
      "metadata": {
        "id": "uWOboAVc8NMM"
      },
      "source": [
        ""
      ],
      "execution_count": null,
      "outputs": []
    }
  ]
}