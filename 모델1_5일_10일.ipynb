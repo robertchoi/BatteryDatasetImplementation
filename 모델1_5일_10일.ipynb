{
  "nbformat": 4,
  "nbformat_minor": 0,
  "metadata": {
    "colab": {
      "name": "모델1 5일 10일.ipynb",
      "provenance": [],
      "collapsed_sections": [],
      "authorship_tag": "ABX9TyOSCFvmw11A2j0lmh8lpt4V",
      "include_colab_link": true
    },
    "kernelspec": {
      "name": "python3",
      "display_name": "Python 3"
    },
    "language_info": {
      "name": "python"
    }
  },
  "cells": [
    {
      "cell_type": "markdown",
      "metadata": {
        "id": "view-in-github",
        "colab_type": "text"
      },
      "source": [
        "<a href=\"https://colab.research.google.com/github/robertchoi/BatteryDatasetImplementation/blob/master/%EB%AA%A8%EB%8D%B81_5%EC%9D%BC_10%EC%9D%BC.ipynb\" target=\"_parent\"><img src=\"https://colab.research.google.com/assets/colab-badge.svg\" alt=\"Open In Colab\"/></a>"
      ]
    },
    {
      "cell_type": "code",
      "metadata": {
        "id": "E06-P_awGVd8"
      },
      "source": [
        "import os\n",
        "import datetime\n",
        "from keras.callbacks import EarlyStopping, ModelCheckpoint\n",
        "import IPython\n",
        "import IPython.display\n",
        "import matplotlib as mpl\n",
        "import matplotlib.pyplot as plt\n",
        "import numpy as np\n",
        "import pandas as pd\n",
        "import seaborn as sns\n",
        "import tensorflow as tf\n",
        "from tensorflow.keras import optimizers, Sequential\n",
        "from keras.layers import RNN\n",
        "from sklearn.model_selection import train_test_split\n",
        "from keras.models import Sequential\n",
        "from keras.layers import Dense, LSTM\n",
        "from keras import layers, models\n",
        "from sklearn import preprocessing\n",
        "from keras import datasets\n",
        "from keras.models import load_model\n",
        "from sklearn.metrics import mean_squared_error\n",
        "from IPython.display import SVG\n",
        "from keras.utils.vis_utils import model_to_dot\n",
        "from sklearn import model_selection"
      ],
      "execution_count": null,
      "outputs": []
    },
    {
      "cell_type": "code",
      "metadata": {
        "colab": {
          "base_uri": "https://localhost:8080/"
        },
        "id": "ikA-a9I6GqZA",
        "outputId": "e8ca1dd9-cf27-44f6-de5e-d32c418bc4ef"
      },
      "source": [
        "from google.colab import drive\n",
        "drive.mount('/content/drive')"
      ],
      "execution_count": null,
      "outputs": [
        {
          "output_type": "stream",
          "text": [
            "Drive already mounted at /content/drive; to attempt to forcibly remount, call drive.mount(\"/content/drive\", force_remount=True).\n"
          ],
          "name": "stdout"
        }
      ]
    },
    {
      "cell_type": "code",
      "metadata": {
        "colab": {
          "base_uri": "https://localhost:8080/"
        },
        "id": "lsuRbnIFKvC3",
        "outputId": "e0b0aa18-885a-4816-d150-18785131ea1b"
      },
      "source": [
        "pip install pykalman"
      ],
      "execution_count": null,
      "outputs": [
        {
          "output_type": "stream",
          "text": [
            "Requirement already satisfied: pykalman in /usr/local/lib/python3.7/dist-packages (0.9.5)\n"
          ],
          "name": "stdout"
        }
      ]
    },
    {
      "cell_type": "code",
      "metadata": {
        "id": "1Dq0Qf-FcxE3"
      },
      "source": [
        "forecasting = 20"
      ],
      "execution_count": null,
      "outputs": []
    },
    {
      "cell_type": "code",
      "metadata": {
        "colab": {
          "base_uri": "https://localhost:8080/",
          "height": 399
        },
        "id": "WWF-FjgbayKO",
        "outputId": "5c2fe596-7e33-41c5-a9fc-fc81355e49ed"
      },
      "source": [
        "df = pd.read_csv('/content/drive/MyDrive/J0003_0024_0222_20110307012737_cell_1.csv', encoding='utf8')\n",
        "df"
      ],
      "execution_count": null,
      "outputs": [
        {
          "output_type": "execute_result",
          "data": {
            "text/html": [
              "<div>\n",
              "<style scoped>\n",
              "    .dataframe tbody tr th:only-of-type {\n",
              "        vertical-align: middle;\n",
              "    }\n",
              "\n",
              "    .dataframe tbody tr th {\n",
              "        vertical-align: top;\n",
              "    }\n",
              "\n",
              "    .dataframe thead th {\n",
              "        text-align: right;\n",
              "    }\n",
              "</style>\n",
              "<table border=\"1\" class=\"dataframe\">\n",
              "  <thead>\n",
              "    <tr style=\"text-align: right;\">\n",
              "      <th></th>\n",
              "      <th>MeasuredDate</th>\n",
              "      <th>CellNo</th>\n",
              "      <th>Resistance</th>\n",
              "      <th>Volt</th>\n",
              "      <th>Temp</th>\n",
              "    </tr>\n",
              "  </thead>\n",
              "  <tbody>\n",
              "    <tr>\n",
              "      <th>0</th>\n",
              "      <td>2011.3.7 6:27</td>\n",
              "      <td>1</td>\n",
              "      <td>0.259</td>\n",
              "      <td>2.23</td>\n",
              "      <td>-20</td>\n",
              "    </tr>\n",
              "    <tr>\n",
              "      <th>1</th>\n",
              "      <td>2011.3.7 18:29</td>\n",
              "      <td>1</td>\n",
              "      <td>0.260</td>\n",
              "      <td>2.23</td>\n",
              "      <td>-20</td>\n",
              "    </tr>\n",
              "    <tr>\n",
              "      <th>2</th>\n",
              "      <td>2011.3.8 6:29</td>\n",
              "      <td>1</td>\n",
              "      <td>0.259</td>\n",
              "      <td>2.23</td>\n",
              "      <td>-20</td>\n",
              "    </tr>\n",
              "    <tr>\n",
              "      <th>3</th>\n",
              "      <td>2011.3.8 18:29</td>\n",
              "      <td>1</td>\n",
              "      <td>0.259</td>\n",
              "      <td>2.23</td>\n",
              "      <td>-20</td>\n",
              "    </tr>\n",
              "    <tr>\n",
              "      <th>4</th>\n",
              "      <td>2011.3.9 6:29</td>\n",
              "      <td>1</td>\n",
              "      <td>0.259</td>\n",
              "      <td>2.23</td>\n",
              "      <td>-20</td>\n",
              "    </tr>\n",
              "    <tr>\n",
              "      <th>...</th>\n",
              "      <td>...</td>\n",
              "      <td>...</td>\n",
              "      <td>...</td>\n",
              "      <td>...</td>\n",
              "      <td>...</td>\n",
              "    </tr>\n",
              "    <tr>\n",
              "      <th>254</th>\n",
              "      <td>2011.8.30 5:28</td>\n",
              "      <td>1</td>\n",
              "      <td>0.301</td>\n",
              "      <td>2.23</td>\n",
              "      <td>-20</td>\n",
              "    </tr>\n",
              "    <tr>\n",
              "      <th>255</th>\n",
              "      <td>2011.8.30 17:28</td>\n",
              "      <td>1</td>\n",
              "      <td>0.301</td>\n",
              "      <td>2.23</td>\n",
              "      <td>-20</td>\n",
              "    </tr>\n",
              "    <tr>\n",
              "      <th>256</th>\n",
              "      <td>2011.8.31 5:28</td>\n",
              "      <td>1</td>\n",
              "      <td>0.302</td>\n",
              "      <td>2.23</td>\n",
              "      <td>-20</td>\n",
              "    </tr>\n",
              "    <tr>\n",
              "      <th>257</th>\n",
              "      <td>2011.8.31 16:09</td>\n",
              "      <td>1</td>\n",
              "      <td>0.300</td>\n",
              "      <td>2.23</td>\n",
              "      <td>-20</td>\n",
              "    </tr>\n",
              "    <tr>\n",
              "      <th>258</th>\n",
              "      <td>2011.8.31 16:12</td>\n",
              "      <td>1</td>\n",
              "      <td>0.296</td>\n",
              "      <td>2.23</td>\n",
              "      <td>-20</td>\n",
              "    </tr>\n",
              "  </tbody>\n",
              "</table>\n",
              "<p>259 rows × 5 columns</p>\n",
              "</div>"
            ],
            "text/plain": [
              "        MeasuredDate  CellNo  Resistance  Volt  Temp\n",
              "0      2011.3.7 6:27       1       0.259  2.23   -20\n",
              "1     2011.3.7 18:29       1       0.260  2.23   -20\n",
              "2      2011.3.8 6:29       1       0.259  2.23   -20\n",
              "3     2011.3.8 18:29       1       0.259  2.23   -20\n",
              "4      2011.3.9 6:29       1       0.259  2.23   -20\n",
              "..               ...     ...         ...   ...   ...\n",
              "254   2011.8.30 5:28       1       0.301  2.23   -20\n",
              "255  2011.8.30 17:28       1       0.301  2.23   -20\n",
              "256   2011.8.31 5:28       1       0.302  2.23   -20\n",
              "257  2011.8.31 16:09       1       0.300  2.23   -20\n",
              "258  2011.8.31 16:12       1       0.296  2.23   -20\n",
              "\n",
              "[259 rows x 5 columns]"
            ]
          },
          "metadata": {
            "tags": []
          },
          "execution_count": 22
        }
      ]
    },
    {
      "cell_type": "code",
      "metadata": {
        "colab": {
          "base_uri": "https://localhost:8080/",
          "height": 399
        },
        "id": "v3S45_C2aziA",
        "outputId": "fa3dd3ef-0e4b-4ed1-f1a2-0bb60466bdd3"
      },
      "source": [
        "df = df.drop(['CellNo', 'MeasuredDate'], axis=1)\n",
        "df"
      ],
      "execution_count": null,
      "outputs": [
        {
          "output_type": "execute_result",
          "data": {
            "text/html": [
              "<div>\n",
              "<style scoped>\n",
              "    .dataframe tbody tr th:only-of-type {\n",
              "        vertical-align: middle;\n",
              "    }\n",
              "\n",
              "    .dataframe tbody tr th {\n",
              "        vertical-align: top;\n",
              "    }\n",
              "\n",
              "    .dataframe thead th {\n",
              "        text-align: right;\n",
              "    }\n",
              "</style>\n",
              "<table border=\"1\" class=\"dataframe\">\n",
              "  <thead>\n",
              "    <tr style=\"text-align: right;\">\n",
              "      <th></th>\n",
              "      <th>Resistance</th>\n",
              "      <th>Volt</th>\n",
              "      <th>Temp</th>\n",
              "    </tr>\n",
              "  </thead>\n",
              "  <tbody>\n",
              "    <tr>\n",
              "      <th>0</th>\n",
              "      <td>0.259</td>\n",
              "      <td>2.23</td>\n",
              "      <td>-20</td>\n",
              "    </tr>\n",
              "    <tr>\n",
              "      <th>1</th>\n",
              "      <td>0.260</td>\n",
              "      <td>2.23</td>\n",
              "      <td>-20</td>\n",
              "    </tr>\n",
              "    <tr>\n",
              "      <th>2</th>\n",
              "      <td>0.259</td>\n",
              "      <td>2.23</td>\n",
              "      <td>-20</td>\n",
              "    </tr>\n",
              "    <tr>\n",
              "      <th>3</th>\n",
              "      <td>0.259</td>\n",
              "      <td>2.23</td>\n",
              "      <td>-20</td>\n",
              "    </tr>\n",
              "    <tr>\n",
              "      <th>4</th>\n",
              "      <td>0.259</td>\n",
              "      <td>2.23</td>\n",
              "      <td>-20</td>\n",
              "    </tr>\n",
              "    <tr>\n",
              "      <th>...</th>\n",
              "      <td>...</td>\n",
              "      <td>...</td>\n",
              "      <td>...</td>\n",
              "    </tr>\n",
              "    <tr>\n",
              "      <th>254</th>\n",
              "      <td>0.301</td>\n",
              "      <td>2.23</td>\n",
              "      <td>-20</td>\n",
              "    </tr>\n",
              "    <tr>\n",
              "      <th>255</th>\n",
              "      <td>0.301</td>\n",
              "      <td>2.23</td>\n",
              "      <td>-20</td>\n",
              "    </tr>\n",
              "    <tr>\n",
              "      <th>256</th>\n",
              "      <td>0.302</td>\n",
              "      <td>2.23</td>\n",
              "      <td>-20</td>\n",
              "    </tr>\n",
              "    <tr>\n",
              "      <th>257</th>\n",
              "      <td>0.300</td>\n",
              "      <td>2.23</td>\n",
              "      <td>-20</td>\n",
              "    </tr>\n",
              "    <tr>\n",
              "      <th>258</th>\n",
              "      <td>0.296</td>\n",
              "      <td>2.23</td>\n",
              "      <td>-20</td>\n",
              "    </tr>\n",
              "  </tbody>\n",
              "</table>\n",
              "<p>259 rows × 3 columns</p>\n",
              "</div>"
            ],
            "text/plain": [
              "     Resistance  Volt  Temp\n",
              "0         0.259  2.23   -20\n",
              "1         0.260  2.23   -20\n",
              "2         0.259  2.23   -20\n",
              "3         0.259  2.23   -20\n",
              "4         0.259  2.23   -20\n",
              "..          ...   ...   ...\n",
              "254       0.301  2.23   -20\n",
              "255       0.301  2.23   -20\n",
              "256       0.302  2.23   -20\n",
              "257       0.300  2.23   -20\n",
              "258       0.296  2.23   -20\n",
              "\n",
              "[259 rows x 3 columns]"
            ]
          },
          "metadata": {
            "tags": []
          },
          "execution_count": 23
        }
      ]
    },
    {
      "cell_type": "code",
      "metadata": {
        "id": "9hSc8N4RiKYi"
      },
      "source": [
        "from pykalman import KalmanFilter"
      ],
      "execution_count": null,
      "outputs": []
    },
    {
      "cell_type": "code",
      "metadata": {
        "id": "UirCg8kW1lEa"
      },
      "source": [
        ""
      ],
      "execution_count": null,
      "outputs": []
    },
    {
      "cell_type": "code",
      "metadata": {
        "colab": {
          "base_uri": "https://localhost:8080/",
          "height": 283
        },
        "id": "gl3IO0ZVpeUr",
        "outputId": "ba2759d5-9115-4a61-d175-1fa8c5b3fb05"
      },
      "source": [
        "df['Resistance'].plot()"
      ],
      "execution_count": null,
      "outputs": [
        {
          "output_type": "execute_result",
          "data": {
            "text/plain": [
              "<matplotlib.axes._subplots.AxesSubplot at 0x7f261d23c510>"
            ]
          },
          "metadata": {
            "tags": []
          },
          "execution_count": 25
        },
        {
          "output_type": "display_data",
          "data": {
            "image/png": "[encoded data removed]",
            "text/plain": [
              "<Figure size 432x288 with 1 Axes>"
            ]
          },
          "metadata": {
            "tags": [],
            "needs_background": "light"
          }
        }
      ]
    },
    {
      "cell_type": "code",
      "metadata": {
        "id": "hAcjLnPjh6uF"
      },
      "source": [
        ""
      ],
      "execution_count": null,
      "outputs": []
    },
    {
      "cell_type": "code",
      "metadata": {
        "colab": {
          "base_uri": "https://localhost:8080/"
        },
        "id": "R56OSy6uplJs",
        "outputId": "bcdb2e7a-b799-4dfa-db6d-64abdc676292"
      },
      "source": [
        "from sklearn.preprocessing import MinMaxScaler\n",
        "scaler = MinMaxScaler()\n",
        "scale_cols = ['Volt', 'Temp', 'Resistance']\n",
        "df_scaled = scaler.fit_transform(df[scale_cols])\n",
        "\n",
        "df_scaled = pd.DataFrame(df_scaled)\n",
        "df_scaled.columns = scale_cols\n",
        "\n",
        "print(type(df_scaled))"
      ],
      "execution_count": null,
      "outputs": [
        {
          "output_type": "stream",
          "text": [
            "<class 'pandas.core.frame.DataFrame'>\n"
          ],
          "name": "stdout"
        }
      ]
    },
    {
      "cell_type": "code",
      "metadata": {
        "id": "Tuf9Ja0jw-z0"
      },
      "source": [
        ""
      ],
      "execution_count": null,
      "outputs": []
    },
    {
      "cell_type": "code",
      "metadata": {
        "id": "hkzLLssOpmtw"
      },
      "source": [
        "train = df_scaled"
      ],
      "execution_count": null,
      "outputs": []
    },
    {
      "cell_type": "code",
      "metadata": {
        "id": "syYa2-bWppDn"
      },
      "source": [
        "def make_dataset(data, label, window_size):\n",
        "    feature_list = []\n",
        "    label_list = []\n",
        "    for i in range(len(data) - window_size):\n",
        "        feature_list.append(np.array(data.iloc[i:i+window_size]))\n",
        "        label_list.append(np.array(label.iloc[i+window_size]))\n",
        "    return np.array(feature_list), np.array(label_list)"
      ],
      "execution_count": null,
      "outputs": []
    },
    {
      "cell_type": "code",
      "metadata": {
        "id": "nidluIpKD8Uq"
      },
      "source": [
        "feature_cols = ['Volt', 'Temp', 'Resistance']\n",
        "label_cols = ['Resistance']\n",
        "\n",
        "train_feature = train[feature_cols]\n",
        "train_label = train[label_cols]"
      ],
      "execution_count": null,
      "outputs": []
    },
    {
      "cell_type": "code",
      "metadata": {
        "colab": {
          "base_uri": "https://localhost:8080/"
        },
        "id": "qRRzJSnqEQPf",
        "outputId": "7111f0c7-c6fd-4ec0-cec5-3b12b8892c81"
      },
      "source": [
        "type(train_feature)"
      ],
      "execution_count": null,
      "outputs": [
        {
          "output_type": "execute_result",
          "data": {
            "text/plain": [
              "pandas.core.frame.DataFrame"
            ]
          },
          "metadata": {
            "tags": []
          },
          "execution_count": 32
        }
      ]
    },
    {
      "cell_type": "code",
      "metadata": {
        "id": "lXPM62t7pyXF"
      },
      "source": [
        "feature_cols = ['Volt', 'Temp', 'Resistance']\n",
        "label_cols = ['Resistance']\n",
        "\n",
        "train_feature = train[feature_cols]\n",
        "train_label = train[label_cols]\n",
        "# test_feature = test[feature_cols]\n",
        "# test_label = test[label_cols]\n",
        "\n",
        "train_feature, train_label = make_dataset(train_feature, train_label, forecasting)\n",
        "from sklearn.model_selection import train_test_split\n",
        "x_train, x_valid, y_train, y_valid = train_test_split(train_feature, train_label, test_size=0.2)\n"
      ],
      "execution_count": null,
      "outputs": []
    },
    {
      "cell_type": "code",
      "metadata": {
        "colab": {
          "base_uri": "https://localhost:8080/"
        },
        "id": "voVukdd2ifUd",
        "outputId": "ae3034dd-67ea-4b89-9eda-776bbe5e3e94"
      },
      "source": [
        "x_train[0]"
      ],
      "execution_count": null,
      "outputs": [
        {
          "output_type": "execute_result",
          "data": {
            "text/plain": [
              "array([[0.        , 0.        , 0.02272727],\n",
              "       [0.        , 0.        , 0.06818182],\n",
              "       [0.        , 0.        , 0.04545455],\n",
              "       [0.        , 0.        , 0.04545455],\n",
              "       [0.        , 0.        , 0.09090909],\n",
              "       [0.        , 0.        , 0.09090909],\n",
              "       [0.        , 0.        , 0.09090909],\n",
              "       [0.        , 0.        , 0.09090909],\n",
              "       [0.        , 0.        , 0.06818182],\n",
              "       [0.        , 0.        , 0.02272727],\n",
              "       [0.        , 0.        , 0.06818182],\n",
              "       [0.        , 0.        , 0.06818182],\n",
              "       [0.        , 0.        , 0.09090909],\n",
              "       [0.        , 0.        , 0.09090909],\n",
              "       [0.        , 0.        , 0.06818182],\n",
              "       [0.        , 0.        , 0.04545455],\n",
              "       [0.        , 0.        , 0.        ],\n",
              "       [0.        , 0.        , 0.02272727],\n",
              "       [0.        , 0.        , 0.04545455],\n",
              "       [0.        , 0.        , 0.04545455]])"
            ]
          },
          "metadata": {
            "tags": []
          },
          "execution_count": 13
        }
      ]
    },
    {
      "cell_type": "code",
      "metadata": {
        "id": "M_w_W5Mt1Py-"
      },
      "source": [
        "def kalman_filter(z_meas, x_esti, P):\n",
        "    \"\"\"Kalman Filter Algorithm for One Variable.\"\"\"\n",
        "    # (1) Prediction.\n",
        "    x_pred = A * x_esti\n",
        "    P_pred = A * P * A + Q\n",
        "\n",
        "    # (2) Kalman Gain.\n",
        "    K = P_pred * H / (H * P_pred * H + R)\n",
        "\n",
        "    # (3) Estimation.\n",
        "    x_esti = x_pred + K * (z_meas - H * x_pred)\n",
        "\n",
        "    # (4) Error Covariance.\n",
        "    P = P_pred - K * H * P_pred\n",
        "\n",
        "    return x_esti, P"
      ],
      "execution_count": null,
      "outputs": []
    },
    {
      "cell_type": "code",
      "metadata": {
        "id": "e8vJ5cS31llO"
      },
      "source": [
        "A = 1\n",
        "H = 1\n",
        "Q = 0.00001\n",
        "R = 0.001\n",
        "\n",
        "x_0 = 0.259\n",
        "P_0 = 2"
      ],
      "execution_count": null,
      "outputs": []
    },
    {
      "cell_type": "code",
      "metadata": {
        "id": "vCpsCaus4uKA"
      },
      "source": [
        "n_samples = len(df)"
      ],
      "execution_count": null,
      "outputs": []
    },
    {
      "cell_type": "code",
      "metadata": {
        "id": "DclHCtF11nH3"
      },
      "source": [
        "x_esti, P = None, None\n",
        "# print(\"x_train\", x_train[10])\n",
        "for i in range(n_samples):\n",
        "    if i == 0:\n",
        "        x_esti, P = x_0, P_0\n",
        "    else:\n",
        "        x_esti, P = kalman_filter(x_train, x_esti, P)\n",
        "        # print(x_esti[1])\n",
        "print(\"123\", x_esti)\n",
        "    # x_train[i] = x_esti"
      ],
      "execution_count": null,
      "outputs": []
    },
    {
      "cell_type": "code",
      "metadata": {
        "id": "r99sZPQ42CcX"
      },
      "source": [
        "y_esti, P = None, None\n",
        "# print(\"x_train\", x_train[10])\n",
        "for i in range(n_samples):\n",
        "    if i == 0:\n",
        "        y_esti, P = x_0, P_0\n",
        "    else:\n",
        "        y_esti, P = kalman_filter(y_train, y_esti, P)\n",
        "        # print(y_esti)"
      ],
      "execution_count": null,
      "outputs": []
    },
    {
      "cell_type": "code",
      "metadata": {
        "id": "7Y7SZ2e7p0ao"
      },
      "source": [
        "model = Sequential()\n",
        "model.add(LSTM(30, \n",
        "               input_shape=(train_feature.shape[1], train_feature.shape[2]), \n",
        "               activation='relu', \n",
        "               return_sequences=False)\n",
        "          )\n",
        "model.add(Dense(3))"
      ],
      "execution_count": null,
      "outputs": []
    },
    {
      "cell_type": "code",
      "metadata": {
        "id": "kdVgEGIDp3Sl"
      },
      "source": [
        "model.compile(loss='mean_squared_error', optimizer='adam', metrics=['mse'])\n",
        "early_stop = EarlyStopping(monitor='val_loss', patience=5)\n",
        "filename = os.path.join('C:/Users/wlsrm/data', 'tmp_checkpoint.h5')\n",
        "checkpoint = ModelCheckpoint(filename, monitor='val_loss', verbose=1, save_best_only=True, mode='auto')\n",
        "\n",
        "h = model.fit(x_esti, y_esti, \n",
        "                    epochs=1000, \n",
        "                    batch_size=16)"
      ],
      "execution_count": null,
      "outputs": []
    },
    {
      "cell_type": "code",
      "metadata": {
        "id": "FBt-ItJ7G1Ic"
      },
      "source": [
        "def mse(label, pred, length):\n",
        "  for i in range(length):\n",
        "    error_avg = 0\n",
        "    error = abs((label[i]-pred[i])/ label[i]*100)\n",
        "    error_avg = error + error\n",
        "    return error_avg / length"
      ],
      "execution_count": null,
      "outputs": []
    },
    {
      "cell_type": "code",
      "metadata": {
        "id": "bTrZsa1NgubV"
      },
      "source": [
        "new_forecasting= 20"
      ],
      "execution_count": null,
      "outputs": []
    },
    {
      "cell_type": "code",
      "metadata": {
        "id": "HilTVsXHgxGV"
      },
      "source": [
        "test_df = pd.read_csv('/content/drive/MyDrive/J0003_0024_0221_20110307012732_cell_03.csv', encoding='utf8')\n",
        "scale_cols = ['Volt', 'Temp', 'Resistance']\n",
        "df_scaled = scaler.fit_transform(test_df[scale_cols])\n",
        "\n",
        "df_scaled = pd.DataFrame(df_scaled)\n",
        "df_scaled.columns = scale_cols\n",
        "\n",
        "test = df_scaled\n",
        "seq = len(test)\n",
        "seq = round(seq) - new_forecasting\n",
        "\n",
        "\n",
        "test = test.iloc[0:seq,:]\n",
        "\n",
        "feature_cols = ['Volt', 'Temp', 'Resistance']\n",
        "label_cols = ['Resistance']\n",
        "\n",
        "test_feature = test[feature_cols]\n",
        "test_label = test[label_cols]\n",
        "test_feature, test_label = make_dataset(test_feature, test_label, new_forecasting)\n",
        "\n",
        "n_samples = len(test_df)\n",
        "\n",
        "x_esti, P = None, None\n",
        "\n",
        "for i in range(n_samples):\n",
        "    if i == 0:\n",
        "        x_esti, P = x_0, P_0\n",
        "    else:\n",
        "        x_esti, P = kalman_filter(test_feature, x_esti, P)\n",
        "y_esti, P = None, None\n",
        "for i in range(n_samples):\n",
        "    if i == 0:\n",
        "        y_esti, P = x_0, P_0\n",
        "    else:\n",
        "        y_esti, P = kalman_filter(test_label, y_esti, P)\n",
        "\n",
        "look_ahead=new_forecasting\n",
        "xhat = x_esti[0]\n",
        "predictions = np.zeros((seq, 3))\n",
        "\n",
        "for i in range(seq):\n",
        "  prediction = model.predict(np.array([xhat]), batch_size=16)\n",
        "  predictions[i] = prediction\n",
        "  xhat=np.vstack([xhat[1:],prediction])\n",
        "\n",
        "label = test_df[label_cols].values\n",
        "\n",
        "pred2 = scaler.inverse_transform(predictions)\n",
        "pred2 = pred2[:, 2]\n",
        "# pred2\n",
        "# pred2 = predictions[:,2]\n",
        "testScore = model.evaluate(x_esti, y_esti, batch_size=16, verbose=0)\n",
        "model.reset_states()\n",
        "print('Test Score: ', testScore)\n",
        "\n",
        "pred3 = list(pred2)\n",
        "label_List = list(label)\n",
        "\n",
        "\n",
        "for i in range(seq):\n",
        "    error_avg = 0\n",
        "    error = abs((label_List[i]-pred3[i])/ label_List[i]*100)\n",
        "    error_avg = error + error\n",
        "print((error_avg/seq)*100)\n",
        "\n",
        "\n",
        "\n",
        "plt.figure(figsize=(12,5))\n",
        "plt.plot(label,label=\"actual\")\n",
        "plt.plot(pred2,label=\"pre\")\n",
        "# plt.plot(x_esti,label=\"x_esti\")\n",
        "plt.ylim(0,1)\n",
        "plt.legend()\n",
        "plt.show()"
      ],
      "execution_count": null,
      "outputs": []
    },
    {
      "cell_type": "code",
      "metadata": {
        "id": "h-aLmPWD9lTd"
      },
      "source": [
        "test_df = pd.read_csv('/content/drive/MyDrive/J0003_0024_0221_20110307012732_cell_06.csv', encoding='utf8')\n",
        "scale_cols = ['Volt', 'Temp', 'Resistance']\n",
        "df_scaled = scaler.fit_transform(test_df[scale_cols])\n",
        "\n",
        "df_scaled = pd.DataFrame(df_scaled)\n",
        "df_scaled.columns = scale_cols\n",
        "\n",
        "test = df_scaled\n",
        "seq = len(test)\n",
        "seq = round(seq) - new_forecasting\n",
        "\n",
        "\n",
        "test = test.iloc[0:seq,:]\n",
        "\n",
        "feature_cols = ['Volt', 'Temp', 'Resistance']\n",
        "label_cols = ['Resistance']\n",
        "\n",
        "test_feature = test[feature_cols]\n",
        "test_label = test[label_cols]\n",
        "test_feature, test_label = make_dataset(test_feature, test_label, new_forecasting)\n",
        "\n",
        "n_samples = len(test_df)\n",
        "\n",
        "x_esti, P = None, None\n",
        "# print(\"x_train\", x_train[10])\n",
        "for i in range(n_samples):\n",
        "    if i == 0:\n",
        "        x_esti, P = x_0, P_0\n",
        "    else:\n",
        "        x_esti, P = kalman_filter(test_feature, x_esti, P)\n",
        "y_esti, P = None, None\n",
        "for i in range(n_samples):\n",
        "    if i == 0:\n",
        "        y_esti, P = x_0, P_0\n",
        "    else:\n",
        "        y_esti, P = kalman_filter(test_label, y_esti, P)\n",
        "# print(x_esti[0])\n",
        "\n",
        "look_ahead=new_forecasting\n",
        "xhat = x_esti[0]\n",
        "predictions = np.zeros((seq, 3))\n",
        "for i in range(seq):\n",
        "  prediction = model.predict(np.array([xhat]), batch_size=16)\n",
        "  predictions[i] = prediction\n",
        "  xhat=np.vstack([xhat[1:],prediction])\n",
        "\n",
        "label = test_df[label_cols].values\n",
        "\n",
        "pred2 = scaler.inverse_transform(predictions)\n",
        "pred2 = pred2[:, 2]\n",
        "# pred2\n",
        "# pred2 = predictions[:,2]\n",
        "testScore = model.evaluate(x_esti, y_esti, batch_size=16, verbose=0)\n",
        "model.reset_states()\n",
        "print('Test Score: ', testScore)\n",
        "\n",
        "pred3 = list(pred2)\n",
        "label_List = list(label)\n",
        "\n",
        "\n",
        "for i in range(seq):\n",
        "    error_avg = 0\n",
        "    error = abs((label_List[i]-pred3[i])/ label_List[i]*100)\n",
        "    error_avg = error + error\n",
        "print(\"MSE = \",error_avg/seq)\n",
        "\n",
        "\n",
        "\n",
        "plt.figure(figsize=(12,5))\n",
        "plt.plot(label,label=\"actual\")\n",
        "plt.plot(pred2,label=\"pre\")\n",
        "# plt.ylim(0,1)\n",
        "plt.legend()\n",
        "plt.show()"
      ],
      "execution_count": null,
      "outputs": []
    },
    {
      "cell_type": "code",
      "metadata": {
        "id": "Puvwm6dSI6jT"
      },
      "source": [
        ""
      ],
      "execution_count": null,
      "outputs": []
    },
    {
      "cell_type": "code",
      "metadata": {
        "id": "p9MrBKrX9oWX"
      },
      "source": [
        "test_df = pd.read_csv('/content/drive/MyDrive/J0003_0024_0221_20110307012732_cell_7.csv', encoding='utf8')\n",
        "scale_cols = ['Volt', 'Temp', 'Resistance']\n",
        "df_scaled = scaler.fit_transform(test_df[scale_cols])\n",
        "\n",
        "df_scaled = pd.DataFrame(df_scaled)\n",
        "df_scaled.columns = scale_cols\n",
        "\n",
        "test = df_scaled\n",
        "seq = len(test)\n",
        "seq = round(seq) - new_forecasting\n",
        "\n",
        "\n",
        "test = test.iloc[0:seq,:]\n",
        "\n",
        "feature_cols = ['Volt', 'Temp', 'Resistance']\n",
        "label_cols = ['Resistance']\n",
        "\n",
        "test_feature = test[feature_cols]\n",
        "test_label = test[label_cols]\n",
        "test_feature, test_label = make_dataset(test_feature, test_label, new_forecasting)\n",
        "\n",
        "n_samples = len(test_df)\n",
        "\n",
        "x_esti, P = None, None\n",
        "# print(\"x_train\", x_train[10])\n",
        "for i in range(n_samples):\n",
        "    if i == 0:\n",
        "        x_esti, P = x_0, P_0\n",
        "    else:\n",
        "        x_esti, P = kalman_filter(test_feature, x_esti, P)\n",
        "y_esti, P = None, None\n",
        "for i in range(n_samples):\n",
        "    if i == 0:\n",
        "        y_esti, P = x_0, P_0\n",
        "    else:\n",
        "        y_esti, P = kalman_filter(test_label, y_esti, P)\n",
        "# print(x_esti[0])\n",
        "\n",
        "x = []\n",
        "print(type(x))\n",
        "look_ahead=new_forecasting\n",
        "xhat = x_esti[0]\n",
        "predictions = np.zeros((seq, 3))\n",
        "for i in range(seq):\n",
        "  prediction = model.predict(np.array([xhat]), batch_size=16)\n",
        "  predictions[i] = prediction\n",
        "  xhat=np.vstack([xhat[1:],prediction])\n",
        "\n",
        "label = test_df[label_cols].values\n",
        "\n",
        "pred2 = scaler.inverse_transform(predictions)\n",
        "pred2 = pred2[:, 2]\n",
        "# pred2\n",
        "# pred2 = predictions[:,2]\n",
        "testScore = model.evaluate(x_esti, y_esti, batch_size=16, verbose=0)\n",
        "model.reset_states()\n",
        "print('Test Score: ', testScore)\n",
        "\n",
        "pred3 = list(pred2)\n",
        "label_List = list(label)\n",
        "\n",
        "\n",
        "for i in range(seq):\n",
        "    error_avg = 0\n",
        "    error = abs((label_List[i]-pred3[i])/ label_List[i]*100)\n",
        "    error_avg = error + error\n",
        "print(error_avg/seq)\n",
        "\n",
        "\n",
        "\n",
        "plt.figure(figsize=(12,5))\n",
        "plt.plot(label,label=\"actual\")\n",
        "plt.plot(pred2,label=\"pre\")\n",
        "# plt.ylim(0,1)\n",
        "plt.legend()\n",
        "plt.show()"
      ],
      "execution_count": null,
      "outputs": []
    },
    {
      "cell_type": "code",
      "metadata": {
        "id": "8iKuIElo9qqB"
      },
      "source": [
        "test_df = pd.read_csv('/content/drive/MyDrive/J0003_0024_0221_20110307012732_cell_9.csv', encoding='utf8')\n",
        "scale_cols = ['Volt', 'Temp', 'Resistance']\n",
        "df_scaled = scaler.fit_transform(test_df[scale_cols])\n",
        "\n",
        "df_scaled = pd.DataFrame(df_scaled)\n",
        "df_scaled.columns = scale_cols\n",
        "\n",
        "test = df_scaled\n",
        "seq = len(test)\n",
        "seq = round(seq) - new_forecasting\n",
        "\n",
        "\n",
        "test = test.iloc[0:seq,:]\n",
        "\n",
        "feature_cols = ['Volt', 'Temp', 'Resistance']\n",
        "label_cols = ['Resistance']\n",
        "\n",
        "test_feature = test[feature_cols]\n",
        "test_label = test[label_cols]\n",
        "test_feature, test_label = make_dataset(test_feature, test_label, new_forecasting)\n",
        "\n",
        "n_samples = len(test_df)\n",
        "\n",
        "x_esti, P = None, None\n",
        "# print(\"x_train\", x_train[10])\n",
        "for i in range(n_samples):\n",
        "    if i == 0:\n",
        "        x_esti, P = x_0, P_0\n",
        "    else:\n",
        "        x_esti, P = kalman_filter(test_feature, x_esti, P)\n",
        "y_esti, P = None, None\n",
        "for i in range(n_samples):\n",
        "    if i == 0:\n",
        "        y_esti, P = x_0, P_0\n",
        "    else:\n",
        "        y_esti, P = kalman_filter(test_label, y_esti, P)\n",
        "# print(x_esti[0])\n",
        "\n",
        "x = []\n",
        "print(type(x))\n",
        "look_ahead=new_forecasting\n",
        "xhat = x_esti[0]\n",
        "predictions = np.zeros((seq, 3))\n",
        "for i in range(seq):\n",
        "  prediction = model.predict(np.array([xhat]), batch_size=16)\n",
        "  predictions[i] = prediction\n",
        "  xhat=np.vstack([xhat[1:],prediction])\n",
        "\n",
        "label = test_df[label_cols].values\n",
        "\n",
        "pred2 = scaler.inverse_transform(predictions)\n",
        "pred2 = pred2[:, 2]\n",
        "# pred2\n",
        "# pred2 = predictions[:,2]\n",
        "testScore = model.evaluate(x_esti, y_esti, batch_size=16, verbose=0)\n",
        "model.reset_states()\n",
        "print('Test Score: ', testScore)\n",
        "\n",
        "pred3 = list(pred2)\n",
        "label_List = list(label)\n",
        "\n",
        "\n",
        "for i in range(seq):\n",
        "    error_avg = 0\n",
        "    error = abs((label_List[i]-pred3[i])/ label_List[i]*100)\n",
        "    error_avg = error + error\n",
        "print(error_avg/seq)\n",
        "\n",
        "\n",
        "\n",
        "plt.figure(figsize=(12,5))\n",
        "plt.plot(label,label=\"actual\")\n",
        "plt.plot(pred2,label=\"pre\")\n",
        "# plt.ylim(0,1)\n",
        "plt.legend()\n",
        "plt.show()"
      ],
      "execution_count": null,
      "outputs": []
    },
    {
      "cell_type": "code",
      "metadata": {
        "id": "2Iwgd4mV9sOG"
      },
      "source": [
        "test_df = pd.read_csv('/content/drive/MyDrive/J0003_0024_0221_20110307012732_cell_18.csv', encoding='utf8')\n",
        "scale_cols = ['Volt', 'Temp', 'Resistance']\n",
        "df_scaled = scaler.fit_transform(test_df[scale_cols])\n",
        "\n",
        "df_scaled = pd.DataFrame(df_scaled)\n",
        "df_scaled.columns = scale_cols\n",
        "\n",
        "test = df_scaled\n",
        "seq = len(test)\n",
        "seq = round(seq) - new_forecasting\n",
        "\n",
        "\n",
        "test = test.iloc[0:seq,:]\n",
        "\n",
        "feature_cols = ['Volt', 'Temp', 'Resistance']\n",
        "label_cols = ['Resistance']\n",
        "\n",
        "test_feature = test[feature_cols]\n",
        "test_label = test[label_cols]\n",
        "test_feature, test_label = make_dataset(test_feature, test_label, new_forecasting)\n",
        "\n",
        "n_samples = len(test_df)\n",
        "\n",
        "x_esti, P = None, None\n",
        "# print(\"x_train\", x_train[10])\n",
        "for i in range(n_samples):\n",
        "    if i == 0:\n",
        "        x_esti, P = x_0, P_0\n",
        "    else:\n",
        "        x_esti, P = kalman_filter(test_feature, x_esti, P)\n",
        "y_esti, P = None, None\n",
        "for i in range(n_samples):\n",
        "    if i == 0:\n",
        "        y_esti, P = x_0, P_0\n",
        "    else:\n",
        "        y_esti, P = kalman_filter(test_label, y_esti, P)\n",
        "# print(x_esti[0])\n",
        "\n",
        "x = []\n",
        "print(type(x))\n",
        "look_ahead=new_forecasting\n",
        "xhat = x_esti[0]\n",
        "predictions = np.zeros((seq, 3))\n",
        "for i in range(seq):\n",
        "  prediction = model.predict(np.array([xhat]), batch_size=16)\n",
        "  predictions[i] = prediction\n",
        "  xhat=np.vstack([xhat[1:],prediction])\n",
        "\n",
        "label = test_df[label_cols].values\n",
        "\n",
        "pred2 = scaler.inverse_transform(predictions)\n",
        "pred2 = pred2[:, 2]\n",
        "# pred2\n",
        "# pred2 = predictions[:,2]\n",
        "testScore = model.evaluate(x_esti, y_esti, batch_size=16, verbose=0)\n",
        "model.reset_states()\n",
        "print('Test Score: ', testScore)\n",
        "\n",
        "pred3 = list(pred2)\n",
        "label_List = list(label)\n",
        "\n",
        "\n",
        "for i in range(seq):\n",
        "    error_avg = 0\n",
        "    error = abs((label_List[i]-pred3[i])/ label_List[i]*100)\n",
        "    error_avg = error + error\n",
        "print(error_avg/seq)\n",
        "\n",
        "\n",
        "\n",
        "plt.figure(figsize=(12,5))\n",
        "plt.plot(label,label=\"actual\")\n",
        "plt.plot(pred2,label=\"pre\")\n",
        "# plt.ylim(0,1)\n",
        "plt.legend()\n",
        "plt.show()"
      ],
      "execution_count": null,
      "outputs": []
    },
    {
      "cell_type": "code",
      "metadata": {
        "id": "VhDFPTCr9t4D"
      },
      "source": [
        "test_df = pd.read_csv('/content/drive/MyDrive/J0003_0024_0221_20110307012732_cell_19.csv', encoding='utf8')\n",
        "scale_cols = ['Volt', 'Temp', 'Resistance']\n",
        "df_scaled = scaler.fit_transform(test_df[scale_cols])\n",
        "\n",
        "df_scaled = pd.DataFrame(df_scaled)\n",
        "df_scaled.columns = scale_cols\n",
        "\n",
        "test = df_scaled\n",
        "seq = len(test)\n",
        "seq = round(seq) - new_forecasting\n",
        "\n",
        "\n",
        "test = test.iloc[0:seq,:]\n",
        "\n",
        "feature_cols = ['Volt', 'Temp', 'Resistance']\n",
        "label_cols = ['Resistance']\n",
        "\n",
        "test_feature = test[feature_cols]\n",
        "test_label = test[label_cols]\n",
        "test_feature, test_label = make_dataset(test_feature, test_label, new_forecasting)\n",
        "\n",
        "n_samples = len(test_df)\n",
        "\n",
        "x_esti, P = None, None\n",
        "# print(\"x_train\", x_train[10])\n",
        "for i in range(n_samples):\n",
        "    if i == 0:\n",
        "        x_esti, P = x_0, P_0\n",
        "    else:\n",
        "        x_esti, P = kalman_filter(test_feature, x_esti, P)\n",
        "y_esti, P = None, None\n",
        "for i in range(n_samples):\n",
        "    if i == 0:\n",
        "        y_esti, P = x_0, P_0\n",
        "    else:\n",
        "        y_esti, P = kalman_filter(test_label, y_esti, P)\n",
        "# print(x_esti[0])\n",
        "\n",
        "x = []\n",
        "print(type(x))\n",
        "look_ahead=new_forecasting\n",
        "xhat = x_esti[0]\n",
        "predictions = np.zeros((seq, 3))\n",
        "for i in range(seq):\n",
        "  prediction = model.predict(np.array([xhat]), batch_size=16)\n",
        "  predictions[i] = prediction\n",
        "  xhat=np.vstack([xhat[1:],prediction])\n",
        "\n",
        "label = test_df[label_cols].values\n",
        "\n",
        "pred2 = scaler.inverse_transform(predictions)\n",
        "pred2 = pred2[:, 2]\n",
        "# pred2\n",
        "# pred2 = predictions[:,2]\n",
        "testScore = model.evaluate(x_esti, y_esti, batch_size=16, verbose=0)\n",
        "model.reset_states()\n",
        "print('Test Score: ', testScore)\n",
        "\n",
        "pred3 = list(pred2)\n",
        "label_List = list(label)\n",
        "\n",
        "\n",
        "for i in range(seq):\n",
        "    error_avg = 0\n",
        "    error = abs((label_List[i]-pred3[i])/ label_List[i]*100)\n",
        "    error_avg = error + error\n",
        "print(error_avg/seq)\n",
        "\n",
        "\n",
        "\n",
        "plt.figure(figsize=(12,5))\n",
        "plt.plot(label,label=\"actual\")\n",
        "plt.plot(pred2,label=\"pre\")\n",
        "# plt.ylim(0,1)\n",
        "plt.legend()\n",
        "plt.show()"
      ],
      "execution_count": null,
      "outputs": []
    },
    {
      "cell_type": "code",
      "metadata": {
        "id": "GYiYBPzA9vVq"
      },
      "source": [
        "test_df = pd.read_csv('/content/drive/MyDrive/J0003_0024_0221_20110307012732_cell_20.csv', encoding='utf8')\n",
        "scale_cols = ['Volt', 'Temp', 'Resistance']\n",
        "df_scaled = scaler.fit_transform(test_df[scale_cols])\n",
        "\n",
        "df_scaled = pd.DataFrame(df_scaled)\n",
        "df_scaled.columns = scale_cols\n",
        "\n",
        "test = df_scaled\n",
        "seq = len(test)\n",
        "seq = round(seq) - new_forecasting\n",
        "\n",
        "\n",
        "test = test.iloc[0:seq,:]\n",
        "\n",
        "feature_cols = ['Volt', 'Temp', 'Resistance']\n",
        "label_cols = ['Resistance']\n",
        "\n",
        "test_feature = test[feature_cols]\n",
        "test_label = test[label_cols]\n",
        "test_feature, test_label = make_dataset(test_feature, test_label, new_forecasting)\n",
        "\n",
        "n_samples = len(test_df)\n",
        "\n",
        "x_esti, P = None, None\n",
        "# print(\"x_train\", x_train[10])\n",
        "for i in range(n_samples):\n",
        "    if i == 0:\n",
        "        x_esti, P = x_0, P_0\n",
        "    else:\n",
        "        x_esti, P = kalman_filter(test_feature, x_esti, P)\n",
        "y_esti, P = None, None\n",
        "for i in range(n_samples):\n",
        "    if i == 0:\n",
        "        y_esti, P = x_0, P_0\n",
        "    else:\n",
        "        y_esti, P = kalman_filter(test_label, y_esti, P)\n",
        "# print(x_esti[0])\n",
        "\n",
        "x = []\n",
        "print(type(x))\n",
        "look_ahead=new_forecasting\n",
        "xhat = x_esti[0]\n",
        "predictions = np.zeros((seq, 3))\n",
        "for i in range(seq):\n",
        "  prediction = model.predict(np.array([xhat]), batch_size=16)\n",
        "  predictions[i] = prediction\n",
        "  xhat=np.vstack([xhat[1:],prediction])\n",
        "\n",
        "label = test_df[label_cols].values\n",
        "\n",
        "pred2 = scaler.inverse_transform(predictions)\n",
        "pred2 = pred2[:, 2]\n",
        "# pred2\n",
        "# pred2 = predictions[:,2]\n",
        "testScore = model.evaluate(x_esti, y_esti, batch_size=16, verbose=0)\n",
        "model.reset_states()\n",
        "print('Test Score: ', testScore)\n",
        "\n",
        "pred3 = list(pred2)\n",
        "label_List = list(label)\n",
        "\n",
        "\n",
        "for i in range(seq):\n",
        "    error_avg = 0\n",
        "    error = abs((label_List[i]-pred3[i])/ label_List[i]*100)\n",
        "    error_avg = error + error\n",
        "print(error_avg/seq)\n",
        "\n",
        "\n",
        "\n",
        "plt.figure(figsize=(12,5))\n",
        "plt.plot(label,label=\"actual\")\n",
        "plt.plot(pred2,label=\"pre\")\n",
        "# plt.ylim(0,1)\n",
        "plt.legend()\n",
        "plt.show()"
      ],
      "execution_count": null,
      "outputs": []
    },
    {
      "cell_type": "code",
      "metadata": {
        "id": "JF8U3xgt9w79"
      },
      "source": [
        "test_df = pd.read_csv('/content/drive/MyDrive/J0003_0024_0221_20110307012732_cell_22.csv', encoding='utf8')\n",
        "# print(test_df)\n",
        "scale_cols = ['Volt', 'Temp', 'Resistance']\n",
        "df_scaled = scaler.fit_transform(test_df[scale_cols])\n",
        "\n",
        "df_scaled = pd.DataFrame(df_scaled)\n",
        "df_scaled.columns = scale_cols\n",
        "\n",
        "test = df_scaled\n",
        "seq = len(test)\n",
        "seq = round(seq) - new_forecasting\n",
        "\n",
        "\n",
        "test = test.iloc[0:seq,:]\n",
        "\n",
        "feature_cols = ['Volt', 'Temp', 'Resistance']\n",
        "label_cols = ['Resistance']\n",
        "\n",
        "test_feature = test[feature_cols]\n",
        "test_label = test[label_cols]\n",
        "test_feature, test_label = make_dataset(test_feature, test_label, new_forecasting)\n",
        "\n",
        "n_samples = len(test_df)\n",
        "\n",
        "x_esti, P = None, None\n",
        "# print(\"x_train\", x_train[10])\n",
        "for i in range(n_samples):\n",
        "    if i == 0:\n",
        "        x_esti, P = x_0, P_0\n",
        "    else:\n",
        "        x_esti, P = kalman_filter(test_feature, x_esti, P)\n",
        "y_esti, P = None, None\n",
        "for i in range(n_samples):\n",
        "    if i == 0:\n",
        "        y_esti, P = x_0, P_0\n",
        "    else:\n",
        "        y_esti, P = kalman_filter(test_label, y_esti, P)\n",
        "# print(x_esti[0])\n",
        "\n",
        "x = []\n",
        "print(type(x))\n",
        "look_ahead=new_forecasting\n",
        "xhat = x_esti[0]\n",
        "predictions = np.zeros((seq, 3))\n",
        "for i in range(seq):\n",
        "  prediction = model.predict(np.array([xhat]), batch_size=16)\n",
        "  predictions[i] = prediction\n",
        "  xhat=np.vstack([xhat[1:],prediction])\n",
        "\n",
        "label = test_df[label_cols].values\n",
        "\n",
        "pred2 = scaler.inverse_transform(predictions)\n",
        "pred2 = pred2[:, 2]\n",
        "# pred2\n",
        "# pred2 = predictions[:,2]\n",
        "testScore = model.evaluate(x_esti, y_esti, batch_size=16, verbose=0)\n",
        "model.reset_states()\n",
        "print('Test Score: ', testScore)\n",
        "\n",
        "pred3 = list(pred2)\n",
        "label_List = list(label)\n",
        "\n",
        "\n",
        "for i in range(seq):\n",
        "    error_avg = 0\n",
        "    error = abs((label_List[i]-pred3[i])/ label_List[i]*100)\n",
        "    error_avg = error + error\n",
        "print(error_avg/seq)\n",
        "\n",
        "\n",
        "\n",
        "plt.figure(figsize=(12,5))\n",
        "plt.plot(label,label=\"actual\")\n",
        "plt.plot(pred2,label=\"pre\")\n",
        "# plt.ylim(0,1)\n",
        "plt.legend()\n",
        "plt.show()"
      ],
      "execution_count": null,
      "outputs": []
    },
    {
      "cell_type": "code",
      "metadata": {
        "id": "pxkBc7eP9yD-"
      },
      "source": [
        "test_df = pd.read_csv('/content/drive/MyDrive/J0003_0024_0221_20110307012732_cell_23.csv', encoding='utf8')\n",
        "\n",
        "scale_cols = ['Volt', 'Temp', 'Resistance']\n",
        "df_scaled = scaler.fit_transform(test_df[scale_cols])\n",
        "\n",
        "df_scaled = pd.DataFrame(df_scaled)\n",
        "df_scaled.columns = scale_cols\n",
        "\n",
        "test = df_scaled\n",
        "seq = len(test)\n",
        "seq = round(seq) - new_forecasting\n",
        "\n",
        "\n",
        "test = test.iloc[0:seq,:]\n",
        "\n",
        "feature_cols = ['Volt', 'Temp', 'Resistance']\n",
        "label_cols = ['Resistance']\n",
        "\n",
        "test_feature = test[feature_cols]\n",
        "test_label = test[label_cols]\n",
        "test_feature, test_label = make_dataset(test_feature, test_label, new_forecasting)\n",
        "\n",
        "n_samples = len(test_df)\n",
        "\n",
        "x_esti, P = None, None\n",
        "# print(\"x_train\", x_train[10])\n",
        "for i in range(n_samples):\n",
        "    if i == 0:\n",
        "        x_esti, P = x_0, P_0\n",
        "    else:\n",
        "        x_esti, P = kalman_filter(test_feature, x_esti, P)\n",
        "y_esti, P = None, None\n",
        "for i in range(n_samples):\n",
        "    if i == 0:\n",
        "        y_esti, P = x_0, P_0\n",
        "    else:\n",
        "        y_esti, P = kalman_filter(test_label, y_esti, P)\n",
        "# print(x_esti[0])\n",
        "\n",
        "x = []\n",
        "print(type(x))\n",
        "look_ahead=new_forecasting\n",
        "xhat = x_esti[0]\n",
        "predictions = np.zeros((seq, 3))\n",
        "for i in range(seq):\n",
        "  prediction = model.predict(np.array([xhat]), batch_size=16)\n",
        "  predictions[i] = prediction\n",
        "  xhat=np.vstack([xhat[1:],prediction])\n",
        "\n",
        "label = test_df[label_cols].values\n",
        "\n",
        "pred2 = scaler.inverse_transform(predictions)\n",
        "pred2 = pred2[:, 2]\n",
        "# pred2\n",
        "# pred2 = predictions[:,2]\n",
        "testScore = model.evaluate(x_esti, y_esti, batch_size=16, verbose=0)\n",
        "model.reset_states()\n",
        "print('Test Score: ', testScore)\n",
        "\n",
        "pred3 = list(pred2)\n",
        "label_List = list(label)\n",
        "\n",
        "\n",
        "for i in range(seq):\n",
        "    error_avg = 0\n",
        "    error = abs((label_List[i]-pred3[i])/ label_List[i]*100)\n",
        "    error_avg = error + error\n",
        "print(error_avg/seq)\n",
        "\n",
        "\n",
        "\n",
        "plt.figure(figsize=(12,5))\n",
        "plt.plot(label,label=\"actual\")\n",
        "plt.plot(pred2,label=\"pre\")\n",
        "# plt.ylim(0,1)\n",
        "plt.legend()\n",
        "plt.show()"
      ],
      "execution_count": null,
      "outputs": []
    },
    {
      "cell_type": "code",
      "metadata": {
        "id": "_qqsvgkwz04U"
      },
      "source": [
        "pred2"
      ],
      "execution_count": null,
      "outputs": []
    },
    {
      "cell_type": "code",
      "metadata": {
        "id": "mz_zpzizzuo8"
      },
      "source": [
        "plt.figure(figsize=(12,5))\n",
        "plt.plot(label,label=\"actual\")\n",
        "# plt.plot(pred2,label=\"pre\")\n",
        "# plt.ylim(0,1)\n",
        "plt.legend()\n",
        "plt.show()"
      ],
      "execution_count": null,
      "outputs": []
    }
  ]
}