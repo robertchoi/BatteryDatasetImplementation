{
  "nbformat": 4,
  "nbformat_minor": 0,
  "metadata": {
    "colab": {
      "name": "LSTM_0716_ManyToMany.ipynb",
      "provenance": [],
      "collapsed_sections": []
    },
    "kernelspec": {
      "name": "python3",
      "display_name": "Python 3"
    },
    "language_info": {
      "name": "python"
    }
  },
  "cells": [
    {
      "cell_type": "markdown",
      "metadata": {
        "id": "sdr46p2Ci5l0"
      },
      "source": [
        "## Many To Many 실행 결과, 앞의 추이를 그대로 따라가는것으로 보임"
      ]
    },
    {
      "cell_type": "code",
      "metadata": {
        "id": "lZG3p97UyC6v"
      },
      "source": [
        "import pandas as pd\n",
        "import numpy as np\n",
        "import matplotlib.pyplot as plt\n",
        "import tensorflow as tf\n",
        "from sklearn.preprocessing import MinMaxScaler\n",
        "from keras.models import Sequential, load_model\n",
        "from keras.layers import Dense, LSTM, TimeDistributed, Dropout\n"
      ],
      "execution_count": null,
      "outputs": []
    },
    {
      "cell_type": "code",
      "metadata": {
        "colab": {
          "base_uri": "https://localhost:8080/",
          "height": 282
        },
        "id": "K_EHnriqyIjR",
        "outputId": "ad859316-18bf-4521-9fe4-8c7454002e09"
      },
      "source": [
        "df=pd.read_csv('m2_s2_bank_959c290884d3c44d85ccdf05a2bf52e1__site_0d39d11b52565146a236a646d49133f4.csv')\n",
        "df=df[df['CellNo']==1].reset_index(drop=True)\n",
        "df=df['ResistValue']\n",
        "df.plot()"
      ],
      "execution_count": null,
      "outputs": [
        {
          "output_type": "execute_result",
          "data": {
            "text/plain": [
              "<matplotlib.axes._subplots.AxesSubplot at 0x7fc553228bd0>"
            ]
          },
          "metadata": {
            "tags": []
          },
          "execution_count": 7
        },
        {
          "output_type": "display_data",
          "data": {
            "image/png": "[encoded data removed]",
            "text/plain": [
              "<Figure size 432x288 with 1 Axes>"
            ]
          },
          "metadata": {
            "tags": [],
            "needs_background": "light"
          }
        }
      ]
    },
    {
      "cell_type": "code",
      "metadata": {
        "id": "TIHm2MrvyNin"
      },
      "source": [
        "def error_rate(original, prediction, ft_len, forecast_len):\n",
        "    error_avg = []\n",
        "    ft_len = ft_len-1\n",
        "    for i in range(forecast_len):\n",
        "      error = abs((original[ft_len+i] - prediction[-forecast_len+i]))/original[ft_len+i] * 100\n",
        "      print('num',i,error,'actual',original[ft_len+i],'prediction',predictions[-forecast_len+i])\n",
        "      print(\"오차율 :\",error)\n",
        "      error_avg.append(error)\n",
        "    print('최소 오류값 :',min(error_avg))\n",
        "    print('최대 오류값 :',max(error_avg))\n",
        "    return sum(error_avg)/len(error_avg)"
      ],
      "execution_count": null,
      "outputs": []
    },
    {
      "cell_type": "code",
      "metadata": {
        "id": "srZxq9LlyQPj"
      },
      "source": [
        "def make_dataset(xData, step):\n",
        "    \n",
        "    m = len(xData)-step-1\n",
        "    x, y =[], []\n",
        "    for i in range(m):\n",
        "      a = xData[i:(i+step)]\n",
        "      x.append(a)\n",
        "    xBatch = np.reshape(np.array(x), (m,step,1))\n",
        "\n",
        "    for i in range(m):\n",
        "      a = xData[(i+step):(i+step+20)]\n",
        "      y.append(a[-1])\n",
        "    yBatch = np.reshape(np.array(y), (m,1))\n",
        "\n",
        "    return xBatch, yBatch"
      ],
      "execution_count": null,
      "outputs": []
    },
    {
      "cell_type": "code",
      "metadata": {
        "id": "GBczxYfpyRBQ"
      },
      "source": [
        "def kalman_filter(z_meas, x_esti, P):\n",
        "    \"\"\"Kalman Filter Algorithm for One Variable.\"\"\"\n",
        "    # (1) Prediction.\n",
        "    x_pred = A * x_esti\n",
        "    P_pred = A * P * A + Q\n",
        "\n",
        "    # (2) Kalman Gain.\n",
        "    K = P_pred * H / (H * P_pred * H + R)\n",
        "\n",
        "    # (3) Estimation.\n",
        "    x_esti = x_pred + K * (z_meas - H * x_pred)\n",
        "\n",
        "    # (4) Error Covariance.\n",
        "    P = P_pred - K * H * P_pred\n",
        "\n",
        "    return x_esti, P\n",
        "# Initialization for system model.\n",
        "A = 1\n",
        "H = 1\n",
        "Q = 0.0001\n",
        "R = 0.001\n",
        "# Initialization for estimation.\n",
        "x_0 = 10  # 14 for book.\n",
        "P_0 = 6"
      ],
      "execution_count": null,
      "outputs": []
    },
    {
      "cell_type": "code",
      "metadata": {
        "colab": {
          "base_uri": "https://localhost:8080/",
          "height": 282
        },
        "id": "_nBnolL3yR2y",
        "outputId": "382da224-16df-401f-92fa-f3609ba8e084"
      },
      "source": [
        "n_samples = len(df)\n",
        "x_0 = df[1]\n",
        "r_meas_save = np.zeros(n_samples)\n",
        "r_esti_save = np.zeros(n_samples)\n",
        "\n",
        "x_esti, P = None, None\n",
        "for i in range(n_samples):\n",
        "    r_meas = df[i]\n",
        "    if i == 0:\n",
        "        x_esti, P = x_0, P_0\n",
        "    else:\n",
        "        x_esti, P = kalman_filter(r_meas, x_esti, P)\n",
        "        # print(x_esti[1])\n",
        "    r_meas_save[i] = r_meas\n",
        "    r_esti_save[i] = x_esti\n",
        "\n",
        "#print(\"123\", x_esti)\n",
        "\n",
        "df = r_esti_save\n",
        "tt=pd.DataFrame(df)\n",
        "tt.plot()"
      ],
      "execution_count": null,
      "outputs": [
        {
          "output_type": "execute_result",
          "data": {
            "text/plain": [
              "<matplotlib.axes._subplots.AxesSubplot at 0x7fc5530c6dd0>"
            ]
          },
          "metadata": {
            "tags": []
          },
          "execution_count": 11
        },
        {
          "output_type": "display_data",
          "data": {
            "image/png": "[encoded data removed]",
            "text/plain": [
              "<Figure size 432x288 with 1 Axes>"
            ]
          },
          "metadata": {
            "tags": [],
            "needs_background": "light"
          }
        }
      ]
    },
    {
      "cell_type": "code",
      "metadata": {
        "id": "vW7LfvkIyWDo"
      },
      "source": [
        "from sklearn.preprocessing import MinMaxScaler\n",
        "scaler = MinMaxScaler()\n",
        "scale_cols = ['ResistValue']\n",
        "df = pd.DataFrame(df)\n",
        "df.columns = scale_cols\n",
        "df_scaled = scaler.fit_transform(df[scale_cols])\n",
        "\n",
        "df_scaled = pd.DataFrame(df_scaled)\n",
        "df_scaled.columns = scale_cols\n",
        "\n",
        "train=df_scaled\n",
        "feature_cols = ['ResistValue']\n",
        "label_cols = ['ResistValue']\n",
        "\n",
        "train_feature = train[feature_cols]\n",
        "train_label = train[label_cols]\n",
        "# test_feature = test[feature_cols]\n",
        "# test_label = test[label_cols]\n",
        "\n",
        "train_feature=train_feature.values"
      ],
      "execution_count": null,
      "outputs": []
    },
    {
      "cell_type": "code",
      "metadata": {
        "colab": {
          "base_uri": "https://localhost:8080/"
        },
        "id": "imgyQn_ayhA8",
        "outputId": "3f69ad60-3686-4e47-a575-cd941840a9f3"
      },
      "source": [
        "train_feature, train_label = make_dataset(train_feature, 20)\n",
        "total_len = len(train_feature)\n",
        "print(train_label.shape)\n",
        "x_train = train_feature[:int(total_len*0.8)]\n",
        "x_valid = train_feature[int(total_len*0.8):]\n",
        "y_train = train_label[:int(total_len*0.8)]\n",
        "y_valid = train_label[int(total_len*0.8):]"
      ],
      "execution_count": null,
      "outputs": [
        {
          "output_type": "stream",
          "text": [
            "(514, 1)\n"
          ],
          "name": "stdout"
        }
      ]
    },
    {
      "cell_type": "code",
      "metadata": {
        "colab": {
          "base_uri": "https://localhost:8080/"
        },
        "id": "nQBtMXdRyiL5",
        "outputId": "f450aa27-7d34-454a-9b21-d61b4042f959"
      },
      "source": [
        "model= Sequential()\n",
        "model.add(LSTM(128, input_shape=(x_train.shape[1], x_train.shape[2]), \n",
        "               activation='relu', return_sequences=True))\n",
        "model.add(Dropout(0.3))\n",
        "model.add(Dense(64))\n",
        "model.add(Dropout(0.3))\n",
        "model.add(Dense(32))\n",
        "model.add(Dropout(0.3))\n",
        "model.add(Dense(1))\n",
        "model.summary()"
      ],
      "execution_count": null,
      "outputs": [
        {
          "output_type": "stream",
          "text": [
            "Model: \"sequential\"\n",
            "_________________________________________________________________\n",
            "Layer (type)                 Output Shape              Param #   \n",
            "=================================================================\n",
            "lstm (LSTM)                  (None, 20, 128)           66560     \n",
            "_________________________________________________________________\n",
            "dropout (Dropout)            (None, 20, 128)           0         \n",
            "_________________________________________________________________\n",
            "dense (Dense)                (None, 20, 64)            8256      \n",
            "_________________________________________________________________\n",
            "dropout_1 (Dropout)          (None, 20, 64)            0         \n",
            "_________________________________________________________________\n",
            "dense_1 (Dense)              (None, 20, 32)            2080      \n",
            "_________________________________________________________________\n",
            "dropout_2 (Dropout)          (None, 20, 32)            0         \n",
            "_________________________________________________________________\n",
            "dense_2 (Dense)              (None, 20, 1)             33        \n",
            "=================================================================\n",
            "Total params: 76,929\n",
            "Trainable params: 76,929\n",
            "Non-trainable params: 0\n",
            "_________________________________________________________________\n"
          ],
          "name": "stdout"
        }
      ]
    },
    {
      "cell_type": "code",
      "metadata": {
        "colab": {
          "base_uri": "https://localhost:8080/"
        },
        "id": "JcfIEqD8yjRw",
        "outputId": "8ac1f7b8-9b51-4b71-bae8-5ba7bd0e1154"
      },
      "source": [
        "from keras.callbacks import EarlyStopping\n",
        "model.compile(loss='mse', optimizer='adam', metrics=['mse'])\n",
        "early_stop=EarlyStopping(monitor='val_loss', patience=5)\n",
        "\n",
        "model.fit(x_train, y_train, epochs=100, batch_size=1)\n",
        "model.save(\"LSTM_0716_Dropout(0.3)_v2.h5\")"
      ],
      "execution_count": null,
      "outputs": [
        {
          "output_type": "stream",
          "text": [
            "Epoch 1/100\n",
            "411/411 [==============================] - 23s 4ms/step - loss: 0.0689 - mse: 0.0689\n",
            "Epoch 2/100\n",
            "411/411 [==============================] - 2s 4ms/step - loss: 0.0502 - mse: 0.0502\n",
            "Epoch 3/100\n",
            "411/411 [==============================] - 2s 4ms/step - loss: 0.0459 - mse: 0.0459\n",
            "Epoch 4/100\n",
            "411/411 [==============================] - 2s 4ms/step - loss: 0.0422 - mse: 0.0422\n",
            "Epoch 5/100\n",
            "411/411 [==============================] - 2s 4ms/step - loss: 0.0429 - mse: 0.0429\n",
            "Epoch 6/100\n",
            "411/411 [==============================] - 2s 4ms/step - loss: 0.0503 - mse: 0.0503\n",
            "Epoch 7/100\n",
            "411/411 [==============================] - 2s 4ms/step - loss: 0.0398 - mse: 0.0398\n",
            "Epoch 8/100\n",
            "411/411 [==============================] - 2s 4ms/step - loss: 0.0502 - mse: 0.0502\n",
            "Epoch 9/100\n",
            "411/411 [==============================] - 2s 5ms/step - loss: 0.0378 - mse: 0.0378\n",
            "Epoch 10/100\n",
            "411/411 [==============================] - 2s 4ms/step - loss: 0.0403 - mse: 0.0403\n",
            "Epoch 11/100\n",
            "411/411 [==============================] - 2s 4ms/step - loss: 0.0426 - mse: 0.0426\n",
            "Epoch 12/100\n",
            "411/411 [==============================] - 2s 4ms/step - loss: 0.0338 - mse: 0.0338\n",
            "Epoch 13/100\n",
            "411/411 [==============================] - 2s 4ms/step - loss: 0.0410 - mse: 0.0410\n",
            "Epoch 14/100\n",
            "411/411 [==============================] - 2s 4ms/step - loss: 0.0448 - mse: 0.0448\n",
            "Epoch 15/100\n",
            "411/411 [==============================] - 2s 4ms/step - loss: 0.0395 - mse: 0.0395\n",
            "Epoch 16/100\n",
            "411/411 [==============================] - 2s 4ms/step - loss: 0.0336 - mse: 0.0336\n",
            "Epoch 17/100\n",
            "411/411 [==============================] - 2s 4ms/step - loss: 0.0416 - mse: 0.0416\n",
            "Epoch 18/100\n",
            "411/411 [==============================] - 2s 4ms/step - loss: 0.0434 - mse: 0.0434\n",
            "Epoch 19/100\n",
            "411/411 [==============================] - 2s 5ms/step - loss: 0.0437 - mse: 0.0437\n",
            "Epoch 20/100\n",
            "411/411 [==============================] - 2s 4ms/step - loss: 0.0365 - mse: 0.0365\n",
            "Epoch 21/100\n",
            "411/411 [==============================] - 2s 4ms/step - loss: 0.0323 - mse: 0.0323\n",
            "Epoch 22/100\n",
            "411/411 [==============================] - 2s 5ms/step - loss: 0.0427 - mse: 0.0427\n",
            "Epoch 23/100\n",
            "411/411 [==============================] - 2s 5ms/step - loss: 0.0427 - mse: 0.0427\n",
            "Epoch 24/100\n",
            "411/411 [==============================] - 2s 5ms/step - loss: 0.0369 - mse: 0.0369\n",
            "Epoch 25/100\n",
            "411/411 [==============================] - 2s 5ms/step - loss: 0.0324 - mse: 0.0324\n",
            "Epoch 26/100\n",
            "411/411 [==============================] - 2s 4ms/step - loss: 0.0333 - mse: 0.0333\n",
            "Epoch 27/100\n",
            "411/411 [==============================] - 2s 4ms/step - loss: 0.0348 - mse: 0.0348\n",
            "Epoch 28/100\n",
            "411/411 [==============================] - 2s 5ms/step - loss: 0.0382 - mse: 0.0382\n",
            "Epoch 29/100\n",
            "411/411 [==============================] - 2s 4ms/step - loss: 0.0392 - mse: 0.0392\n",
            "Epoch 30/100\n",
            "411/411 [==============================] - 2s 5ms/step - loss: 0.0317 - mse: 0.0317\n",
            "Epoch 31/100\n",
            "411/411 [==============================] - 2s 5ms/step - loss: 0.0332 - mse: 0.0332\n",
            "Epoch 32/100\n",
            "411/411 [==============================] - 2s 4ms/step - loss: 0.0487 - mse: 0.0487\n",
            "Epoch 33/100\n",
            "411/411 [==============================] - 2s 5ms/step - loss: 0.0368 - mse: 0.0368\n",
            "Epoch 34/100\n",
            "411/411 [==============================] - 2s 4ms/step - loss: 0.0399 - mse: 0.0399\n",
            "Epoch 35/100\n",
            "411/411 [==============================] - 2s 5ms/step - loss: 0.0415 - mse: 0.0415\n",
            "Epoch 36/100\n",
            "411/411 [==============================] - 2s 4ms/step - loss: 0.0420 - mse: 0.0420\n",
            "Epoch 37/100\n",
            "411/411 [==============================] - 2s 5ms/step - loss: 0.0391 - mse: 0.0391\n",
            "Epoch 38/100\n",
            "411/411 [==============================] - 2s 5ms/step - loss: 0.0401 - mse: 0.0401\n",
            "Epoch 39/100\n",
            "411/411 [==============================] - 2s 4ms/step - loss: 0.0445 - mse: 0.0445\n",
            "Epoch 40/100\n",
            "411/411 [==============================] - 2s 4ms/step - loss: 0.0430 - mse: 0.0430\n",
            "Epoch 41/100\n",
            "411/411 [==============================] - 2s 5ms/step - loss: 0.0367 - mse: 0.0367\n",
            "Epoch 42/100\n",
            "411/411 [==============================] - 2s 5ms/step - loss: 0.0414 - mse: 0.0414\n",
            "Epoch 43/100\n",
            "411/411 [==============================] - 2s 5ms/step - loss: 0.0337 - mse: 0.0337\n",
            "Epoch 44/100\n",
            "411/411 [==============================] - 2s 5ms/step - loss: 0.0368 - mse: 0.0368\n",
            "Epoch 45/100\n",
            "411/411 [==============================] - 2s 5ms/step - loss: 0.0372 - mse: 0.0372\n",
            "Epoch 46/100\n",
            "411/411 [==============================] - 2s 5ms/step - loss: 0.0336 - mse: 0.0336\n",
            "Epoch 47/100\n",
            "411/411 [==============================] - 2s 5ms/step - loss: 0.0325 - mse: 0.0325\n",
            "Epoch 48/100\n",
            "411/411 [==============================] - 2s 5ms/step - loss: 0.0373 - mse: 0.0373\n",
            "Epoch 49/100\n",
            "411/411 [==============================] - 2s 5ms/step - loss: 0.0406 - mse: 0.0406\n",
            "Epoch 50/100\n",
            "411/411 [==============================] - 2s 4ms/step - loss: 0.0355 - mse: 0.0355\n",
            "Epoch 51/100\n",
            "411/411 [==============================] - 2s 4ms/step - loss: 0.0359 - mse: 0.0359\n",
            "Epoch 52/100\n",
            "411/411 [==============================] - 2s 4ms/step - loss: 0.0306 - mse: 0.0306\n",
            "Epoch 53/100\n",
            "411/411 [==============================] - 2s 5ms/step - loss: 0.0391 - mse: 0.0391\n",
            "Epoch 54/100\n",
            "411/411 [==============================] - 2s 4ms/step - loss: 0.0430 - mse: 0.0430\n",
            "Epoch 55/100\n",
            "411/411 [==============================] - 2s 4ms/step - loss: 0.0352 - mse: 0.0352\n",
            "Epoch 56/100\n",
            "411/411 [==============================] - 2s 5ms/step - loss: 0.0386 - mse: 0.0386\n",
            "Epoch 57/100\n",
            "411/411 [==============================] - 2s 4ms/step - loss: 0.0284 - mse: 0.0284\n",
            "Epoch 58/100\n",
            "411/411 [==============================] - 2s 4ms/step - loss: 0.0422 - mse: 0.0422\n",
            "Epoch 59/100\n",
            "411/411 [==============================] - 2s 4ms/step - loss: 0.0313 - mse: 0.0313\n",
            "Epoch 60/100\n",
            "411/411 [==============================] - 2s 5ms/step - loss: 0.0307 - mse: 0.0307\n",
            "Epoch 61/100\n",
            "411/411 [==============================] - 2s 5ms/step - loss: 0.0402 - mse: 0.0402\n",
            "Epoch 62/100\n",
            "411/411 [==============================] - 2s 5ms/step - loss: 0.0342 - mse: 0.0342\n",
            "Epoch 63/100\n",
            "411/411 [==============================] - 2s 5ms/step - loss: 0.0352 - mse: 0.0352\n",
            "Epoch 64/100\n",
            "411/411 [==============================] - 2s 5ms/step - loss: 0.0381 - mse: 0.0381\n",
            "Epoch 65/100\n",
            "411/411 [==============================] - 2s 5ms/step - loss: 0.0396 - mse: 0.0396\n",
            "Epoch 66/100\n",
            "411/411 [==============================] - 2s 5ms/step - loss: 0.0321 - mse: 0.0321\n",
            "Epoch 67/100\n",
            "411/411 [==============================] - 2s 5ms/step - loss: 0.0320 - mse: 0.0320\n",
            "Epoch 68/100\n",
            "411/411 [==============================] - 2s 5ms/step - loss: 0.0319 - mse: 0.0319\n",
            "Epoch 69/100\n",
            "411/411 [==============================] - 2s 5ms/step - loss: 0.0382 - mse: 0.0382\n",
            "Epoch 70/100\n",
            "411/411 [==============================] - 2s 4ms/step - loss: 0.0366 - mse: 0.0366\n",
            "Epoch 71/100\n",
            "411/411 [==============================] - 2s 4ms/step - loss: 0.0343 - mse: 0.0343\n",
            "Epoch 72/100\n",
            "411/411 [==============================] - 2s 5ms/step - loss: 0.0403 - mse: 0.0403\n",
            "Epoch 73/100\n",
            "411/411 [==============================] - 2s 5ms/step - loss: 0.0311 - mse: 0.0311\n",
            "Epoch 74/100\n",
            "411/411 [==============================] - 2s 5ms/step - loss: 0.0371 - mse: 0.0371\n",
            "Epoch 75/100\n",
            "411/411 [==============================] - 2s 5ms/step - loss: 0.0340 - mse: 0.0340\n",
            "Epoch 76/100\n",
            "411/411 [==============================] - 2s 4ms/step - loss: 0.0379 - mse: 0.0379\n",
            "Epoch 77/100\n",
            "411/411 [==============================] - 2s 5ms/step - loss: 0.0328 - mse: 0.0328\n",
            "Epoch 78/100\n",
            "411/411 [==============================] - 2s 5ms/step - loss: 0.0300 - mse: 0.0300\n",
            "Epoch 79/100\n",
            "411/411 [==============================] - 2s 5ms/step - loss: 0.0299 - mse: 0.0299\n",
            "Epoch 80/100\n",
            "411/411 [==============================] - 2s 5ms/step - loss: 0.0286 - mse: 0.0286\n",
            "Epoch 81/100\n",
            "411/411 [==============================] - 2s 5ms/step - loss: 0.0324 - mse: 0.0324\n",
            "Epoch 82/100\n",
            "411/411 [==============================] - 2s 5ms/step - loss: 0.0324 - mse: 0.0324\n",
            "Epoch 83/100\n",
            "411/411 [==============================] - 2s 5ms/step - loss: 0.0281 - mse: 0.0281\n",
            "Epoch 84/100\n",
            "411/411 [==============================] - 2s 5ms/step - loss: 0.0306 - mse: 0.0306\n",
            "Epoch 85/100\n",
            "411/411 [==============================] - 2s 5ms/step - loss: 0.0301 - mse: 0.0301\n",
            "Epoch 86/100\n",
            "411/411 [==============================] - 2s 4ms/step - loss: 0.0365 - mse: 0.0365\n",
            "Epoch 87/100\n",
            "411/411 [==============================] - 2s 5ms/step - loss: 0.0297 - mse: 0.0297\n",
            "Epoch 88/100\n",
            "411/411 [==============================] - 2s 5ms/step - loss: 0.0309 - mse: 0.0309\n",
            "Epoch 89/100\n",
            "411/411 [==============================] - 2s 5ms/step - loss: 0.0330 - mse: 0.0330\n",
            "Epoch 90/100\n",
            "411/411 [==============================] - 2s 5ms/step - loss: 0.0323 - mse: 0.0323\n",
            "Epoch 91/100\n",
            "411/411 [==============================] - 2s 5ms/step - loss: 0.0314 - mse: 0.0314\n",
            "Epoch 92/100\n",
            "411/411 [==============================] - 2s 5ms/step - loss: 0.0308 - mse: 0.0308\n",
            "Epoch 93/100\n",
            "411/411 [==============================] - 2s 5ms/step - loss: 0.0334 - mse: 0.0334\n",
            "Epoch 94/100\n",
            "411/411 [==============================] - 2s 5ms/step - loss: 0.0301 - mse: 0.0301\n",
            "Epoch 95/100\n",
            "411/411 [==============================] - 2s 5ms/step - loss: 0.0404 - mse: 0.0404\n",
            "Epoch 96/100\n",
            "411/411 [==============================] - 2s 5ms/step - loss: 0.0294 - mse: 0.0294\n",
            "Epoch 97/100\n",
            "411/411 [==============================] - 2s 5ms/step - loss: 0.0361 - mse: 0.0361\n",
            "Epoch 98/100\n",
            "411/411 [==============================] - 2s 4ms/step - loss: 0.0298 - mse: 0.0298\n",
            "Epoch 99/100\n",
            "411/411 [==============================] - 2s 5ms/step - loss: 0.0332 - mse: 0.0332\n",
            "Epoch 100/100\n",
            "411/411 [==============================] - 2s 4ms/step - loss: 0.0284 - mse: 0.0284\n"
          ],
          "name": "stdout"
        }
      ]
    },
    {
      "cell_type": "code",
      "metadata": {
        "id": "c_DkgxfCp22o"
      },
      "source": [
        "model = load_model('manyTomany_1000.h5')"
      ],
      "execution_count": null,
      "outputs": []
    },
    {
      "cell_type": "code",
      "metadata": {
        "colab": {
          "base_uri": "https://localhost:8080/",
          "height": 265
        },
        "id": "hhvUsT2kfl5z",
        "outputId": "a6674d63-e247-4d65-c410-e4d8fdc97f1d"
      },
      "source": [
        "df=pd.read_csv('m2_s2_bank_959c290884d3c44d85ccdf05a2bf52e1__site_0d39d11b52565146a236a646d49133f4.csv')\n",
        "df=df[df['CellNo']==44].reset_index(drop=True)\n",
        "x_test2=df['ResistValue']\n",
        "n_samples=len(x_test2)\n",
        "x_0 = x_test2[1]\n",
        "\n",
        "# 칼만필터 적용\n",
        "r_meas_save = np.zeros(n_samples)\n",
        "r_esti_save = np.zeros(n_samples)\n",
        "\n",
        "x_esti, P = None, None\n",
        "for i in range(n_samples):\n",
        "    r_meas = x_test2[i]\n",
        "    if i == 0:\n",
        "        x_esti, P = x_0, P_0\n",
        "    else:\n",
        "        x_esti, P = kalman_filter(r_meas, x_esti, P)\n",
        "    r_meas_save[i] = r_meas\n",
        "    r_esti_save[i] = x_esti\n",
        "x_test2 = r_esti_save\n",
        "\n",
        "# Scaling\n",
        "scaler = MinMaxScaler()\n",
        "scale_cols = ['ResistValue']\n",
        "x_test2 = pd.DataFrame(x_test2)\n",
        "x_test2.columns = scale_cols\n",
        "df_scaled = scaler.fit_transform(x_test2[scale_cols])\n",
        "\n",
        "df_scaled = pd.DataFrame(df_scaled)\n",
        "df_scaled.columns = scale_cols\n",
        "\n",
        "# 예측 출력\n",
        "nFuture = 20\n",
        "lastData = np.copy(df_scaled)\n",
        "dataset = lastData[-40:-20].reshape(1,20,1) \n",
        "estimate=[]\n",
        "\n",
        "for i in range(nFuture):\n",
        "  # 가장 마지막 데이터 가져오기\n",
        "  dataset = dataset[-20:].reshape(1,20,1)\n",
        "  # Dataset에 대한 예측\n",
        "  day=0\n",
        "  yHat = model.predict(dataset)[0][day]\n",
        "  yHat = yHat.reshape(1,-1)\n",
        "  yHat = scaler.inverse_transform(yHat)\n",
        "  # 1일 후 데이터를 예측데이터에 추가\n",
        "  estimate.append(yHat[0])\n",
        "  tmp=dataset.flatten()\n",
        "\n",
        "  tmp = np.append(tmp,yHat[0])\n",
        "  #dataset = np.insert(dataset[0], len(dataset), yHat)\n",
        "  dataset=tmp\n",
        "\n",
        "ax1 = np.arange(1,len(x_test2)+1)\n",
        "ax2 = np.arange(len(x_test2), len(x_test2)+20)\n",
        "plt.figure(figsize=(8, 4))\n",
        "plt.plot(ax1, x_test2,  color='blue',  label='Time series' )\n",
        "plt.plot(ax2, estimate,  color='red',  label='Estimate')\n",
        "plt.axvline(x=ax1[-1])\n",
        "plt.legend()\n",
        "plt.show()"
      ],
      "execution_count": null,
      "outputs": [
        {
          "output_type": "display_data",
          "data": {
            "image/png": "[encoded data removed]",
            "text/plain": [
              "<Figure size 576x288 with 1 Axes>"
            ]
          },
          "metadata": {
            "tags": [],
            "needs_background": "light"
          }
        }
      ]
    },
    {
      "cell_type": "code",
      "metadata": {
        "colab": {
          "base_uri": "https://localhost:8080/",
          "height": 265
        },
        "id": "hI4xfXD8ypMQ",
        "outputId": "ab385064-df99-4653-c18c-f64e5a2c0e00"
      },
      "source": [
        "df=pd.read_csv('m2_s2_bank_959c290884d3c44d85ccdf05a2bf52e1__site_0d39d11b52565146a236a646d49133f4.csv')\n",
        "df=df[df['CellNo']==65].reset_index(drop=True)\n",
        "x_test2=df['ResistValue']\n",
        "n_samples=len(x_test2)\n",
        "x_0 = x_test2[1]\n",
        "\n",
        "# 칼만필터 적용\n",
        "r_meas_save = np.zeros(n_samples)\n",
        "r_esti_save = np.zeros(n_samples)\n",
        "\n",
        "x_esti, P = None, None\n",
        "for i in range(n_samples):\n",
        "    r_meas = x_test2[i]\n",
        "    if i == 0:\n",
        "        x_esti, P = x_0, P_0\n",
        "    else:\n",
        "        x_esti, P = kalman_filter(r_meas, x_esti, P)\n",
        "    r_meas_save[i] = r_meas\n",
        "    r_esti_save[i] = x_esti\n",
        "x_test2 = r_esti_save\n",
        "\n",
        "# Scaling\n",
        "scaler = MinMaxScaler()\n",
        "scale_cols = ['ResistValue']\n",
        "x_test2 = pd.DataFrame(x_test2)\n",
        "x_test2.columns = scale_cols\n",
        "df_scaled = scaler.fit_transform(x_test2[scale_cols])\n",
        "\n",
        "df_scaled = pd.DataFrame(df_scaled)\n",
        "df_scaled.columns = scale_cols\n",
        "\n",
        "# 예측 출력\n",
        "nFuture = 20\n",
        "lastData = np.copy(df_scaled)\n",
        "dataset = lastData[-40:-20].reshape(1,20,1) \n",
        "estimate=[]\n",
        "\n",
        "for i in range(nFuture):\n",
        "  # 가장 마지막 데이터 가져오기\n",
        "  dataset = dataset[-20:].reshape(1,20,1)\n",
        "  # Dataset에 대한 예측\n",
        "  day=0\n",
        "  yHat = model.predict(dataset)[0][day]\n",
        "  yHat = yHat.reshape(1,-1)\n",
        "  yHat = scaler.inverse_transform(yHat)\n",
        "  # 1일 후 데이터를 예측데이터에 추가\n",
        "  estimate.append(yHat[0])\n",
        "  tmp=dataset.flatten()\n",
        "\n",
        "  tmp = np.append(tmp,yHat[0])\n",
        "  #dataset = np.insert(dataset[0], len(dataset), yHat)\n",
        "  dataset=tmp\n",
        "\n",
        "ax1 = np.arange(1,len(x_test2)+1)\n",
        "ax2 = np.arange(len(x_test2), len(x_test2)+20)\n",
        "plt.figure(figsize=(8, 4))\n",
        "plt.plot(ax1, x_test2,  color='blue',  label='Time series' )\n",
        "plt.plot(ax2, estimate,  color='red',  label='Estimate')\n",
        "plt.axvline(x=ax1[-1])\n",
        "plt.legend()\n",
        "plt.show()"
      ],
      "execution_count": null,
      "outputs": [
        {
          "output_type": "display_data",
          "data": {
            "image/png": "[encoded data removed]",
            "text/plain": [
              "<Figure size 576x288 with 1 Axes>"
            ]
          },
          "metadata": {
            "tags": [],
            "needs_background": "light"
          }
        }
      ]
    },
    {
      "cell_type": "code",
      "metadata": {
        "colab": {
          "base_uri": "https://localhost:8080/",
          "height": 265
        },
        "id": "OX5M7LSIpQYc",
        "outputId": "058c4cbb-df5a-4e89-929f-a887ed251227"
      },
      "source": [
        "df=pd.read_csv('m2_s2_bank_959c290884d3c44d85ccdf05a2bf52e1__site_0d39d11b52565146a236a646d49133f4.csv')\n",
        "df=df[df['CellNo']==78].reset_index(drop=True)\n",
        "x_test2=df['ResistValue']\n",
        "n_samples=len(x_test2)\n",
        "x_0 = x_test2[1]\n",
        "\n",
        "# 칼만필터 적용\n",
        "r_meas_save = np.zeros(n_samples)\n",
        "r_esti_save = np.zeros(n_samples)\n",
        "\n",
        "x_esti, P = None, None\n",
        "for i in range(n_samples):\n",
        "    r_meas = x_test2[i]\n",
        "    if i == 0:\n",
        "        x_esti, P = x_0, P_0\n",
        "    else:\n",
        "        x_esti, P = kalman_filter(r_meas, x_esti, P)\n",
        "    r_meas_save[i] = r_meas\n",
        "    r_esti_save[i] = x_esti\n",
        "x_test2 = r_esti_save\n",
        "\n",
        "# Scaling\n",
        "scaler = MinMaxScaler()\n",
        "scale_cols = ['ResistValue']\n",
        "x_test2 = pd.DataFrame(x_test2)\n",
        "x_test2.columns = scale_cols\n",
        "df_scaled = scaler.fit_transform(x_test2[scale_cols])\n",
        "\n",
        "df_scaled = pd.DataFrame(df_scaled)\n",
        "df_scaled.columns = scale_cols\n",
        "\n",
        "# 예측 출력\n",
        "nFuture = 20\n",
        "lastData = np.copy(df_scaled)\n",
        "dataset = lastData[-40:-20].reshape(1,20,1) \n",
        "estimate=[]\n",
        "\n",
        "for i in range(nFuture):\n",
        "  # 가장 마지막 데이터 가져오기\n",
        "  dataset = dataset[-20:].reshape(1,20,1)\n",
        "  # Dataset에 대한 예측\n",
        "  day=0\n",
        "  yHat = model.predict(dataset)[0][day]\n",
        "  yHat = yHat.reshape(1,-1)\n",
        "  yHat = scaler.inverse_transform(yHat)\n",
        "  # 1일 후 데이터를 예측데이터에 추가\n",
        "  estimate.append(yHat[0])\n",
        "  tmp=dataset.flatten()\n",
        "\n",
        "  tmp = np.append(tmp,yHat[0])\n",
        "  #dataset = np.insert(dataset[0], len(dataset), yHat)\n",
        "  dataset=tmp\n",
        "\n",
        "ax1 = np.arange(1,len(x_test2)+1)\n",
        "ax2 = np.arange(len(x_test2), len(x_test2)+20)\n",
        "plt.figure(figsize=(8, 4))\n",
        "plt.plot(ax1, x_test2,  color='blue',  label='Time series' )\n",
        "plt.plot(ax2, estimate,  color='red',  label='Estimate')\n",
        "plt.axvline(x=ax1[-1])\n",
        "plt.legend()\n",
        "plt.show()"
      ],
      "execution_count": null,
      "outputs": [
        {
          "output_type": "display_data",
          "data": {
            "image/png": "[encoded data removed]",
            "text/plain": [
              "<Figure size 576x288 with 1 Axes>"
            ]
          },
          "metadata": {
            "tags": [],
            "needs_background": "light"
          }
        }
      ]
    },
    {
      "cell_type": "code",
      "metadata": {
        "id": "ulUdfcibpVTm"
      },
      "source": [
        ""
      ],
      "execution_count": null,
      "outputs": []
    }
  ]
}