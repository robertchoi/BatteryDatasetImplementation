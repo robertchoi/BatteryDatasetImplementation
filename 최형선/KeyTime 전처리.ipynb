{
 "cells": [
  {
   "cell_type": "code",
   "execution_count": 510,
   "id": "494e8ee3",
   "metadata": {},
   "outputs": [],
   "source": [
    "import pandas as pd"
   ]
  },
  {
   "cell_type": "markdown",
   "id": "a18df8e1",
   "metadata": {},
   "source": [
    "## str 형식 Date 형식으로 변환\n",
    "df['KeyTime']=pd.to_datetime(df['KeyTime'],format=\"%Y/%m/%d\")"
   ]
  },
  {
   "cell_type": "code",
   "execution_count": 530,
   "id": "d8121d9e",
   "metadata": {},
   "outputs": [
    {
     "data": {
      "text/html": [
       "<div>\n",
       "<style scoped>\n",
       "    .dataframe tbody tr th:only-of-type {\n",
       "        vertical-align: middle;\n",
       "    }\n",
       "\n",
       "    .dataframe tbody tr th {\n",
       "        vertical-align: top;\n",
       "    }\n",
       "\n",
       "    .dataframe thead th {\n",
       "        text-align: right;\n",
       "    }\n",
       "</style>\n",
       "<table border=\"1\" class=\"dataframe\">\n",
       "  <thead>\n",
       "    <tr style=\"text-align: right;\">\n",
       "      <th></th>\n",
       "      <th>KeyTime</th>\n",
       "      <th>CellNo</th>\n",
       "      <th>ResistValue</th>\n",
       "    </tr>\n",
       "  </thead>\n",
       "  <tbody>\n",
       "    <tr>\n",
       "      <th>0</th>\n",
       "      <td>2020-02-12 19:19:26</td>\n",
       "      <td>1</td>\n",
       "      <td>0.246</td>\n",
       "    </tr>\n",
       "    <tr>\n",
       "      <th>1</th>\n",
       "      <td>2020-02-13 07:18:48</td>\n",
       "      <td>1</td>\n",
       "      <td>0.250</td>\n",
       "    </tr>\n",
       "    <tr>\n",
       "      <th>2</th>\n",
       "      <td>2020-02-13 19:18:08</td>\n",
       "      <td>1</td>\n",
       "      <td>0.247</td>\n",
       "    </tr>\n",
       "    <tr>\n",
       "      <th>3</th>\n",
       "      <td>2020-02-14 07:17:24</td>\n",
       "      <td>1</td>\n",
       "      <td>0.249</td>\n",
       "    </tr>\n",
       "    <tr>\n",
       "      <th>4</th>\n",
       "      <td>2020-02-14 19:16:47</td>\n",
       "      <td>1</td>\n",
       "      <td>0.251</td>\n",
       "    </tr>\n",
       "    <tr>\n",
       "      <th>...</th>\n",
       "      <td>...</td>\n",
       "      <td>...</td>\n",
       "      <td>...</td>\n",
       "    </tr>\n",
       "    <tr>\n",
       "      <th>633</th>\n",
       "      <td>2021-02-01 11:21:35</td>\n",
       "      <td>1</td>\n",
       "      <td>0.427</td>\n",
       "    </tr>\n",
       "    <tr>\n",
       "      <th>634</th>\n",
       "      <td>2021-02-01 23:21:05</td>\n",
       "      <td>1</td>\n",
       "      <td>0.428</td>\n",
       "    </tr>\n",
       "    <tr>\n",
       "      <th>635</th>\n",
       "      <td>2021-02-02 11:20:44</td>\n",
       "      <td>1</td>\n",
       "      <td>0.426</td>\n",
       "    </tr>\n",
       "    <tr>\n",
       "      <th>636</th>\n",
       "      <td>2021-02-02 23:20:14</td>\n",
       "      <td>1</td>\n",
       "      <td>0.426</td>\n",
       "    </tr>\n",
       "    <tr>\n",
       "      <th>637</th>\n",
       "      <td>2021-02-03 11:19:45</td>\n",
       "      <td>1</td>\n",
       "      <td>0.427</td>\n",
       "    </tr>\n",
       "  </tbody>\n",
       "</table>\n",
       "<p>638 rows × 3 columns</p>\n",
       "</div>"
      ],
      "text/plain": [
       "                KeyTime  CellNo  ResistValue\n",
       "0   2020-02-12 19:19:26       1        0.246\n",
       "1   2020-02-13 07:18:48       1        0.250\n",
       "2   2020-02-13 19:18:08       1        0.247\n",
       "3   2020-02-14 07:17:24       1        0.249\n",
       "4   2020-02-14 19:16:47       1        0.251\n",
       "..                  ...     ...          ...\n",
       "633 2021-02-01 11:21:35       1        0.427\n",
       "634 2021-02-01 23:21:05       1        0.428\n",
       "635 2021-02-02 11:20:44       1        0.426\n",
       "636 2021-02-02 23:20:14       1        0.426\n",
       "637 2021-02-03 11:19:45       1        0.427\n",
       "\n",
       "[638 rows x 3 columns]"
      ]
     },
     "execution_count": 530,
     "metadata": {},
     "output_type": "execute_result"
    }
   ],
   "source": [
    "df=pd.read_csv('BANKS/m2_s2_bank_0053979e93612348a180e1133103725e__site_0d39d11b52565146a236a646d49133f4.csv')\n",
    "df = df[['KeyTime','CellNo','ResistValue']]\n",
    "df['KeyTime']=pd.to_datetime(df['KeyTime'],format=\"%Y/%m/%d\")\n",
    "cell_1 = df[df['CellNo']==1].reset_index(drop=True)\n",
    "cell_1"
   ]
  },
  {
   "cell_type": "markdown",
   "id": "55c48f18",
   "metadata": {},
   "source": [
    "# 측정값 전처리\n",
    "\n",
    "### 1. 공백 측정값이 15일 이상인 경우\n",
    "- cell 분리\n",
    "\n",
    "\n",
    "### 2. 측정값이 하루 2번 아닌경우\n",
    "- 2번 미만인 경우\n",
    "    - 앞 뒤 Data 평균으로 채우기\n",
    "- 2번 이상인 경우\n",
    "    - 가장 큰값 순서대로 제거\n",
    "        - Data 정확도 하락 가능성 있음"
   ]
  },
  {
   "cell_type": "markdown",
   "id": "44569c5c",
   "metadata": {},
   "source": [
    "# 결측치가 15일 이상인 경우 cell 분리"
   ]
  },
  {
   "cell_type": "code",
   "execution_count": 515,
   "id": "7ff05434",
   "metadata": {},
   "outputs": [],
   "source": [
    "cut_date_value=15\n",
    "min_date=120\n",
    "cnt=1\n",
    "last=0\n",
    "for i in range(1,len(cell_1)):\n",
    "    # 장기간 비어있는 cell, index 찾기\n",
    "    if abs(cell_1['KeyTime'][i]-cell_1['KeyTime'][i-1]).days>cut_date_value:\n",
    "        filename='cell_1_'+str(cnt)+'.csv'\n",
    "        data = cell_1[last:i].reset_index(drop=True)\n",
    "        # Data의 측정 기간이 2달 이상인 경우\n",
    "        if len(data)>120:\n",
    "            data.to_csv(filename, index=False)\n",
    "            last=i\n",
    "            cnt+=1\n",
    "        filename='cell_1_'+str(cnt)+'.csv'\n",
    "        data = cell_1[i:].reset_index(drop=True)\n",
    "        if len(data)>120:\n",
    "            data.to_csv(filename, index=False)\n",
    "            last=i\n",
    "            cnt+=1\n",
    "        else: continue\n",
    "        "
   ]
  },
  {
   "cell_type": "markdown",
   "id": "66fa755e",
   "metadata": {},
   "source": [
    "---"
   ]
  },
  {
   "cell_type": "markdown",
   "id": "79deecc1",
   "metadata": {},
   "source": [
    "# 빈 날짜 결측치 채우기 (1일씩)"
   ]
  },
  {
   "cell_type": "code",
   "execution_count": 516,
   "id": "884e9183",
   "metadata": {},
   "outputs": [
    {
     "data": {
      "text/html": [
       "<div>\n",
       "<style scoped>\n",
       "    .dataframe tbody tr th:only-of-type {\n",
       "        vertical-align: middle;\n",
       "    }\n",
       "\n",
       "    .dataframe tbody tr th {\n",
       "        vertical-align: top;\n",
       "    }\n",
       "\n",
       "    .dataframe thead th {\n",
       "        text-align: right;\n",
       "    }\n",
       "</style>\n",
       "<table border=\"1\" class=\"dataframe\">\n",
       "  <thead>\n",
       "    <tr style=\"text-align: right;\">\n",
       "      <th></th>\n",
       "      <th>KeyTime</th>\n",
       "      <th>CellNo</th>\n",
       "      <th>ResistValue</th>\n",
       "    </tr>\n",
       "  </thead>\n",
       "  <tbody>\n",
       "    <tr>\n",
       "      <th>0</th>\n",
       "      <td>2020-05-07 14:27:28</td>\n",
       "      <td>1</td>\n",
       "      <td>0.251</td>\n",
       "    </tr>\n",
       "    <tr>\n",
       "      <th>1</th>\n",
       "      <td>2020-05-08 02:26:49</td>\n",
       "      <td>1</td>\n",
       "      <td>0.255</td>\n",
       "    </tr>\n",
       "    <tr>\n",
       "      <th>2</th>\n",
       "      <td>2020-05-08 14:26:08</td>\n",
       "      <td>1</td>\n",
       "      <td>0.253</td>\n",
       "    </tr>\n",
       "    <tr>\n",
       "      <th>3</th>\n",
       "      <td>2020-05-09 02:25:19</td>\n",
       "      <td>1</td>\n",
       "      <td>0.257</td>\n",
       "    </tr>\n",
       "    <tr>\n",
       "      <th>4</th>\n",
       "      <td>2020-05-09 14:24:36</td>\n",
       "      <td>1</td>\n",
       "      <td>0.254</td>\n",
       "    </tr>\n",
       "    <tr>\n",
       "      <th>...</th>\n",
       "      <td>...</td>\n",
       "      <td>...</td>\n",
       "      <td>...</td>\n",
       "    </tr>\n",
       "    <tr>\n",
       "      <th>523</th>\n",
       "      <td>2021-02-01 11:21:35</td>\n",
       "      <td>1</td>\n",
       "      <td>0.427</td>\n",
       "    </tr>\n",
       "    <tr>\n",
       "      <th>524</th>\n",
       "      <td>2021-02-01 23:21:05</td>\n",
       "      <td>1</td>\n",
       "      <td>0.428</td>\n",
       "    </tr>\n",
       "    <tr>\n",
       "      <th>525</th>\n",
       "      <td>2021-02-02 11:20:44</td>\n",
       "      <td>1</td>\n",
       "      <td>0.426</td>\n",
       "    </tr>\n",
       "    <tr>\n",
       "      <th>526</th>\n",
       "      <td>2021-02-02 23:20:14</td>\n",
       "      <td>1</td>\n",
       "      <td>0.426</td>\n",
       "    </tr>\n",
       "    <tr>\n",
       "      <th>527</th>\n",
       "      <td>2021-02-03 11:19:45</td>\n",
       "      <td>1</td>\n",
       "      <td>0.427</td>\n",
       "    </tr>\n",
       "  </tbody>\n",
       "</table>\n",
       "<p>528 rows × 3 columns</p>\n",
       "</div>"
      ],
      "text/plain": [
       "                 KeyTime  CellNo  ResistValue\n",
       "0    2020-05-07 14:27:28       1        0.251\n",
       "1    2020-05-08 02:26:49       1        0.255\n",
       "2    2020-05-08 14:26:08       1        0.253\n",
       "3    2020-05-09 02:25:19       1        0.257\n",
       "4    2020-05-09 14:24:36       1        0.254\n",
       "..                   ...     ...          ...\n",
       "523  2021-02-01 11:21:35       1        0.427\n",
       "524  2021-02-01 23:21:05       1        0.428\n",
       "525  2021-02-02 11:20:44       1        0.426\n",
       "526  2021-02-02 23:20:14       1        0.426\n",
       "527  2021-02-03 11:19:45       1        0.427\n",
       "\n",
       "[528 rows x 3 columns]"
      ]
     },
     "execution_count": 516,
     "metadata": {},
     "output_type": "execute_result"
    }
   ],
   "source": [
    "cell_1_1 = pd.read_csv('cell_1_1.csv')\n",
    "cell_1_1"
   ]
  },
  {
   "cell_type": "code",
   "execution_count": 517,
   "id": "cdcc0c25",
   "metadata": {},
   "outputs": [
    {
     "data": {
      "text/plain": [
       "Timedelta('0 days 11:59:28')"
      ]
     },
     "execution_count": 517,
     "metadata": {},
     "output_type": "execute_result"
    }
   ],
   "source": [
    "x= abs(pd.Timestamp(chk_cell['KeyTime'][30]) - pd.Timestamp(chk_cell['KeyTime'][29]))\n",
    "x"
   ]
  },
  {
   "cell_type": "code",
   "execution_count": 518,
   "id": "519957ed",
   "metadata": {},
   "outputs": [],
   "source": [
    "cell_1_1 = pd.read_csv('cell_1_1.csv')\n",
    "chk_cell = cell_1_1\n",
    "\n",
    "for i in range(1,(len(chk_cell)-1)):\n",
    "    if abs(pd.Timestamp(chk_cell['KeyTime'][i]) - pd.Timestamp(chk_cell['KeyTime'][i-1])).days >= 1 :\n",
    "        x= abs(pd.Timestamp(chk_cell['KeyTime'][i]) - pd.Timestamp(chk_cell['KeyTime'][i-1])).days\n",
    "        # 비어있는 날짜 내부저항 -> 앞,뒤 평균값\n",
    "        avg_resist = (chk_cell['ResistValue'][i-1]+chk_cell['ResistValue'][i])/2\n",
    "        cnt=0\n",
    "        while cnt<1:\n",
    "            cnt+=1\n",
    "            day=1\n",
    "            idx=i\n",
    "            new_data={'KeyTime': pd.Timestamp(chk_cell['KeyTime'][i-1])+pd.Timedelta('12H'),\n",
    "                     'CellNo':chk_cell['CellNo'][i-1],\n",
    "                     'ResistValue':avg_resist}\n",
    "            tmp1=chk_cell[chk_cell.index<idx]\n",
    "            tmp2=chk_cell[chk_cell.index>=idx]\n",
    "            chk_cell = tmp1.append(new_data, ignore_index=True).append(tmp2,ignore_index=True)\n",
    "            idx+=1\n",
    "        #print(chk_cell[99:110])\n",
    "chk_cell.to_csv('cell_1_1_adj.csv', index=False)"
   ]
  },
  {
   "cell_type": "markdown",
   "id": "80e99886",
   "metadata": {},
   "source": [
    "df['KeyTime']=pd.to_datetime(df['KeyTime'],format=\"%Y/%m/%d\")"
   ]
  },
  {
   "cell_type": "markdown",
   "id": "178c40a4",
   "metadata": {},
   "source": [
    "# 2일치 측정 확인"
   ]
  },
  {
   "cell_type": "code",
   "execution_count": 519,
   "id": "bc83f7cc",
   "metadata": {},
   "outputs": [
    {
     "data": {
      "text/html": [
       "<div>\n",
       "<style scoped>\n",
       "    .dataframe tbody tr th:only-of-type {\n",
       "        vertical-align: middle;\n",
       "    }\n",
       "\n",
       "    .dataframe tbody tr th {\n",
       "        vertical-align: top;\n",
       "    }\n",
       "\n",
       "    .dataframe thead th {\n",
       "        text-align: right;\n",
       "    }\n",
       "</style>\n",
       "<table border=\"1\" class=\"dataframe\">\n",
       "  <thead>\n",
       "    <tr style=\"text-align: right;\">\n",
       "      <th></th>\n",
       "      <th>KeyTime</th>\n",
       "      <th>CellNo</th>\n",
       "      <th>ResistValue</th>\n",
       "    </tr>\n",
       "  </thead>\n",
       "  <tbody>\n",
       "    <tr>\n",
       "      <th>0</th>\n",
       "      <td>2020-05-07 14:27:28</td>\n",
       "      <td>1</td>\n",
       "      <td>0.251</td>\n",
       "    </tr>\n",
       "    <tr>\n",
       "      <th>1</th>\n",
       "      <td>2020-05-08 02:26:49</td>\n",
       "      <td>1</td>\n",
       "      <td>0.255</td>\n",
       "    </tr>\n",
       "    <tr>\n",
       "      <th>2</th>\n",
       "      <td>2020-05-08 14:26:08</td>\n",
       "      <td>1</td>\n",
       "      <td>0.253</td>\n",
       "    </tr>\n",
       "    <tr>\n",
       "      <th>3</th>\n",
       "      <td>2020-05-09 02:25:19</td>\n",
       "      <td>1</td>\n",
       "      <td>0.257</td>\n",
       "    </tr>\n",
       "    <tr>\n",
       "      <th>4</th>\n",
       "      <td>2020-05-09 14:24:36</td>\n",
       "      <td>1</td>\n",
       "      <td>0.254</td>\n",
       "    </tr>\n",
       "    <tr>\n",
       "      <th>...</th>\n",
       "      <td>...</td>\n",
       "      <td>...</td>\n",
       "      <td>...</td>\n",
       "    </tr>\n",
       "    <tr>\n",
       "      <th>543</th>\n",
       "      <td>2021-02-01 11:21:35</td>\n",
       "      <td>1</td>\n",
       "      <td>0.427</td>\n",
       "    </tr>\n",
       "    <tr>\n",
       "      <th>544</th>\n",
       "      <td>2021-02-01 23:21:05</td>\n",
       "      <td>1</td>\n",
       "      <td>0.428</td>\n",
       "    </tr>\n",
       "    <tr>\n",
       "      <th>545</th>\n",
       "      <td>2021-02-02 11:20:44</td>\n",
       "      <td>1</td>\n",
       "      <td>0.426</td>\n",
       "    </tr>\n",
       "    <tr>\n",
       "      <th>546</th>\n",
       "      <td>2021-02-02 23:20:14</td>\n",
       "      <td>1</td>\n",
       "      <td>0.426</td>\n",
       "    </tr>\n",
       "    <tr>\n",
       "      <th>547</th>\n",
       "      <td>2021-02-03 11:19:45</td>\n",
       "      <td>1</td>\n",
       "      <td>0.427</td>\n",
       "    </tr>\n",
       "  </tbody>\n",
       "</table>\n",
       "<p>548 rows × 3 columns</p>\n",
       "</div>"
      ],
      "text/plain": [
       "                 KeyTime  CellNo  ResistValue\n",
       "0    2020-05-07 14:27:28       1        0.251\n",
       "1    2020-05-08 02:26:49       1        0.255\n",
       "2    2020-05-08 14:26:08       1        0.253\n",
       "3    2020-05-09 02:25:19       1        0.257\n",
       "4    2020-05-09 14:24:36       1        0.254\n",
       "..                   ...     ...          ...\n",
       "543  2021-02-01 11:21:35       1        0.427\n",
       "544  2021-02-01 23:21:05       1        0.428\n",
       "545  2021-02-02 11:20:44       1        0.426\n",
       "546  2021-02-02 23:20:14       1        0.426\n",
       "547  2021-02-03 11:19:45       1        0.427\n",
       "\n",
       "[548 rows x 3 columns]"
      ]
     },
     "execution_count": 519,
     "metadata": {},
     "output_type": "execute_result"
    }
   ],
   "source": [
    "df = pd.read_csv('cell_1_1_adj.csv')\n",
    "chk_cell = df\n",
    "chk_cell"
   ]
  },
  {
   "cell_type": "code",
   "execution_count": 520,
   "id": "ce9b8a6e",
   "metadata": {},
   "outputs": [],
   "source": [
    "df = pd.read_csv('cell_1_1_adj.csv')\n",
    "chk_cell = df\n",
    "\n",
    "# 하루 2번 측정되었는지 확인\n",
    "cnt_date=1\n",
    "chk=pd.Timestamp(chk_cell['KeyTime'][0]).day\n",
    "have_to_remove=[]\n",
    "for i in range(1,len(chk_cell)):    \n",
    "    # 하루 2번 정상적으로 측정되었는지 확인하기\n",
    "    if chk == pd.Timestamp(chk_cell['KeyTime'][i]).day:\n",
    "        cnt_date+=1\n",
    "        if cnt_date>2:\n",
    "            have_to_remove.append(pd.Timestamp(chk_cell['KeyTime'][i]))\n",
    "            chk_cell.drop(i,axis=0,inplace=True)\n",
    "    else:\n",
    "        cnt_date=1\n",
    "        chk=pd.Timestamp(chk_cell['KeyTime'][i]).day\n",
    "chk_cell.to_csv('cell_1_1_adjv2.csv', index=False)"
   ]
  },
  {
   "cell_type": "markdown",
   "id": "5585a5f7",
   "metadata": {},
   "source": [
    "# 결과"
   ]
  },
  {
   "cell_type": "code",
   "execution_count": 534,
   "id": "2ce08502",
   "metadata": {},
   "outputs": [
    {
     "data": {
      "text/plain": [
       "<AxesSubplot:>"
      ]
     },
     "execution_count": 534,
     "metadata": {},
     "output_type": "execute_result"
    },
    {
     "data": {
      "image/png": "[encoded data removed]",
      "text/plain": [
       "<Figure size 432x288 with 1 Axes>"
      ]
     },
     "metadata": {
      "needs_background": "light"
     },
     "output_type": "display_data"
    }
   ],
   "source": [
    "df=pd.read_csv('BANKS/m2_s2_bank_0053979e93612348a180e1133103725e__site_0d39d11b52565146a236a646d49133f4.csv')\n",
    "df=df[df['CellNo']==60].reset_index(drop=True)\n",
    "df['ResistValue'].plot()"
   ]
  },
  {
   "cell_type": "code",
   "execution_count": 524,
   "id": "d3cc8aee",
   "metadata": {},
   "outputs": [
    {
     "data": {
      "text/plain": [
       "<AxesSubplot:>"
      ]
     },
     "execution_count": 524,
     "metadata": {},
     "output_type": "execute_result"
    },
    {
     "data": {
      "image/png": "[encoded data removed]",
      "text/plain": [
       "<Figure size 432x288 with 1 Axes>"
      ]
     },
     "metadata": {
      "needs_background": "light"
     },
     "output_type": "display_data"
    }
   ],
   "source": [
    "df=pd.read_csv('cell_1_1_adjv2.csv')\n",
    "df=df['ResistValue']\n",
    "df.plot()"
   ]
  },
  {
   "cell_type": "code",
   "execution_count": null,
   "id": "e647538b",
   "metadata": {},
   "outputs": [],
   "source": []
  }
 ],
 "metadata": {
  "kernelspec": {
   "display_name": "Python 3",
   "language": "python",
   "name": "python3"
  },
  "language_info": {
   "codemirror_mode": {
    "name": "ipython",
    "version": 3
   },
   "file_extension": ".py",
   "mimetype": "text/x-python",
   "name": "python",
   "nbconvert_exporter": "python",
   "pygments_lexer": "ipython3",
   "version": "3.7.3"
  }
 },
 "nbformat": 4,
 "nbformat_minor": 5
}
