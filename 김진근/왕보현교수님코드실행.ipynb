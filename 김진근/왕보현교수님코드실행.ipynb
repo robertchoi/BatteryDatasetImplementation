{
  "nbformat": 4,
  "nbformat_minor": 0,
  "metadata": {
    "colab": {
      "name": "왕보현박사님.ipynb",
      "provenance": [],
      "collapsed_sections": [],
      "authorship_tag": "ABX9TyMpR2dnDpDznd6F03HtlBAc",
      "include_colab_link": true
    },
    "kernelspec": {
      "name": "python3",
      "display_name": "Python 3"
    },
    "accelerator": "GPU"
  },
  "cells": [
    {
      "cell_type": "markdown",
      "metadata": {
        "id": "view-in-github",
        "colab_type": "text"
      },
      "source": [
        "<a href=\"https://colab.research.google.com/github/robertchoi/BatteryDatasetImplementation/blob/master/%EC%99%95%EB%B3%B4%ED%98%84%EA%B5%90%EC%88%98%EB%8B%98%EC%BD%94%EB%93%9C%EC%8B%A4%ED%96%89.ipynb\" target=\"_parent\"><img src=\"https://colab.research.google.com/assets/colab-badge.svg\" alt=\"Open In Colab\"/></a>"
      ]
    },
    {
      "cell_type": "code",
      "metadata": {
        "id": "9J1RN7-JTpxJ"
      },
      "source": [
        "from keras.models import Sequential\r\n",
        "from keras.layers import Dense\r\n",
        "from keras.callbacks import EarlyStopping, ModelCheckpoint\r\n",
        "from keras.layers import LSTM\r\n",
        "import numpy as np\r\n",
        "import os\r\n",
        "from sklearn.model_selection import train_test_split\r\n",
        "import matplotlib.pyplot as plt"
      ],
      "execution_count": null,
      "outputs": []
    },
    {
      "cell_type": "code",
      "metadata": {
        "colab": {
          "base_uri": "https://localhost:8080/"
        },
        "id": "vdOYppsuUbMo",
        "outputId": "178e8387-c7eb-4de3-ea97-d372ac1705c1"
      },
      "source": [
        "from google.colab import drive\r\n",
        "drive.mount('/content/drive')\r\n"
      ],
      "execution_count": null,
      "outputs": [
        {
          "output_type": "stream",
          "text": [
            "Mounted at /content/drive\n"
          ],
          "name": "stdout"
        }
      ]
    },
    {
      "cell_type": "code",
      "metadata": {
        "id": "JZ0migXiT94J"
      },
      "source": [
        "features_num = 3\r\n",
        "num = 280\r\n",
        "\r\n",
        "Train_dataset = np.loadtxt('/content/drive/MyDrive/EXP-I_20121008_0006_0009_20120426061623_cell.csv', delimiter=\",\", skiprows=1)\r\n",
        "X_train = Train_dataset[:num, 0:features_num]\r\n",
        "Y_train = Train_dataset[:num, features_num]\r\n",
        "\r\n",
        "X_test = Train_dataset[num:331, 0:features_num]\r\n",
        "Y_test = Train_dataset[num:331, features_num]\r\n",
        "\r\n"
      ],
      "execution_count": null,
      "outputs": []
    },
    {
      "cell_type": "code",
      "metadata": {
        "id": "iOeWlzKcUnZY"
      },
      "source": [
        "def make_dataset(data, label, window_size=2):\r\n",
        "    feature_list = []\r\n",
        "    label_list = []\r\n",
        "    for i in range(len(data) - window_size):\r\n",
        "        feature_list.append(np.array(data[i:i+window_size]))\r\n",
        "        label_list.append(np.array(label[i+window_size]))\r\n",
        "    return np.array(feature_list), np.array(label_list)"
      ],
      "execution_count": null,
      "outputs": []
    },
    {
      "cell_type": "code",
      "metadata": {
        "id": "yzXTyiyWUqvz"
      },
      "source": [
        "# train dataset (실제 예측 해볼 데이터)\r\n",
        "train_feature, train_label = make_dataset(X_train, Y_train, 2)\r\n"
      ],
      "execution_count": null,
      "outputs": []
    },
    {
      "cell_type": "code",
      "metadata": {
        "colab": {
          "base_uri": "https://localhost:8080/"
        },
        "id": "EOHAlgm3Us9X",
        "outputId": "6514bb09-b183-4ca1-b8d5-76dd21a52843"
      },
      "source": [
        "test_feature, test_label = make_dataset(X_test, Y_test, 2)\r\n",
        "test_feature.shape, test_label.shape"
      ],
      "execution_count": null,
      "outputs": [
        {
          "output_type": "execute_result",
          "data": {
            "text/plain": [
              "((49, 2, 3), (49,))"
            ]
          },
          "metadata": {
            "tags": []
          },
          "execution_count": 9
        }
      ]
    },
    {
      "cell_type": "code",
      "metadata": {
        "id": "1IEnsn80UvCJ"
      },
      "source": [
        "x_train, x_valid, y_train, y_valid = train_test_split(train_feature, train_label, test_size=0.2)\r\n"
      ],
      "execution_count": null,
      "outputs": []
    },
    {
      "cell_type": "code",
      "metadata": {
        "colab": {
          "base_uri": "https://localhost:8080/"
        },
        "id": "yJ0zqZmsU01P",
        "outputId": "dc5abee7-48d7-4fd8-8c3c-608617bf32ab"
      },
      "source": [
        "x_train.shape, x_valid.shape"
      ],
      "execution_count": null,
      "outputs": [
        {
          "output_type": "execute_result",
          "data": {
            "text/plain": [
              "((222, 2, 3), (56, 2, 3))"
            ]
          },
          "metadata": {
            "tags": []
          },
          "execution_count": 12
        }
      ]
    },
    {
      "cell_type": "code",
      "metadata": {
        "colab": {
          "base_uri": "https://localhost:8080/"
        },
        "id": "LszJI-TWU3UK",
        "outputId": "f8990f92-b3bb-4ab6-d532-766f1b37e438"
      },
      "source": [
        "model = Sequential()\r\n",
        "model.add(LSTM(16,\r\n",
        "               input_shape=(train_feature.shape[1], train_feature.shape[2]),\r\n",
        "               activation='relu',\r\n",
        "               return_sequences=False)\r\n",
        "          )\r\n",
        "model.add(Dense(1))"
      ],
      "execution_count": null,
      "outputs": [
        {
          "output_type": "stream",
          "text": [
            "WARNING:tensorflow:Layer lstm will not use cuDNN kernel since it doesn't meet the cuDNN kernel criteria. It will use generic GPU kernel as fallback when running on GPU\n"
          ],
          "name": "stdout"
        }
      ]
    },
    {
      "cell_type": "code",
      "metadata": {
        "colab": {
          "base_uri": "https://localhost:8080/"
        },
        "id": "2bWQBbbrU9cl",
        "outputId": "3e959b95-5dd4-433b-d2ff-35d6e2202b3f"
      },
      "source": [
        "model.summary()"
      ],
      "execution_count": null,
      "outputs": [
        {
          "output_type": "stream",
          "text": [
            "Model: \"sequential\"\n",
            "_________________________________________________________________\n",
            "Layer (type)                 Output Shape              Param #   \n",
            "=================================================================\n",
            "lstm (LSTM)                  (None, 16)                1280      \n",
            "_________________________________________________________________\n",
            "dense (Dense)                (None, 1)                 17        \n",
            "=================================================================\n",
            "Total params: 1,297\n",
            "Trainable params: 1,297\n",
            "Non-trainable params: 0\n",
            "_________________________________________________________________\n"
          ],
          "name": "stdout"
        }
      ]
    },
    {
      "cell_type": "code",
      "metadata": {
        "id": "IPwYzaZWVHQM"
      },
      "source": [
        "model.compile(loss='mean_squared_error', optimizer='adam')\r\n",
        "early_stop = EarlyStopping(monitor='val_loss', patience=5)\r\n",
        "filename = os.path.join('C:/Users/wlsrm/data', 'tmp_checkpoint.h5')\r\n",
        "checkpoint = ModelCheckpoint(filename, monitor='val_loss', verbose=1, save_best_only=True, mode='auto')\r\n"
      ],
      "execution_count": null,
      "outputs": []
    },
    {
      "cell_type": "code",
      "metadata": {
        "colab": {
          "base_uri": "https://localhost:8080/"
        },
        "id": "Cu_2djzoVKxM",
        "outputId": "03f6c24c-d109-492e-b28f-2a135e36323a"
      },
      "source": [
        "history = model.fit(x_train, y_train,\r\n",
        "                                    epochs=200,\r\n",
        "                                    batch_size=5,\r\n",
        "                                    validation_data=(x_valid, y_valid),\r\n",
        "                                    callbacks=[early_stop, checkpoint])\r\n"
      ],
      "execution_count": null,
      "outputs": [
        {
          "output_type": "stream",
          "text": [
            "Epoch 1/200\n",
            "45/45 [==============================] - 4s 11ms/step - loss: 0.0460 - val_loss: 0.0129\n",
            "\n",
            "Epoch 00001: val_loss improved from inf to 0.01286, saving model to C:/Users/wlsrm/data/tmp_checkpoint.h5\n",
            "Epoch 2/200\n",
            "45/45 [==============================] - 0s 6ms/step - loss: 0.0163 - val_loss: 0.0161\n",
            "\n",
            "Epoch 00002: val_loss did not improve from 0.01286\n",
            "Epoch 3/200\n",
            "45/45 [==============================] - 0s 6ms/step - loss: 0.0130 - val_loss: 0.0081\n",
            "\n",
            "Epoch 00003: val_loss improved from 0.01286 to 0.00809, saving model to C:/Users/wlsrm/data/tmp_checkpoint.h5\n",
            "Epoch 4/200\n",
            "45/45 [==============================] - 0s 6ms/step - loss: 0.0104 - val_loss: 0.0095\n",
            "\n",
            "Epoch 00004: val_loss did not improve from 0.00809\n",
            "Epoch 5/200\n",
            "45/45 [==============================] - 0s 6ms/step - loss: 0.0108 - val_loss: 0.0094\n",
            "\n",
            "Epoch 00005: val_loss did not improve from 0.00809\n",
            "Epoch 6/200\n",
            "45/45 [==============================] - 0s 6ms/step - loss: 0.0091 - val_loss: 0.0132\n",
            "\n",
            "Epoch 00006: val_loss did not improve from 0.00809\n",
            "Epoch 7/200\n",
            "45/45 [==============================] - 0s 7ms/step - loss: 0.0128 - val_loss: 0.0058\n",
            "\n",
            "Epoch 00007: val_loss improved from 0.00809 to 0.00583, saving model to C:/Users/wlsrm/data/tmp_checkpoint.h5\n",
            "Epoch 8/200\n",
            "45/45 [==============================] - 0s 6ms/step - loss: 0.0094 - val_loss: 0.0054\n",
            "\n",
            "Epoch 00008: val_loss improved from 0.00583 to 0.00545, saving model to C:/Users/wlsrm/data/tmp_checkpoint.h5\n",
            "Epoch 9/200\n",
            "45/45 [==============================] - 0s 6ms/step - loss: 0.0084 - val_loss: 0.0055\n",
            "\n",
            "Epoch 00009: val_loss did not improve from 0.00545\n",
            "Epoch 10/200\n",
            "45/45 [==============================] - 0s 6ms/step - loss: 0.0078 - val_loss: 0.0048\n",
            "\n",
            "Epoch 00010: val_loss improved from 0.00545 to 0.00481, saving model to C:/Users/wlsrm/data/tmp_checkpoint.h5\n",
            "Epoch 11/200\n",
            "45/45 [==============================] - 0s 6ms/step - loss: 0.0064 - val_loss: 0.0054\n",
            "\n",
            "Epoch 00011: val_loss did not improve from 0.00481\n",
            "Epoch 12/200\n",
            "45/45 [==============================] - 0s 6ms/step - loss: 0.0080 - val_loss: 0.0114\n",
            "\n",
            "Epoch 00012: val_loss did not improve from 0.00481\n",
            "Epoch 13/200\n",
            "45/45 [==============================] - 0s 6ms/step - loss: 0.0085 - val_loss: 0.0038\n",
            "\n",
            "Epoch 00013: val_loss improved from 0.00481 to 0.00385, saving model to C:/Users/wlsrm/data/tmp_checkpoint.h5\n",
            "Epoch 14/200\n",
            "45/45 [==============================] - 0s 6ms/step - loss: 0.0066 - val_loss: 0.0035\n",
            "\n",
            "Epoch 00014: val_loss improved from 0.00385 to 0.00355, saving model to C:/Users/wlsrm/data/tmp_checkpoint.h5\n",
            "Epoch 15/200\n",
            "45/45 [==============================] - 0s 6ms/step - loss: 0.0043 - val_loss: 0.0026\n",
            "\n",
            "Epoch 00015: val_loss improved from 0.00355 to 0.00258, saving model to C:/Users/wlsrm/data/tmp_checkpoint.h5\n",
            "Epoch 16/200\n",
            "45/45 [==============================] - 0s 6ms/step - loss: 0.0034 - val_loss: 0.0025\n",
            "\n",
            "Epoch 00016: val_loss improved from 0.00258 to 0.00245, saving model to C:/Users/wlsrm/data/tmp_checkpoint.h5\n",
            "Epoch 17/200\n",
            "45/45 [==============================] - 0s 6ms/step - loss: 0.0031 - val_loss: 0.0025\n",
            "\n",
            "Epoch 00017: val_loss did not improve from 0.00245\n",
            "Epoch 18/200\n",
            "45/45 [==============================] - 0s 6ms/step - loss: 0.0029 - val_loss: 0.0039\n",
            "\n",
            "Epoch 00018: val_loss did not improve from 0.00245\n",
            "Epoch 19/200\n",
            "45/45 [==============================] - 0s 6ms/step - loss: 0.0046 - val_loss: 0.0050\n",
            "\n",
            "Epoch 00019: val_loss did not improve from 0.00245\n",
            "Epoch 20/200\n",
            "45/45 [==============================] - 0s 6ms/step - loss: 0.0033 - val_loss: 0.0025\n",
            "\n",
            "Epoch 00020: val_loss did not improve from 0.00245\n",
            "Epoch 21/200\n",
            "45/45 [==============================] - 0s 6ms/step - loss: 0.0022 - val_loss: 0.0022\n",
            "\n",
            "Epoch 00021: val_loss improved from 0.00245 to 0.00216, saving model to C:/Users/wlsrm/data/tmp_checkpoint.h5\n",
            "Epoch 22/200\n",
            "45/45 [==============================] - 0s 6ms/step - loss: 0.0028 - val_loss: 0.0019\n",
            "\n",
            "Epoch 00022: val_loss improved from 0.00216 to 0.00191, saving model to C:/Users/wlsrm/data/tmp_checkpoint.h5\n",
            "Epoch 23/200\n",
            "45/45 [==============================] - 0s 6ms/step - loss: 0.0020 - val_loss: 0.0027\n",
            "\n",
            "Epoch 00023: val_loss did not improve from 0.00191\n",
            "Epoch 24/200\n",
            "45/45 [==============================] - 0s 6ms/step - loss: 0.0022 - val_loss: 0.0070\n",
            "\n",
            "Epoch 00024: val_loss did not improve from 0.00191\n",
            "Epoch 25/200\n",
            "45/45 [==============================] - 0s 6ms/step - loss: 0.0044 - val_loss: 0.0033\n",
            "\n",
            "Epoch 00025: val_loss did not improve from 0.00191\n",
            "Epoch 26/200\n",
            "45/45 [==============================] - 0s 6ms/step - loss: 0.0032 - val_loss: 0.0020\n",
            "\n",
            "Epoch 00026: val_loss did not improve from 0.00191\n",
            "Epoch 27/200\n",
            "45/45 [==============================] - 0s 6ms/step - loss: 0.0021 - val_loss: 0.0024\n",
            "\n",
            "Epoch 00027: val_loss did not improve from 0.00191\n"
          ],
          "name": "stdout"
        }
      ]
    },
    {
      "cell_type": "code",
      "metadata": {
        "id": "G26lIhefVzME"
      },
      "source": [
        "model.load_weights(filename)\r\n",
        "pred = model.predict(test_feature)"
      ],
      "execution_count": null,
      "outputs": []
    },
    {
      "cell_type": "code",
      "metadata": {
        "colab": {
          "base_uri": "https://localhost:8080/",
          "height": 491
        },
        "id": "3dLKRc46V76y",
        "outputId": "7cd41649-5f63-4265-b551-72eb43a1111d"
      },
      "source": [
        "plt.figure(figsize=(12, 9))\r\n",
        "plt.plot(test_label, label='actual')\r\n",
        "plt.plot(pred, label='prediction')\r\n",
        "plt.legend()\r\n",
        "plt.show()"
      ],
      "execution_count": null,
      "outputs": [
        {
          "output_type": "display_data",
          "data": {
            "image/png": "[encoded data removed]",
            "text/plain": [
              "<Figure size 864x648 with 1 Axes>"
            ]
          },
          "metadata": {
            "tags": [],
            "needs_background": "light"
          }
        }
      ]
    }
  ]
}
