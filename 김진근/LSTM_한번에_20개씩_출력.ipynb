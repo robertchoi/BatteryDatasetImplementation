{
  "nbformat": 4,
  "nbformat_minor": 0,
  "metadata": {
    "colab": {
      "name": "LSTM 한번에 20개씩 출력.ipynb",
      "provenance": [],
      "collapsed_sections": [],
      "authorship_tag": "ABX9TyPKdnMgPT0sevruTD4lCpNe",
      "include_colab_link": true
    },
    "kernelspec": {
      "name": "python3",
      "display_name": "Python 3"
    },
    "language_info": {
      "name": "python"
    }
  },
  "cells": [
    {
      "cell_type": "markdown",
      "metadata": {
        "id": "view-in-github",
        "colab_type": "text"
      },
      "source": [
        "<a href=\"https://colab.research.google.com/github/robertchoi/BatteryDatasetImplementation/blob/master/%EA%B9%80%EC%A7%84%EA%B7%BC/LSTM_%ED%95%9C%EB%B2%88%EC%97%90_20%EA%B0%9C%EC%94%A9_%EC%B6%9C%EB%A0%A5.ipynb\" target=\"_parent\"><img src=\"https://colab.research.google.com/assets/colab-badge.svg\" alt=\"Open In Colab\"/></a>"
      ]
    },
    {
      "cell_type": "code",
      "metadata": {
        "id": "E06-P_awGVd8"
      },
      "source": [
        "import os\n",
        "import datetime\n",
        "from keras.callbacks import EarlyStopping, ModelCheckpoint\n",
        "import IPython\n",
        "import IPython.display\n",
        "import matplotlib as mpl\n",
        "import matplotlib.pyplot as plt\n",
        "import numpy as np\n",
        "import pandas as pd\n",
        "import seaborn as sns\n",
        "import tensorflow as tf\n",
        "from tensorflow.keras import optimizers, Sequential\n",
        "from keras.layers import RNN\n",
        "from sklearn.model_selection import train_test_split\n",
        "from keras.models import Sequential\n",
        "from keras.layers import Dense, LSTM, GRU\n",
        "from keras.layers.core import Activation, Dense, Dropout\n",
        "from keras import layers, models\n",
        "from sklearn import preprocessing\n",
        "from keras import datasets\n",
        "from keras.models import load_model\n",
        "from sklearn.metrics import mean_squared_error\n",
        "from IPython.display import SVG\n",
        "from keras.utils.vis_utils import model_to_dot\n",
        "from sklearn import model_selection"
      ],
      "execution_count": null,
      "outputs": []
    },
    {
      "cell_type": "code",
      "metadata": {
        "colab": {
          "base_uri": "https://localhost:8080/"
        },
        "id": "ikA-a9I6GqZA",
        "outputId": "28ccb14c-cc9d-4f61-a8e7-a5dfa4bca4c4"
      },
      "source": [
        "from google.colab import drive\n",
        "drive.mount('/content/drive')"
      ],
      "execution_count": null,
      "outputs": [
        {
          "output_type": "stream",
          "text": [
            "Drive already mounted at /content/drive; to attempt to forcibly remount, call drive.mount(\"/content/drive\", force_remount=True).\n"
          ],
          "name": "stdout"
        }
      ]
    },
    {
      "cell_type": "code",
      "metadata": {
        "colab": {
          "base_uri": "https://localhost:8080/",
          "height": 418
        },
        "id": "WWF-FjgbayKO",
        "outputId": "c8d83338-f1b1-49b8-d3a3-e28131afb632"
      },
      "source": [
        "df = pd.read_csv('/content/drive/MyDrive/J0003_0024_0222_20110307012737_cell_7.csv', encoding='utf8')\n",
        "df"
      ],
      "execution_count": null,
      "outputs": [
        {
          "output_type": "execute_result",
          "data": {
            "text/html": [
              "<div>\n",
              "<style scoped>\n",
              "    .dataframe tbody tr th:only-of-type {\n",
              "        vertical-align: middle;\n",
              "    }\n",
              "\n",
              "    .dataframe tbody tr th {\n",
              "        vertical-align: top;\n",
              "    }\n",
              "\n",
              "    .dataframe thead th {\n",
              "        text-align: right;\n",
              "    }\n",
              "</style>\n",
              "<table border=\"1\" class=\"dataframe\">\n",
              "  <thead>\n",
              "    <tr style=\"text-align: right;\">\n",
              "      <th></th>\n",
              "      <th>MeasuredDate</th>\n",
              "      <th>CellNo</th>\n",
              "      <th>Resistance</th>\n",
              "      <th>Volt</th>\n",
              "      <th>Temp</th>\n",
              "    </tr>\n",
              "  </thead>\n",
              "  <tbody>\n",
              "    <tr>\n",
              "      <th>0</th>\n",
              "      <td>2011.3.7 6:27</td>\n",
              "      <td>7</td>\n",
              "      <td>0.296</td>\n",
              "      <td>2.25</td>\n",
              "      <td>-20</td>\n",
              "    </tr>\n",
              "    <tr>\n",
              "      <th>1</th>\n",
              "      <td>2011.3.7 18:29</td>\n",
              "      <td>7</td>\n",
              "      <td>0.297</td>\n",
              "      <td>2.25</td>\n",
              "      <td>-20</td>\n",
              "    </tr>\n",
              "    <tr>\n",
              "      <th>2</th>\n",
              "      <td>2011.3.8 6:29</td>\n",
              "      <td>7</td>\n",
              "      <td>0.298</td>\n",
              "      <td>2.25</td>\n",
              "      <td>-20</td>\n",
              "    </tr>\n",
              "    <tr>\n",
              "      <th>3</th>\n",
              "      <td>2011.3.8 18:29</td>\n",
              "      <td>7</td>\n",
              "      <td>0.298</td>\n",
              "      <td>2.25</td>\n",
              "      <td>-20</td>\n",
              "    </tr>\n",
              "    <tr>\n",
              "      <th>4</th>\n",
              "      <td>2011.3.9 6:29</td>\n",
              "      <td>7</td>\n",
              "      <td>0.296</td>\n",
              "      <td>2.25</td>\n",
              "      <td>-20</td>\n",
              "    </tr>\n",
              "    <tr>\n",
              "      <th>...</th>\n",
              "      <td>...</td>\n",
              "      <td>...</td>\n",
              "      <td>...</td>\n",
              "      <td>...</td>\n",
              "      <td>...</td>\n",
              "    </tr>\n",
              "    <tr>\n",
              "      <th>250</th>\n",
              "      <td>2011.8.30 5:28</td>\n",
              "      <td>7</td>\n",
              "      <td>0.619</td>\n",
              "      <td>2.29</td>\n",
              "      <td>-20</td>\n",
              "    </tr>\n",
              "    <tr>\n",
              "      <th>251</th>\n",
              "      <td>2011.8.30 17:28</td>\n",
              "      <td>7</td>\n",
              "      <td>0.620</td>\n",
              "      <td>2.30</td>\n",
              "      <td>-20</td>\n",
              "    </tr>\n",
              "    <tr>\n",
              "      <th>252</th>\n",
              "      <td>2011.8.31 5:28</td>\n",
              "      <td>7</td>\n",
              "      <td>0.623</td>\n",
              "      <td>2.30</td>\n",
              "      <td>-20</td>\n",
              "    </tr>\n",
              "    <tr>\n",
              "      <th>253</th>\n",
              "      <td>2011.8.31 16:09</td>\n",
              "      <td>7</td>\n",
              "      <td>0.639</td>\n",
              "      <td>2.30</td>\n",
              "      <td>-20</td>\n",
              "    </tr>\n",
              "    <tr>\n",
              "      <th>254</th>\n",
              "      <td>2011.8.31 16:12</td>\n",
              "      <td>7</td>\n",
              "      <td>0.634</td>\n",
              "      <td>2.30</td>\n",
              "      <td>-20</td>\n",
              "    </tr>\n",
              "  </tbody>\n",
              "</table>\n",
              "<p>255 rows × 5 columns</p>\n",
              "</div>"
            ],
            "text/plain": [
              "        MeasuredDate  CellNo  Resistance  Volt  Temp\n",
              "0      2011.3.7 6:27       7       0.296  2.25   -20\n",
              "1     2011.3.7 18:29       7       0.297  2.25   -20\n",
              "2      2011.3.8 6:29       7       0.298  2.25   -20\n",
              "3     2011.3.8 18:29       7       0.298  2.25   -20\n",
              "4      2011.3.9 6:29       7       0.296  2.25   -20\n",
              "..               ...     ...         ...   ...   ...\n",
              "250   2011.8.30 5:28       7       0.619  2.29   -20\n",
              "251  2011.8.30 17:28       7       0.620  2.30   -20\n",
              "252   2011.8.31 5:28       7       0.623  2.30   -20\n",
              "253  2011.8.31 16:09       7       0.639  2.30   -20\n",
              "254  2011.8.31 16:12       7       0.634  2.30   -20\n",
              "\n",
              "[255 rows x 5 columns]"
            ]
          },
          "metadata": {
            "tags": []
          },
          "execution_count": 299
        }
      ]
    },
    {
      "cell_type": "code",
      "metadata": {
        "colab": {
          "base_uri": "https://localhost:8080/"
        },
        "id": "uPCXUG2RwTHQ",
        "outputId": "2f4fba06-b2bd-4c74-daff-237eb4194ba1"
      },
      "source": [
        "df = df['Resistance']\n",
        "df"
      ],
      "execution_count": null,
      "outputs": [
        {
          "output_type": "execute_result",
          "data": {
            "text/plain": [
              "0      0.296\n",
              "1      0.297\n",
              "2      0.298\n",
              "3      0.298\n",
              "4      0.296\n",
              "       ...  \n",
              "250    0.619\n",
              "251    0.620\n",
              "252    0.623\n",
              "253    0.639\n",
              "254    0.634\n",
              "Name: Resistance, Length: 255, dtype: float64"
            ]
          },
          "metadata": {
            "tags": []
          },
          "execution_count": 300
        }
      ]
    },
    {
      "cell_type": "code",
      "metadata": {
        "id": "jT_z9x1N6j48"
      },
      "source": [
        "n_samples = len(df)"
      ],
      "execution_count": null,
      "outputs": []
    },
    {
      "cell_type": "code",
      "metadata": {
        "id": "WwFdFmF20LR-"
      },
      "source": [
        "def make_dataset(data, label, window_size):\n",
        "    feature_list = []\n",
        "    label_list = []\n",
        "    for i in range(len(data) - window_size):\n",
        "        feature_list.append(np.array(data.iloc[i:i+window_size]))\n",
        "        label_list.append(np.array(label.iloc[i+window_size]))\n",
        "    return np.array(feature_list), np.array(label_list)"
      ],
      "execution_count": null,
      "outputs": []
    },
    {
      "cell_type": "code",
      "metadata": {
        "id": "8PJa8nO97Sgb"
      },
      "source": [
        "from sklearn.preprocessing import MinMaxScaler\n",
        "scaler = MinMaxScaler()\n",
        "scale_cols = ['Resistance']\n",
        "df = pd.DataFrame(df)\n",
        "df.columns = scale_cols\n",
        "df_scaled = scaler.fit_transform(df[scale_cols])\n",
        "\n",
        "df_scaled = pd.DataFrame(df_scaled)\n",
        "df_scaled_train = df_scaled.loc[:,]\n",
        "df_scaled_train.columns = scale_cols\n"
      ],
      "execution_count": null,
      "outputs": []
    },
    {
      "cell_type": "code",
      "metadata": {
        "colab": {
          "base_uri": "https://localhost:8080/",
          "height": 418
        },
        "id": "-fce3YKG7Y3w",
        "outputId": "c3879c57-929f-4886-b248-e5c3465f35ee"
      },
      "source": [
        "train_sc_df = pd.DataFrame(df_scaled_train, columns=['Resistance'], index=df_scaled_train.index)\n",
        "train_sc_df"
      ],
      "execution_count": null,
      "outputs": [
        {
          "output_type": "execute_result",
          "data": {
            "text/html": [
              "<div>\n",
              "<style scoped>\n",
              "    .dataframe tbody tr th:only-of-type {\n",
              "        vertical-align: middle;\n",
              "    }\n",
              "\n",
              "    .dataframe tbody tr th {\n",
              "        vertical-align: top;\n",
              "    }\n",
              "\n",
              "    .dataframe thead th {\n",
              "        text-align: right;\n",
              "    }\n",
              "</style>\n",
              "<table border=\"1\" class=\"dataframe\">\n",
              "  <thead>\n",
              "    <tr style=\"text-align: right;\">\n",
              "      <th></th>\n",
              "      <th>Resistance</th>\n",
              "    </tr>\n",
              "  </thead>\n",
              "  <tbody>\n",
              "    <tr>\n",
              "      <th>0</th>\n",
              "      <td>0.000000</td>\n",
              "    </tr>\n",
              "    <tr>\n",
              "      <th>1</th>\n",
              "      <td>0.002915</td>\n",
              "    </tr>\n",
              "    <tr>\n",
              "      <th>2</th>\n",
              "      <td>0.005831</td>\n",
              "    </tr>\n",
              "    <tr>\n",
              "      <th>3</th>\n",
              "      <td>0.005831</td>\n",
              "    </tr>\n",
              "    <tr>\n",
              "      <th>4</th>\n",
              "      <td>0.000000</td>\n",
              "    </tr>\n",
              "    <tr>\n",
              "      <th>...</th>\n",
              "      <td>...</td>\n",
              "    </tr>\n",
              "    <tr>\n",
              "      <th>250</th>\n",
              "      <td>0.941691</td>\n",
              "    </tr>\n",
              "    <tr>\n",
              "      <th>251</th>\n",
              "      <td>0.944606</td>\n",
              "    </tr>\n",
              "    <tr>\n",
              "      <th>252</th>\n",
              "      <td>0.953353</td>\n",
              "    </tr>\n",
              "    <tr>\n",
              "      <th>253</th>\n",
              "      <td>1.000000</td>\n",
              "    </tr>\n",
              "    <tr>\n",
              "      <th>254</th>\n",
              "      <td>0.985423</td>\n",
              "    </tr>\n",
              "  </tbody>\n",
              "</table>\n",
              "<p>255 rows × 1 columns</p>\n",
              "</div>"
            ],
            "text/plain": [
              "     Resistance\n",
              "0      0.000000\n",
              "1      0.002915\n",
              "2      0.005831\n",
              "3      0.005831\n",
              "4      0.000000\n",
              "..          ...\n",
              "250    0.941691\n",
              "251    0.944606\n",
              "252    0.953353\n",
              "253    1.000000\n",
              "254    0.985423\n",
              "\n",
              "[255 rows x 1 columns]"
            ]
          },
          "metadata": {
            "tags": []
          },
          "execution_count": 304
        }
      ]
    },
    {
      "cell_type": "code",
      "metadata": {
        "id": "-eLq5sXFC17s"
      },
      "source": [
        "train_feature = train_sc_df['Resistance']\n",
        "train_label = train_sc_df['Resistance']"
      ],
      "execution_count": null,
      "outputs": []
    },
    {
      "cell_type": "code",
      "metadata": {
        "id": "wo4rlz7N8CKr"
      },
      "source": [
        "train_feature, train_label = make_dataset(train_feature, train_label, 20)"
      ],
      "execution_count": null,
      "outputs": []
    },
    {
      "cell_type": "code",
      "metadata": {
        "id": "Ux4V_QLAJcWx"
      },
      "source": [
        "train_feature = train_feature.reshape(train_feature.shape[0], train_feature.shape[1], 1)"
      ],
      "execution_count": null,
      "outputs": []
    },
    {
      "cell_type": "code",
      "metadata": {
        "id": "NxkYo-rQJngo"
      },
      "source": [
        "train_label = train_label.reshape(train_label.shape[0], 1)\n"
      ],
      "execution_count": null,
      "outputs": []
    },
    {
      "cell_type": "code",
      "metadata": {
        "colab": {
          "base_uri": "https://localhost:8080/"
        },
        "id": "53YfxoRXKwbg",
        "outputId": "ba1326e1-a26b-41c1-8444-99d9a7c7bd4b"
      },
      "source": [
        "train_feature.shape, train_label.shape"
      ],
      "execution_count": null,
      "outputs": [
        {
          "output_type": "execute_result",
          "data": {
            "text/plain": [
              "((235, 20, 1), (235, 1))"
            ]
          },
          "metadata": {
            "tags": []
          },
          "execution_count": 327
        }
      ]
    },
    {
      "cell_type": "code",
      "metadata": {
        "id": "7Y7SZ2e7p0ao"
      },
      "source": [
        "model = Sequential()\n",
        "model.add(LSTM(128, \n",
        "               input_shape=(train_feature.shape[1], train_feature.shape[2]), \n",
        "               activation='relu', return_sequences=True)\n",
        "          )\n",
        "model.add(Dense(64))\n",
        "model.add(Dense(32))\n",
        "model.add(Dense(1))"
      ],
      "execution_count": null,
      "outputs": []
    },
    {
      "cell_type": "code",
      "metadata": {
        "colab": {
          "base_uri": "https://localhost:8080/"
        },
        "id": "LVIW14FVpus_",
        "outputId": "8180daa2-b9cb-491e-8ffc-bf503bdbe805"
      },
      "source": [
        "model.summary()"
      ],
      "execution_count": null,
      "outputs": [
        {
          "output_type": "stream",
          "text": [
            "Model: \"sequential_18\"\n",
            "_________________________________________________________________\n",
            "Layer (type)                 Output Shape              Param #   \n",
            "=================================================================\n",
            "lstm_18 (LSTM)               (None, 20, 128)           66560     \n",
            "_________________________________________________________________\n",
            "dense_30 (Dense)             (None, 20, 64)            8256      \n",
            "_________________________________________________________________\n",
            "dense_31 (Dense)             (None, 20, 32)            2080      \n",
            "_________________________________________________________________\n",
            "dense_32 (Dense)             (None, 20, 1)             33        \n",
            "=================================================================\n",
            "Total params: 76,929\n",
            "Trainable params: 76,929\n",
            "Non-trainable params: 0\n",
            "_________________________________________________________________\n"
          ],
          "name": "stdout"
        }
      ]
    },
    {
      "cell_type": "code",
      "metadata": {
        "colab": {
          "base_uri": "https://localhost:8080/"
        },
        "id": "kdVgEGIDp3Sl",
        "outputId": "f39c1b35-f4e2-4f5f-ce78-7ac3392bfa56"
      },
      "source": [
        "model.compile(loss='mean_squared_error', optimizer='adam', metrics=['mse'])\n",
        "h = model.fit(train_feature, train_label, \n",
        "                    epochs=100, \n",
        "                    batch_size=1, verbose=2)"
      ],
      "execution_count": null,
      "outputs": [
        {
          "output_type": "stream",
          "text": [
            "Epoch 1/100\n",
            "235/235 - 3s - loss: 0.0070 - mse: 0.0070\n",
            "Epoch 2/100\n",
            "235/235 - 1s - loss: 0.0016 - mse: 0.0016\n",
            "Epoch 3/100\n",
            "235/235 - 1s - loss: 9.7254e-04 - mse: 9.7254e-04\n",
            "Epoch 4/100\n",
            "235/235 - 1s - loss: 5.7407e-04 - mse: 5.7407e-04\n",
            "Epoch 5/100\n",
            "235/235 - 1s - loss: 8.0930e-04 - mse: 8.0930e-04\n",
            "Epoch 6/100\n",
            "235/235 - 1s - loss: 0.0010 - mse: 0.0010\n",
            "Epoch 7/100\n",
            "235/235 - 1s - loss: 7.2670e-04 - mse: 7.2670e-04\n",
            "Epoch 8/100\n",
            "235/235 - 1s - loss: 7.7697e-04 - mse: 7.7697e-04\n",
            "Epoch 9/100\n",
            "235/235 - 1s - loss: 7.1551e-04 - mse: 7.1551e-04\n",
            "Epoch 10/100\n",
            "235/235 - 1s - loss: 0.0010 - mse: 0.0010\n",
            "Epoch 11/100\n",
            "235/235 - 1s - loss: 0.0020 - mse: 0.0020\n",
            "Epoch 12/100\n",
            "235/235 - 1s - loss: 5.2258e-04 - mse: 5.2258e-04\n",
            "Epoch 13/100\n",
            "235/235 - 1s - loss: 0.0010 - mse: 0.0010\n",
            "Epoch 14/100\n",
            "235/235 - 1s - loss: 5.8776e-04 - mse: 5.8776e-04\n",
            "Epoch 15/100\n",
            "235/235 - 1s - loss: 5.7483e-04 - mse: 5.7483e-04\n",
            "Epoch 16/100\n",
            "235/235 - 2s - loss: 5.2787e-04 - mse: 5.2787e-04\n",
            "Epoch 17/100\n",
            "235/235 - 1s - loss: 6.8187e-04 - mse: 6.8187e-04\n",
            "Epoch 18/100\n",
            "235/235 - 1s - loss: 5.1331e-04 - mse: 5.1331e-04\n",
            "Epoch 19/100\n",
            "235/235 - 1s - loss: 7.8578e-04 - mse: 7.8578e-04\n",
            "Epoch 20/100\n",
            "235/235 - 1s - loss: 5.0894e-04 - mse: 5.0894e-04\n",
            "Epoch 21/100\n",
            "235/235 - 1s - loss: 6.5478e-04 - mse: 6.5478e-04\n",
            "Epoch 22/100\n",
            "235/235 - 1s - loss: 8.4102e-04 - mse: 8.4102e-04\n",
            "Epoch 23/100\n",
            "235/235 - 1s - loss: 9.9905e-04 - mse: 9.9905e-04\n",
            "Epoch 24/100\n",
            "235/235 - 1s - loss: 6.1123e-04 - mse: 6.1123e-04\n",
            "Epoch 25/100\n",
            "235/235 - 1s - loss: 5.7200e-04 - mse: 5.7200e-04\n",
            "Epoch 26/100\n",
            "235/235 - 1s - loss: 6.8984e-04 - mse: 6.8984e-04\n",
            "Epoch 27/100\n",
            "235/235 - 1s - loss: 6.7462e-04 - mse: 6.7462e-04\n",
            "Epoch 28/100\n",
            "235/235 - 1s - loss: 5.6776e-04 - mse: 5.6776e-04\n",
            "Epoch 29/100\n",
            "235/235 - 1s - loss: 4.9292e-04 - mse: 4.9292e-04\n",
            "Epoch 30/100\n",
            "235/235 - 1s - loss: 5.1179e-04 - mse: 5.1179e-04\n",
            "Epoch 31/100\n",
            "235/235 - 1s - loss: 6.6874e-04 - mse: 6.6874e-04\n",
            "Epoch 32/100\n",
            "235/235 - 1s - loss: 7.3569e-04 - mse: 7.3569e-04\n",
            "Epoch 33/100\n",
            "235/235 - 1s - loss: 4.0148e-04 - mse: 4.0148e-04\n",
            "Epoch 34/100\n",
            "235/235 - 1s - loss: 6.6511e-04 - mse: 6.6511e-04\n",
            "Epoch 35/100\n",
            "235/235 - 1s - loss: 5.9630e-04 - mse: 5.9630e-04\n",
            "Epoch 36/100\n",
            "235/235 - 1s - loss: 4.3501e-04 - mse: 4.3501e-04\n",
            "Epoch 37/100\n",
            "235/235 - 1s - loss: 6.3777e-04 - mse: 6.3777e-04\n",
            "Epoch 38/100\n",
            "235/235 - 1s - loss: 5.1239e-04 - mse: 5.1239e-04\n",
            "Epoch 39/100\n",
            "235/235 - 1s - loss: 5.8583e-04 - mse: 5.8583e-04\n",
            "Epoch 40/100\n",
            "235/235 - 1s - loss: 6.0462e-04 - mse: 6.0462e-04\n",
            "Epoch 41/100\n",
            "235/235 - 1s - loss: 4.6055e-04 - mse: 4.6055e-04\n",
            "Epoch 42/100\n",
            "235/235 - 1s - loss: 8.0612e-04 - mse: 8.0612e-04\n",
            "Epoch 43/100\n",
            "235/235 - 1s - loss: 6.4517e-04 - mse: 6.4517e-04\n",
            "Epoch 44/100\n",
            "235/235 - 1s - loss: 4.0237e-04 - mse: 4.0237e-04\n",
            "Epoch 45/100\n",
            "235/235 - 1s - loss: 4.5853e-04 - mse: 4.5853e-04\n",
            "Epoch 46/100\n",
            "235/235 - 1s - loss: 4.4678e-04 - mse: 4.4678e-04\n",
            "Epoch 47/100\n",
            "235/235 - 1s - loss: 7.1746e-04 - mse: 7.1746e-04\n",
            "Epoch 48/100\n",
            "235/235 - 1s - loss: 5.0293e-04 - mse: 5.0293e-04\n",
            "Epoch 49/100\n",
            "235/235 - 1s - loss: 3.6270e-04 - mse: 3.6270e-04\n",
            "Epoch 50/100\n",
            "235/235 - 1s - loss: 7.8007e-04 - mse: 7.8007e-04\n",
            "Epoch 51/100\n",
            "235/235 - 1s - loss: 4.2124e-04 - mse: 4.2124e-04\n",
            "Epoch 52/100\n",
            "235/235 - 1s - loss: 6.0237e-04 - mse: 6.0237e-04\n",
            "Epoch 53/100\n",
            "235/235 - 1s - loss: 3.6442e-04 - mse: 3.6442e-04\n",
            "Epoch 54/100\n",
            "235/235 - 1s - loss: 4.7144e-04 - mse: 4.7144e-04\n",
            "Epoch 55/100\n",
            "235/235 - 1s - loss: 4.3193e-04 - mse: 4.3193e-04\n",
            "Epoch 56/100\n",
            "235/235 - 1s - loss: 4.1001e-04 - mse: 4.1001e-04\n",
            "Epoch 57/100\n",
            "235/235 - 1s - loss: 4.3524e-04 - mse: 4.3524e-04\n",
            "Epoch 58/100\n",
            "235/235 - 2s - loss: 5.2930e-04 - mse: 5.2930e-04\n",
            "Epoch 59/100\n",
            "235/235 - 1s - loss: 5.2540e-04 - mse: 5.2540e-04\n",
            "Epoch 60/100\n",
            "235/235 - 1s - loss: 3.4882e-04 - mse: 3.4882e-04\n",
            "Epoch 61/100\n",
            "235/235 - 1s - loss: 5.7454e-04 - mse: 5.7454e-04\n",
            "Epoch 62/100\n",
            "235/235 - 1s - loss: 4.2289e-04 - mse: 4.2289e-04\n",
            "Epoch 63/100\n",
            "235/235 - 1s - loss: 3.0809e-04 - mse: 3.0809e-04\n",
            "Epoch 64/100\n",
            "235/235 - 1s - loss: 4.2111e-04 - mse: 4.2111e-04\n",
            "Epoch 65/100\n",
            "235/235 - 1s - loss: 3.6771e-04 - mse: 3.6771e-04\n",
            "Epoch 66/100\n",
            "235/235 - 1s - loss: 5.3579e-04 - mse: 5.3579e-04\n",
            "Epoch 67/100\n",
            "235/235 - 1s - loss: 3.9060e-04 - mse: 3.9060e-04\n",
            "Epoch 68/100\n",
            "235/235 - 1s - loss: 3.7036e-04 - mse: 3.7036e-04\n",
            "Epoch 69/100\n",
            "235/235 - 1s - loss: 3.3282e-04 - mse: 3.3282e-04\n",
            "Epoch 70/100\n",
            "235/235 - 1s - loss: 3.6539e-04 - mse: 3.6539e-04\n",
            "Epoch 71/100\n",
            "235/235 - 1s - loss: 6.3629e-04 - mse: 6.3629e-04\n",
            "Epoch 72/100\n",
            "235/235 - 1s - loss: 5.1410e-04 - mse: 5.1410e-04\n",
            "Epoch 73/100\n",
            "235/235 - 1s - loss: 4.1559e-04 - mse: 4.1559e-04\n",
            "Epoch 74/100\n",
            "235/235 - 1s - loss: 2.5863e-04 - mse: 2.5863e-04\n",
            "Epoch 75/100\n",
            "235/235 - 1s - loss: 3.1621e-04 - mse: 3.1621e-04\n",
            "Epoch 76/100\n",
            "235/235 - 1s - loss: 4.0300e-04 - mse: 4.0300e-04\n",
            "Epoch 77/100\n",
            "235/235 - 1s - loss: 4.6712e-04 - mse: 4.6712e-04\n",
            "Epoch 78/100\n",
            "235/235 - 1s - loss: 3.0651e-04 - mse: 3.0651e-04\n",
            "Epoch 79/100\n",
            "235/235 - 1s - loss: 3.8321e-04 - mse: 3.8321e-04\n",
            "Epoch 80/100\n",
            "235/235 - 1s - loss: 2.9385e-04 - mse: 2.9385e-04\n",
            "Epoch 81/100\n",
            "235/235 - 1s - loss: 4.5338e-04 - mse: 4.5338e-04\n",
            "Epoch 82/100\n",
            "235/235 - 1s - loss: 3.0289e-04 - mse: 3.0289e-04\n",
            "Epoch 83/100\n",
            "235/235 - 1s - loss: 3.6840e-04 - mse: 3.6840e-04\n",
            "Epoch 84/100\n",
            "235/235 - 1s - loss: 4.0134e-04 - mse: 4.0134e-04\n",
            "Epoch 85/100\n",
            "235/235 - 1s - loss: 2.7620e-04 - mse: 2.7620e-04\n",
            "Epoch 86/100\n",
            "235/235 - 1s - loss: 2.9657e-04 - mse: 2.9657e-04\n",
            "Epoch 87/100\n",
            "235/235 - 1s - loss: 5.6797e-04 - mse: 5.6797e-04\n",
            "Epoch 88/100\n",
            "235/235 - 1s - loss: 3.5905e-04 - mse: 3.5905e-04\n",
            "Epoch 89/100\n",
            "235/235 - 1s - loss: 3.2586e-04 - mse: 3.2586e-04\n",
            "Epoch 90/100\n",
            "235/235 - 1s - loss: 3.4268e-04 - mse: 3.4268e-04\n",
            "Epoch 91/100\n",
            "235/235 - 1s - loss: 3.2960e-04 - mse: 3.2960e-04\n",
            "Epoch 92/100\n",
            "235/235 - 1s - loss: 6.6096e-04 - mse: 6.6096e-04\n",
            "Epoch 93/100\n",
            "235/235 - 1s - loss: 2.6938e-04 - mse: 2.6938e-04\n",
            "Epoch 94/100\n",
            "235/235 - 1s - loss: 4.5698e-04 - mse: 4.5698e-04\n",
            "Epoch 95/100\n",
            "235/235 - 1s - loss: 3.4855e-04 - mse: 3.4855e-04\n",
            "Epoch 96/100\n",
            "235/235 - 1s - loss: 3.0727e-04 - mse: 3.0727e-04\n",
            "Epoch 97/100\n",
            "235/235 - 1s - loss: 3.0495e-04 - mse: 3.0495e-04\n",
            "Epoch 98/100\n",
            "235/235 - 1s - loss: 4.7533e-04 - mse: 4.7533e-04\n",
            "Epoch 99/100\n",
            "235/235 - 1s - loss: 2.7802e-04 - mse: 2.7802e-04\n",
            "Epoch 100/100\n",
            "235/235 - 1s - loss: 3.3064e-04 - mse: 3.3064e-04\n"
          ],
          "name": "stdout"
        }
      ]
    },
    {
      "cell_type": "code",
      "metadata": {
        "colab": {
          "base_uri": "https://localhost:8080/",
          "height": 281
        },
        "id": "FFk56WHctkB2",
        "outputId": "ce53a938-dd3f-430b-d0ec-9adff0fadd09"
      },
      "source": [
        "test_df = pd.read_csv('/content/drive/MyDrive/J0003_0024_0221_20110307012732_cell_03.csv', encoding='utf8')\n",
        "\n",
        "test_df = test_df['Resistance']\n",
        "lengh = len(test_df)-20\n",
        "test = test_df.loc[:lengh,]\n",
        "scale_cols = ['Resistance']\n",
        "\n",
        "scaler = MinMaxScaler()\n",
        "test_df = pd.DataFrame(test_df)\n",
        "test_df.columns = scale_cols\n",
        "\n",
        "df_scaled_test = scaler.fit_transform(test_df[scale_cols])\n",
        "\n",
        "df_scaled = pd.DataFrame(df_scaled_test)\n",
        "df_scaled_test = df_scaled.loc[:lengh,]\n",
        "# df_scaled_test = df_scaled\n",
        "df_scaled_test.columns = scale_cols\n",
        "\n",
        "test_sc_df = pd.DataFrame(df_scaled_test, columns=['Resistance'], index=df_scaled_test.index)\n",
        "\n",
        "test_feature = test_sc_df['Resistance']\n",
        "test_label = test_sc_df['Resistance']\n",
        "\n",
        "test_feature, test_label = make_dataset(test_feature, test_label, 20)\n",
        "test_feature = test_feature.reshape(test_feature.shape[0], test_feature.shape[1], 1)\n",
        "test_label = test_label.reshape(test_label.shape[0], 1)\n",
        "all_lengh = len(test_df)\n",
        "xhat = test_feature[len(test_feature)-1]\n",
        "predictions = np.zeros(20)\n",
        "\n",
        "for i in range(20):\n",
        "  # print(\"0\",np.array([xhat]))\n",
        "  prediction = model.predict(np.array([xhat]), batch_size=16)\n",
        "  # print(\"1\", type(prediction))\n",
        "  prediction = prediction.reshape(20)\n",
        "  predictions[i] = prediction[19]\n",
        "  # print(\"2\",predictions)\n",
        "  xhat=np.vstack([xhat[1:],prediction[19]])\n",
        "\n",
        "x_list = [] # 미래 30프로 예측 수정중입니다.\n",
        "for i in range(lengh, lengh+20):\n",
        "     x_list.append(np.array(i))\n",
        "df_scaled.plot()\n",
        "plt.plot(x_list, predictions, label='Prediction')\n",
        "plt.legend(loc=0)\n",
        "plt.title('All Results')\n",
        "plt.show()"
      ],
      "execution_count": null,
      "outputs": [
        {
          "output_type": "display_data",
          "data": {
            "image/png": "[encoded data removed]",
            "text/plain": [
              "<Figure size 432x288 with 1 Axes>"
            ]
          },
          "metadata": {
            "tags": [],
            "needs_background": "light"
          }
        }
      ]
    },
    {
      "cell_type": "code",
      "metadata": {
        "colab": {
          "base_uri": "https://localhost:8080/",
          "height": 299
        },
        "id": "LvORy62hts4f",
        "outputId": "129b5925-8d64-4893-8634-2e07c9e78b0a"
      },
      "source": [
        "test_df = pd.read_csv('/content/drive/MyDrive/J0003_0024_0221_20110307012732_cell_06.csv', encoding='utf8')\n",
        "\n",
        "test_df = test_df['Resistance']\n",
        "lengh = len(test_df)-20\n",
        "test = test_df.loc[:lengh,]\n",
        "scale_cols = ['Resistance']\n",
        "\n",
        "scaler = MinMaxScaler()\n",
        "test_df = pd.DataFrame(test_df)\n",
        "test_df.columns = scale_cols\n",
        "print(test_df.shape)\n",
        "df_scaled_test = scaler.fit_transform(test_df[scale_cols])\n",
        "\n",
        "df_scaled = pd.DataFrame(df_scaled_test)\n",
        "df_scaled_test = df_scaled.loc[:lengh,]\n",
        "# df_scaled_test = df_scaled\n",
        "df_scaled_test.columns = scale_cols\n",
        "\n",
        "test_sc_df = pd.DataFrame(df_scaled_test, columns=['Resistance'], index=df_scaled_test.index)\n",
        "\n",
        "test_feature = test_sc_df['Resistance']\n",
        "test_label = test_sc_df['Resistance']\n",
        "\n",
        "test_feature, test_label = make_dataset(test_feature, test_label, 20)\n",
        "test_feature = test_feature.reshape(test_feature.shape[0], test_feature.shape[1], 1)\n",
        "test_label = test_label.reshape(test_label.shape[0], 1)\n",
        "\n",
        "all_lengh = len(test_df)\n",
        "xhat = test_feature[len(test_feature)-1]\n",
        "predictions = np.zeros(20)\n",
        "\n",
        "for i in range(20):\n",
        "  # print(\"0\",np.array([xhat]))\n",
        "  prediction = model.predict(np.array([xhat]), batch_size=16)\n",
        "  # print(\"1\", type(prediction))\n",
        "  prediction = prediction.reshape(20)\n",
        "  predictions[i] = prediction[19]\n",
        "  # print(\"2\",predictions)\n",
        "  xhat=np.vstack([xhat[1:],prediction[19]])\n",
        "\n",
        "x_list = [] # 미래 30프로 예측 수정중입니다.\n",
        "for i in range(lengh, lengh+20):\n",
        "     x_list.append(np.array(i))\n",
        "df_scaled.plot()\n",
        "plt.plot(x_list, predictions, label='Prediction')\n",
        "plt.legend(loc=0)\n",
        "plt.title('All Results')\n",
        "plt.show()"
      ],
      "execution_count": null,
      "outputs": [
        {
          "output_type": "stream",
          "text": [
            "(256, 1)\n"
          ],
          "name": "stdout"
        },
        {
          "output_type": "display_data",
          "data": {
            "image/png": "[encoded data removed]",
            "text/plain": [
              "<Figure size 432x288 with 1 Axes>"
            ]
          },
          "metadata": {
            "tags": [],
            "needs_background": "light"
          }
        }
      ]
    },
    {
      "cell_type": "code",
      "metadata": {
        "colab": {
          "base_uri": "https://localhost:8080/",
          "height": 1000
        },
        "id": "_JWAt323TOLh",
        "outputId": "24cd3c1e-60c0-47c5-860e-b9f7aba0711b"
      },
      "source": [
        "test_df = pd.read_csv('/content/drive/MyDrive/J0003_0024_0221_20110307012732_cell_19.csv', encoding='utf8')\n",
        "\n",
        "test_df = test_df['Resistance']\n",
        "lengh = len(test_df)-20\n",
        "test = test_df.loc[:lengh,]\n",
        "scale_cols = ['Resistance']\n",
        "\n",
        "scaler = MinMaxScaler()\n",
        "test_df = pd.DataFrame(test_df)\n",
        "test_df.columns = scale_cols\n",
        "df_scaled_test = scaler.fit_transform(test_df[scale_cols])\n",
        "\n",
        "df_scaled = pd.DataFrame(df_scaled_test)\n",
        "df_scaled_test = df_scaled.loc[:lengh,]\n",
        "# df_scaled_test = df_scaled\n",
        "df_scaled_test.columns = scale_cols\n",
        "\n",
        "test_sc_df = pd.DataFrame(df_scaled_test, columns=['Resistance'], index=df_scaled_test.index)\n",
        "\n",
        "test_feature = test_sc_df['Resistance']\n",
        "test_label = test_sc_df['Resistance']\n",
        "\n",
        "test_feature, test_label = make_dataset(test_feature, test_label, 20)\n",
        "test_feature = test_feature.reshape(test_feature.shape[0], test_feature.shape[1], 1)\n",
        "test_label = test_label.reshape(test_label.shape[0], 1)\n",
        "\n",
        "all_lengh = len(test_df)\n",
        "xhat = test_feature[len(test_feature)-1]\n",
        "predictions = np.zeros(20)\n",
        "\n",
        "for i in range(20):\n",
        "  prediction = model.predict(np.array([xhat]), batch_size=16)\n",
        "  prediction = prediction.reshape(20)\n",
        "  predictions[i] = prediction[19]\n",
        "  xhat=np.vstack([xhat[1:],prediction[19]])\n",
        "  print(predictions)\n",
        "\n",
        "x_list = [] # 미래 30프로 예측 수정중입니다.\n",
        "for i in range(lengh, lengh+20):\n",
        "     x_list.append(np.array(i))\n",
        "df_scaled.plot()\n",
        "plt.plot(x_list, predictions, label='Prediction')\n",
        "plt.legend(loc=0)\n",
        "plt.title('All Results')\n",
        "plt.show()"
      ],
      "execution_count": null,
      "outputs": [
        {
          "output_type": "stream",
          "text": [
            "[0.77106071 0.         0.         0.         0.         0.\n",
            " 0.         0.         0.         0.         0.         0.\n",
            " 0.         0.         0.         0.         0.         0.\n",
            " 0.         0.        ]\n",
            "[0.77106071 0.7866044  0.         0.         0.         0.\n",
            " 0.         0.         0.         0.         0.         0.\n",
            " 0.         0.         0.         0.         0.         0.\n",
            " 0.         0.        ]\n",
            "[0.77106071 0.7866044  0.80035126 0.         0.         0.\n",
            " 0.         0.         0.         0.         0.         0.\n",
            " 0.         0.         0.         0.         0.         0.\n",
            " 0.         0.        ]\n",
            "[0.77106071 0.7866044  0.80035126 0.81180036 0.         0.\n",
            " 0.         0.         0.         0.         0.         0.\n",
            " 0.         0.         0.         0.         0.         0.\n",
            " 0.         0.        ]\n",
            "[0.77106071 0.7866044  0.80035126 0.81180036 0.82166898 0.\n",
            " 0.         0.         0.         0.         0.         0.\n",
            " 0.         0.         0.         0.         0.         0.\n",
            " 0.         0.        ]\n",
            "[0.77106071 0.7866044  0.80035126 0.81180036 0.82166898 0.83073604\n",
            " 0.         0.         0.         0.         0.         0.\n",
            " 0.         0.         0.         0.         0.         0.\n",
            " 0.         0.        ]\n",
            "[0.77106071 0.7866044  0.80035126 0.81180036 0.82166898 0.83073604\n",
            " 0.83989298 0.         0.         0.         0.         0.\n",
            " 0.         0.         0.         0.         0.         0.\n",
            " 0.         0.        ]\n",
            "[0.77106071 0.7866044  0.80035126 0.81180036 0.82166898 0.83073604\n",
            " 0.83989298 0.85189486 0.         0.         0.         0.\n",
            " 0.         0.         0.         0.         0.         0.\n",
            " 0.         0.        ]\n",
            "[0.77106071 0.7866044  0.80035126 0.81180036 0.82166898 0.83073604\n",
            " 0.83989298 0.85189486 0.86405301 0.         0.         0.\n",
            " 0.         0.         0.         0.         0.         0.\n",
            " 0.         0.        ]\n",
            "[0.77106071 0.7866044  0.80035126 0.81180036 0.82166898 0.83073604\n",
            " 0.83989298 0.85189486 0.86405301 0.87379801 0.         0.\n",
            " 0.         0.         0.         0.         0.         0.\n",
            " 0.         0.        ]\n",
            "[0.77106071 0.7866044  0.80035126 0.81180036 0.82166898 0.83073604\n",
            " 0.83989298 0.85189486 0.86405301 0.87379801 0.88208604 0.\n",
            " 0.         0.         0.         0.         0.         0.\n",
            " 0.         0.        ]\n",
            "[0.77106071 0.7866044  0.80035126 0.81180036 0.82166898 0.83073604\n",
            " 0.83989298 0.85189486 0.86405301 0.87379801 0.88208604 0.89318764\n",
            " 0.         0.         0.         0.         0.         0.\n",
            " 0.         0.        ]\n",
            "[0.77106071 0.7866044  0.80035126 0.81180036 0.82166898 0.83073604\n",
            " 0.83989298 0.85189486 0.86405301 0.87379801 0.88208604 0.89318764\n",
            " 0.9047339  0.         0.         0.         0.         0.\n",
            " 0.         0.        ]\n",
            "[0.77106071 0.7866044  0.80035126 0.81180036 0.82166898 0.83073604\n",
            " 0.83989298 0.85189486 0.86405301 0.87379801 0.88208604 0.89318764\n",
            " 0.9047339  0.91228354 0.         0.         0.         0.\n",
            " 0.         0.        ]\n",
            "[0.77106071 0.7866044  0.80035126 0.81180036 0.82166898 0.83073604\n",
            " 0.83989298 0.85189486 0.86405301 0.87379801 0.88208604 0.89318764\n",
            " 0.9047339  0.91228354 0.92024386 0.         0.         0.\n",
            " 0.         0.        ]\n",
            "[0.77106071 0.7866044  0.80035126 0.81180036 0.82166898 0.83073604\n",
            " 0.83989298 0.85189486 0.86405301 0.87379801 0.88208604 0.89318764\n",
            " 0.9047339  0.91228354 0.92024386 0.92986226 0.         0.\n",
            " 0.         0.        ]\n",
            "[0.77106071 0.7866044  0.80035126 0.81180036 0.82166898 0.83073604\n",
            " 0.83989298 0.85189486 0.86405301 0.87379801 0.88208604 0.89318764\n",
            " 0.9047339  0.91228354 0.92024386 0.92986226 0.93742836 0.\n",
            " 0.         0.        ]\n",
            "[0.77106071 0.7866044  0.80035126 0.81180036 0.82166898 0.83073604\n",
            " 0.83989298 0.85189486 0.86405301 0.87379801 0.88208604 0.89318764\n",
            " 0.9047339  0.91228354 0.92024386 0.92986226 0.93742836 0.94374609\n",
            " 0.         0.        ]\n",
            "[0.77106071 0.7866044  0.80035126 0.81180036 0.82166898 0.83073604\n",
            " 0.83989298 0.85189486 0.86405301 0.87379801 0.88208604 0.89318764\n",
            " 0.9047339  0.91228354 0.92024386 0.92986226 0.93742836 0.94374609\n",
            " 0.95187044 0.        ]\n",
            "[0.77106071 0.7866044  0.80035126 0.81180036 0.82166898 0.83073604\n",
            " 0.83989298 0.85189486 0.86405301 0.87379801 0.88208604 0.89318764\n",
            " 0.9047339  0.91228354 0.92024386 0.92986226 0.93742836 0.94374609\n",
            " 0.95187044 0.96149993]\n"
          ],
          "name": "stdout"
        },
        {
          "output_type": "display_data",
          "data": {
            "image/png": "[encoded data removed]",
            "text/plain": [
              "<Figure size 432x288 with 1 Axes>"
            ]
          },
          "metadata": {
            "tags": [],
            "needs_background": "light"
          }
        }
      ]
    },
    {
      "cell_type": "code",
      "metadata": {
        "colab": {
          "base_uri": "https://localhost:8080/",
          "height": 1000
        },
        "id": "y92HW0ZQC_L_",
        "outputId": "f7a031a5-d7fb-40d5-ca50-e1d9a1bdb2db"
      },
      "source": [
        "test_df = pd.read_csv('/content/drive/MyDrive/m2_s2_bank_0765f177a52e5543a9e0a8bfc045cf6a__site_40ab7c891c559b478e96f8bb5c682ca0_20.csv', encoding='utf8')\n",
        "\n",
        "test_df = test_df['Resistance']\n",
        "lengh = len(test_df)-20\n",
        "test = test_df.loc[:lengh,]\n",
        "scale_cols = ['Resistance']\n",
        "\n",
        "scaler = MinMaxScaler()\n",
        "test_df = pd.DataFrame(test_df)\n",
        "test_df.columns = scale_cols\n",
        "df_scaled_test = scaler.fit_transform(test_df[scale_cols])\n",
        "\n",
        "df_scaled = pd.DataFrame(df_scaled_test)\n",
        "df_scaled_test = df_scaled.loc[:lengh,]\n",
        "# df_scaled_test = df_scaled\n",
        "df_scaled_test.columns = scale_cols\n",
        "\n",
        "test_sc_df = pd.DataFrame(df_scaled_test, columns=['Resistance'], index=df_scaled_test.index)\n",
        "\n",
        "test_feature = test_sc_df['Resistance']\n",
        "test_label = test_sc_df['Resistance']\n",
        "\n",
        "test_feature, test_label = make_dataset(test_feature, test_label, 20)\n",
        "test_feature = test_feature.reshape(test_feature.shape[0], test_feature.shape[1], 1)\n",
        "test_label = test_label.reshape(test_label.shape[0], 1)\n",
        "\n",
        "all_lengh = len(test_df)\n",
        "xhat = test_feature[len(test_feature)-1]\n",
        "predictions = np.zeros(20)\n",
        "print(xhat)\n",
        "for i in range(20):\n",
        "  prediction = model.predict(np.array([xhat]), batch_size=16)\n",
        "  prediction = prediction.reshape(20)\n",
        "  predictions[i] = prediction[19]\n",
        "  xhat=np.vstack([xhat[1:],prediction[19]])\n",
        "  print(predictions)\n",
        "\n",
        "x_list = [] # 미래 30프로 예측 수정중입니다.\n",
        "for i in range(lengh, lengh+20):\n",
        "     x_list.append(np.array(i))\n",
        "df_scaled.plot()\n",
        "plt.plot(x_list, predictions, label='Prediction')\n",
        "plt.legend(loc=0)\n",
        "plt.title('All Results')\n",
        "plt.show()"
      ],
      "execution_count": null,
      "outputs": [
        {
          "output_type": "stream",
          "text": [
            "[[0.01966874]\n",
            " [0.01863354]\n",
            " [0.01759834]\n",
            " [0.01449275]\n",
            " [0.01759834]\n",
            " [0.01138716]\n",
            " [0.01138716]\n",
            " [0.01138716]\n",
            " [0.00931677]\n",
            " [0.01242236]\n",
            " [0.01138716]\n",
            " [0.01345756]\n",
            " [0.00828157]\n",
            " [0.01552795]\n",
            " [0.01759834]\n",
            " [0.01656315]\n",
            " [0.01449275]\n",
            " [0.01759834]\n",
            " [0.01863354]\n",
            " [0.01552795]]\n",
            "[0.03764913 0.         0.         0.         0.         0.\n",
            " 0.         0.         0.         0.         0.         0.\n",
            " 0.         0.         0.         0.         0.         0.\n",
            " 0.         0.        ]\n",
            "[0.03764913 0.04760586 0.         0.         0.         0.\n",
            " 0.         0.         0.         0.         0.         0.\n",
            " 0.         0.         0.         0.         0.         0.\n",
            " 0.         0.        ]\n",
            "[0.03764913 0.04760586 0.05559067 0.         0.         0.\n",
            " 0.         0.         0.         0.         0.         0.\n",
            " 0.         0.         0.         0.         0.         0.\n",
            " 0.         0.        ]\n",
            "[0.03764913 0.04760586 0.05559067 0.06286611 0.         0.\n",
            " 0.         0.         0.         0.         0.         0.\n",
            " 0.         0.         0.         0.         0.         0.\n",
            " 0.         0.        ]\n",
            "[0.03764913 0.04760586 0.05559067 0.06286611 0.07023573 0.\n",
            " 0.         0.         0.         0.         0.         0.\n",
            " 0.         0.         0.         0.         0.         0.\n",
            " 0.         0.        ]\n",
            "[0.03764913 0.04760586 0.05559067 0.06286611 0.07023573 0.07750698\n",
            " 0.         0.         0.         0.         0.         0.\n",
            " 0.         0.         0.         0.         0.         0.\n",
            " 0.         0.        ]\n",
            "[0.03764913 0.04760586 0.05559067 0.06286611 0.07023573 0.07750698\n",
            " 0.0850267  0.         0.         0.         0.         0.\n",
            " 0.         0.         0.         0.         0.         0.\n",
            " 0.         0.        ]\n",
            "[0.03764913 0.04760586 0.05559067 0.06286611 0.07023573 0.07750698\n",
            " 0.0850267  0.09216397 0.         0.         0.         0.\n",
            " 0.         0.         0.         0.         0.         0.\n",
            " 0.         0.        ]\n",
            "[0.03764913 0.04760586 0.05559067 0.06286611 0.07023573 0.07750698\n",
            " 0.0850267  0.09216397 0.09895711 0.         0.         0.\n",
            " 0.         0.         0.         0.         0.         0.\n",
            " 0.         0.        ]\n",
            "[0.03764913 0.04760586 0.05559067 0.06286611 0.07023573 0.07750698\n",
            " 0.0850267  0.09216397 0.09895711 0.10561296 0.         0.\n",
            " 0.         0.         0.         0.         0.         0.\n",
            " 0.         0.        ]\n",
            "[0.03764913 0.04760586 0.05559067 0.06286611 0.07023573 0.07750698\n",
            " 0.0850267  0.09216397 0.09895711 0.10561296 0.11196122 0.\n",
            " 0.         0.         0.         0.         0.         0.\n",
            " 0.         0.        ]\n",
            "[0.03764913 0.04760586 0.05559067 0.06286611 0.07023573 0.07750698\n",
            " 0.0850267  0.09216397 0.09895711 0.10561296 0.11196122 0.11819494\n",
            " 0.         0.         0.         0.         0.         0.\n",
            " 0.         0.        ]\n",
            "[0.03764913 0.04760586 0.05559067 0.06286611 0.07023573 0.07750698\n",
            " 0.0850267  0.09216397 0.09895711 0.10561296 0.11196122 0.11819494\n",
            " 0.12413333 0.         0.         0.         0.         0.\n",
            " 0.         0.        ]\n",
            "[0.03764913 0.04760586 0.05559067 0.06286611 0.07023573 0.07750698\n",
            " 0.0850267  0.09216397 0.09895711 0.10561296 0.11196122 0.11819494\n",
            " 0.12413333 0.13018572 0.         0.         0.         0.\n",
            " 0.         0.        ]\n",
            "[0.03764913 0.04760586 0.05559067 0.06286611 0.07023573 0.07750698\n",
            " 0.0850267  0.09216397 0.09895711 0.10561296 0.11196122 0.11819494\n",
            " 0.12413333 0.13018572 0.13615029 0.         0.         0.\n",
            " 0.         0.        ]\n",
            "[0.03764913 0.04760586 0.05559067 0.06286611 0.07023573 0.07750698\n",
            " 0.0850267  0.09216397 0.09895711 0.10561296 0.11196122 0.11819494\n",
            " 0.12413333 0.13018572 0.13615029 0.14200039 0.         0.\n",
            " 0.         0.        ]\n",
            "[0.03764913 0.04760586 0.05559067 0.06286611 0.07023573 0.07750698\n",
            " 0.0850267  0.09216397 0.09895711 0.10561296 0.11196122 0.11819494\n",
            " 0.12413333 0.13018572 0.13615029 0.14200039 0.14771865 0.\n",
            " 0.         0.        ]\n",
            "[0.03764913 0.04760586 0.05559067 0.06286611 0.07023573 0.07750698\n",
            " 0.0850267  0.09216397 0.09895711 0.10561296 0.11196122 0.11819494\n",
            " 0.12413333 0.13018572 0.13615029 0.14200039 0.14771865 0.15350969\n",
            " 0.         0.        ]\n",
            "[0.03764913 0.04760586 0.05559067 0.06286611 0.07023573 0.07750698\n",
            " 0.0850267  0.09216397 0.09895711 0.10561296 0.11196122 0.11819494\n",
            " 0.12413333 0.13018572 0.13615029 0.14200039 0.14771865 0.15350969\n",
            " 0.1592501  0.        ]\n",
            "[0.03764913 0.04760586 0.05559067 0.06286611 0.07023573 0.07750698\n",
            " 0.0850267  0.09216397 0.09895711 0.10561296 0.11196122 0.11819494\n",
            " 0.12413333 0.13018572 0.13615029 0.14200039 0.14771865 0.15350969\n",
            " 0.1592501  0.16484091]\n"
          ],
          "name": "stdout"
        },
        {
          "output_type": "display_data",
          "data": {
            "image/png": "[encoded data removed]",
            "text/plain": [
              "<Figure size 432x288 with 1 Axes>"
            ]
          },
          "metadata": {
            "tags": [],
            "needs_background": "light"
          }
        }
      ]
    }
  ]
}