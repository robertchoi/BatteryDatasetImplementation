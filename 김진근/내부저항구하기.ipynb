{
  "nbformat": 4,
  "nbformat_minor": 0,
  "metadata": {
    "colab": {
      "name": "내부저항구하기.ipynb",
      "provenance": [],
      "collapsed_sections": [],
      "authorship_tag": "ABX9TyPQo3iq4ooqM2EJX1IU0P2D",
      "include_colab_link": true
    },
    "kernelspec": {
      "name": "python3",
      "display_name": "Python 3"
    }
  },
  "cells": [
    {
      "cell_type": "markdown",
      "metadata": {
        "id": "view-in-github",
        "colab_type": "text"
      },
      "source": [
        "<a href=\"https://colab.research.google.com/github/robertchoi/BatteryDatasetImplementation/blob/master/%EB%82%B4%EB%B6%80%EC%A0%80%ED%95%AD%EA%B5%AC%ED%95%98%EA%B8%B0.ipynb\" target=\"_parent\"><img src=\"https://colab.research.google.com/assets/colab-badge.svg\" alt=\"Open In Colab\"/></a>"
      ]
    },
    {
      "cell_type": "code",
      "metadata": {
        "id": "E06-P_awGVd8"
      },
      "source": [
        "from keras.models import Sequential\r\n",
        "from keras.layers import Dense\r\n",
        "from keras.callbacks import EarlyStopping, ModelCheckpoint\r\n",
        "from keras.layers import LSTM\r\n",
        "import numpy as np\r\n",
        "import os\r\n",
        "from sklearn.model_selection import train_test_split\r\n",
        "import matplotlib.pyplot as plt\r\n",
        "import pandas as pd"
      ],
      "execution_count": 1,
      "outputs": []
    },
    {
      "cell_type": "code",
      "metadata": {
        "colab": {
          "base_uri": "https://localhost:8080/"
        },
        "id": "ikA-a9I6GqZA",
        "outputId": "a897907b-2292-487b-f8b4-5913f8cbab2a"
      },
      "source": [
        "from google.colab import drive\r\n",
        "drive.mount('/content/drive')"
      ],
      "execution_count": 2,
      "outputs": [
        {
          "output_type": "stream",
          "text": [
            "Mounted at /content/drive\n"
          ],
          "name": "stdout"
        }
      ]
    },
    {
      "cell_type": "code",
      "metadata": {
        "colab": {
          "base_uri": "https://localhost:8080/",
          "height": 399
        },
        "id": "THIZItJqG0xz",
        "outputId": "5844c9c5-4290-4a10-b735-3a8d4972653a"
      },
      "source": [
        "df = pd.read_csv('/content/drive/MyDrive/M0000_0009_0019_20170109075822_cell50.csv', encoding='utf8')\r\n",
        "df"
      ],
      "execution_count": 71,
      "outputs": [
        {
          "output_type": "execute_result",
          "data": {
            "text/html": [
              "<div>\n",
              "<style scoped>\n",
              "    .dataframe tbody tr th:only-of-type {\n",
              "        vertical-align: middle;\n",
              "    }\n",
              "\n",
              "    .dataframe tbody tr th {\n",
              "        vertical-align: top;\n",
              "    }\n",
              "\n",
              "    .dataframe thead th {\n",
              "        text-align: right;\n",
              "    }\n",
              "</style>\n",
              "<table border=\"1\" class=\"dataframe\">\n",
              "  <thead>\n",
              "    <tr style=\"text-align: right;\">\n",
              "      <th></th>\n",
              "      <th>Volt</th>\n",
              "      <th>Temp</th>\n",
              "      <th>Resistance</th>\n",
              "    </tr>\n",
              "  </thead>\n",
              "  <tbody>\n",
              "    <tr>\n",
              "      <th>0</th>\n",
              "      <td>4.49</td>\n",
              "      <td>-20</td>\n",
              "      <td>0.466</td>\n",
              "    </tr>\n",
              "    <tr>\n",
              "      <th>1</th>\n",
              "      <td>4.49</td>\n",
              "      <td>-20</td>\n",
              "      <td>0.453</td>\n",
              "    </tr>\n",
              "    <tr>\n",
              "      <th>2</th>\n",
              "      <td>4.48</td>\n",
              "      <td>-20</td>\n",
              "      <td>0.458</td>\n",
              "    </tr>\n",
              "    <tr>\n",
              "      <th>3</th>\n",
              "      <td>4.48</td>\n",
              "      <td>-20</td>\n",
              "      <td>0.458</td>\n",
              "    </tr>\n",
              "    <tr>\n",
              "      <th>4</th>\n",
              "      <td>4.47</td>\n",
              "      <td>-20</td>\n",
              "      <td>0.465</td>\n",
              "    </tr>\n",
              "    <tr>\n",
              "      <th>...</th>\n",
              "      <td>...</td>\n",
              "      <td>...</td>\n",
              "      <td>...</td>\n",
              "    </tr>\n",
              "    <tr>\n",
              "      <th>8967</th>\n",
              "      <td>4.47</td>\n",
              "      <td>-20</td>\n",
              "      <td>0.777</td>\n",
              "    </tr>\n",
              "    <tr>\n",
              "      <th>8968</th>\n",
              "      <td>4.45</td>\n",
              "      <td>-20</td>\n",
              "      <td>0.776</td>\n",
              "    </tr>\n",
              "    <tr>\n",
              "      <th>8969</th>\n",
              "      <td>4.46</td>\n",
              "      <td>-20</td>\n",
              "      <td>0.777</td>\n",
              "    </tr>\n",
              "    <tr>\n",
              "      <th>8970</th>\n",
              "      <td>4.46</td>\n",
              "      <td>-20</td>\n",
              "      <td>0.777</td>\n",
              "    </tr>\n",
              "    <tr>\n",
              "      <th>8971</th>\n",
              "      <td>4.46</td>\n",
              "      <td>-20</td>\n",
              "      <td>0.780</td>\n",
              "    </tr>\n",
              "  </tbody>\n",
              "</table>\n",
              "<p>8972 rows × 3 columns</p>\n",
              "</div>"
            ],
            "text/plain": [
              "      Volt  Temp  Resistance\n",
              "0     4.49   -20       0.466\n",
              "1     4.49   -20       0.453\n",
              "2     4.48   -20       0.458\n",
              "3     4.48   -20       0.458\n",
              "4     4.47   -20       0.465\n",
              "...    ...   ...         ...\n",
              "8967  4.47   -20       0.777\n",
              "8968  4.45   -20       0.776\n",
              "8969  4.46   -20       0.777\n",
              "8970  4.46   -20       0.777\n",
              "8971  4.46   -20       0.780\n",
              "\n",
              "[8972 rows x 3 columns]"
            ]
          },
          "metadata": {
            "tags": []
          },
          "execution_count": 71
        }
      ]
    },
    {
      "cell_type": "code",
      "metadata": {
        "colab": {
          "base_uri": "https://localhost:8080/",
          "height": 283
        },
        "id": "aSkLSPC1HJON",
        "outputId": "410d1c8e-2da5-450d-b515-61e86a7e96f7"
      },
      "source": [
        "df['Resistance'].plot()"
      ],
      "execution_count": 39,
      "outputs": [
        {
          "output_type": "execute_result",
          "data": {
            "text/plain": [
              "<matplotlib.axes._subplots.AxesSubplot at 0x7f921feb95d0>"
            ]
          },
          "metadata": {
            "tags": []
          },
          "execution_count": 39
        },
        {
          "output_type": "display_data",
          "data": {
            "image/png": "[encoded data removed]",
            "text/plain": [
              "<Figure size 432x288 with 1 Axes>"
            ]
          },
          "metadata": {
            "tags": [],
            "needs_background": "light"
          }
        }
      ]
    },
    {
      "cell_type": "code",
      "metadata": {
        "colab": {
          "base_uri": "https://localhost:8080/"
        },
        "id": "uWeJOVFHdFYN",
        "outputId": "d5d40646-8006-4cfe-f72f-c1655909182d"
      },
      "source": [
        "from sklearn.preprocessing import MinMaxScaler\r\n",
        "\r\n",
        "scaler = MinMaxScaler()\r\n",
        "scale_cols = ['Volt', 'Temp', 'Resistance']\r\n",
        "df_scaled = scaler.fit_transform(df[scale_cols])\r\n",
        "\r\n",
        "df_scaled = pd.DataFrame(df_scaled)\r\n",
        "df_scaled.columns = scale_cols\r\n",
        "\r\n",
        "print(df_scaled)"
      ],
      "execution_count": 72,
      "outputs": [
        {
          "output_type": "stream",
          "text": [
            "          Volt  Temp  Resistance\n",
            "0     0.937500   0.0    0.136483\n",
            "1     0.937500   0.0    0.102362\n",
            "2     0.916667   0.0    0.115486\n",
            "3     0.916667   0.0    0.115486\n",
            "4     0.895833   0.0    0.133858\n",
            "...        ...   ...         ...\n",
            "8967  0.895833   0.0    0.952756\n",
            "8968  0.854167   0.0    0.950131\n",
            "8969  0.875000   0.0    0.952756\n",
            "8970  0.875000   0.0    0.952756\n",
            "8971  0.875000   0.0    0.960630\n",
            "\n",
            "[8972 rows x 3 columns]\n"
          ],
          "name": "stdout"
        }
      ]
    },
    {
      "cell_type": "code",
      "metadata": {
        "id": "gEkKtUQKkljE"
      },
      "source": [
        "TEST_SIZE= 1794"
      ],
      "execution_count": 73,
      "outputs": []
    },
    {
      "cell_type": "code",
      "metadata": {
        "id": "HESJjVzBdcEE"
      },
      "source": [
        "train = df_scaled[:-TEST_SIZE]\r\n",
        "test = df_scaled[-TEST_SIZE:]"
      ],
      "execution_count": 74,
      "outputs": []
    },
    {
      "cell_type": "code",
      "metadata": {
        "colab": {
          "base_uri": "https://localhost:8080/",
          "height": 399
        },
        "id": "ixNGrMpeII5v",
        "outputId": "7dd77162-5c4d-45d8-bcbb-50d63584f079"
      },
      "source": [
        "train"
      ],
      "execution_count": 75,
      "outputs": [
        {
          "output_type": "execute_result",
          "data": {
            "text/html": [
              "<div>\n",
              "<style scoped>\n",
              "    .dataframe tbody tr th:only-of-type {\n",
              "        vertical-align: middle;\n",
              "    }\n",
              "\n",
              "    .dataframe tbody tr th {\n",
              "        vertical-align: top;\n",
              "    }\n",
              "\n",
              "    .dataframe thead th {\n",
              "        text-align: right;\n",
              "    }\n",
              "</style>\n",
              "<table border=\"1\" class=\"dataframe\">\n",
              "  <thead>\n",
              "    <tr style=\"text-align: right;\">\n",
              "      <th></th>\n",
              "      <th>Volt</th>\n",
              "      <th>Temp</th>\n",
              "      <th>Resistance</th>\n",
              "    </tr>\n",
              "  </thead>\n",
              "  <tbody>\n",
              "    <tr>\n",
              "      <th>0</th>\n",
              "      <td>0.937500</td>\n",
              "      <td>0.0</td>\n",
              "      <td>0.136483</td>\n",
              "    </tr>\n",
              "    <tr>\n",
              "      <th>1</th>\n",
              "      <td>0.937500</td>\n",
              "      <td>0.0</td>\n",
              "      <td>0.102362</td>\n",
              "    </tr>\n",
              "    <tr>\n",
              "      <th>2</th>\n",
              "      <td>0.916667</td>\n",
              "      <td>0.0</td>\n",
              "      <td>0.115486</td>\n",
              "    </tr>\n",
              "    <tr>\n",
              "      <th>3</th>\n",
              "      <td>0.916667</td>\n",
              "      <td>0.0</td>\n",
              "      <td>0.115486</td>\n",
              "    </tr>\n",
              "    <tr>\n",
              "      <th>4</th>\n",
              "      <td>0.895833</td>\n",
              "      <td>0.0</td>\n",
              "      <td>0.133858</td>\n",
              "    </tr>\n",
              "    <tr>\n",
              "      <th>...</th>\n",
              "      <td>...</td>\n",
              "      <td>...</td>\n",
              "      <td>...</td>\n",
              "    </tr>\n",
              "    <tr>\n",
              "      <th>7173</th>\n",
              "      <td>0.854167</td>\n",
              "      <td>0.0</td>\n",
              "      <td>0.900262</td>\n",
              "    </tr>\n",
              "    <tr>\n",
              "      <th>7174</th>\n",
              "      <td>0.854167</td>\n",
              "      <td>0.0</td>\n",
              "      <td>0.905512</td>\n",
              "    </tr>\n",
              "    <tr>\n",
              "      <th>7175</th>\n",
              "      <td>0.854167</td>\n",
              "      <td>0.0</td>\n",
              "      <td>0.900262</td>\n",
              "    </tr>\n",
              "    <tr>\n",
              "      <th>7176</th>\n",
              "      <td>0.854167</td>\n",
              "      <td>0.0</td>\n",
              "      <td>0.900262</td>\n",
              "    </tr>\n",
              "    <tr>\n",
              "      <th>7177</th>\n",
              "      <td>0.854167</td>\n",
              "      <td>0.0</td>\n",
              "      <td>0.905512</td>\n",
              "    </tr>\n",
              "  </tbody>\n",
              "</table>\n",
              "<p>7178 rows × 3 columns</p>\n",
              "</div>"
            ],
            "text/plain": [
              "          Volt  Temp  Resistance\n",
              "0     0.937500   0.0    0.136483\n",
              "1     0.937500   0.0    0.102362\n",
              "2     0.916667   0.0    0.115486\n",
              "3     0.916667   0.0    0.115486\n",
              "4     0.895833   0.0    0.133858\n",
              "...        ...   ...         ...\n",
              "7173  0.854167   0.0    0.900262\n",
              "7174  0.854167   0.0    0.905512\n",
              "7175  0.854167   0.0    0.900262\n",
              "7176  0.854167   0.0    0.900262\n",
              "7177  0.854167   0.0    0.905512\n",
              "\n",
              "[7178 rows x 3 columns]"
            ]
          },
          "metadata": {
            "tags": []
          },
          "execution_count": 75
        }
      ]
    },
    {
      "cell_type": "code",
      "metadata": {
        "id": "vS_s7Y2EIUWt"
      },
      "source": [
        "def make_dataset(data, label, window_size=20):\r\n",
        "    feature_list = []\r\n",
        "    label_list = []\r\n",
        "    for i in range(len(data) - window_size):\r\n",
        "        feature_list.append(np.array(data.iloc[i:i+window_size]))\r\n",
        "        label_list.append(np.array(label.iloc[i+window_size]))\r\n",
        "    return np.array(feature_list), np.array(label_list)"
      ],
      "execution_count": 76,
      "outputs": []
    },
    {
      "cell_type": "code",
      "metadata": {
        "colab": {
          "base_uri": "https://localhost:8080/"
        },
        "id": "SQ1W91emIXp4",
        "outputId": "809224b9-94d0-4ab0-9e0c-6011ec2c7b5b"
      },
      "source": [
        "feature_cols = ['Volt', 'Temp']\r\n",
        "label_cols = ['Resistance']\r\n",
        "\r\n",
        "train_feature = train\r\n",
        "train_label = train[label_cols]\r\n",
        "test_feature = test\r\n",
        "test_label = test[label_cols]\r\n",
        "\r\n",
        "train_feature, train_label = make_dataset(train_feature, train_label, 20)\r\n",
        "from sklearn.model_selection import train_test_split\r\n",
        "x_train, x_valid, y_train, y_valid = train_test_split(train_feature, train_label, test_size=0.2)\r\n",
        "\r\n",
        "\r\n",
        "test_feature, test_label = make_dataset(test_feature, test_label, 20)\r\n",
        "test_feature.shape, test_label.shape"
      ],
      "execution_count": 77,
      "outputs": [
        {
          "output_type": "execute_result",
          "data": {
            "text/plain": [
              "((1774, 20, 3), (1774, 1))"
            ]
          },
          "metadata": {
            "tags": []
          },
          "execution_count": 77
        }
      ]
    },
    {
      "cell_type": "code",
      "metadata": {
        "colab": {
          "base_uri": "https://localhost:8080/"
        },
        "id": "53n9EQjLyNOS",
        "outputId": "1cfb71a5-833e-4485-c426-724f503c615d"
      },
      "source": [
        "train_feature"
      ],
      "execution_count": 78,
      "outputs": [
        {
          "output_type": "execute_result",
          "data": {
            "text/plain": [
              "array([[[0.9375    , 0.        , 0.13648294],\n",
              "        [0.9375    , 0.        , 0.1023622 ],\n",
              "        [0.91666667, 0.        , 0.11548556],\n",
              "        ...,\n",
              "        [0.91666667, 0.        , 0.14698163],\n",
              "        [0.89583333, 0.        , 0.14435696],\n",
              "        [0.91666667, 0.        , 0.13648294]],\n",
              "\n",
              "       [[0.9375    , 0.        , 0.1023622 ],\n",
              "        [0.91666667, 0.        , 0.11548556],\n",
              "        [0.91666667, 0.        , 0.11548556],\n",
              "        ...,\n",
              "        [0.89583333, 0.        , 0.14435696],\n",
              "        [0.91666667, 0.        , 0.13648294],\n",
              "        [0.89583333, 0.        , 0.12860892]],\n",
              "\n",
              "       [[0.91666667, 0.        , 0.11548556],\n",
              "        [0.91666667, 0.        , 0.11548556],\n",
              "        [0.89583333, 0.        , 0.13385827],\n",
              "        ...,\n",
              "        [0.91666667, 0.        , 0.13648294],\n",
              "        [0.89583333, 0.        , 0.12860892],\n",
              "        [0.9375    , 0.        , 0.12860892]],\n",
              "\n",
              "       ...,\n",
              "\n",
              "       [[0.875     , 0.        , 0.91338583],\n",
              "        [0.875     , 0.        , 0.91076115],\n",
              "        [0.85416667, 0.        , 0.90551181],\n",
              "        ...,\n",
              "        [0.875     , 0.        , 0.8976378 ],\n",
              "        [0.85416667, 0.        , 0.90026247],\n",
              "        [0.85416667, 0.        , 0.90551181]],\n",
              "\n",
              "       [[0.875     , 0.        , 0.91076115],\n",
              "        [0.85416667, 0.        , 0.90551181],\n",
              "        [0.875     , 0.        , 0.90288714],\n",
              "        ...,\n",
              "        [0.85416667, 0.        , 0.90026247],\n",
              "        [0.85416667, 0.        , 0.90551181],\n",
              "        [0.85416667, 0.        , 0.90026247]],\n",
              "\n",
              "       [[0.85416667, 0.        , 0.90551181],\n",
              "        [0.875     , 0.        , 0.90288714],\n",
              "        [0.875     , 0.        , 0.90026247],\n",
              "        ...,\n",
              "        [0.85416667, 0.        , 0.90551181],\n",
              "        [0.85416667, 0.        , 0.90026247],\n",
              "        [0.85416667, 0.        , 0.90026247]]])"
            ]
          },
          "metadata": {
            "tags": []
          },
          "execution_count": 78
        }
      ]
    },
    {
      "cell_type": "code",
      "metadata": {
        "id": "PazCEYxNIwfW"
      },
      "source": [
        "from keras.models import Sequential\r\n",
        "from keras.layers import Dense\r\n",
        "from keras.callbacks import EarlyStopping, ModelCheckpoint\r\n",
        "from keras.layers import LSTM\r\n",
        "\r\n",
        "model = Sequential()\r\n",
        "model.add(LSTM(16, \r\n",
        "               input_shape=(train_feature.shape[1], train_feature.shape[2]), \r\n",
        "               activation='relu', \r\n",
        "               return_sequences=False)\r\n",
        "          )\r\n",
        "model.add(Dense(1))"
      ],
      "execution_count": 80,
      "outputs": []
    },
    {
      "cell_type": "code",
      "metadata": {
        "colab": {
          "base_uri": "https://localhost:8080/"
        },
        "id": "_unJSBooKYdq",
        "outputId": "af69de3b-7f76-400f-f12e-38af56d8a628"
      },
      "source": [
        "model.compile(loss='mean_squared_error', optimizer='adam')\r\n",
        "early_stop = EarlyStopping(monitor='val_loss', patience=5)\r\n",
        "filename = os.path.join('C:/Users/wlsrm/data', 'tmp_checkpoint.h5')\r\n",
        "checkpoint = ModelCheckpoint(filename, monitor='val_loss', verbose=1, save_best_only=True, mode='auto')\r\n",
        "\r\n",
        "history = model.fit(x_train, y_train, \r\n",
        "                    epochs=200, \r\n",
        "                    batch_size=16,\r\n",
        "                    validation_data=(x_valid, y_valid), \r\n",
        "                    callbacks=[early_stop, checkpoint])"
      ],
      "execution_count": 82,
      "outputs": [
        {
          "output_type": "stream",
          "text": [
            "Epoch 1/200\n",
            "358/358 [==============================] - 4s 8ms/step - loss: 0.1057 - val_loss: 2.6268e-04\n",
            "\n",
            "Epoch 00001: val_loss improved from inf to 0.00026, saving model to C:/Users/wlsrm/data/tmp_checkpoint.h5\n",
            "Epoch 2/200\n",
            "358/358 [==============================] - 3s 8ms/step - loss: 3.2081e-04 - val_loss: 1.6631e-04\n",
            "\n",
            "Epoch 00002: val_loss improved from 0.00026 to 0.00017, saving model to C:/Users/wlsrm/data/tmp_checkpoint.h5\n",
            "Epoch 3/200\n",
            "358/358 [==============================] - 3s 8ms/step - loss: 5.2463e-04 - val_loss: 1.1387e-04\n",
            "\n",
            "Epoch 00003: val_loss improved from 0.00017 to 0.00011, saving model to C:/Users/wlsrm/data/tmp_checkpoint.h5\n",
            "Epoch 4/200\n",
            "358/358 [==============================] - 3s 8ms/step - loss: 3.8010e-04 - val_loss: 8.9071e-05\n",
            "\n",
            "Epoch 00004: val_loss improved from 0.00011 to 0.00009, saving model to C:/Users/wlsrm/data/tmp_checkpoint.h5\n",
            "Epoch 5/200\n",
            "358/358 [==============================] - 3s 8ms/step - loss: 2.2369e-04 - val_loss: 8.9491e-05\n",
            "\n",
            "Epoch 00005: val_loss did not improve from 0.00009\n",
            "Epoch 6/200\n",
            "358/358 [==============================] - 3s 8ms/step - loss: 1.8007e-04 - val_loss: 1.0541e-04\n",
            "\n",
            "Epoch 00006: val_loss did not improve from 0.00009\n",
            "Epoch 7/200\n",
            "358/358 [==============================] - 3s 8ms/step - loss: 3.1297e-04 - val_loss: 6.0567e-05\n",
            "\n",
            "Epoch 00007: val_loss improved from 0.00009 to 0.00006, saving model to C:/Users/wlsrm/data/tmp_checkpoint.h5\n",
            "Epoch 8/200\n",
            "358/358 [==============================] - 3s 8ms/step - loss: 3.1103e-04 - val_loss: 5.1206e-05\n",
            "\n",
            "Epoch 00008: val_loss improved from 0.00006 to 0.00005, saving model to C:/Users/wlsrm/data/tmp_checkpoint.h5\n",
            "Epoch 9/200\n",
            "358/358 [==============================] - 3s 8ms/step - loss: 2.0420e-04 - val_loss: 8.0536e-05\n",
            "\n",
            "Epoch 00009: val_loss did not improve from 0.00005\n",
            "Epoch 10/200\n",
            "358/358 [==============================] - 3s 8ms/step - loss: 3.1827e-04 - val_loss: 3.7799e-05\n",
            "\n",
            "Epoch 00010: val_loss improved from 0.00005 to 0.00004, saving model to C:/Users/wlsrm/data/tmp_checkpoint.h5\n",
            "Epoch 11/200\n",
            "358/358 [==============================] - 3s 8ms/step - loss: 8.7414e-05 - val_loss: 1.7170e-04\n",
            "\n",
            "Epoch 00011: val_loss did not improve from 0.00004\n",
            "Epoch 12/200\n",
            "358/358 [==============================] - 3s 8ms/step - loss: 1.4351e-04 - val_loss: 1.3078e-04\n",
            "\n",
            "Epoch 00012: val_loss did not improve from 0.00004\n",
            "Epoch 13/200\n",
            "358/358 [==============================] - 3s 8ms/step - loss: 1.6004e-04 - val_loss: 1.2232e-04\n",
            "\n",
            "Epoch 00013: val_loss did not improve from 0.00004\n",
            "Epoch 14/200\n",
            "358/358 [==============================] - 3s 8ms/step - loss: 4.2728e-04 - val_loss: 4.0151e-05\n",
            "\n",
            "Epoch 00014: val_loss did not improve from 0.00004\n",
            "Epoch 15/200\n",
            "358/358 [==============================] - 3s 8ms/step - loss: 8.7264e-05 - val_loss: 1.6934e-04\n",
            "\n",
            "Epoch 00015: val_loss did not improve from 0.00004\n"
          ],
          "name": "stdout"
        }
      ]
    },
    {
      "cell_type": "code",
      "metadata": {
        "id": "WvZL-Zu6KeCU"
      },
      "source": [
        "# model.load_weights(filename)\r\n",
        "\r\n",
        "pred = model.predict(test_feature)"
      ],
      "execution_count": 83,
      "outputs": []
    },
    {
      "cell_type": "code",
      "metadata": {
        "colab": {
          "base_uri": "https://localhost:8080/"
        },
        "id": "pdFu8qqm-HRO",
        "outputId": "64dc8e69-49ec-4a52-ae9f-27b1bdc93030"
      },
      "source": [
        "test_feature.shape"
      ],
      "execution_count": 87,
      "outputs": [
        {
          "output_type": "execute_result",
          "data": {
            "text/plain": [
              "(1774, 20, 3)"
            ]
          },
          "metadata": {
            "tags": []
          },
          "execution_count": 87
        }
      ]
    },
    {
      "cell_type": "code",
      "metadata": {
        "colab": {
          "base_uri": "https://localhost:8080/"
        },
        "id": "cEww9xmcLMYQ",
        "outputId": "e4a1fac6-69c2-4a09-dee5-62f23ffe34a3"
      },
      "source": [
        "pred"
      ],
      "execution_count": 84,
      "outputs": [
        {
          "output_type": "execute_result",
          "data": {
            "text/plain": [
              "array([[0.89988655],\n",
              "       [0.90057576],\n",
              "       [0.89905113],\n",
              "       ...,\n",
              "       [0.9319826 ],\n",
              "       [0.93309855],\n",
              "       [0.933354  ]], dtype=float32)"
            ]
          },
          "metadata": {
            "tags": []
          },
          "execution_count": 84
        }
      ]
    },
    {
      "cell_type": "code",
      "metadata": {
        "colab": {
          "base_uri": "https://localhost:8080/",
          "height": 537
        },
        "id": "2zuB8DbbLNw1",
        "outputId": "25a42ef2-0363-4dbf-be6d-e1fc3445913e"
      },
      "source": [
        "plt.figure(figsize=(12, 9))\r\n",
        "plt.plot(test_label, label='actual')\r\n",
        "plt.plot(pred, label='prediction')\r\n",
        "plt.legend()\r\n",
        "plt.show()"
      ],
      "execution_count": 85,
      "outputs": [
        {
          "output_type": "display_data",
          "data": {
            "image/png": "[encoded data removed]",
            "text/plain": [
              "<Figure size 864x648 with 1 Axes>"
            ]
          },
          "metadata": {
            "tags": [],
            "needs_background": "light"
          }
        }
      ]
    }
  ]
}
