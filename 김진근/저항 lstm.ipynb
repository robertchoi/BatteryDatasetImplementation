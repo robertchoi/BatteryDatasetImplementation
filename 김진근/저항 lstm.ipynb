{
  "nbformat": 4,
  "nbformat_minor": 0,
  "metadata": {
    "colab": {
      "name": "LSTM내부저항구하기.ipynb의 사본",
      "provenance": [],
      "collapsed_sections": [],
      "authorship_tag": "ABX9TyOSwTz8lI3Xp6LRhaTr/oGL",
      "include_colab_link": true
    },
    "kernelspec": {
      "name": "python3",
      "display_name": "Python 3"
    },
    "accelerator": "GPU"
  },
  "cells": [
    {
      "cell_type": "markdown",
      "metadata": {
        "id": "view-in-github",
        "colab_type": "text"
      },
      "source": [
        "<a href=\"https://colab.research.google.com/github/robertchoi/BatteryDatasetImplementation/blob/master/LSTM%EB%82%B4%EB%B6%80%EC%A0%80%ED%95%AD%EA%B5%AC%ED%95%98%EA%B8%B0_ipynb%EC%9D%98_%EC%82%AC%EB%B3%B8.ipynb\" target=\"_parent\"><img src=\"https://colab.research.google.com/assets/colab-badge.svg\" alt=\"Open In Colab\"/></a>"
      ]
    },
    {
      "cell_type": "code",
      "metadata": {
        "id": "E06-P_awGVd8"
      },
      "source": [
        "from keras.models import Sequential\n",
        "from keras.layers import Dense\n",
        "from keras.callbacks import EarlyStopping, ModelCheckpoint\n",
        "from keras.layers import LSTM, SimpleRNN, Dropout\n",
        "from keras import optimizers\n",
        "import numpy as np\n",
        "import os\n",
        "from sklearn.model_selection import train_test_split\n",
        "import matplotlib.pyplot as plt\n",
        "import pandas as pd"
      ],
      "execution_count": 407,
      "outputs": []
    },
    {
      "cell_type": "code",
      "metadata": {
        "colab": {
          "base_uri": "https://localhost:8080/"
        },
        "id": "ikA-a9I6GqZA",
        "outputId": "72ba43d6-9ec8-4bb2-db51-506c50b770c7"
      },
      "source": [
        "from google.colab import drive\n",
        "drive.mount('/content/drive')"
      ],
      "execution_count": 408,
      "outputs": [
        {
          "output_type": "stream",
          "text": [
            "Drive already mounted at /content/drive; to attempt to forcibly remount, call drive.mount(\"/content/drive\", force_remount=True).\n"
          ],
          "name": "stdout"
        }
      ]
    },
    {
      "cell_type": "code",
      "metadata": {
        "colab": {
          "base_uri": "https://localhost:8080/",
          "height": 399
        },
        "id": "THIZItJqG0xz",
        "outputId": "167a60f6-a00d-4d26-e331-00c557927596"
      },
      "source": [
        "df = pd.read_csv('/content/drive/MyDrive/J0003_0024_0222_20110307012737_cell_7.csv', encoding='utf8')\n",
        "df"
      ],
      "execution_count": 409,
      "outputs": [
        {
          "output_type": "execute_result",
          "data": {
            "text/html": [
              "<div>\n",
              "<style scoped>\n",
              "    .dataframe tbody tr th:only-of-type {\n",
              "        vertical-align: middle;\n",
              "    }\n",
              "\n",
              "    .dataframe tbody tr th {\n",
              "        vertical-align: top;\n",
              "    }\n",
              "\n",
              "    .dataframe thead th {\n",
              "        text-align: right;\n",
              "    }\n",
              "</style>\n",
              "<table border=\"1\" class=\"dataframe\">\n",
              "  <thead>\n",
              "    <tr style=\"text-align: right;\">\n",
              "      <th></th>\n",
              "      <th>MeasuredDate</th>\n",
              "      <th>CellNo</th>\n",
              "      <th>Resistance</th>\n",
              "      <th>Volt</th>\n",
              "      <th>Temp</th>\n",
              "    </tr>\n",
              "  </thead>\n",
              "  <tbody>\n",
              "    <tr>\n",
              "      <th>0</th>\n",
              "      <td>2011.3.7 6:27</td>\n",
              "      <td>7</td>\n",
              "      <td>0.296</td>\n",
              "      <td>2.25</td>\n",
              "      <td>-20</td>\n",
              "    </tr>\n",
              "    <tr>\n",
              "      <th>1</th>\n",
              "      <td>2011.3.7 18:29</td>\n",
              "      <td>7</td>\n",
              "      <td>0.297</td>\n",
              "      <td>2.25</td>\n",
              "      <td>-20</td>\n",
              "    </tr>\n",
              "    <tr>\n",
              "      <th>2</th>\n",
              "      <td>2011.3.8 6:29</td>\n",
              "      <td>7</td>\n",
              "      <td>0.298</td>\n",
              "      <td>2.25</td>\n",
              "      <td>-20</td>\n",
              "    </tr>\n",
              "    <tr>\n",
              "      <th>3</th>\n",
              "      <td>2011.3.8 18:29</td>\n",
              "      <td>7</td>\n",
              "      <td>0.298</td>\n",
              "      <td>2.25</td>\n",
              "      <td>-20</td>\n",
              "    </tr>\n",
              "    <tr>\n",
              "      <th>4</th>\n",
              "      <td>2011.3.9 6:29</td>\n",
              "      <td>7</td>\n",
              "      <td>0.296</td>\n",
              "      <td>2.25</td>\n",
              "      <td>-20</td>\n",
              "    </tr>\n",
              "    <tr>\n",
              "      <th>...</th>\n",
              "      <td>...</td>\n",
              "      <td>...</td>\n",
              "      <td>...</td>\n",
              "      <td>...</td>\n",
              "      <td>...</td>\n",
              "    </tr>\n",
              "    <tr>\n",
              "      <th>250</th>\n",
              "      <td>2011.8.30 5:28</td>\n",
              "      <td>7</td>\n",
              "      <td>0.619</td>\n",
              "      <td>2.29</td>\n",
              "      <td>-20</td>\n",
              "    </tr>\n",
              "    <tr>\n",
              "      <th>251</th>\n",
              "      <td>2011.8.30 17:28</td>\n",
              "      <td>7</td>\n",
              "      <td>0.620</td>\n",
              "      <td>2.30</td>\n",
              "      <td>-20</td>\n",
              "    </tr>\n",
              "    <tr>\n",
              "      <th>252</th>\n",
              "      <td>2011.8.31 5:28</td>\n",
              "      <td>7</td>\n",
              "      <td>0.623</td>\n",
              "      <td>2.30</td>\n",
              "      <td>-20</td>\n",
              "    </tr>\n",
              "    <tr>\n",
              "      <th>253</th>\n",
              "      <td>2011.8.31 16:09</td>\n",
              "      <td>7</td>\n",
              "      <td>0.639</td>\n",
              "      <td>2.30</td>\n",
              "      <td>-20</td>\n",
              "    </tr>\n",
              "    <tr>\n",
              "      <th>254</th>\n",
              "      <td>2011.8.31 16:12</td>\n",
              "      <td>7</td>\n",
              "      <td>0.634</td>\n",
              "      <td>2.30</td>\n",
              "      <td>-20</td>\n",
              "    </tr>\n",
              "  </tbody>\n",
              "</table>\n",
              "<p>255 rows × 5 columns</p>\n",
              "</div>"
            ],
            "text/plain": [
              "        MeasuredDate  CellNo  Resistance  Volt  Temp\n",
              "0      2011.3.7 6:27       7       0.296  2.25   -20\n",
              "1     2011.3.7 18:29       7       0.297  2.25   -20\n",
              "2      2011.3.8 6:29       7       0.298  2.25   -20\n",
              "3     2011.3.8 18:29       7       0.298  2.25   -20\n",
              "4      2011.3.9 6:29       7       0.296  2.25   -20\n",
              "..               ...     ...         ...   ...   ...\n",
              "250   2011.8.30 5:28       7       0.619  2.29   -20\n",
              "251  2011.8.30 17:28       7       0.620  2.30   -20\n",
              "252   2011.8.31 5:28       7       0.623  2.30   -20\n",
              "253  2011.8.31 16:09       7       0.639  2.30   -20\n",
              "254  2011.8.31 16:12       7       0.634  2.30   -20\n",
              "\n",
              "[255 rows x 5 columns]"
            ]
          },
          "metadata": {
            "tags": []
          },
          "execution_count": 409
        }
      ]
    },
    {
      "cell_type": "code",
      "metadata": {
        "id": "2Ovg4jou2aEB"
      },
      "source": [
        "train = df.drop(['CellNo', 'MeasuredDate'], axis=1)"
      ],
      "execution_count": 410,
      "outputs": []
    },
    {
      "cell_type": "code",
      "metadata": {
        "colab": {
          "base_uri": "https://localhost:8080/",
          "height": 284
        },
        "id": "aSkLSPC1HJON",
        "outputId": "6ef916ca-4112-4e91-add0-ade791284735"
      },
      "source": [
        "df['Resistance'].plot()"
      ],
      "execution_count": 411,
      "outputs": [
        {
          "output_type": "execute_result",
          "data": {
            "text/plain": [
              "<matplotlib.axes._subplots.AxesSubplot at 0x7fb23037ce90>"
            ]
          },
          "metadata": {
            "tags": []
          },
          "execution_count": 411
        },
        {
          "output_type": "display_data",
          "data": {
            "image/png": "[encoded data removed]",
            "text/plain": [
              "<Figure size 432x288 with 1 Axes>"
            ]
          },
          "metadata": {
            "tags": [],
            "needs_background": "light"
          }
        }
      ]
    },
    {
      "cell_type": "code",
      "metadata": {
        "colab": {
          "base_uri": "https://localhost:8080/",
          "height": 399
        },
        "id": "NJm5TJDDwQhY",
        "outputId": "c56d16da-9974-49a7-a6aa-384ddf4065dd"
      },
      "source": [
        "train"
      ],
      "execution_count": 412,
      "outputs": [
        {
          "output_type": "execute_result",
          "data": {
            "text/html": [
              "<div>\n",
              "<style scoped>\n",
              "    .dataframe tbody tr th:only-of-type {\n",
              "        vertical-align: middle;\n",
              "    }\n",
              "\n",
              "    .dataframe tbody tr th {\n",
              "        vertical-align: top;\n",
              "    }\n",
              "\n",
              "    .dataframe thead th {\n",
              "        text-align: right;\n",
              "    }\n",
              "</style>\n",
              "<table border=\"1\" class=\"dataframe\">\n",
              "  <thead>\n",
              "    <tr style=\"text-align: right;\">\n",
              "      <th></th>\n",
              "      <th>Resistance</th>\n",
              "      <th>Volt</th>\n",
              "      <th>Temp</th>\n",
              "    </tr>\n",
              "  </thead>\n",
              "  <tbody>\n",
              "    <tr>\n",
              "      <th>0</th>\n",
              "      <td>0.296</td>\n",
              "      <td>2.25</td>\n",
              "      <td>-20</td>\n",
              "    </tr>\n",
              "    <tr>\n",
              "      <th>1</th>\n",
              "      <td>0.297</td>\n",
              "      <td>2.25</td>\n",
              "      <td>-20</td>\n",
              "    </tr>\n",
              "    <tr>\n",
              "      <th>2</th>\n",
              "      <td>0.298</td>\n",
              "      <td>2.25</td>\n",
              "      <td>-20</td>\n",
              "    </tr>\n",
              "    <tr>\n",
              "      <th>3</th>\n",
              "      <td>0.298</td>\n",
              "      <td>2.25</td>\n",
              "      <td>-20</td>\n",
              "    </tr>\n",
              "    <tr>\n",
              "      <th>4</th>\n",
              "      <td>0.296</td>\n",
              "      <td>2.25</td>\n",
              "      <td>-20</td>\n",
              "    </tr>\n",
              "    <tr>\n",
              "      <th>...</th>\n",
              "      <td>...</td>\n",
              "      <td>...</td>\n",
              "      <td>...</td>\n",
              "    </tr>\n",
              "    <tr>\n",
              "      <th>250</th>\n",
              "      <td>0.619</td>\n",
              "      <td>2.29</td>\n",
              "      <td>-20</td>\n",
              "    </tr>\n",
              "    <tr>\n",
              "      <th>251</th>\n",
              "      <td>0.620</td>\n",
              "      <td>2.30</td>\n",
              "      <td>-20</td>\n",
              "    </tr>\n",
              "    <tr>\n",
              "      <th>252</th>\n",
              "      <td>0.623</td>\n",
              "      <td>2.30</td>\n",
              "      <td>-20</td>\n",
              "    </tr>\n",
              "    <tr>\n",
              "      <th>253</th>\n",
              "      <td>0.639</td>\n",
              "      <td>2.30</td>\n",
              "      <td>-20</td>\n",
              "    </tr>\n",
              "    <tr>\n",
              "      <th>254</th>\n",
              "      <td>0.634</td>\n",
              "      <td>2.30</td>\n",
              "      <td>-20</td>\n",
              "    </tr>\n",
              "  </tbody>\n",
              "</table>\n",
              "<p>255 rows × 3 columns</p>\n",
              "</div>"
            ],
            "text/plain": [
              "     Resistance  Volt  Temp\n",
              "0         0.296  2.25   -20\n",
              "1         0.297  2.25   -20\n",
              "2         0.298  2.25   -20\n",
              "3         0.298  2.25   -20\n",
              "4         0.296  2.25   -20\n",
              "..          ...   ...   ...\n",
              "250       0.619  2.29   -20\n",
              "251       0.620  2.30   -20\n",
              "252       0.623  2.30   -20\n",
              "253       0.639  2.30   -20\n",
              "254       0.634  2.30   -20\n",
              "\n",
              "[255 rows x 3 columns]"
            ]
          },
          "metadata": {
            "tags": []
          },
          "execution_count": 412
        }
      ]
    },
    {
      "cell_type": "code",
      "metadata": {
        "id": "uWeJOVFHdFYN"
      },
      "source": [
        "from sklearn.preprocessing import MinMaxScaler\n",
        "from sklearn.preprocessing import StandardScaler\n",
        "scaler = MinMaxScaler()\n",
        "# scale_cols = ['Volt', 'Temp', 'Resistance']\n",
        "# df_scaled = scaler.fit_transform(df[scale_cols])\n",
        "\n",
        "# df_scaled = pd.DataFrame(df_scaled)\n",
        "# df_scaled.columns = scale_cols\n",
        "\n",
        "# print(df_scaled)\n",
        "# scaler = StandardScaler()\n",
        "# scale_cols = ['Volt', 'Temp', 'Resistance']\n",
        "# df_scaled = scaler.fit_transform(df[scale_cols])\n",
        "\n",
        "# df_scaled = pd.DataFrame(df_scaled)\n",
        "# df_scaled.columns = scale_cols\n",
        "\n",
        "# print(df_scaled)"
      ],
      "execution_count": 413,
      "outputs": []
    },
    {
      "cell_type": "markdown",
      "metadata": {
        "id": "IiRf30Kr8T1A"
      },
      "source": [
        "train\n"
      ]
    },
    {
      "cell_type": "code",
      "metadata": {
        "colab": {
          "base_uri": "https://localhost:8080/",
          "height": 399
        },
        "id": "0BJr7Hsr8V59",
        "outputId": "6eee3808-5178-4316-bc84-49be5c3647ff"
      },
      "source": [
        "test_df = pd.read_csv('/content/drive/MyDrive/J0003_0024_0221_20110307012732_cell_22.csv', encoding='utf8')\n",
        "test_df"
      ],
      "execution_count": 414,
      "outputs": [
        {
          "output_type": "execute_result",
          "data": {
            "text/html": [
              "<div>\n",
              "<style scoped>\n",
              "    .dataframe tbody tr th:only-of-type {\n",
              "        vertical-align: middle;\n",
              "    }\n",
              "\n",
              "    .dataframe tbody tr th {\n",
              "        vertical-align: top;\n",
              "    }\n",
              "\n",
              "    .dataframe thead th {\n",
              "        text-align: right;\n",
              "    }\n",
              "</style>\n",
              "<table border=\"1\" class=\"dataframe\">\n",
              "  <thead>\n",
              "    <tr style=\"text-align: right;\">\n",
              "      <th></th>\n",
              "      <th>MeasuredDate</th>\n",
              "      <th>CellNo</th>\n",
              "      <th>Resistance</th>\n",
              "      <th>Volt</th>\n",
              "      <th>Temp</th>\n",
              "    </tr>\n",
              "  </thead>\n",
              "  <tbody>\n",
              "    <tr>\n",
              "      <th>0</th>\n",
              "      <td>2011.3.7 6:27</td>\n",
              "      <td>22</td>\n",
              "      <td>0.253</td>\n",
              "      <td>2.23</td>\n",
              "      <td>-20</td>\n",
              "    </tr>\n",
              "    <tr>\n",
              "      <th>1</th>\n",
              "      <td>2011.3.7 18:29</td>\n",
              "      <td>22</td>\n",
              "      <td>0.252</td>\n",
              "      <td>2.23</td>\n",
              "      <td>-20</td>\n",
              "    </tr>\n",
              "    <tr>\n",
              "      <th>2</th>\n",
              "      <td>2011.3.8 6:29</td>\n",
              "      <td>22</td>\n",
              "      <td>0.253</td>\n",
              "      <td>2.23</td>\n",
              "      <td>-20</td>\n",
              "    </tr>\n",
              "    <tr>\n",
              "      <th>3</th>\n",
              "      <td>2011.3.8 18:29</td>\n",
              "      <td>22</td>\n",
              "      <td>0.253</td>\n",
              "      <td>2.23</td>\n",
              "      <td>-20</td>\n",
              "    </tr>\n",
              "    <tr>\n",
              "      <th>4</th>\n",
              "      <td>2011.3.9 6:29</td>\n",
              "      <td>22</td>\n",
              "      <td>0.252</td>\n",
              "      <td>2.23</td>\n",
              "      <td>-20</td>\n",
              "    </tr>\n",
              "    <tr>\n",
              "      <th>...</th>\n",
              "      <td>...</td>\n",
              "      <td>...</td>\n",
              "      <td>...</td>\n",
              "      <td>...</td>\n",
              "      <td>...</td>\n",
              "    </tr>\n",
              "    <tr>\n",
              "      <th>246</th>\n",
              "      <td>2011.8.29 17:28</td>\n",
              "      <td>22</td>\n",
              "      <td>0.275</td>\n",
              "      <td>2.22</td>\n",
              "      <td>-20</td>\n",
              "    </tr>\n",
              "    <tr>\n",
              "      <th>247</th>\n",
              "      <td>2011.8.30 5:28</td>\n",
              "      <td>22</td>\n",
              "      <td>0.277</td>\n",
              "      <td>2.22</td>\n",
              "      <td>-20</td>\n",
              "    </tr>\n",
              "    <tr>\n",
              "      <th>248</th>\n",
              "      <td>2011.8.30 17:28</td>\n",
              "      <td>22</td>\n",
              "      <td>0.276</td>\n",
              "      <td>2.22</td>\n",
              "      <td>-20</td>\n",
              "    </tr>\n",
              "    <tr>\n",
              "      <th>249</th>\n",
              "      <td>2011.8.31 5:28</td>\n",
              "      <td>22</td>\n",
              "      <td>0.276</td>\n",
              "      <td>2.22</td>\n",
              "      <td>-20</td>\n",
              "    </tr>\n",
              "    <tr>\n",
              "      <th>250</th>\n",
              "      <td>2011.8.31 16:12</td>\n",
              "      <td>22</td>\n",
              "      <td>0.275</td>\n",
              "      <td>2.22</td>\n",
              "      <td>-20</td>\n",
              "    </tr>\n",
              "  </tbody>\n",
              "</table>\n",
              "<p>251 rows × 5 columns</p>\n",
              "</div>"
            ],
            "text/plain": [
              "        MeasuredDate  CellNo  Resistance  Volt  Temp\n",
              "0      2011.3.7 6:27      22       0.253  2.23   -20\n",
              "1     2011.3.7 18:29      22       0.252  2.23   -20\n",
              "2      2011.3.8 6:29      22       0.253  2.23   -20\n",
              "3     2011.3.8 18:29      22       0.253  2.23   -20\n",
              "4      2011.3.9 6:29      22       0.252  2.23   -20\n",
              "..               ...     ...         ...   ...   ...\n",
              "246  2011.8.29 17:28      22       0.275  2.22   -20\n",
              "247   2011.8.30 5:28      22       0.277  2.22   -20\n",
              "248  2011.8.30 17:28      22       0.276  2.22   -20\n",
              "249   2011.8.31 5:28      22       0.276  2.22   -20\n",
              "250  2011.8.31 16:12      22       0.275  2.22   -20\n",
              "\n",
              "[251 rows x 5 columns]"
            ]
          },
          "metadata": {
            "tags": []
          },
          "execution_count": 414
        }
      ]
    },
    {
      "cell_type": "code",
      "metadata": {
        "id": "VMfJDnco8kU4"
      },
      "source": [
        "test = test_df.drop(['CellNo', 'MeasuredDate'], axis=1)"
      ],
      "execution_count": 415,
      "outputs": []
    },
    {
      "cell_type": "code",
      "metadata": {
        "id": "6p7QdW3elB9B"
      },
      "source": [
        "test2 = test_df.drop(['CellNo', 'MeasuredDate'], axis=1)"
      ],
      "execution_count": 416,
      "outputs": []
    },
    {
      "cell_type": "code",
      "metadata": {
        "colab": {
          "base_uri": "https://localhost:8080/"
        },
        "id": "zzArIfW6lD0d",
        "outputId": "247731bc-a819-45f4-9a32-e9d9e68b7c3c"
      },
      "source": [
        "test2 = test2['Resistance']\n",
        "test2"
      ],
      "execution_count": 417,
      "outputs": [
        {
          "output_type": "execute_result",
          "data": {
            "text/plain": [
              "0      0.253\n",
              "1      0.252\n",
              "2      0.253\n",
              "3      0.253\n",
              "4      0.252\n",
              "       ...  \n",
              "246    0.275\n",
              "247    0.277\n",
              "248    0.276\n",
              "249    0.276\n",
              "250    0.275\n",
              "Name: Resistance, Length: 251, dtype: float64"
            ]
          },
          "metadata": {
            "tags": []
          },
          "execution_count": 417
        }
      ]
    },
    {
      "cell_type": "code",
      "metadata": {
        "colab": {
          "base_uri": "https://localhost:8080/"
        },
        "id": "nBMeD_5VlU3T",
        "outputId": "6b2a0836-8a94-49e8-9af6-4be355e654b7"
      },
      "source": [
        "all_window = len(test2)\n",
        "all_window"
      ],
      "execution_count": 418,
      "outputs": [
        {
          "output_type": "execute_result",
          "data": {
            "text/plain": [
              "251"
            ]
          },
          "metadata": {
            "tags": []
          },
          "execution_count": 418
        }
      ]
    },
    {
      "cell_type": "code",
      "metadata": {
        "colab": {
          "base_uri": "https://localhost:8080/",
          "height": 399
        },
        "id": "n6D61BLI-ZxV",
        "outputId": "08e08a8f-9664-47d3-9584-e963bb25d956"
      },
      "source": [
        "seq = len(test)\n",
        "seq = seq*0.7\n",
        "\n",
        "\n",
        "test = test.iloc[0:round(seq),:]\n",
        "test"
      ],
      "execution_count": 419,
      "outputs": [
        {
          "output_type": "execute_result",
          "data": {
            "text/html": [
              "<div>\n",
              "<style scoped>\n",
              "    .dataframe tbody tr th:only-of-type {\n",
              "        vertical-align: middle;\n",
              "    }\n",
              "\n",
              "    .dataframe tbody tr th {\n",
              "        vertical-align: top;\n",
              "    }\n",
              "\n",
              "    .dataframe thead th {\n",
              "        text-align: right;\n",
              "    }\n",
              "</style>\n",
              "<table border=\"1\" class=\"dataframe\">\n",
              "  <thead>\n",
              "    <tr style=\"text-align: right;\">\n",
              "      <th></th>\n",
              "      <th>Resistance</th>\n",
              "      <th>Volt</th>\n",
              "      <th>Temp</th>\n",
              "    </tr>\n",
              "  </thead>\n",
              "  <tbody>\n",
              "    <tr>\n",
              "      <th>0</th>\n",
              "      <td>0.253</td>\n",
              "      <td>2.23</td>\n",
              "      <td>-20</td>\n",
              "    </tr>\n",
              "    <tr>\n",
              "      <th>1</th>\n",
              "      <td>0.252</td>\n",
              "      <td>2.23</td>\n",
              "      <td>-20</td>\n",
              "    </tr>\n",
              "    <tr>\n",
              "      <th>2</th>\n",
              "      <td>0.253</td>\n",
              "      <td>2.23</td>\n",
              "      <td>-20</td>\n",
              "    </tr>\n",
              "    <tr>\n",
              "      <th>3</th>\n",
              "      <td>0.253</td>\n",
              "      <td>2.23</td>\n",
              "      <td>-20</td>\n",
              "    </tr>\n",
              "    <tr>\n",
              "      <th>4</th>\n",
              "      <td>0.252</td>\n",
              "      <td>2.23</td>\n",
              "      <td>-20</td>\n",
              "    </tr>\n",
              "    <tr>\n",
              "      <th>...</th>\n",
              "      <td>...</td>\n",
              "      <td>...</td>\n",
              "      <td>...</td>\n",
              "    </tr>\n",
              "    <tr>\n",
              "      <th>171</th>\n",
              "      <td>0.264</td>\n",
              "      <td>2.23</td>\n",
              "      <td>-20</td>\n",
              "    </tr>\n",
              "    <tr>\n",
              "      <th>172</th>\n",
              "      <td>0.263</td>\n",
              "      <td>2.23</td>\n",
              "      <td>-20</td>\n",
              "    </tr>\n",
              "    <tr>\n",
              "      <th>173</th>\n",
              "      <td>0.265</td>\n",
              "      <td>2.23</td>\n",
              "      <td>-20</td>\n",
              "    </tr>\n",
              "    <tr>\n",
              "      <th>174</th>\n",
              "      <td>0.265</td>\n",
              "      <td>2.23</td>\n",
              "      <td>-20</td>\n",
              "    </tr>\n",
              "    <tr>\n",
              "      <th>175</th>\n",
              "      <td>0.265</td>\n",
              "      <td>2.23</td>\n",
              "      <td>-20</td>\n",
              "    </tr>\n",
              "  </tbody>\n",
              "</table>\n",
              "<p>176 rows × 3 columns</p>\n",
              "</div>"
            ],
            "text/plain": [
              "     Resistance  Volt  Temp\n",
              "0         0.253  2.23   -20\n",
              "1         0.252  2.23   -20\n",
              "2         0.253  2.23   -20\n",
              "3         0.253  2.23   -20\n",
              "4         0.252  2.23   -20\n",
              "..          ...   ...   ...\n",
              "171       0.264  2.23   -20\n",
              "172       0.263  2.23   -20\n",
              "173       0.265  2.23   -20\n",
              "174       0.265  2.23   -20\n",
              "175       0.265  2.23   -20\n",
              "\n",
              "[176 rows x 3 columns]"
            ]
          },
          "metadata": {
            "tags": []
          },
          "execution_count": 419
        }
      ]
    },
    {
      "cell_type": "code",
      "metadata": {
        "id": "83vdKhXB8wV-"
      },
      "source": [
        "# scale_cols = ['Volt', 'Temp', 'Resistance']\n",
        "# test_df_scaled = scaler.fit_transform(test_df[scale_cols])\n",
        "\n",
        "# test_df_scaled = pd.DataFrame(test_df_scaled)\n",
        "# test_df_scaled.columns = scale_cols\n",
        "\n",
        "# print(test_df_scaled)"
      ],
      "execution_count": 420,
      "outputs": []
    },
    {
      "cell_type": "code",
      "metadata": {
        "id": "vS_s7Y2EIUWt"
      },
      "source": [
        "def make_dataset(data, label, window_size):\n",
        "    feature_list = []\n",
        "    label_list = []\n",
        "    for i in range(len(data) - window_size):\n",
        "        feature_list.append(np.array(data.iloc[i:i+window_size]))\n",
        "        label_list.append(np.array(label.iloc[i+window_size]))\n",
        "    return np.array(feature_list), np.array(label_list)"
      ],
      "execution_count": 421,
      "outputs": []
    },
    {
      "cell_type": "code",
      "metadata": {
        "id": "6ZV3gMQsws5_"
      },
      "source": [
        ""
      ],
      "execution_count": 421,
      "outputs": []
    },
    {
      "cell_type": "code",
      "metadata": {
        "id": "K7giwKeuIcyb"
      },
      "source": [
        "from sklearn.model_selection import train_test_split\n",
        "\n",
        "feature_cols = ['Volt', 'Temp', 'Resistance']\n",
        "label_cols = ['Volt', 'Temp', 'Resistance']\n",
        "\n",
        "train_feature = train[feature_cols]\n",
        "train_label = train[label_cols]\n",
        "\n",
        "test_feature = test[feature_cols]\n",
        "test_label = test[label_cols]\n",
        "\n"
      ],
      "execution_count": 422,
      "outputs": []
    },
    {
      "cell_type": "code",
      "metadata": {
        "colab": {
          "base_uri": "https://localhost:8080/",
          "height": 399
        },
        "id": "ifdwKu2WySqv",
        "outputId": "9bce40e2-d5cf-403d-ebce-e2944c048a41"
      },
      "source": [
        "test_label"
      ],
      "execution_count": 423,
      "outputs": [
        {
          "output_type": "execute_result",
          "data": {
            "text/html": [
              "<div>\n",
              "<style scoped>\n",
              "    .dataframe tbody tr th:only-of-type {\n",
              "        vertical-align: middle;\n",
              "    }\n",
              "\n",
              "    .dataframe tbody tr th {\n",
              "        vertical-align: top;\n",
              "    }\n",
              "\n",
              "    .dataframe thead th {\n",
              "        text-align: right;\n",
              "    }\n",
              "</style>\n",
              "<table border=\"1\" class=\"dataframe\">\n",
              "  <thead>\n",
              "    <tr style=\"text-align: right;\">\n",
              "      <th></th>\n",
              "      <th>Volt</th>\n",
              "      <th>Temp</th>\n",
              "      <th>Resistance</th>\n",
              "    </tr>\n",
              "  </thead>\n",
              "  <tbody>\n",
              "    <tr>\n",
              "      <th>0</th>\n",
              "      <td>2.23</td>\n",
              "      <td>-20</td>\n",
              "      <td>0.253</td>\n",
              "    </tr>\n",
              "    <tr>\n",
              "      <th>1</th>\n",
              "      <td>2.23</td>\n",
              "      <td>-20</td>\n",
              "      <td>0.252</td>\n",
              "    </tr>\n",
              "    <tr>\n",
              "      <th>2</th>\n",
              "      <td>2.23</td>\n",
              "      <td>-20</td>\n",
              "      <td>0.253</td>\n",
              "    </tr>\n",
              "    <tr>\n",
              "      <th>3</th>\n",
              "      <td>2.23</td>\n",
              "      <td>-20</td>\n",
              "      <td>0.253</td>\n",
              "    </tr>\n",
              "    <tr>\n",
              "      <th>4</th>\n",
              "      <td>2.23</td>\n",
              "      <td>-20</td>\n",
              "      <td>0.252</td>\n",
              "    </tr>\n",
              "    <tr>\n",
              "      <th>...</th>\n",
              "      <td>...</td>\n",
              "      <td>...</td>\n",
              "      <td>...</td>\n",
              "    </tr>\n",
              "    <tr>\n",
              "      <th>171</th>\n",
              "      <td>2.23</td>\n",
              "      <td>-20</td>\n",
              "      <td>0.264</td>\n",
              "    </tr>\n",
              "    <tr>\n",
              "      <th>172</th>\n",
              "      <td>2.23</td>\n",
              "      <td>-20</td>\n",
              "      <td>0.263</td>\n",
              "    </tr>\n",
              "    <tr>\n",
              "      <th>173</th>\n",
              "      <td>2.23</td>\n",
              "      <td>-20</td>\n",
              "      <td>0.265</td>\n",
              "    </tr>\n",
              "    <tr>\n",
              "      <th>174</th>\n",
              "      <td>2.23</td>\n",
              "      <td>-20</td>\n",
              "      <td>0.265</td>\n",
              "    </tr>\n",
              "    <tr>\n",
              "      <th>175</th>\n",
              "      <td>2.23</td>\n",
              "      <td>-20</td>\n",
              "      <td>0.265</td>\n",
              "    </tr>\n",
              "  </tbody>\n",
              "</table>\n",
              "<p>176 rows × 3 columns</p>\n",
              "</div>"
            ],
            "text/plain": [
              "     Volt  Temp  Resistance\n",
              "0    2.23   -20       0.253\n",
              "1    2.23   -20       0.252\n",
              "2    2.23   -20       0.253\n",
              "3    2.23   -20       0.253\n",
              "4    2.23   -20       0.252\n",
              "..    ...   ...         ...\n",
              "171  2.23   -20       0.264\n",
              "172  2.23   -20       0.263\n",
              "173  2.23   -20       0.265\n",
              "174  2.23   -20       0.265\n",
              "175  2.23   -20       0.265\n",
              "\n",
              "[176 rows x 3 columns]"
            ]
          },
          "metadata": {
            "tags": []
          },
          "execution_count": 423
        }
      ]
    },
    {
      "cell_type": "code",
      "metadata": {
        "colab": {
          "base_uri": "https://localhost:8080/",
          "height": 399
        },
        "id": "7wQCuGu4xf3R",
        "outputId": "0ed48dfd-0d39-4e4a-bc47-8bca3c9a956f"
      },
      "source": [
        "train_label"
      ],
      "execution_count": 424,
      "outputs": [
        {
          "output_type": "execute_result",
          "data": {
            "text/html": [
              "<div>\n",
              "<style scoped>\n",
              "    .dataframe tbody tr th:only-of-type {\n",
              "        vertical-align: middle;\n",
              "    }\n",
              "\n",
              "    .dataframe tbody tr th {\n",
              "        vertical-align: top;\n",
              "    }\n",
              "\n",
              "    .dataframe thead th {\n",
              "        text-align: right;\n",
              "    }\n",
              "</style>\n",
              "<table border=\"1\" class=\"dataframe\">\n",
              "  <thead>\n",
              "    <tr style=\"text-align: right;\">\n",
              "      <th></th>\n",
              "      <th>Volt</th>\n",
              "      <th>Temp</th>\n",
              "      <th>Resistance</th>\n",
              "    </tr>\n",
              "  </thead>\n",
              "  <tbody>\n",
              "    <tr>\n",
              "      <th>0</th>\n",
              "      <td>2.25</td>\n",
              "      <td>-20</td>\n",
              "      <td>0.296</td>\n",
              "    </tr>\n",
              "    <tr>\n",
              "      <th>1</th>\n",
              "      <td>2.25</td>\n",
              "      <td>-20</td>\n",
              "      <td>0.297</td>\n",
              "    </tr>\n",
              "    <tr>\n",
              "      <th>2</th>\n",
              "      <td>2.25</td>\n",
              "      <td>-20</td>\n",
              "      <td>0.298</td>\n",
              "    </tr>\n",
              "    <tr>\n",
              "      <th>3</th>\n",
              "      <td>2.25</td>\n",
              "      <td>-20</td>\n",
              "      <td>0.298</td>\n",
              "    </tr>\n",
              "    <tr>\n",
              "      <th>4</th>\n",
              "      <td>2.25</td>\n",
              "      <td>-20</td>\n",
              "      <td>0.296</td>\n",
              "    </tr>\n",
              "    <tr>\n",
              "      <th>...</th>\n",
              "      <td>...</td>\n",
              "      <td>...</td>\n",
              "      <td>...</td>\n",
              "    </tr>\n",
              "    <tr>\n",
              "      <th>250</th>\n",
              "      <td>2.29</td>\n",
              "      <td>-20</td>\n",
              "      <td>0.619</td>\n",
              "    </tr>\n",
              "    <tr>\n",
              "      <th>251</th>\n",
              "      <td>2.30</td>\n",
              "      <td>-20</td>\n",
              "      <td>0.620</td>\n",
              "    </tr>\n",
              "    <tr>\n",
              "      <th>252</th>\n",
              "      <td>2.30</td>\n",
              "      <td>-20</td>\n",
              "      <td>0.623</td>\n",
              "    </tr>\n",
              "    <tr>\n",
              "      <th>253</th>\n",
              "      <td>2.30</td>\n",
              "      <td>-20</td>\n",
              "      <td>0.639</td>\n",
              "    </tr>\n",
              "    <tr>\n",
              "      <th>254</th>\n",
              "      <td>2.30</td>\n",
              "      <td>-20</td>\n",
              "      <td>0.634</td>\n",
              "    </tr>\n",
              "  </tbody>\n",
              "</table>\n",
              "<p>255 rows × 3 columns</p>\n",
              "</div>"
            ],
            "text/plain": [
              "     Volt  Temp  Resistance\n",
              "0    2.25   -20       0.296\n",
              "1    2.25   -20       0.297\n",
              "2    2.25   -20       0.298\n",
              "3    2.25   -20       0.298\n",
              "4    2.25   -20       0.296\n",
              "..    ...   ...         ...\n",
              "250  2.29   -20       0.619\n",
              "251  2.30   -20       0.620\n",
              "252  2.30   -20       0.623\n",
              "253  2.30   -20       0.639\n",
              "254  2.30   -20       0.634\n",
              "\n",
              "[255 rows x 3 columns]"
            ]
          },
          "metadata": {
            "tags": []
          },
          "execution_count": 424
        }
      ]
    },
    {
      "cell_type": "code",
      "metadata": {
        "id": "Bs8mjTDCxDqg"
      },
      "source": [
        "scale_cols = ['Volt', 'Temp', 'Resistance']\n",
        "scale_cols2 = ['Volt', 'Temp', 'Resistance']\n",
        "\n",
        "train_feature = scaler.fit_transform(train_feature)\n",
        "train_feature = pd.DataFrame(train_feature)\n",
        "train_feature.columns = scale_cols\n",
        "\n",
        "train_label = scaler.fit_transform(train_label)\n",
        "train_label = pd.DataFrame(train_label)\n",
        "train_label.columns = scale_cols2\n",
        "\n",
        "test_feature = scaler.fit_transform(test_feature)\n",
        "test_feature = pd.DataFrame(test_feature)\n",
        "test_feature.columns = scale_cols\n",
        "\n",
        "test_label = scaler.fit_transform(test_label)\n",
        "test_label = pd.DataFrame(test_label)\n",
        "test_label.columns = scale_cols2\n"
      ],
      "execution_count": 425,
      "outputs": []
    },
    {
      "cell_type": "code",
      "metadata": {
        "colab": {
          "base_uri": "https://localhost:8080/",
          "height": 399
        },
        "id": "27wz8LXOxq_m",
        "outputId": "64b5fc85-184c-4d68-9abe-79f6b5142932"
      },
      "source": [
        "train_feature"
      ],
      "execution_count": 426,
      "outputs": [
        {
          "output_type": "execute_result",
          "data": {
            "text/html": [
              "<div>\n",
              "<style scoped>\n",
              "    .dataframe tbody tr th:only-of-type {\n",
              "        vertical-align: middle;\n",
              "    }\n",
              "\n",
              "    .dataframe tbody tr th {\n",
              "        vertical-align: top;\n",
              "    }\n",
              "\n",
              "    .dataframe thead th {\n",
              "        text-align: right;\n",
              "    }\n",
              "</style>\n",
              "<table border=\"1\" class=\"dataframe\">\n",
              "  <thead>\n",
              "    <tr style=\"text-align: right;\">\n",
              "      <th></th>\n",
              "      <th>Volt</th>\n",
              "      <th>Temp</th>\n",
              "      <th>Resistance</th>\n",
              "    </tr>\n",
              "  </thead>\n",
              "  <tbody>\n",
              "    <tr>\n",
              "      <th>0</th>\n",
              "      <td>0.0</td>\n",
              "      <td>0.0</td>\n",
              "      <td>0.000000</td>\n",
              "    </tr>\n",
              "    <tr>\n",
              "      <th>1</th>\n",
              "      <td>0.0</td>\n",
              "      <td>0.0</td>\n",
              "      <td>0.002915</td>\n",
              "    </tr>\n",
              "    <tr>\n",
              "      <th>2</th>\n",
              "      <td>0.0</td>\n",
              "      <td>0.0</td>\n",
              "      <td>0.005831</td>\n",
              "    </tr>\n",
              "    <tr>\n",
              "      <th>3</th>\n",
              "      <td>0.0</td>\n",
              "      <td>0.0</td>\n",
              "      <td>0.005831</td>\n",
              "    </tr>\n",
              "    <tr>\n",
              "      <th>4</th>\n",
              "      <td>0.0</td>\n",
              "      <td>0.0</td>\n",
              "      <td>0.000000</td>\n",
              "    </tr>\n",
              "    <tr>\n",
              "      <th>...</th>\n",
              "      <td>...</td>\n",
              "      <td>...</td>\n",
              "      <td>...</td>\n",
              "    </tr>\n",
              "    <tr>\n",
              "      <th>250</th>\n",
              "      <td>0.8</td>\n",
              "      <td>0.0</td>\n",
              "      <td>0.941691</td>\n",
              "    </tr>\n",
              "    <tr>\n",
              "      <th>251</th>\n",
              "      <td>1.0</td>\n",
              "      <td>0.0</td>\n",
              "      <td>0.944606</td>\n",
              "    </tr>\n",
              "    <tr>\n",
              "      <th>252</th>\n",
              "      <td>1.0</td>\n",
              "      <td>0.0</td>\n",
              "      <td>0.953353</td>\n",
              "    </tr>\n",
              "    <tr>\n",
              "      <th>253</th>\n",
              "      <td>1.0</td>\n",
              "      <td>0.0</td>\n",
              "      <td>1.000000</td>\n",
              "    </tr>\n",
              "    <tr>\n",
              "      <th>254</th>\n",
              "      <td>1.0</td>\n",
              "      <td>0.0</td>\n",
              "      <td>0.985423</td>\n",
              "    </tr>\n",
              "  </tbody>\n",
              "</table>\n",
              "<p>255 rows × 3 columns</p>\n",
              "</div>"
            ],
            "text/plain": [
              "     Volt  Temp  Resistance\n",
              "0     0.0   0.0    0.000000\n",
              "1     0.0   0.0    0.002915\n",
              "2     0.0   0.0    0.005831\n",
              "3     0.0   0.0    0.005831\n",
              "4     0.0   0.0    0.000000\n",
              "..    ...   ...         ...\n",
              "250   0.8   0.0    0.941691\n",
              "251   1.0   0.0    0.944606\n",
              "252   1.0   0.0    0.953353\n",
              "253   1.0   0.0    1.000000\n",
              "254   1.0   0.0    0.985423\n",
              "\n",
              "[255 rows x 3 columns]"
            ]
          },
          "metadata": {
            "tags": []
          },
          "execution_count": 426
        }
      ]
    },
    {
      "cell_type": "code",
      "metadata": {
        "id": "MXf6mMNnwYfF"
      },
      "source": [
        "train_feature, train_label = make_dataset(train_feature, train_label, 20)\n",
        "\n",
        "x_train, x_valid, y_train, y_valid = train_test_split(train_feature, train_label, test_size=0.2)\n",
        "x_train.shape, x_valid.shape\n",
        "\n",
        "test_feature, test_label = make_dataset(test_feature, test_label, 20)"
      ],
      "execution_count": 427,
      "outputs": []
    },
    {
      "cell_type": "code",
      "metadata": {
        "id": "0ZVvLY6j1YjH",
        "colab": {
          "base_uri": "https://localhost:8080/"
        },
        "outputId": "e0d5c141-50d3-45b8-c9df-f22498d7ae8a"
      },
      "source": [
        "train_feature"
      ],
      "execution_count": 428,
      "outputs": [
        {
          "output_type": "execute_result",
          "data": {
            "text/plain": [
              "array([[[0.        , 0.        , 0.        ],\n",
              "        [0.        , 0.        , 0.00291545],\n",
              "        [0.        , 0.        , 0.0058309 ],\n",
              "        ...,\n",
              "        [0.        , 0.        , 0.01166181],\n",
              "        [0.        , 0.        , 0.01166181],\n",
              "        [0.        , 0.        , 0.01166181]],\n",
              "\n",
              "       [[0.        , 0.        , 0.00291545],\n",
              "        [0.        , 0.        , 0.0058309 ],\n",
              "        [0.        , 0.        , 0.0058309 ],\n",
              "        ...,\n",
              "        [0.        , 0.        , 0.01166181],\n",
              "        [0.        , 0.        , 0.01166181],\n",
              "        [0.        , 0.        , 0.01166181]],\n",
              "\n",
              "       [[0.        , 0.        , 0.0058309 ],\n",
              "        [0.        , 0.        , 0.0058309 ],\n",
              "        [0.        , 0.        , 0.        ],\n",
              "        ...,\n",
              "        [0.        , 0.        , 0.01166181],\n",
              "        [0.        , 0.        , 0.01166181],\n",
              "        [0.        , 0.        , 0.01457726]],\n",
              "\n",
              "       ...,\n",
              "\n",
              "       [[0.6       , 0.        , 0.79008746],\n",
              "        [0.6       , 0.        , 0.80174927],\n",
              "        [0.6       , 0.        , 0.81049563],\n",
              "        ...,\n",
              "        [0.8       , 0.        , 0.93877551],\n",
              "        [0.8       , 0.        , 0.94169096],\n",
              "        [1.        , 0.        , 0.94460641]],\n",
              "\n",
              "       [[0.6       , 0.        , 0.80174927],\n",
              "        [0.6       , 0.        , 0.81049563],\n",
              "        [0.6       , 0.        , 0.81924198],\n",
              "        ...,\n",
              "        [0.8       , 0.        , 0.94169096],\n",
              "        [1.        , 0.        , 0.94460641],\n",
              "        [1.        , 0.        , 0.95335277]],\n",
              "\n",
              "       [[0.6       , 0.        , 0.81049563],\n",
              "        [0.6       , 0.        , 0.81924198],\n",
              "        [0.6       , 0.        , 0.82215743],\n",
              "        ...,\n",
              "        [1.        , 0.        , 0.94460641],\n",
              "        [1.        , 0.        , 0.95335277],\n",
              "        [1.        , 0.        , 1.        ]]])"
            ]
          },
          "metadata": {
            "tags": []
          },
          "execution_count": 428
        }
      ]
    },
    {
      "cell_type": "markdown",
      "metadata": {
        "id": "bI1xiMVFCzID"
      },
      "source": [
        "LSTM 모델\n"
      ]
    },
    {
      "cell_type": "code",
      "metadata": {
        "id": "PazCEYxNIwfW",
        "colab": {
          "base_uri": "https://localhost:8080/"
        },
        "outputId": "c9eb2498-6b2f-447a-fc78-baf3deba8baa"
      },
      "source": [
        "\n",
        "\n",
        "model = Sequential()\n",
        "model.add(LSTM(16, \n",
        "               input_shape=(train_feature.shape[1], train_feature.shape[2]), \n",
        "               activation='relu', \n",
        "               return_sequences=False)\n",
        "          )\n",
        "model.add(Dense(3))"
      ],
      "execution_count": 429,
      "outputs": [
        {
          "output_type": "stream",
          "text": [
            "WARNING:tensorflow:Layer lstm_11 will not use cuDNN kernel since it doesn't meet the cuDNN kernel criteria. It will use generic GPU kernel as fallback when running on GPU\n"
          ],
          "name": "stdout"
        }
      ]
    },
    {
      "cell_type": "code",
      "metadata": {
        "colab": {
          "base_uri": "https://localhost:8080/"
        },
        "id": "JrzpKaG-bmsC",
        "outputId": "1ff0778c-7983-43e8-ba20-8fd6da978fb0"
      },
      "source": [
        "model.summary()"
      ],
      "execution_count": 430,
      "outputs": [
        {
          "output_type": "stream",
          "text": [
            "Model: \"sequential_11\"\n",
            "_________________________________________________________________\n",
            "Layer (type)                 Output Shape              Param #   \n",
            "=================================================================\n",
            "lstm_11 (LSTM)               (None, 16)                1280      \n",
            "_________________________________________________________________\n",
            "dense_11 (Dense)             (None, 3)                 51        \n",
            "=================================================================\n",
            "Total params: 1,331\n",
            "Trainable params: 1,331\n",
            "Non-trainable params: 0\n",
            "_________________________________________________________________\n"
          ],
          "name": "stdout"
        }
      ]
    },
    {
      "cell_type": "code",
      "metadata": {
        "colab": {
          "base_uri": "https://localhost:8080/"
        },
        "id": "_unJSBooKYdq",
        "outputId": "e1fd4774-19ee-4656-8747-b01dbba5f1dc"
      },
      "source": [
        "model.compile(loss='mean_squared_error', optimizer='adam')\n",
        "early_stop = EarlyStopping(monitor='val_loss', patience=5)\n",
        "filename = os.path.join('C:/Users/wlsrm/data', 'tmp_checkpoint.h5')\n",
        "checkpoint = ModelCheckpoint(filename, monitor='val_loss', verbose=1, save_best_only=True, mode='auto')\n",
        "\n",
        "history = model.fit(x_train, y_train, \n",
        "                    epochs=200, \n",
        "                    batch_size=16,\n",
        "                    validation_data=(x_valid, y_valid), \n",
        "                    callbacks=[early_stop, checkpoint])"
      ],
      "execution_count": 431,
      "outputs": [
        {
          "output_type": "stream",
          "text": [
            "Epoch 1/200\n",
            "12/12 [==============================] - 2s 52ms/step - loss: 0.1324 - val_loss: 0.0871\n",
            "\n",
            "Epoch 00001: val_loss improved from inf to 0.08706, saving model to C:/Users/wlsrm/data/tmp_checkpoint.h5\n",
            "Epoch 2/200\n",
            "12/12 [==============================] - 0s 33ms/step - loss: 0.0993 - val_loss: 0.0611\n",
            "\n",
            "Epoch 00002: val_loss improved from 0.08706 to 0.06114, saving model to C:/Users/wlsrm/data/tmp_checkpoint.h5\n",
            "Epoch 3/200\n",
            "12/12 [==============================] - 0s 32ms/step - loss: 0.0625 - val_loss: 0.0460\n",
            "\n",
            "Epoch 00003: val_loss improved from 0.06114 to 0.04604, saving model to C:/Users/wlsrm/data/tmp_checkpoint.h5\n",
            "Epoch 4/200\n",
            "12/12 [==============================] - 0s 32ms/step - loss: 0.0506 - val_loss: 0.0369\n",
            "\n",
            "Epoch 00004: val_loss improved from 0.04604 to 0.03686, saving model to C:/Users/wlsrm/data/tmp_checkpoint.h5\n",
            "Epoch 5/200\n",
            "12/12 [==============================] - 0s 30ms/step - loss: 0.0438 - val_loss: 0.0283\n",
            "\n",
            "Epoch 00005: val_loss improved from 0.03686 to 0.02830, saving model to C:/Users/wlsrm/data/tmp_checkpoint.h5\n",
            "Epoch 6/200\n",
            "12/12 [==============================] - 0s 30ms/step - loss: 0.0292 - val_loss: 0.0146\n",
            "\n",
            "Epoch 00006: val_loss improved from 0.02830 to 0.01457, saving model to C:/Users/wlsrm/data/tmp_checkpoint.h5\n",
            "Epoch 7/200\n",
            "12/12 [==============================] - 0s 29ms/step - loss: 0.0128 - val_loss: 0.0028\n",
            "\n",
            "Epoch 00007: val_loss improved from 0.01457 to 0.00282, saving model to C:/Users/wlsrm/data/tmp_checkpoint.h5\n",
            "Epoch 8/200\n",
            "12/12 [==============================] - 0s 29ms/step - loss: 0.0032 - val_loss: 0.0033\n",
            "\n",
            "Epoch 00008: val_loss did not improve from 0.00282\n",
            "Epoch 9/200\n",
            "12/12 [==============================] - 0s 30ms/step - loss: 0.0034 - val_loss: 0.0021\n",
            "\n",
            "Epoch 00009: val_loss improved from 0.00282 to 0.00209, saving model to C:/Users/wlsrm/data/tmp_checkpoint.h5\n",
            "Epoch 10/200\n",
            "12/12 [==============================] - 0s 31ms/step - loss: 0.0023 - val_loss: 0.0019\n",
            "\n",
            "Epoch 00010: val_loss improved from 0.00209 to 0.00186, saving model to C:/Users/wlsrm/data/tmp_checkpoint.h5\n",
            "Epoch 11/200\n",
            "12/12 [==============================] - 0s 31ms/step - loss: 0.0020 - val_loss: 0.0017\n",
            "\n",
            "Epoch 00011: val_loss improved from 0.00186 to 0.00168, saving model to C:/Users/wlsrm/data/tmp_checkpoint.h5\n",
            "Epoch 12/200\n",
            "12/12 [==============================] - 0s 32ms/step - loss: 0.0017 - val_loss: 0.0015\n",
            "\n",
            "Epoch 00012: val_loss improved from 0.00168 to 0.00152, saving model to C:/Users/wlsrm/data/tmp_checkpoint.h5\n",
            "Epoch 13/200\n",
            "12/12 [==============================] - 0s 30ms/step - loss: 0.0016 - val_loss: 0.0014\n",
            "\n",
            "Epoch 00013: val_loss improved from 0.00152 to 0.00142, saving model to C:/Users/wlsrm/data/tmp_checkpoint.h5\n",
            "Epoch 14/200\n",
            "12/12 [==============================] - 0s 31ms/step - loss: 0.0016 - val_loss: 0.0013\n",
            "\n",
            "Epoch 00014: val_loss improved from 0.00142 to 0.00129, saving model to C:/Users/wlsrm/data/tmp_checkpoint.h5\n",
            "Epoch 15/200\n",
            "12/12 [==============================] - 0s 30ms/step - loss: 0.0014 - val_loss: 0.0012\n",
            "\n",
            "Epoch 00015: val_loss improved from 0.00129 to 0.00123, saving model to C:/Users/wlsrm/data/tmp_checkpoint.h5\n",
            "Epoch 16/200\n",
            "12/12 [==============================] - 0s 30ms/step - loss: 0.0012 - val_loss: 0.0012\n",
            "\n",
            "Epoch 00016: val_loss improved from 0.00123 to 0.00116, saving model to C:/Users/wlsrm/data/tmp_checkpoint.h5\n",
            "Epoch 17/200\n",
            "12/12 [==============================] - 0s 30ms/step - loss: 0.0016 - val_loss: 0.0011\n",
            "\n",
            "Epoch 00017: val_loss improved from 0.00116 to 0.00115, saving model to C:/Users/wlsrm/data/tmp_checkpoint.h5\n",
            "Epoch 18/200\n",
            "12/12 [==============================] - 0s 32ms/step - loss: 0.0012 - val_loss: 0.0011\n",
            "\n",
            "Epoch 00018: val_loss improved from 0.00115 to 0.00111, saving model to C:/Users/wlsrm/data/tmp_checkpoint.h5\n",
            "Epoch 19/200\n",
            "12/12 [==============================] - 0s 30ms/step - loss: 0.0012 - val_loss: 0.0011\n",
            "\n",
            "Epoch 00019: val_loss improved from 0.00111 to 0.00109, saving model to C:/Users/wlsrm/data/tmp_checkpoint.h5\n",
            "Epoch 20/200\n",
            "12/12 [==============================] - 0s 29ms/step - loss: 0.0012 - val_loss: 0.0011\n",
            "\n",
            "Epoch 00020: val_loss improved from 0.00109 to 0.00109, saving model to C:/Users/wlsrm/data/tmp_checkpoint.h5\n",
            "Epoch 21/200\n",
            "12/12 [==============================] - 0s 30ms/step - loss: 0.0012 - val_loss: 0.0011\n",
            "\n",
            "Epoch 00021: val_loss improved from 0.00109 to 0.00107, saving model to C:/Users/wlsrm/data/tmp_checkpoint.h5\n",
            "Epoch 22/200\n",
            "12/12 [==============================] - 0s 29ms/step - loss: 0.0013 - val_loss: 0.0011\n",
            "\n",
            "Epoch 00022: val_loss improved from 0.00107 to 0.00106, saving model to C:/Users/wlsrm/data/tmp_checkpoint.h5\n",
            "Epoch 23/200\n",
            "12/12 [==============================] - 0s 31ms/step - loss: 0.0012 - val_loss: 0.0010\n",
            "\n",
            "Epoch 00023: val_loss improved from 0.00106 to 0.00103, saving model to C:/Users/wlsrm/data/tmp_checkpoint.h5\n",
            "Epoch 24/200\n",
            "12/12 [==============================] - 0s 32ms/step - loss: 0.0011 - val_loss: 9.9605e-04\n",
            "\n",
            "Epoch 00024: val_loss improved from 0.00103 to 0.00100, saving model to C:/Users/wlsrm/data/tmp_checkpoint.h5\n",
            "Epoch 25/200\n",
            "12/12 [==============================] - 0s 31ms/step - loss: 0.0012 - val_loss: 0.0010\n",
            "\n",
            "Epoch 00025: val_loss did not improve from 0.00100\n",
            "Epoch 26/200\n",
            "12/12 [==============================] - 0s 33ms/step - loss: 0.0012 - val_loss: 0.0010\n",
            "\n",
            "Epoch 00026: val_loss did not improve from 0.00100\n",
            "Epoch 27/200\n",
            "12/12 [==============================] - 0s 31ms/step - loss: 0.0012 - val_loss: 0.0010\n",
            "\n",
            "Epoch 00027: val_loss did not improve from 0.00100\n",
            "Epoch 28/200\n",
            "12/12 [==============================] - 0s 29ms/step - loss: 0.0011 - val_loss: 9.7556e-04\n",
            "\n",
            "Epoch 00028: val_loss improved from 0.00100 to 0.00098, saving model to C:/Users/wlsrm/data/tmp_checkpoint.h5\n",
            "Epoch 29/200\n",
            "12/12 [==============================] - 0s 33ms/step - loss: 0.0011 - val_loss: 9.7164e-04\n",
            "\n",
            "Epoch 00029: val_loss improved from 0.00098 to 0.00097, saving model to C:/Users/wlsrm/data/tmp_checkpoint.h5\n",
            "Epoch 30/200\n",
            "12/12 [==============================] - 0s 32ms/step - loss: 0.0011 - val_loss: 9.4987e-04\n",
            "\n",
            "Epoch 00030: val_loss improved from 0.00097 to 0.00095, saving model to C:/Users/wlsrm/data/tmp_checkpoint.h5\n",
            "Epoch 31/200\n",
            "12/12 [==============================] - 0s 29ms/step - loss: 0.0011 - val_loss: 9.5067e-04\n",
            "\n",
            "Epoch 00031: val_loss did not improve from 0.00095\n",
            "Epoch 32/200\n",
            "12/12 [==============================] - 0s 31ms/step - loss: 0.0012 - val_loss: 9.4363e-04\n",
            "\n",
            "Epoch 00032: val_loss improved from 0.00095 to 0.00094, saving model to C:/Users/wlsrm/data/tmp_checkpoint.h5\n",
            "Epoch 33/200\n",
            "12/12 [==============================] - 0s 31ms/step - loss: 9.3891e-04 - val_loss: 9.4802e-04\n",
            "\n",
            "Epoch 00033: val_loss did not improve from 0.00094\n",
            "Epoch 34/200\n",
            "12/12 [==============================] - 0s 30ms/step - loss: 0.0012 - val_loss: 9.3453e-04\n",
            "\n",
            "Epoch 00034: val_loss improved from 0.00094 to 0.00093, saving model to C:/Users/wlsrm/data/tmp_checkpoint.h5\n",
            "Epoch 35/200\n",
            "12/12 [==============================] - 0s 30ms/step - loss: 0.0011 - val_loss: 9.2880e-04\n",
            "\n",
            "Epoch 00035: val_loss improved from 0.00093 to 0.00093, saving model to C:/Users/wlsrm/data/tmp_checkpoint.h5\n",
            "Epoch 36/200\n",
            "12/12 [==============================] - 0s 32ms/step - loss: 0.0012 - val_loss: 9.1284e-04\n",
            "\n",
            "Epoch 00036: val_loss improved from 0.00093 to 0.00091, saving model to C:/Users/wlsrm/data/tmp_checkpoint.h5\n",
            "Epoch 37/200\n",
            "12/12 [==============================] - 0s 30ms/step - loss: 9.7628e-04 - val_loss: 9.0254e-04\n",
            "\n",
            "Epoch 00037: val_loss improved from 0.00091 to 0.00090, saving model to C:/Users/wlsrm/data/tmp_checkpoint.h5\n",
            "Epoch 38/200\n",
            "12/12 [==============================] - 0s 30ms/step - loss: 0.0011 - val_loss: 9.2040e-04\n",
            "\n",
            "Epoch 00038: val_loss did not improve from 0.00090\n",
            "Epoch 39/200\n",
            "12/12 [==============================] - 0s 34ms/step - loss: 0.0010 - val_loss: 8.7809e-04\n",
            "\n",
            "Epoch 00039: val_loss improved from 0.00090 to 0.00088, saving model to C:/Users/wlsrm/data/tmp_checkpoint.h5\n",
            "Epoch 40/200\n",
            "12/12 [==============================] - 0s 30ms/step - loss: 0.0010 - val_loss: 9.2459e-04\n",
            "\n",
            "Epoch 00040: val_loss did not improve from 0.00088\n",
            "Epoch 41/200\n",
            "12/12 [==============================] - 0s 31ms/step - loss: 9.3692e-04 - val_loss: 8.5922e-04\n",
            "\n",
            "Epoch 00041: val_loss improved from 0.00088 to 0.00086, saving model to C:/Users/wlsrm/data/tmp_checkpoint.h5\n",
            "Epoch 42/200\n",
            "12/12 [==============================] - 0s 29ms/step - loss: 0.0011 - val_loss: 8.7689e-04\n",
            "\n",
            "Epoch 00042: val_loss did not improve from 0.00086\n",
            "Epoch 43/200\n",
            "12/12 [==============================] - 0s 31ms/step - loss: 0.0011 - val_loss: 8.8828e-04\n",
            "\n",
            "Epoch 00043: val_loss did not improve from 0.00086\n",
            "Epoch 44/200\n",
            "12/12 [==============================] - 0s 33ms/step - loss: 0.0011 - val_loss: 8.5399e-04\n",
            "\n",
            "Epoch 00044: val_loss improved from 0.00086 to 0.00085, saving model to C:/Users/wlsrm/data/tmp_checkpoint.h5\n",
            "Epoch 45/200\n",
            "12/12 [==============================] - 0s 34ms/step - loss: 0.0011 - val_loss: 9.6206e-04\n",
            "\n",
            "Epoch 00045: val_loss did not improve from 0.00085\n",
            "Epoch 46/200\n",
            "12/12 [==============================] - 0s 34ms/step - loss: 0.0010 - val_loss: 8.5905e-04\n",
            "\n",
            "Epoch 00046: val_loss did not improve from 0.00085\n",
            "Epoch 47/200\n",
            "12/12 [==============================] - 0s 34ms/step - loss: 0.0011 - val_loss: 8.6651e-04\n",
            "\n",
            "Epoch 00047: val_loss did not improve from 0.00085\n",
            "Epoch 48/200\n",
            "12/12 [==============================] - 0s 32ms/step - loss: 0.0011 - val_loss: 8.2946e-04\n",
            "\n",
            "Epoch 00048: val_loss improved from 0.00085 to 0.00083, saving model to C:/Users/wlsrm/data/tmp_checkpoint.h5\n",
            "Epoch 49/200\n",
            "12/12 [==============================] - 0s 33ms/step - loss: 9.6755e-04 - val_loss: 8.4645e-04\n",
            "\n",
            "Epoch 00049: val_loss did not improve from 0.00083\n",
            "Epoch 50/200\n",
            "12/12 [==============================] - 0s 31ms/step - loss: 0.0010 - val_loss: 8.3871e-04\n",
            "\n",
            "Epoch 00050: val_loss did not improve from 0.00083\n",
            "Epoch 51/200\n",
            "12/12 [==============================] - 0s 31ms/step - loss: 9.4600e-04 - val_loss: 8.3493e-04\n",
            "\n",
            "Epoch 00051: val_loss did not improve from 0.00083\n",
            "Epoch 52/200\n",
            "12/12 [==============================] - 0s 33ms/step - loss: 0.0011 - val_loss: 8.2058e-04\n",
            "\n",
            "Epoch 00052: val_loss improved from 0.00083 to 0.00082, saving model to C:/Users/wlsrm/data/tmp_checkpoint.h5\n",
            "Epoch 53/200\n",
            "12/12 [==============================] - 0s 32ms/step - loss: 8.8942e-04 - val_loss: 8.3630e-04\n",
            "\n",
            "Epoch 00053: val_loss did not improve from 0.00082\n",
            "Epoch 54/200\n",
            "12/12 [==============================] - 0s 31ms/step - loss: 0.0010 - val_loss: 8.1670e-04\n",
            "\n",
            "Epoch 00054: val_loss improved from 0.00082 to 0.00082, saving model to C:/Users/wlsrm/data/tmp_checkpoint.h5\n",
            "Epoch 55/200\n",
            "12/12 [==============================] - 0s 29ms/step - loss: 9.1843e-04 - val_loss: 8.0824e-04\n",
            "\n",
            "Epoch 00055: val_loss improved from 0.00082 to 0.00081, saving model to C:/Users/wlsrm/data/tmp_checkpoint.h5\n",
            "Epoch 56/200\n",
            "12/12 [==============================] - 0s 30ms/step - loss: 7.7234e-04 - val_loss: 8.2573e-04\n",
            "\n",
            "Epoch 00056: val_loss did not improve from 0.00081\n",
            "Epoch 57/200\n",
            "12/12 [==============================] - 0s 30ms/step - loss: 9.8410e-04 - val_loss: 8.1651e-04\n",
            "\n",
            "Epoch 00057: val_loss did not improve from 0.00081\n",
            "Epoch 58/200\n",
            "12/12 [==============================] - 0s 32ms/step - loss: 9.8877e-04 - val_loss: 8.8474e-04\n",
            "\n",
            "Epoch 00058: val_loss did not improve from 0.00081\n",
            "Epoch 59/200\n",
            "12/12 [==============================] - 0s 30ms/step - loss: 9.3698e-04 - val_loss: 8.0293e-04\n",
            "\n",
            "Epoch 00059: val_loss improved from 0.00081 to 0.00080, saving model to C:/Users/wlsrm/data/tmp_checkpoint.h5\n",
            "Epoch 60/200\n",
            "12/12 [==============================] - 0s 32ms/step - loss: 8.8563e-04 - val_loss: 7.7779e-04\n",
            "\n",
            "Epoch 00060: val_loss improved from 0.00080 to 0.00078, saving model to C:/Users/wlsrm/data/tmp_checkpoint.h5\n",
            "Epoch 61/200\n",
            "12/12 [==============================] - 0s 30ms/step - loss: 9.1379e-04 - val_loss: 8.0434e-04\n",
            "\n",
            "Epoch 00061: val_loss did not improve from 0.00078\n",
            "Epoch 62/200\n",
            "12/12 [==============================] - 0s 32ms/step - loss: 8.7126e-04 - val_loss: 8.0145e-04\n",
            "\n",
            "Epoch 00062: val_loss did not improve from 0.00078\n",
            "Epoch 63/200\n",
            "12/12 [==============================] - 0s 31ms/step - loss: 0.0010 - val_loss: 7.6354e-04\n",
            "\n",
            "Epoch 00063: val_loss improved from 0.00078 to 0.00076, saving model to C:/Users/wlsrm/data/tmp_checkpoint.h5\n",
            "Epoch 64/200\n",
            "12/12 [==============================] - 0s 32ms/step - loss: 8.8166e-04 - val_loss: 7.9121e-04\n",
            "\n",
            "Epoch 00064: val_loss did not improve from 0.00076\n",
            "Epoch 65/200\n",
            "12/12 [==============================] - 0s 32ms/step - loss: 8.7412e-04 - val_loss: 7.6041e-04\n",
            "\n",
            "Epoch 00065: val_loss improved from 0.00076 to 0.00076, saving model to C:/Users/wlsrm/data/tmp_checkpoint.h5\n",
            "Epoch 66/200\n",
            "12/12 [==============================] - 0s 30ms/step - loss: 8.4032e-04 - val_loss: 7.5985e-04\n",
            "\n",
            "Epoch 00066: val_loss improved from 0.00076 to 0.00076, saving model to C:/Users/wlsrm/data/tmp_checkpoint.h5\n",
            "Epoch 67/200\n",
            "12/12 [==============================] - 0s 33ms/step - loss: 9.3267e-04 - val_loss: 7.8837e-04\n",
            "\n",
            "Epoch 00067: val_loss did not improve from 0.00076\n",
            "Epoch 68/200\n",
            "12/12 [==============================] - 0s 31ms/step - loss: 9.8183e-04 - val_loss: 7.2120e-04\n",
            "\n",
            "Epoch 00068: val_loss improved from 0.00076 to 0.00072, saving model to C:/Users/wlsrm/data/tmp_checkpoint.h5\n",
            "Epoch 69/200\n",
            "12/12 [==============================] - 0s 31ms/step - loss: 8.8960e-04 - val_loss: 7.3550e-04\n",
            "\n",
            "Epoch 00069: val_loss did not improve from 0.00072\n",
            "Epoch 70/200\n",
            "12/12 [==============================] - 0s 33ms/step - loss: 9.6241e-04 - val_loss: 7.4035e-04\n",
            "\n",
            "Epoch 00070: val_loss did not improve from 0.00072\n",
            "Epoch 71/200\n",
            "12/12 [==============================] - 0s 33ms/step - loss: 9.8017e-04 - val_loss: 7.5301e-04\n",
            "\n",
            "Epoch 00071: val_loss did not improve from 0.00072\n",
            "Epoch 72/200\n",
            "12/12 [==============================] - 0s 31ms/step - loss: 8.7233e-04 - val_loss: 7.3030e-04\n",
            "\n",
            "Epoch 00072: val_loss did not improve from 0.00072\n",
            "Epoch 73/200\n",
            "12/12 [==============================] - 0s 31ms/step - loss: 8.4976e-04 - val_loss: 7.4386e-04\n",
            "\n",
            "Epoch 00073: val_loss did not improve from 0.00072\n"
          ],
          "name": "stdout"
        }
      ]
    },
    {
      "cell_type": "code",
      "metadata": {
        "colab": {
          "base_uri": "https://localhost:8080/",
          "height": 281
        },
        "id": "BF-FmUc72yDp",
        "outputId": "ff7a43f4-0caf-4809-f1a3-b425f74c24df"
      },
      "source": [
        "loss = history.history['loss']\n",
        "val_loss = history.history['val_loss']\n",
        "epochs = range(1, len(loss)+1)\n",
        "plt.figure()\n",
        "plt.plot(epochs, loss, label='Training loss')\n",
        "plt.plot(epochs, val_loss, label='Validation loss')\n",
        "plt.title('Training and Valdation loss')\n",
        "plt.legend()\n",
        "plt.show()  "
      ],
      "execution_count": 432,
      "outputs": [
        {
          "output_type": "display_data",
          "data": {
            "image/png": "[encoded data removed]",
            "text/plain": [
              "<Figure size 432x288 with 1 Axes>"
            ]
          },
          "metadata": {
            "tags": [],
            "needs_background": "light"
          }
        }
      ]
    },
    {
      "cell_type": "code",
      "metadata": {
        "id": "iGIlXBFfVAxe"
      },
      "source": [
        "look_ahead=all_window\n",
        "xhat = test_feature[0]\n",
        "predictions = np.zeros((look_ahead, 3))\n",
        "for i in range(look_ahead):\n",
        "  prediction = model.predict(np.array([xhat]), batch_size=16)\n",
        "  predictions[i] = prediction\n",
        "  xhat=np.vstack([xhat[1:],prediction])\n",
        "  # print(i,\"번째\", \"prediction\",prediction, \"xhat\", xhat, \"predictions[i] = \", predictions[i])"
      ],
      "execution_count": 433,
      "outputs": []
    },
    {
      "cell_type": "code",
      "metadata": {
        "id": "3a_ZQ0b1ZlDb"
      },
      "source": [
        "pred_inverse = scaler.inverse_transform(predictions)"
      ],
      "execution_count": 434,
      "outputs": []
    },
    {
      "cell_type": "code",
      "metadata": {
        "id": "zVxcUvFfY1KK"
      },
      "source": [
        "pred2 = pred_inverse[:,2]"
      ],
      "execution_count": 435,
      "outputs": []
    },
    {
      "cell_type": "code",
      "metadata": {
        "id": "jmRGQnDzmJJH"
      },
      "source": [
        "pred2 = pred2.reshape(-1,1)"
      ],
      "execution_count": 436,
      "outputs": []
    },
    {
      "cell_type": "code",
      "metadata": {
        "colab": {
          "base_uri": "https://localhost:8080/",
          "height": 320
        },
        "id": "sgsGnC6oZsfN",
        "outputId": "6a5a0e1f-110f-4812-f3dc-07e09b83a472"
      },
      "source": [
        "plt.figure(figsize=(12,5))\n",
        "plt.plot(test2,label=\"actual\")\n",
        "plt.plot(pred2,label=\"pre\")\n",
        "plt.legend()\n",
        "plt.show()"
      ],
      "execution_count": 437,
      "outputs": [
        {
          "output_type": "display_data",
          "data": {
            "image/png": "[encoded data removed]",
            "text/plain": [
              "<Figure size 864x360 with 1 Axes>"
            ]
          },
          "metadata": {
            "tags": [],
            "needs_background": "light"
          }
        }
      ]
    }
  ]
}
